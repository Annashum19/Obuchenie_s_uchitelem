{
 "cells": [
  {
   "cell_type": "markdown",
   "metadata": {
    "toc": true
   },
   "source": [
    "<h1>Содержание<span class=\"tocSkip\"></span></h1>\n",
    "<div class=\"toc\"><ul class=\"toc-item\"><li><span><a href=\"#Подготовка-данных\" data-toc-modified-id=\"Подготовка-данных-1\"><span class=\"toc-item-num\">1&nbsp;&nbsp;</span>Подготовка данных</a></span></li><li><span><a href=\"#Исследование-задачи\" data-toc-modified-id=\"Исследование-задачи-2\"><span class=\"toc-item-num\">2&nbsp;&nbsp;</span>Исследование задачи</a></span></li><li><span><a href=\"#Борьба-с-дисбалансом\" data-toc-modified-id=\"Борьба-с-дисбалансом-3\"><span class=\"toc-item-num\">3&nbsp;&nbsp;</span>Борьба с дисбалансом</a></span></li><li><span><a href=\"#Тестирование-модели\" data-toc-modified-id=\"Тестирование-модели-4\"><span class=\"toc-item-num\">4&nbsp;&nbsp;</span>Тестирование модели</a></span></li><li><span><a href=\"#Вывод\" data-toc-modified-id=\"Вывод-5\"><span class=\"toc-item-num\">5&nbsp;&nbsp;</span>Вывод</a></span></li><li><span><a href=\"#Чек-лист-готовности-проекта\" data-toc-modified-id=\"Чек-лист-готовности-проекта-6\"><span class=\"toc-item-num\">6&nbsp;&nbsp;</span>Чек-лист готовности проекта</a></span></li></ul></div>"
   ]
  },
  {
   "cell_type": "markdown",
   "metadata": {},
   "source": [
    "# Отток клиентов"
   ]
  },
  {
   "cell_type": "markdown",
   "metadata": {},
   "source": [
    "Из «Бета-Банка» стали уходить клиенты. Каждый месяц. Немного, но заметно. Банковские маркетологи посчитали: сохранять текущих клиентов дешевле, чем привлекать новых.\n",
    "\n",
    "Нужно спрогнозировать, уйдёт клиент из банка в ближайшее время или нет. Вам предоставлены исторические данные о поведении клиентов и расторжении договоров с банком. \n",
    "\n",
    "Постройте модель с предельно большим значением *F1*-меры. Чтобы сдать проект успешно, нужно довести метрику до 0.59. Проверьте *F1*-меру на тестовой выборке самостоятельно.\n",
    "\n",
    "Дополнительно измеряйте *AUC-ROC*, сравнивайте её значение с *F1*-мерой.\n",
    "\n",
    "Источник данных: [https://www.kaggle.com/barelydedicated/bank-customer-churn-modeling](https://www.kaggle.com/barelydedicated/bank-customer-churn-modeling)"
   ]
  },
  {
   "cell_type": "code",
   "execution_count": 1,
   "metadata": {},
   "outputs": [],
   "source": [
    "import pandas as pd\n",
    "import matplotlib.pyplot as plt\n",
    "import numpy as np\n",
    "import warnings\n",
    "from sklearn.tree import DecisionTreeClassifier\n",
    "from sklearn.ensemble import RandomForestClassifier\n",
    "from sklearn.linear_model import LogisticRegression\n",
    "from sklearn.model_selection import train_test_split\n",
    "from sklearn.preprocessing import OrdinalEncoder\n",
    "from sklearn.preprocessing import StandardScaler\n",
    "from sklearn.utils import shuffle\n",
    "from sklearn.metrics import roc_curve, roc_auc_score, accuracy_score, f1_score"
   ]
  },
  {
   "cell_type": "markdown",
   "metadata": {},
   "source": [
    "## Подготовка данных"
   ]
  },
  {
   "cell_type": "code",
   "execution_count": 2,
   "metadata": {},
   "outputs": [
    {
     "ename": "FileNotFoundError",
     "evalue": "[Errno 2] No such file or directory: '/datasets/Churn.csv'",
     "output_type": "error",
     "traceback": [
      "\u001b[1;31m---------------------------------------------------------------------------\u001b[0m",
      "\u001b[1;31mFileNotFoundError\u001b[0m                         Traceback (most recent call last)",
      "Cell \u001b[1;32mIn[2], line 1\u001b[0m\n\u001b[1;32m----> 1\u001b[0m data \u001b[38;5;241m=\u001b[39m \u001b[43mpd\u001b[49m\u001b[38;5;241;43m.\u001b[39;49m\u001b[43mread_csv\u001b[49m\u001b[43m(\u001b[49m\u001b[38;5;124;43m'\u001b[39;49m\u001b[38;5;124;43m/datasets/Churn.csv\u001b[39;49m\u001b[38;5;124;43m'\u001b[39;49m\u001b[43m)\u001b[49m\n\u001b[0;32m      2\u001b[0m data\u001b[38;5;241m.\u001b[39minfo()\n",
      "File \u001b[1;32m~\\anaconda\\envs\\ds_practicum_env\\lib\\site-packages\\pandas\\io\\parsers.py:610\u001b[0m, in \u001b[0;36mread_csv\u001b[1;34m(filepath_or_buffer, sep, delimiter, header, names, index_col, usecols, squeeze, prefix, mangle_dupe_cols, dtype, engine, converters, true_values, false_values, skipinitialspace, skiprows, skipfooter, nrows, na_values, keep_default_na, na_filter, verbose, skip_blank_lines, parse_dates, infer_datetime_format, keep_date_col, date_parser, dayfirst, cache_dates, iterator, chunksize, compression, thousands, decimal, lineterminator, quotechar, quoting, doublequote, escapechar, comment, encoding, dialect, error_bad_lines, warn_bad_lines, delim_whitespace, low_memory, memory_map, float_precision, storage_options)\u001b[0m\n\u001b[0;32m    605\u001b[0m kwds_defaults \u001b[38;5;241m=\u001b[39m _refine_defaults_read(\n\u001b[0;32m    606\u001b[0m     dialect, delimiter, delim_whitespace, engine, sep, defaults\u001b[38;5;241m=\u001b[39m{\u001b[38;5;124m\"\u001b[39m\u001b[38;5;124mdelimiter\u001b[39m\u001b[38;5;124m\"\u001b[39m: \u001b[38;5;124m\"\u001b[39m\u001b[38;5;124m,\u001b[39m\u001b[38;5;124m\"\u001b[39m}\n\u001b[0;32m    607\u001b[0m )\n\u001b[0;32m    608\u001b[0m kwds\u001b[38;5;241m.\u001b[39mupdate(kwds_defaults)\n\u001b[1;32m--> 610\u001b[0m \u001b[38;5;28;01mreturn\u001b[39;00m \u001b[43m_read\u001b[49m\u001b[43m(\u001b[49m\u001b[43mfilepath_or_buffer\u001b[49m\u001b[43m,\u001b[49m\u001b[43m \u001b[49m\u001b[43mkwds\u001b[49m\u001b[43m)\u001b[49m\n",
      "File \u001b[1;32m~\\anaconda\\envs\\ds_practicum_env\\lib\\site-packages\\pandas\\io\\parsers.py:462\u001b[0m, in \u001b[0;36m_read\u001b[1;34m(filepath_or_buffer, kwds)\u001b[0m\n\u001b[0;32m    459\u001b[0m _validate_names(kwds\u001b[38;5;241m.\u001b[39mget(\u001b[38;5;124m\"\u001b[39m\u001b[38;5;124mnames\u001b[39m\u001b[38;5;124m\"\u001b[39m, \u001b[38;5;28;01mNone\u001b[39;00m))\n\u001b[0;32m    461\u001b[0m \u001b[38;5;66;03m# Create the parser.\u001b[39;00m\n\u001b[1;32m--> 462\u001b[0m parser \u001b[38;5;241m=\u001b[39m TextFileReader(filepath_or_buffer, \u001b[38;5;241m*\u001b[39m\u001b[38;5;241m*\u001b[39mkwds)\n\u001b[0;32m    464\u001b[0m \u001b[38;5;28;01mif\u001b[39;00m chunksize \u001b[38;5;129;01mor\u001b[39;00m iterator:\n\u001b[0;32m    465\u001b[0m     \u001b[38;5;28;01mreturn\u001b[39;00m parser\n",
      "File \u001b[1;32m~\\anaconda\\envs\\ds_practicum_env\\lib\\site-packages\\pandas\\io\\parsers.py:819\u001b[0m, in \u001b[0;36mTextFileReader.__init__\u001b[1;34m(self, f, engine, **kwds)\u001b[0m\n\u001b[0;32m    816\u001b[0m \u001b[38;5;28;01mif\u001b[39;00m \u001b[38;5;124m\"\u001b[39m\u001b[38;5;124mhas_index_names\u001b[39m\u001b[38;5;124m\"\u001b[39m \u001b[38;5;129;01min\u001b[39;00m kwds:\n\u001b[0;32m    817\u001b[0m     \u001b[38;5;28mself\u001b[39m\u001b[38;5;241m.\u001b[39moptions[\u001b[38;5;124m\"\u001b[39m\u001b[38;5;124mhas_index_names\u001b[39m\u001b[38;5;124m\"\u001b[39m] \u001b[38;5;241m=\u001b[39m kwds[\u001b[38;5;124m\"\u001b[39m\u001b[38;5;124mhas_index_names\u001b[39m\u001b[38;5;124m\"\u001b[39m]\n\u001b[1;32m--> 819\u001b[0m \u001b[38;5;28mself\u001b[39m\u001b[38;5;241m.\u001b[39m_engine \u001b[38;5;241m=\u001b[39m \u001b[38;5;28;43mself\u001b[39;49m\u001b[38;5;241;43m.\u001b[39;49m\u001b[43m_make_engine\u001b[49m\u001b[43m(\u001b[49m\u001b[38;5;28;43mself\u001b[39;49m\u001b[38;5;241;43m.\u001b[39;49m\u001b[43mengine\u001b[49m\u001b[43m)\u001b[49m\n",
      "File \u001b[1;32m~\\anaconda\\envs\\ds_practicum_env\\lib\\site-packages\\pandas\\io\\parsers.py:1050\u001b[0m, in \u001b[0;36mTextFileReader._make_engine\u001b[1;34m(self, engine)\u001b[0m\n\u001b[0;32m   1046\u001b[0m     \u001b[38;5;28;01mraise\u001b[39;00m \u001b[38;5;167;01mValueError\u001b[39;00m(\n\u001b[0;32m   1047\u001b[0m         \u001b[38;5;124mf\u001b[39m\u001b[38;5;124m\"\u001b[39m\u001b[38;5;124mUnknown engine: \u001b[39m\u001b[38;5;132;01m{\u001b[39;00mengine\u001b[38;5;132;01m}\u001b[39;00m\u001b[38;5;124m (valid options are \u001b[39m\u001b[38;5;132;01m{\u001b[39;00mmapping\u001b[38;5;241m.\u001b[39mkeys()\u001b[38;5;132;01m}\u001b[39;00m\u001b[38;5;124m)\u001b[39m\u001b[38;5;124m\"\u001b[39m\n\u001b[0;32m   1048\u001b[0m     )\n\u001b[0;32m   1049\u001b[0m \u001b[38;5;66;03m# error: Too many arguments for \"ParserBase\"\u001b[39;00m\n\u001b[1;32m-> 1050\u001b[0m \u001b[38;5;28;01mreturn\u001b[39;00m mapping[engine](\u001b[38;5;28mself\u001b[39m\u001b[38;5;241m.\u001b[39mf, \u001b[38;5;241m*\u001b[39m\u001b[38;5;241m*\u001b[39m\u001b[38;5;28mself\u001b[39m\u001b[38;5;241m.\u001b[39moptions)\n",
      "File \u001b[1;32m~\\anaconda\\envs\\ds_practicum_env\\lib\\site-packages\\pandas\\io\\parsers.py:1867\u001b[0m, in \u001b[0;36mCParserWrapper.__init__\u001b[1;34m(self, src, **kwds)\u001b[0m\n\u001b[0;32m   1864\u001b[0m kwds[\u001b[38;5;124m\"\u001b[39m\u001b[38;5;124musecols\u001b[39m\u001b[38;5;124m\"\u001b[39m] \u001b[38;5;241m=\u001b[39m \u001b[38;5;28mself\u001b[39m\u001b[38;5;241m.\u001b[39musecols\n\u001b[0;32m   1866\u001b[0m \u001b[38;5;66;03m# open handles\u001b[39;00m\n\u001b[1;32m-> 1867\u001b[0m \u001b[38;5;28;43mself\u001b[39;49m\u001b[38;5;241;43m.\u001b[39;49m\u001b[43m_open_handles\u001b[49m\u001b[43m(\u001b[49m\u001b[43msrc\u001b[49m\u001b[43m,\u001b[49m\u001b[43m \u001b[49m\u001b[43mkwds\u001b[49m\u001b[43m)\u001b[49m\n\u001b[0;32m   1868\u001b[0m \u001b[38;5;28;01massert\u001b[39;00m \u001b[38;5;28mself\u001b[39m\u001b[38;5;241m.\u001b[39mhandles \u001b[38;5;129;01mis\u001b[39;00m \u001b[38;5;129;01mnot\u001b[39;00m \u001b[38;5;28;01mNone\u001b[39;00m\n\u001b[0;32m   1869\u001b[0m \u001b[38;5;28;01mfor\u001b[39;00m key \u001b[38;5;129;01min\u001b[39;00m (\u001b[38;5;124m\"\u001b[39m\u001b[38;5;124mstorage_options\u001b[39m\u001b[38;5;124m\"\u001b[39m, \u001b[38;5;124m\"\u001b[39m\u001b[38;5;124mencoding\u001b[39m\u001b[38;5;124m\"\u001b[39m, \u001b[38;5;124m\"\u001b[39m\u001b[38;5;124mmemory_map\u001b[39m\u001b[38;5;124m\"\u001b[39m, \u001b[38;5;124m\"\u001b[39m\u001b[38;5;124mcompression\u001b[39m\u001b[38;5;124m\"\u001b[39m):\n",
      "File \u001b[1;32m~\\anaconda\\envs\\ds_practicum_env\\lib\\site-packages\\pandas\\io\\parsers.py:1362\u001b[0m, in \u001b[0;36mParserBase._open_handles\u001b[1;34m(self, src, kwds)\u001b[0m\n\u001b[0;32m   1358\u001b[0m \u001b[38;5;28;01mdef\u001b[39;00m \u001b[38;5;21m_open_handles\u001b[39m(\u001b[38;5;28mself\u001b[39m, src: FilePathOrBuffer, kwds: Dict[\u001b[38;5;28mstr\u001b[39m, Any]) \u001b[38;5;241m-\u001b[39m\u001b[38;5;241m>\u001b[39m \u001b[38;5;28;01mNone\u001b[39;00m:\n\u001b[0;32m   1359\u001b[0m \u001b[38;5;250m    \u001b[39m\u001b[38;5;124;03m\"\"\"\u001b[39;00m\n\u001b[0;32m   1360\u001b[0m \u001b[38;5;124;03m    Let the readers open IOHanldes after they are done with their potential raises.\u001b[39;00m\n\u001b[0;32m   1361\u001b[0m \u001b[38;5;124;03m    \"\"\"\u001b[39;00m\n\u001b[1;32m-> 1362\u001b[0m     \u001b[38;5;28mself\u001b[39m\u001b[38;5;241m.\u001b[39mhandles \u001b[38;5;241m=\u001b[39m \u001b[43mget_handle\u001b[49m\u001b[43m(\u001b[49m\n\u001b[0;32m   1363\u001b[0m \u001b[43m        \u001b[49m\u001b[43msrc\u001b[49m\u001b[43m,\u001b[49m\n\u001b[0;32m   1364\u001b[0m \u001b[43m        \u001b[49m\u001b[38;5;124;43m\"\u001b[39;49m\u001b[38;5;124;43mr\u001b[39;49m\u001b[38;5;124;43m\"\u001b[39;49m\u001b[43m,\u001b[49m\n\u001b[0;32m   1365\u001b[0m \u001b[43m        \u001b[49m\u001b[43mencoding\u001b[49m\u001b[38;5;241;43m=\u001b[39;49m\u001b[43mkwds\u001b[49m\u001b[38;5;241;43m.\u001b[39;49m\u001b[43mget\u001b[49m\u001b[43m(\u001b[49m\u001b[38;5;124;43m\"\u001b[39;49m\u001b[38;5;124;43mencoding\u001b[39;49m\u001b[38;5;124;43m\"\u001b[39;49m\u001b[43m,\u001b[49m\u001b[43m \u001b[49m\u001b[38;5;28;43;01mNone\u001b[39;49;00m\u001b[43m)\u001b[49m\u001b[43m,\u001b[49m\n\u001b[0;32m   1366\u001b[0m \u001b[43m        \u001b[49m\u001b[43mcompression\u001b[49m\u001b[38;5;241;43m=\u001b[39;49m\u001b[43mkwds\u001b[49m\u001b[38;5;241;43m.\u001b[39;49m\u001b[43mget\u001b[49m\u001b[43m(\u001b[49m\u001b[38;5;124;43m\"\u001b[39;49m\u001b[38;5;124;43mcompression\u001b[39;49m\u001b[38;5;124;43m\"\u001b[39;49m\u001b[43m,\u001b[49m\u001b[43m \u001b[49m\u001b[38;5;28;43;01mNone\u001b[39;49;00m\u001b[43m)\u001b[49m\u001b[43m,\u001b[49m\n\u001b[0;32m   1367\u001b[0m \u001b[43m        \u001b[49m\u001b[43mmemory_map\u001b[49m\u001b[38;5;241;43m=\u001b[39;49m\u001b[43mkwds\u001b[49m\u001b[38;5;241;43m.\u001b[39;49m\u001b[43mget\u001b[49m\u001b[43m(\u001b[49m\u001b[38;5;124;43m\"\u001b[39;49m\u001b[38;5;124;43mmemory_map\u001b[39;49m\u001b[38;5;124;43m\"\u001b[39;49m\u001b[43m,\u001b[49m\u001b[43m \u001b[49m\u001b[38;5;28;43;01mFalse\u001b[39;49;00m\u001b[43m)\u001b[49m\u001b[43m,\u001b[49m\n\u001b[0;32m   1368\u001b[0m \u001b[43m        \u001b[49m\u001b[43mstorage_options\u001b[49m\u001b[38;5;241;43m=\u001b[39;49m\u001b[43mkwds\u001b[49m\u001b[38;5;241;43m.\u001b[39;49m\u001b[43mget\u001b[49m\u001b[43m(\u001b[49m\u001b[38;5;124;43m\"\u001b[39;49m\u001b[38;5;124;43mstorage_options\u001b[39;49m\u001b[38;5;124;43m\"\u001b[39;49m\u001b[43m,\u001b[49m\u001b[43m \u001b[49m\u001b[38;5;28;43;01mNone\u001b[39;49;00m\u001b[43m)\u001b[49m\u001b[43m,\u001b[49m\n\u001b[0;32m   1369\u001b[0m \u001b[43m    \u001b[49m\u001b[43m)\u001b[49m\n",
      "File \u001b[1;32m~\\anaconda\\envs\\ds_practicum_env\\lib\\site-packages\\pandas\\io\\common.py:642\u001b[0m, in \u001b[0;36mget_handle\u001b[1;34m(path_or_buf, mode, encoding, compression, memory_map, is_text, errors, storage_options)\u001b[0m\n\u001b[0;32m    640\u001b[0m         errors \u001b[38;5;241m=\u001b[39m \u001b[38;5;124m\"\u001b[39m\u001b[38;5;124mreplace\u001b[39m\u001b[38;5;124m\"\u001b[39m\n\u001b[0;32m    641\u001b[0m     \u001b[38;5;66;03m# Encoding\u001b[39;00m\n\u001b[1;32m--> 642\u001b[0m     handle \u001b[38;5;241m=\u001b[39m \u001b[38;5;28;43mopen\u001b[39;49m\u001b[43m(\u001b[49m\n\u001b[0;32m    643\u001b[0m \u001b[43m        \u001b[49m\u001b[43mhandle\u001b[49m\u001b[43m,\u001b[49m\n\u001b[0;32m    644\u001b[0m \u001b[43m        \u001b[49m\u001b[43mioargs\u001b[49m\u001b[38;5;241;43m.\u001b[39;49m\u001b[43mmode\u001b[49m\u001b[43m,\u001b[49m\n\u001b[0;32m    645\u001b[0m \u001b[43m        \u001b[49m\u001b[43mencoding\u001b[49m\u001b[38;5;241;43m=\u001b[39;49m\u001b[43mioargs\u001b[49m\u001b[38;5;241;43m.\u001b[39;49m\u001b[43mencoding\u001b[49m\u001b[43m,\u001b[49m\n\u001b[0;32m    646\u001b[0m \u001b[43m        \u001b[49m\u001b[43merrors\u001b[49m\u001b[38;5;241;43m=\u001b[39;49m\u001b[43merrors\u001b[49m\u001b[43m,\u001b[49m\n\u001b[0;32m    647\u001b[0m \u001b[43m        \u001b[49m\u001b[43mnewline\u001b[49m\u001b[38;5;241;43m=\u001b[39;49m\u001b[38;5;124;43m\"\u001b[39;49m\u001b[38;5;124;43m\"\u001b[39;49m\u001b[43m,\u001b[49m\n\u001b[0;32m    648\u001b[0m \u001b[43m    \u001b[49m\u001b[43m)\u001b[49m\n\u001b[0;32m    649\u001b[0m \u001b[38;5;28;01melse\u001b[39;00m:\n\u001b[0;32m    650\u001b[0m     \u001b[38;5;66;03m# Binary mode\u001b[39;00m\n\u001b[0;32m    651\u001b[0m     handle \u001b[38;5;241m=\u001b[39m \u001b[38;5;28mopen\u001b[39m(handle, ioargs\u001b[38;5;241m.\u001b[39mmode)\n",
      "\u001b[1;31mFileNotFoundError\u001b[0m: [Errno 2] No such file or directory: '/datasets/Churn.csv'"
     ]
    }
   ],
   "source": [
    "data = pd.read_csv('/datasets/Churn.csv')\n",
    "data.info()"
   ]
  },
  {
   "cell_type": "code",
   "execution_count": null,
   "metadata": {},
   "outputs": [],
   "source": [
    "data.head()"
   ]
  },
  {
   "cell_type": "markdown",
   "metadata": {},
   "source": [
    "Удалим колонки, которые не понадобятся для исследования:"
   ]
  },
  {
   "cell_type": "code",
   "execution_count": null,
   "metadata": {},
   "outputs": [],
   "source": [
    "data = data.drop(columns = ['CustomerId', 'RowNumber', 'Surname'], axis=1)\n",
    "data.head()"
   ]
  },
  {
   "cell_type": "markdown",
   "metadata": {},
   "source": [
    "Исправим названия колонок и приведём к нижнему регистру:"
   ]
  },
  {
   "cell_type": "code",
   "execution_count": null,
   "metadata": {},
   "outputs": [],
   "source": [
    "data.columns = map(str.lower, data.columns)\n",
    "data = data.rename(columns = \n",
    "                   {'creditscore':'credit_score', 'numofproducts':'num_of_products', 'hascrcard':'has_cr_card', 'isactivemember':'is_active_member', 'estimatedsalary':'estimated_salary'})\n",
    "data.head()"
   ]
  },
  {
   "cell_type": "code",
   "execution_count": null,
   "metadata": {
    "scrolled": false
   },
   "outputs": [],
   "source": [
    "for column in data.columns:\n",
    "    print(column)\n",
    "    print(data[column].value_counts()) \n",
    "    print()"
   ]
  },
  {
   "cell_type": "code",
   "execution_count": null,
   "metadata": {},
   "outputs": [],
   "source": [
    "data['tenure'].hist(bins=11)\n",
    "plt.title('Сколько лет человек является клиентом банка')\n",
    "plt.xlabel('Количество лет')\n",
    "plt.ylabel('Количество человек')"
   ]
  },
  {
   "cell_type": "markdown",
   "metadata": {},
   "source": [
    "Заменим пропуски в столбце \"tenure\" с информацией о количестве лет, на протяжение которых человек является клиентом банка средним значением по категориям: кредитный рейтинг, количество продуктов банка, пол и страна. Оставшиеся пропуски заменим средним. И заменим тип данных на цельночисленный."
   ]
  },
  {
   "cell_type": "code",
   "execution_count": null,
   "metadata": {},
   "outputs": [],
   "source": [
    "data['tenure'] = data['tenure'].fillna(data.groupby(['credit_score', 'num_of_products', 'geography', 'gender'])['tenure'].transform('mean'))\n",
    "data['tenure'] = data['tenure'].fillna(data['tenure'].mean())\n",
    "data = data.astype({'tenure':'int'})\n",
    "data.info()"
   ]
  },
  {
   "cell_type": "markdown",
   "metadata": {},
   "source": [
    "Преобразуем категориальные признаки geography, gender  в численные техникой прямого кодирования, или отображения (OHE)."
   ]
  },
  {
   "cell_type": "code",
   "execution_count": null,
   "metadata": {},
   "outputs": [],
   "source": [
    "data_ohe = pd.get_dummies(data, drop_first=True)\n",
    "data_ohe.head()"
   ]
  },
  {
   "cell_type": "markdown",
   "metadata": {},
   "source": [
    "Вывод:\n",
    "Нами изучен датасет, состоящий из 10 000 строк и 14 колонок с информацией о клиентах банка. Мы изменили названия колонок в дтафрейме и привели к нижнему регистру, заполнили пропуски в периоде, в течение которогоо клиент является клиентом банка, избавились от ненужной информации(столбцы с фамилией клиентов и индексом строки). Заменили тип данных и преобразовали категориальные признаки в численные. Так же отметили, что большая часть клиентов - мужчины, >50% клиентов банка из Франции, 3617 клиентов имеют на болансе 0."
   ]
  },
  {
   "cell_type": "markdown",
   "metadata": {},
   "source": [
    "## Исследование задачи"
   ]
  },
  {
   "cell_type": "code",
   "execution_count": null,
   "metadata": {},
   "outputs": [],
   "source": [
    "target = data_ohe['exited']\n",
    "features = data_ohe.drop('exited', axis=1)\n",
    "\n",
    "features_train, features_valid, target_train, target_valid = train_test_split(features, target, test_size=0.4, \n",
    "                                                                              random_state=2202, stratify=target)\n",
    "features_valid, features_test, target_valid, target_test = train_test_split(features_valid, target_valid, test_size=0.5, \n",
    "                                                                              random_state=2202, stratify=target_valid)\n",
    "print(features_train.shape, features_valid.shape, features_test.shape)\n",
    "print(target_train.shape, target_valid.shape, target_test.shape)"
   ]
  },
  {
   "cell_type": "code",
   "execution_count": null,
   "metadata": {},
   "outputs": [],
   "source": [
    "numeric = ['credit_score', 'age','tenure', 'balance', 'num_of_products', 'estimated_salary']\n",
    "scaler = StandardScaler()\n",
    "scaler.fit(features_train[numeric])"
   ]
  },
  {
   "cell_type": "code",
   "execution_count": null,
   "metadata": {
    "scrolled": true
   },
   "outputs": [],
   "source": [
    "features_train[numeric] = scaler.transform(features_train[numeric])\n",
    "features_valid[numeric] = scaler.transform(features_valid[numeric])\n",
    "features_test[numeric] = scaler.transform(features_test[numeric])"
   ]
  },
  {
   "cell_type": "code",
   "execution_count": null,
   "metadata": {},
   "outputs": [],
   "source": [
    "features_train.head()"
   ]
  },
  {
   "cell_type": "code",
   "execution_count": null,
   "metadata": {},
   "outputs": [],
   "source": [
    "data_ohe['exited'].value_counts(normalize=True)"
   ]
  },
  {
   "cell_type": "code",
   "execution_count": null,
   "metadata": {},
   "outputs": [],
   "source": [
    "data_ohe['exited'].value_counts(normalize=True)"
   ]
  },
  {
   "cell_type": "markdown",
   "metadata": {},
   "source": [
    "Дерево решений:"
   ]
  },
  {
   "cell_type": "code",
   "execution_count": null,
   "metadata": {},
   "outputs": [],
   "source": [
    "best_model_tree = None\n",
    "best_depth = 0\n",
    "best_result = 0\n",
    "for depth in range(1,21):\n",
    "    model_tree = DecisionTreeClassifier(max_depth=depth, random_state=12345)\n",
    "    model_tree.fit(features_train, target_train)\n",
    "    predictions = model_tree.predict(features_valid)\n",
    "    print('max_depth:', depth,'F1:', f1_score(target_valid, predictions))\n",
    "    result = f1_score(predictions, target_valid)\n",
    "    if best_result < result:\n",
    "        best_depth = depth\n",
    "        best_result = result\n",
    "        best_model_tree = model_tree\n",
    "print(\"Лучшая F-мера\", best_result, 'cо значением глубины =', depth)\n",
    "    "
   ]
  },
  {
   "cell_type": "markdown",
   "metadata": {},
   "source": [
    "Случайный лес:"
   ]
  },
  {
   "cell_type": "code",
   "execution_count": null,
   "metadata": {
    "scrolled": true
   },
   "outputs": [],
   "source": [
    "best_model_forest = None\n",
    "best_est_forest = 0\n",
    "best_depth_forest = 0\n",
    "best_result_forest = 0\n",
    "for max_depth in range(1,20):\n",
    "    for estim in range(1,100,5):\n",
    "        model_forest = RandomForestClassifier(max_depth=max_depth, n_estimators=estim, random_state=12345)\n",
    "        model_forest.fit(features_train, target_train)\n",
    "        predictions = model_forest.predict(features_valid)\n",
    "        print('max_depth:', max_depth,'F1:',f1_score(target_valid, predictions),'estim',estim,'F1:',f1_score(target_valid, predictions))\n",
    "        result = f1_score(target_valid, predictions) \n",
    "        if result > best_result:\n",
    "            best_model_forest = model_forest\n",
    "            best_result_forest = result\n",
    "            best_depth_forest = depth\n",
    "            best_est_forest = estim\n",
    "\n",
    "print(\"Лучшая F-мера\", best_result_forest, 'при глубине = {0} и количестве деревьев = {1}'.format(best_depth, best_est_forest))"
   ]
  },
  {
   "cell_type": "markdown",
   "metadata": {},
   "source": [
    "Логистическая регрессия:"
   ]
  },
  {
   "cell_type": "code",
   "execution_count": null,
   "metadata": {},
   "outputs": [],
   "source": [
    "model_logistic = LogisticRegression().fit(features_train, target_train)\n",
    "predictions = model_logistic.predict(features_valid)\n",
    "print('F1:', f1_score(target_valid, predictions))"
   ]
  },
  {
   "cell_type": "code",
   "execution_count": null,
   "metadata": {},
   "outputs": [],
   "source": [
    "plt.figure(figsize=[12,9])\n",
    "\n",
    "plt.plot([0, 1], [0, 1], linestyle='--', label='RandomModel')\n",
    "\n",
    "\n",
    "model_tree = DecisionTreeClassifier(random_state=12345, max_depth=20)\n",
    "model_tree.fit(features_train, target_train)\n",
    "probabilities_valid = model_tree.predict_proba(features_valid)\n",
    "probabilities_one_valid = probabilities_valid[:, 1]\n",
    "fpr, tpr, thresholds = roc_curve(target_valid, probabilities_one_valid)\n",
    "auc_roc = roc_auc_score(target_valid, probabilities_one_valid)\n",
    "print('AUC-ROC DecisionTreeClassifier',auc_roc)\n",
    "plt.plot(fpr, tpr, label='DecisionTreeClassifier')\n",
    "\n",
    "model_forest = RandomForestClassifier(random_state=12345,max_depth=5, n_estimators=91)\n",
    "model_forest.fit(features_train, target_train)\n",
    "probabilities_valid = model_forest.predict_proba(features_valid)\n",
    "probabilities_one_valid = probabilities_valid[:, 1]\n",
    "fpr, tpr, thresholds = roc_curve(target_valid, probabilities_one_valid)\n",
    "auc_roc = roc_auc_score(target_valid, probabilities_one_valid)\n",
    "print('AUC-ROC RandomForestClassifier',auc_roc)\n",
    "plt.plot(fpr, tpr, label='RandomForestClassifier')\n",
    "\n",
    "model_logistic = LogisticRegression(random_state=12345, solver='liblinear')\n",
    "model_logistic.fit(features_train, target_train)\n",
    "probabilities_valid = model_logistic.predict_proba(features_valid)\n",
    "probabilities_one_valid = probabilities_valid[:, 1]\n",
    "fpr, tpr, thresholds = roc_curve(target_valid, probabilities_one_valid)\n",
    "auc_roc = roc_auc_score(target_valid, probabilities_one_valid)\n",
    "print('AUC-ROC LogisticRegression',auc_roc)\n",
    "plt.plot(fpr, tpr, label='LogisticRegression')\n"
   ]
  },
  {
   "cell_type": "markdown",
   "metadata": {},
   "source": [
    "## Борьба с дисбалансом"
   ]
  },
  {
   "cell_type": "code",
   "execution_count": null,
   "metadata": {},
   "outputs": [],
   "source": [
    "def upsample(features, target, repeat):\n",
    "    features_zeros = features[target == 0]\n",
    "    features_ones = features[target == 1]\n",
    "    target_zeros = target[target == 0]\n",
    "    target_ones = target[target == 1]\n",
    "    \n",
    "    features_upsampled = pd.concat([features_zeros] + [features_ones] * repeat)\n",
    "    target_upsampled = pd.concat([target_zeros] + [target_ones] * repeat)\n",
    "    \n",
    "    features_upsampled, target_upsampled = shuffle(\n",
    "        features_upsampled, target_upsampled, random_state=12345)\n",
    "    return features_upsampled, target_upsampled"
   ]
  },
  {
   "cell_type": "code",
   "execution_count": null,
   "metadata": {},
   "outputs": [],
   "source": [
    "features_upsampled, target_upsampled = upsample(features_train, target_train, 4)\n",
    "print(target_upsampled.value_counts())"
   ]
  },
  {
   "cell_type": "code",
   "execution_count": null,
   "metadata": {},
   "outputs": [],
   "source": [
    "model_logistic = LogisticRegression(random_state = 12345, solver='liblinear')\n",
    "model_logistic.fit(features_train, target_train)\n",
    "predicted_valid = model_logistic.predict(features_valid)\n",
    "print('Логистическая регрессия')\n",
    "print('F1', f1_score(target_valid, predicted_valid))\n",
    "probabilities_valid = model_logistic.predict_proba(features_valid)\n",
    "probabilities_one_valid = probabilities_valid[:, 1]\n",
    "fpr, tpr, thresholds = roc_curve(target_valid, probabilities_one_valid)\n",
    "auc_roc = roc_auc_score(target_valid, probabilities_one_valid)\n",
    "print('AUC-ROC LogisticRegression',auc_roc)"
   ]
  },
  {
   "cell_type": "code",
   "execution_count": null,
   "metadata": {},
   "outputs": [],
   "source": [
    "best_model_tree_upsmple = None\n",
    "best_result_upsmple = 0\n",
    "for depth in range(1, 21):\n",
    "    model_tree_upsmple = DecisionTreeClassifier(random_state=12345, max_depth=depth)\n",
    "    model_tree_upsmple.fit(features_upsampled, target_upsampled)\n",
    "    predicted_valid = model_tree_upsmple.predict(features_valid)\n",
    "    print('Max depth:', depth,'F1-score:', f1_score(target_valid, predicted_valid))\n",
    "    result = f1_score(target_valid, predicted_valid)\n",
    "    \n",
    "    if best_result_upsmple < result:\n",
    "        best_result_upsmple = result\n",
    "        max_depth_upsmple = depth\n",
    "        best_model_tree_upsmple = model_tree_upsmple\n",
    "\n",
    "print(\"Лучшая F-мера\", best_result_upsmple, 'cо значением глубины =', max_depth_upsmple)\n",
    "probabilities_valid = model_tree_upsmple.predict_proba(features_valid)\n",
    "probabilities_one_valid = probabilities_valid[:, 1]\n",
    "fpr, tpr, thresholds = roc_curve(target_valid, probabilities_one_valid)\n",
    "auc_roc = roc_auc_score(target_valid, probabilities_one_valid)\n",
    "print('AUC-ROC DecisionTreeClassifier',auc_roc)"
   ]
  },
  {
   "cell_type": "code",
   "execution_count": null,
   "metadata": {},
   "outputs": [],
   "source": [
    "# Код ревьюера\n",
    "probabilities_valid = best_model_tree_upsmple.predict_proba(features_valid)\n",
    "probabilities_one_valid = probabilities_valid[:, 1]\n",
    "fpr, tpr, thresholds = roc_curve(target_valid, probabilities_one_valid)\n",
    "auc_roc = roc_auc_score(target_valid, probabilities_one_valid)\n",
    "print('AUC-ROC DecisionTreeClassifier',auc_roc)"
   ]
  },
  {
   "cell_type": "code",
   "execution_count": null,
   "metadata": {},
   "outputs": [],
   "source": [
    "best_model_forest_upsample = None\n",
    "best_result_upsample = 0\n",
    "best_depth_upsample = 0\n",
    "best_est_upsample = 0\n",
    "\n",
    "for estimator in range(1, 100, 5):\n",
    "    for depth in range(1, 20):\n",
    "        model_forest_upsample =  RandomForestClassifier(random_state=12345, n_estimators=estim, \n",
    "                                                   max_depth = depth)\n",
    "        model_forest_upsample.fit(features_upsampled, target_upsampled)\n",
    "        predicted_valid = model_forest_upsample.predict(features_valid)\n",
    "        print('N estimators:', estimator, 'Глубина:', depth, 'F1:', f1_score(target_valid, predicted_valid))\n",
    "        result = f1_score(target_valid, predicted_valid) \n",
    "        \n",
    "        if result > best_result_upsample:\n",
    "            best_model_forest_upsample = model_forest_upsample\n",
    "            best_result_upsample = result\n",
    "            best_depth_upsample = depth\n",
    "            best_est_upsample = estim\n",
    "\n",
    "print(\"Лучшая F-мера\", best_result_upsample, 'при глубине = {0} и количестве деревьев = {1}'.format(best_depth_upsample,\n",
    "                                                                                           best_est_upsample))\n",
    "probabilities_valid = model_forest_upsample.predict_proba(features_valid)\n",
    "probabilities_one_valid = probabilities_valid[:, 1]\n",
    "fpr, tpr, thresholds = roc_curve(target_valid, probabilities_one_valid)\n",
    "auc_roc = roc_auc_score(target_valid, probabilities_one_valid)\n",
    "print('AUC-ROC RandomForestClassifier',auc_roc)"
   ]
  },
  {
   "cell_type": "code",
   "execution_count": null,
   "metadata": {},
   "outputs": [],
   "source": [
    "# Код ревьюера\n",
    "probabilities_valid = best_model_forest_upsample.predict_proba(features_valid)\n",
    "probabilities_one_valid = probabilities_valid[:, 1]\n",
    "fpr, tpr, thresholds = roc_curve(target_valid, probabilities_one_valid)\n",
    "auc_roc = roc_auc_score(target_valid, probabilities_one_valid)\n",
    "print('AUC-ROC DecisionTreeClassifier',auc_roc)"
   ]
  },
  {
   "cell_type": "code",
   "execution_count": null,
   "metadata": {},
   "outputs": [],
   "source": [
    "def downsample(features, target, fraction):\n",
    "    features_zeros = features[target == 0]\n",
    "    features_ones = features[target == 1]\n",
    "    target_zeros = target[target == 0]\n",
    "    target_ones = target[target == 1]\n",
    "\n",
    "    features_downsampled = pd.concat(\n",
    "        [features_zeros.sample(frac=fraction, random_state=12345)] + [features_ones])\n",
    "    target_downsampled = pd.concat(\n",
    "        [target_zeros.sample(frac=fraction, random_state=12345)] + [target_ones])\n",
    "    \n",
    "    features_downsampled, target_downsampled = shuffle(\n",
    "        features_downsampled, target_downsampled, random_state=12345)\n",
    "    \n",
    "    return features_downsampled, target_downsampled"
   ]
  },
  {
   "cell_type": "code",
   "execution_count": null,
   "metadata": {},
   "outputs": [],
   "source": [
    "features_downsampled, target_downsampled = downsample(features_train, target_train, 0.25)"
   ]
  },
  {
   "cell_type": "code",
   "execution_count": null,
   "metadata": {},
   "outputs": [],
   "source": [
    "print(target_downsampled.value_counts())"
   ]
  },
  {
   "cell_type": "code",
   "execution_count": null,
   "metadata": {},
   "outputs": [],
   "source": [
    "model_logistic = LogisticRegression(random_state=12345, solver='liblinear')\n",
    "model_logistic.fit(features_downsampled, target_downsampled)\n",
    "predicted_valid = model_logistic.predict(features_valid)\n",
    "print('Логистическая регрессия')\n",
    "print('F1', f1_score(target_valid, predicted_valid))\n",
    "probabilities_valid = model_logistic.predict_proba(features_valid)\n",
    "probabilities_one_valid = probabilities_valid[:, 1]\n",
    "fpr, tpr, thresholds = roc_curve(target_valid, probabilities_one_valid)\n",
    "auc_roc = roc_auc_score(target_valid, probabilities_one_valid)\n",
    "print('AUC-ROC LogisticRegression',auc_roc)"
   ]
  },
  {
   "cell_type": "code",
   "execution_count": null,
   "metadata": {},
   "outputs": [],
   "source": [
    "best_model_tree_downsample = None\n",
    "best_result_downsample = 0\n",
    "\n",
    "for depth in range(1, 21):\n",
    "    model_tree_downsample = DecisionTreeClassifier(random_state=12345, max_depth=depth)\n",
    "    model_tree_downsample.fit(features_downsampled, target_downsampled)\n",
    "    predicted_valid = model_tree_downsample.predict(features_valid)\n",
    "    print('Max depth:', depth,'F1-score:', f1_score(target_valid, predicted_valid))\n",
    "    result = f1_score(target_valid, predicted_valid)\n",
    "    \n",
    "    if best_result_downsample < result:\n",
    "        best_result_downsample = result\n",
    "        max_depth_downsample = depth\n",
    "        best_model_tree_downsample = model_tree_downsample\n",
    "\n",
    "print(\"Лучшая F-мера\", best_result_downsample, 'cо значением глубины =', max_depth_downsample)\n",
    "probabilities_valid = model_tree_downsample.predict_proba(features_valid)\n",
    "probabilities_one_valid = probabilities_valid[:, 1]\n",
    "fpr, tpr, thresholds = roc_curve(target_valid, probabilities_one_valid)\n",
    "auc_roc = roc_auc_score(target_valid, probabilities_one_valid)\n",
    "print('AUC-ROC DecisionTreeClassifier',auc_roc)"
   ]
  },
  {
   "cell_type": "code",
   "execution_count": null,
   "metadata": {},
   "outputs": [],
   "source": [
    "# Код ревьюера\n",
    "probabilities_valid = best_model_tree_downsample.predict_proba(features_valid)\n",
    "probabilities_one_valid = probabilities_valid[:, 1]\n",
    "fpr, tpr, thresholds = roc_curve(target_valid, probabilities_one_valid)\n",
    "auc_roc = roc_auc_score(target_valid, probabilities_one_valid)\n",
    "print('AUC-ROC DecisionTreeClassifier',auc_roc)"
   ]
  },
  {
   "cell_type": "code",
   "execution_count": null,
   "metadata": {},
   "outputs": [],
   "source": [
    "best_model_forest_downsample = None\n",
    "best_result_downsample = 0\n",
    "best_depth_downsample = 0\n",
    "best_est_downsample = 0\n",
    "\n",
    "for estimator in range(1, 100, 5):\n",
    "    for depth in range(1, 20):\n",
    "        model_forest_downsample =  RandomForestClassifier(random_state=12345, n_estimators=estim, \n",
    "                                                   max_depth = depth)\n",
    "        model_forest_downsample.fit(features_downsampled, target_downsampled)\n",
    "        predicted_valid = model_forest_downsample.predict(features_valid)\n",
    "        print('N estimators:', estimator, 'Глубина:', depth, 'F1:', f1_score(target_valid, predicted_valid))\n",
    "        result = f1_score(target_valid, predicted_valid) \n",
    "        \n",
    "        if result > best_result_downsample:\n",
    "            best_model_forest_downsample = model_forest_downsample\n",
    "            best_result_downsample = result\n",
    "            best_depth_downsample = depth\n",
    "            best_est_downsample = estim\n",
    "\n",
    "print(\"Лучшая F-мера\", best_result_downsample, 'при глубине = {0} и количестве деревьев = {1}'.format(best_depth_downsample,\n",
    "                                                                                           best_est_downsample))\n",
    "probabilities_valid = model_forest_downsample.predict_proba(features_valid)\n",
    "probabilities_one_valid = probabilities_valid[:, 1]\n",
    "fpr, tpr, thresholds = roc_curve(target_valid, probabilities_one_valid)\n",
    "auc_roc = roc_auc_score(target_valid, probabilities_one_valid)\n",
    "print('AUC-ROC RandomForestClassifier',auc_roc)"
   ]
  },
  {
   "cell_type": "code",
   "execution_count": null,
   "metadata": {},
   "outputs": [],
   "source": [
    "# Код ревьюера\n",
    "probabilities_valid = best_model_forest_downsample.predict_proba(features_valid)\n",
    "probabilities_one_valid = probabilities_valid[:, 1]\n",
    "fpr, tpr, thresholds = roc_curve(target_valid, probabilities_one_valid)\n",
    "auc_roc = roc_auc_score(target_valid, probabilities_one_valid)\n",
    "print('AUC-ROC DecisionTreeClassifier',auc_roc)"
   ]
  },
  {
   "cell_type": "markdown",
   "metadata": {},
   "source": [
    "## Тестирование модели"
   ]
  },
  {
   "cell_type": "code",
   "execution_count": null,
   "metadata": {},
   "outputs": [],
   "source": [
    "features_full_train = pd.concat([features_train, features_valid])\n",
    "target_full_train = pd.concat([target_train, target_valid])"
   ]
  },
  {
   "cell_type": "code",
   "execution_count": null,
   "metadata": {},
   "outputs": [],
   "source": [
    "features_upsampled, target_upsampled = upsample(features_full_train, target_full_train, 4)"
   ]
  },
  {
   "cell_type": "code",
   "execution_count": null,
   "metadata": {},
   "outputs": [],
   "source": [
    "model = RandomForestClassifier(random_state=12345, n_estimators= 96, \n",
    "                                                   max_depth = 14)\n",
    "model.fit(features_upsampled, target_upsampled)\n",
    "predicted_test = model.predict(features_test)\n",
    "f1_score(target_test, predicted_test)"
   ]
  },
  {
   "cell_type": "code",
   "execution_count": null,
   "metadata": {},
   "outputs": [],
   "source": [
    "probabilities_test = model.predict_proba(features_test)\n",
    "probabilities_one_test = probabilities_test[:, 1]\n",
    "probabilities_one_test"
   ]
  },
  {
   "cell_type": "code",
   "execution_count": null,
   "metadata": {},
   "outputs": [],
   "source": [
    "auc_roc = roc_auc_score(target_test, probabilities_one_test)\n",
    "print('auc_roc', auc_roc)"
   ]
  },
  {
   "cell_type": "markdown",
   "metadata": {},
   "source": [
    "## Вывод"
   ]
  },
  {
   "cell_type": "markdown",
   "metadata": {},
   "source": [
    "## Чек-лист готовности проекта"
   ]
  },
  {
   "cell_type": "markdown",
   "metadata": {},
   "source": [
    "Поставьте 'x' в выполненных пунктах. Далее нажмите Shift+Enter."
   ]
  },
  {
   "cell_type": "markdown",
   "metadata": {},
   "source": [
    "- [x]  Jupyter Notebook открыт\n",
    "- [x]  Весь код выполняется без ошибок\n",
    "- [x]  Ячейки с кодом расположены в порядке исполнения\n",
    "- [x]  Выполнен шаг 1: данные подготовлены\n",
    "- [x]  Выполнен шаг 2: задача исследована\n",
    "    - [x]  Исследован баланс классов\n",
    "    - [x]  Изучены модели без учёта дисбаланса\n",
    "    - [x]  Написаны выводы по результатам исследования\n",
    "- [x]  Выполнен шаг 3: учтён дисбаланс\n",
    "    - [x]  Применено несколько способов борьбы с дисбалансом\n",
    "    - [x]  Написаны выводы по результатам исследования\n",
    "- [x]  Выполнен шаг 4: проведено тестирование\n",
    "- [x]  Удалось достичь *F1*-меры не менее 0.59\n",
    "- [x]  Исследована метрика *AUC-ROC*"
   ]
  },
  {
   "cell_type": "code",
   "execution_count": null,
   "metadata": {},
   "outputs": [],
   "source": []
  }
 ],
 "metadata": {
  "ExecuteTimeLog": [
   {
    "duration": 1374,
    "start_time": "2022-11-12T02:43:15.403Z"
   },
   {
    "duration": 185,
    "start_time": "2022-11-12T02:48:38.884Z"
   },
   {
    "duration": 49,
    "start_time": "2022-11-12T02:48:45.004Z"
   },
   {
    "duration": 4,
    "start_time": "2022-11-12T02:49:47.588Z"
   },
   {
    "duration": 15,
    "start_time": "2022-11-12T02:50:18.222Z"
   },
   {
    "duration": 4,
    "start_time": "2022-11-12T02:50:28.341Z"
   },
   {
    "duration": 3,
    "start_time": "2022-11-12T02:50:47.886Z"
   },
   {
    "duration": 52,
    "start_time": "2022-11-12T02:51:11.517Z"
   },
   {
    "duration": 11,
    "start_time": "2022-11-12T02:51:26.911Z"
   },
   {
    "duration": 10,
    "start_time": "2022-11-12T02:51:46.551Z"
   },
   {
    "duration": 6,
    "start_time": "2022-11-12T02:52:05.768Z"
   },
   {
    "duration": 8,
    "start_time": "2022-11-12T02:52:21.246Z"
   },
   {
    "duration": 5,
    "start_time": "2022-11-12T02:52:25.856Z"
   },
   {
    "duration": 5,
    "start_time": "2022-11-12T02:52:38.551Z"
   },
   {
    "duration": 51,
    "start_time": "2022-11-15T09:43:10.885Z"
   },
   {
    "duration": 1730,
    "start_time": "2022-11-15T09:43:18.581Z"
   },
   {
    "duration": 179,
    "start_time": "2022-11-15T09:43:20.313Z"
   },
   {
    "duration": 16,
    "start_time": "2022-11-15T09:43:20.494Z"
   },
   {
    "duration": 42,
    "start_time": "2022-11-15T09:43:20.512Z"
   },
   {
    "duration": 5,
    "start_time": "2022-11-15T09:43:21.060Z"
   },
   {
    "duration": 7,
    "start_time": "2022-11-15T09:43:22.026Z"
   },
   {
    "duration": 6,
    "start_time": "2022-11-15T09:43:34.156Z"
   },
   {
    "duration": 9,
    "start_time": "2022-11-15T09:43:57.968Z"
   },
   {
    "duration": 6,
    "start_time": "2022-11-15T09:47:25.177Z"
   },
   {
    "duration": 120,
    "start_time": "2022-11-15T09:47:42.828Z"
   },
   {
    "duration": 12,
    "start_time": "2022-11-15T09:48:10.198Z"
   },
   {
    "duration": 21,
    "start_time": "2022-11-15T09:48:24.268Z"
   },
   {
    "duration": 8,
    "start_time": "2022-11-15T09:48:45.367Z"
   },
   {
    "duration": 97,
    "start_time": "2022-11-15T09:48:48.819Z"
   },
   {
    "duration": 9,
    "start_time": "2022-11-15T09:48:57.787Z"
   },
   {
    "duration": 6,
    "start_time": "2022-11-15T09:48:59.880Z"
   },
   {
    "duration": 96,
    "start_time": "2022-11-15T09:49:00.805Z"
   },
   {
    "duration": 12,
    "start_time": "2022-11-15T09:49:04.294Z"
   },
   {
    "duration": 14,
    "start_time": "2022-11-15T09:49:04.976Z"
   },
   {
    "duration": 5,
    "start_time": "2022-11-15T09:49:19.182Z"
   },
   {
    "duration": 45,
    "start_time": "2022-11-15T09:49:20.181Z"
   },
   {
    "duration": 12,
    "start_time": "2022-11-15T09:49:20.847Z"
   },
   {
    "duration": 13,
    "start_time": "2022-11-15T09:49:21.590Z"
   },
   {
    "duration": 4,
    "start_time": "2022-11-15T09:49:22.140Z"
   },
   {
    "duration": 7,
    "start_time": "2022-11-15T09:49:22.681Z"
   },
   {
    "duration": 5,
    "start_time": "2022-11-15T09:49:24.526Z"
   },
   {
    "duration": 7,
    "start_time": "2022-11-15T09:49:25.183Z"
   },
   {
    "duration": 8,
    "start_time": "2022-11-15T09:49:25.703Z"
   },
   {
    "duration": 7,
    "start_time": "2022-11-15T09:49:26.898Z"
   },
   {
    "duration": 105,
    "start_time": "2022-11-15T09:49:27.269Z"
   },
   {
    "duration": 11,
    "start_time": "2022-11-15T09:49:27.640Z"
   },
   {
    "duration": 24,
    "start_time": "2022-11-15T09:49:28.317Z"
   },
   {
    "duration": 3,
    "start_time": "2022-11-15T09:49:50.622Z"
   },
   {
    "duration": 7,
    "start_time": "2022-11-15T09:51:44.919Z"
   },
   {
    "duration": 3,
    "start_time": "2022-11-15T09:51:48.278Z"
   },
   {
    "duration": 105,
    "start_time": "2022-11-15T09:52:03.767Z"
   },
   {
    "duration": 4,
    "start_time": "2022-11-15T10:03:49.051Z"
   },
   {
    "duration": 7,
    "start_time": "2022-11-15T10:03:49.803Z"
   },
   {
    "duration": 43,
    "start_time": "2022-11-15T10:03:51.029Z"
   },
   {
    "duration": 10,
    "start_time": "2022-11-15T10:04:21.718Z"
   },
   {
    "duration": 4,
    "start_time": "2022-11-15T10:04:32.982Z"
   },
   {
    "duration": 47,
    "start_time": "2022-11-15T10:04:33.944Z"
   },
   {
    "duration": 13,
    "start_time": "2022-11-15T10:04:34.455Z"
   },
   {
    "duration": 11,
    "start_time": "2022-11-15T10:04:34.950Z"
   },
   {
    "duration": 5,
    "start_time": "2022-11-15T10:04:35.456Z"
   },
   {
    "duration": 6,
    "start_time": "2022-11-15T10:04:35.951Z"
   },
   {
    "duration": 5,
    "start_time": "2022-11-15T10:04:36.399Z"
   },
   {
    "duration": 7,
    "start_time": "2022-11-15T10:04:36.901Z"
   },
   {
    "duration": 8,
    "start_time": "2022-11-15T10:04:37.423Z"
   },
   {
    "duration": 5,
    "start_time": "2022-11-15T10:04:38.912Z"
   },
   {
    "duration": 106,
    "start_time": "2022-11-15T10:04:39.455Z"
   },
   {
    "duration": 13,
    "start_time": "2022-11-15T10:04:39.894Z"
   },
   {
    "duration": 18,
    "start_time": "2022-11-15T10:04:40.422Z"
   },
   {
    "duration": 9,
    "start_time": "2022-11-15T10:04:40.909Z"
   },
   {
    "duration": 3,
    "start_time": "2022-11-15T10:04:41.421Z"
   },
   {
    "duration": 9,
    "start_time": "2022-11-15T10:04:41.957Z"
   },
   {
    "duration": 38,
    "start_time": "2022-11-15T10:04:42.653Z"
   },
   {
    "duration": 9,
    "start_time": "2022-11-15T10:04:43.762Z"
   },
   {
    "duration": 33,
    "start_time": "2022-11-15T10:05:39.870Z"
   },
   {
    "duration": 17,
    "start_time": "2022-11-15T10:05:46.406Z"
   },
   {
    "duration": 11,
    "start_time": "2022-11-15T10:06:08.539Z"
   },
   {
    "duration": 13,
    "start_time": "2022-11-15T10:06:14.078Z"
   },
   {
    "duration": 15,
    "start_time": "2022-11-15T10:06:17.495Z"
   },
   {
    "duration": 3126,
    "start_time": "2022-11-15T10:06:44.086Z"
   },
   {
    "duration": 8,
    "start_time": "2022-11-15T10:07:10.460Z"
   },
   {
    "duration": 13,
    "start_time": "2022-11-15T10:07:36.616Z"
   },
   {
    "duration": 4,
    "start_time": "2022-11-15T10:07:46.224Z"
   },
   {
    "duration": 51,
    "start_time": "2022-11-15T10:07:46.905Z"
   },
   {
    "duration": 13,
    "start_time": "2022-11-15T10:07:47.160Z"
   },
   {
    "duration": 11,
    "start_time": "2022-11-15T10:07:47.370Z"
   },
   {
    "duration": 5,
    "start_time": "2022-11-15T10:07:47.595Z"
   },
   {
    "duration": 6,
    "start_time": "2022-11-15T10:07:47.791Z"
   },
   {
    "duration": 5,
    "start_time": "2022-11-15T10:07:48.000Z"
   },
   {
    "duration": 6,
    "start_time": "2022-11-15T10:07:48.188Z"
   },
   {
    "duration": 8,
    "start_time": "2022-11-15T10:07:48.383Z"
   },
   {
    "duration": 5,
    "start_time": "2022-11-15T10:07:48.969Z"
   },
   {
    "duration": 109,
    "start_time": "2022-11-15T10:07:49.176Z"
   },
   {
    "duration": 11,
    "start_time": "2022-11-15T10:07:49.376Z"
   },
   {
    "duration": 18,
    "start_time": "2022-11-15T10:07:49.671Z"
   },
   {
    "duration": 9,
    "start_time": "2022-11-15T10:07:49.949Z"
   },
   {
    "duration": 4,
    "start_time": "2022-11-15T10:07:50.172Z"
   },
   {
    "duration": 8,
    "start_time": "2022-11-15T10:07:50.423Z"
   },
   {
    "duration": 55,
    "start_time": "2022-11-15T10:07:50.655Z"
   },
   {
    "duration": 9,
    "start_time": "2022-11-15T10:07:51.279Z"
   },
   {
    "duration": 17,
    "start_time": "2022-11-15T10:07:51.599Z"
   },
   {
    "duration": 14,
    "start_time": "2022-11-15T10:07:53.103Z"
   },
   {
    "duration": 2606,
    "start_time": "2022-11-15T10:07:53.729Z"
   },
   {
    "duration": 0,
    "start_time": "2022-11-15T10:07:56.337Z"
   },
   {
    "duration": 0,
    "start_time": "2022-11-15T10:07:56.338Z"
   },
   {
    "duration": 2805,
    "start_time": "2022-11-15T10:08:00.057Z"
   },
   {
    "duration": 11,
    "start_time": "2022-11-15T10:08:04.975Z"
   },
   {
    "duration": 10,
    "start_time": "2022-11-15T10:08:20.710Z"
   },
   {
    "duration": 8,
    "start_time": "2022-11-15T10:08:47.345Z"
   },
   {
    "duration": 10,
    "start_time": "2022-11-15T10:09:00.180Z"
   },
   {
    "duration": 4,
    "start_time": "2022-11-15T10:09:25.343Z"
   },
   {
    "duration": 47,
    "start_time": "2022-11-15T10:09:25.713Z"
   },
   {
    "duration": 12,
    "start_time": "2022-11-15T10:09:25.910Z"
   },
   {
    "duration": 11,
    "start_time": "2022-11-15T10:09:26.081Z"
   },
   {
    "duration": 4,
    "start_time": "2022-11-15T10:09:26.290Z"
   },
   {
    "duration": 6,
    "start_time": "2022-11-15T10:09:26.463Z"
   },
   {
    "duration": 6,
    "start_time": "2022-11-15T10:09:26.657Z"
   },
   {
    "duration": 6,
    "start_time": "2022-11-15T10:09:26.840Z"
   },
   {
    "duration": 9,
    "start_time": "2022-11-15T10:09:27.038Z"
   },
   {
    "duration": 5,
    "start_time": "2022-11-15T10:09:27.610Z"
   },
   {
    "duration": 102,
    "start_time": "2022-11-15T10:09:27.783Z"
   },
   {
    "duration": 14,
    "start_time": "2022-11-15T10:09:27.994Z"
   },
   {
    "duration": 19,
    "start_time": "2022-11-15T10:09:28.185Z"
   },
   {
    "duration": 9,
    "start_time": "2022-11-15T10:09:28.386Z"
   },
   {
    "duration": 4,
    "start_time": "2022-11-15T10:09:28.575Z"
   },
   {
    "duration": 7,
    "start_time": "2022-11-15T10:09:28.768Z"
   },
   {
    "duration": 35,
    "start_time": "2022-11-15T10:09:28.968Z"
   },
   {
    "duration": 9,
    "start_time": "2022-11-15T10:09:29.368Z"
   },
   {
    "duration": 17,
    "start_time": "2022-11-15T10:09:29.569Z"
   },
   {
    "duration": 13,
    "start_time": "2022-11-15T10:09:29.784Z"
   },
   {
    "duration": 2972,
    "start_time": "2022-11-15T10:09:29.985Z"
   },
   {
    "duration": 0,
    "start_time": "2022-11-15T10:09:32.959Z"
   },
   {
    "duration": 0,
    "start_time": "2022-11-15T10:09:32.960Z"
   },
   {
    "duration": 0,
    "start_time": "2022-11-15T10:09:32.961Z"
   },
   {
    "duration": 0,
    "start_time": "2022-11-15T10:09:32.963Z"
   },
   {
    "duration": 10,
    "start_time": "2022-11-15T10:09:33.138Z"
   },
   {
    "duration": 4,
    "start_time": "2022-11-15T10:10:21.681Z"
   },
   {
    "duration": 49,
    "start_time": "2022-11-15T10:10:23.323Z"
   },
   {
    "duration": 14,
    "start_time": "2022-11-15T10:10:31.815Z"
   },
   {
    "duration": 13,
    "start_time": "2022-11-15T10:10:32.500Z"
   },
   {
    "duration": 5,
    "start_time": "2022-11-15T10:10:33.155Z"
   },
   {
    "duration": 6,
    "start_time": "2022-11-15T10:10:33.745Z"
   },
   {
    "duration": 5,
    "start_time": "2022-11-15T10:10:34.299Z"
   },
   {
    "duration": 6,
    "start_time": "2022-11-15T10:10:34.857Z"
   },
   {
    "duration": 12,
    "start_time": "2022-11-15T10:10:35.459Z"
   },
   {
    "duration": 5,
    "start_time": "2022-11-15T10:10:37.204Z"
   },
   {
    "duration": 117,
    "start_time": "2022-11-15T10:10:37.880Z"
   },
   {
    "duration": 11,
    "start_time": "2022-11-15T10:10:38.466Z"
   },
   {
    "duration": 20,
    "start_time": "2022-11-15T10:10:39.122Z"
   },
   {
    "duration": 8,
    "start_time": "2022-11-15T10:10:39.673Z"
   },
   {
    "duration": 3,
    "start_time": "2022-11-15T10:10:40.225Z"
   },
   {
    "duration": 7,
    "start_time": "2022-11-15T10:10:40.875Z"
   },
   {
    "duration": 35,
    "start_time": "2022-11-15T10:10:41.522Z"
   },
   {
    "duration": 10,
    "start_time": "2022-11-15T10:10:42.680Z"
   },
   {
    "duration": 15,
    "start_time": "2022-11-15T10:10:43.689Z"
   },
   {
    "duration": 4,
    "start_time": "2022-11-15T10:20:54.687Z"
   },
   {
    "duration": 9,
    "start_time": "2022-11-15T10:23:35.281Z"
   },
   {
    "duration": 4,
    "start_time": "2022-11-15T10:23:59.985Z"
   },
   {
    "duration": 47,
    "start_time": "2022-11-15T10:24:01.320Z"
   },
   {
    "duration": 14,
    "start_time": "2022-11-15T10:24:02.144Z"
   },
   {
    "duration": 9,
    "start_time": "2022-11-15T10:24:03.618Z"
   },
   {
    "duration": 11,
    "start_time": "2022-11-15T10:25:07.961Z"
   },
   {
    "duration": 10,
    "start_time": "2022-11-15T10:25:14.800Z"
   },
   {
    "duration": 15,
    "start_time": "2022-11-15T10:25:22.643Z"
   },
   {
    "duration": 11,
    "start_time": "2022-11-15T10:26:00.969Z"
   },
   {
    "duration": 57,
    "start_time": "2022-11-15T10:26:45.043Z"
   },
   {
    "duration": 13,
    "start_time": "2022-11-15T10:26:52.666Z"
   },
   {
    "duration": 19,
    "start_time": "2022-11-15T10:26:56.402Z"
   },
   {
    "duration": 14,
    "start_time": "2022-11-15T10:27:18.341Z"
   },
   {
    "duration": 27,
    "start_time": "2022-11-15T10:27:22.251Z"
   },
   {
    "duration": 133,
    "start_time": "2022-11-15T10:27:55.394Z"
   },
   {
    "duration": 19,
    "start_time": "2022-11-15T10:28:33.715Z"
   },
   {
    "duration": 253,
    "start_time": "2022-11-15T10:29:28.188Z"
   },
   {
    "duration": 1078,
    "start_time": "2022-11-15T10:30:53.014Z"
   },
   {
    "duration": 61,
    "start_time": "2022-11-15T10:31:06.541Z"
   },
   {
    "duration": 90,
    "start_time": "2022-11-15T10:31:54.566Z"
   },
   {
    "duration": 9156,
    "start_time": "2022-11-15T10:32:15.597Z"
   },
   {
    "duration": 12420,
    "start_time": "2022-11-15T10:33:02.565Z"
   },
   {
    "duration": 12110,
    "start_time": "2022-11-15T10:33:45.542Z"
   },
   {
    "duration": 16446,
    "start_time": "2022-11-15T10:34:12.941Z"
   },
   {
    "duration": 16474,
    "start_time": "2022-11-15T10:35:38.716Z"
   },
   {
    "duration": 7253,
    "start_time": "2022-11-15T10:36:24.182Z"
   },
   {
    "duration": 45,
    "start_time": "2022-11-15T10:37:04.471Z"
   },
   {
    "duration": 28888,
    "start_time": "2022-11-15T10:38:25.449Z"
   },
   {
    "duration": 2902,
    "start_time": "2022-11-15T10:38:54.339Z"
   },
   {
    "duration": 0,
    "start_time": "2022-11-15T10:40:56.831Z"
   },
   {
    "duration": 0,
    "start_time": "2022-11-15T10:40:56.833Z"
   },
   {
    "duration": 8399,
    "start_time": "2022-11-15T10:41:07.993Z"
   },
   {
    "duration": 63247,
    "start_time": "2022-11-15T10:41:48.074Z"
   },
   {
    "duration": 7630,
    "start_time": "2022-11-15T10:43:33.949Z"
   },
   {
    "duration": 3324,
    "start_time": "2022-11-15T10:44:38.711Z"
   },
   {
    "duration": 120,
    "start_time": "2022-11-15T10:45:16.637Z"
   },
   {
    "duration": 27,
    "start_time": "2022-11-15T10:46:24.174Z"
   },
   {
    "duration": 20,
    "start_time": "2022-11-15T10:46:41.591Z"
   },
   {
    "duration": 44,
    "start_time": "2022-11-15T10:46:42.277Z"
   },
   {
    "duration": 21,
    "start_time": "2022-11-15T10:46:45.365Z"
   },
   {
    "duration": 30,
    "start_time": "2022-11-15T10:46:56.610Z"
   },
   {
    "duration": 43,
    "start_time": "2022-11-15T10:47:03.301Z"
   },
   {
    "duration": 215,
    "start_time": "2022-11-15T10:47:22.315Z"
   },
   {
    "duration": 51,
    "start_time": "2022-11-15T10:47:50.137Z"
   },
   {
    "duration": 3,
    "start_time": "2022-11-15T10:52:56.873Z"
   },
   {
    "duration": 45,
    "start_time": "2022-11-15T10:52:59.496Z"
   },
   {
    "duration": 30,
    "start_time": "2022-11-15T10:53:58.713Z"
   },
   {
    "duration": 15,
    "start_time": "2022-11-15T10:55:03.617Z"
   },
   {
    "duration": 26,
    "start_time": "2022-11-15T10:55:04.377Z"
   },
   {
    "duration": 140,
    "start_time": "2022-11-15T10:55:07.066Z"
   },
   {
    "duration": 19,
    "start_time": "2022-11-15T10:56:14.283Z"
   },
   {
    "duration": 191,
    "start_time": "2022-11-15T10:57:18.181Z"
   },
   {
    "duration": 13,
    "start_time": "2022-11-15T10:59:38.081Z"
   },
   {
    "duration": 4,
    "start_time": "2022-11-15T10:59:42.817Z"
   },
   {
    "duration": 44,
    "start_time": "2022-11-15T10:59:44.011Z"
   },
   {
    "duration": 13,
    "start_time": "2022-11-15T10:59:44.847Z"
   },
   {
    "duration": 14,
    "start_time": "2022-11-15T10:59:46.325Z"
   },
   {
    "duration": 15,
    "start_time": "2022-11-15T10:59:56.662Z"
   },
   {
    "duration": 19,
    "start_time": "2022-11-15T10:59:57.750Z"
   },
   {
    "duration": 136,
    "start_time": "2022-11-15T10:59:58.579Z"
   },
   {
    "duration": 18,
    "start_time": "2022-11-15T11:00:00.589Z"
   },
   {
    "duration": 17,
    "start_time": "2022-11-15T11:00:05.860Z"
   },
   {
    "duration": 14,
    "start_time": "2022-11-15T11:06:56.587Z"
   },
   {
    "duration": 40,
    "start_time": "2022-11-15T11:10:04.315Z"
   },
   {
    "duration": 32,
    "start_time": "2022-11-15T11:11:37.613Z"
   },
   {
    "duration": 16,
    "start_time": "2022-11-15T11:12:41.003Z"
   },
   {
    "duration": 7,
    "start_time": "2022-11-15T11:12:55.766Z"
   },
   {
    "duration": 573,
    "start_time": "2022-11-15T11:18:06.823Z"
   },
   {
    "duration": 5974,
    "start_time": "2022-11-15T11:18:14.367Z"
   },
   {
    "duration": 8011,
    "start_time": "2022-11-15T11:19:20.748Z"
   },
   {
    "duration": 62,
    "start_time": "2022-11-15T11:20:25.592Z"
   },
   {
    "duration": 162,
    "start_time": "2022-11-15T11:21:02.089Z"
   },
   {
    "duration": 51,
    "start_time": "2022-11-15T11:21:45.298Z"
   },
   {
    "duration": 22,
    "start_time": "2022-11-15T11:22:44.747Z"
   },
   {
    "duration": 1012,
    "start_time": "2022-11-15T11:28:35.559Z"
   },
   {
    "duration": 61,
    "start_time": "2022-11-15T11:28:49.596Z"
   },
   {
    "duration": 54,
    "start_time": "2022-11-15T11:29:01.373Z"
   },
   {
    "duration": 2789,
    "start_time": "2022-11-15T11:29:07.700Z"
   },
   {
    "duration": 2744,
    "start_time": "2022-11-15T11:29:18.840Z"
   },
   {
    "duration": 32,
    "start_time": "2022-11-15T11:32:29.918Z"
   },
   {
    "duration": 11,
    "start_time": "2022-11-15T11:57:26.773Z"
   },
   {
    "duration": 48,
    "start_time": "2022-11-15T11:57:37.153Z"
   },
   {
    "duration": 188,
    "start_time": "2022-11-15T11:57:40.451Z"
   },
   {
    "duration": 22,
    "start_time": "2022-11-15T12:37:08.929Z"
   },
   {
    "duration": 18,
    "start_time": "2022-11-15T12:37:08.953Z"
   },
   {
    "duration": 14,
    "start_time": "2022-11-15T12:37:08.973Z"
   },
   {
    "duration": 9,
    "start_time": "2022-11-15T12:37:08.989Z"
   },
   {
    "duration": 566,
    "start_time": "2022-11-15T12:37:09.000Z"
   },
   {
    "duration": 6031,
    "start_time": "2022-11-15T12:37:09.568Z"
   },
   {
    "duration": 7823,
    "start_time": "2022-11-15T12:37:15.600Z"
   },
   {
    "duration": 116,
    "start_time": "2022-11-15T12:37:23.425Z"
   },
   {
    "duration": 117,
    "start_time": "2022-11-15T12:37:23.634Z"
   },
   {
    "duration": 186,
    "start_time": "2022-11-15T12:37:23.756Z"
   },
   {
    "duration": 1137,
    "start_time": "2022-11-15T12:37:23.944Z"
   },
   {
    "duration": 2657,
    "start_time": "2022-11-15T12:37:25.083Z"
   },
   {
    "duration": 2300,
    "start_time": "2022-11-15T12:37:27.742Z"
   },
   {
    "duration": 12,
    "start_time": "2022-11-15T12:37:30.044Z"
   },
   {
    "duration": 184,
    "start_time": "2022-11-15T12:37:30.058Z"
   },
   {
    "duration": 39,
    "start_time": "2022-11-15T12:37:30.244Z"
   },
   {
    "duration": 53,
    "start_time": "2022-11-15T12:37:30.285Z"
   },
   {
    "duration": 272,
    "start_time": "2022-11-15T12:37:30.340Z"
   },
   {
    "duration": 3,
    "start_time": "2022-11-15T12:37:30.616Z"
   },
   {
    "duration": 63,
    "start_time": "2022-11-15T12:37:30.621Z"
   },
   {
    "duration": 12,
    "start_time": "2022-11-15T12:37:30.685Z"
   },
   {
    "duration": 53,
    "start_time": "2022-11-15T12:37:30.698Z"
   },
   {
    "duration": 58,
    "start_time": "2022-11-15T12:37:30.753Z"
   },
   {
    "duration": 70,
    "start_time": "2022-11-15T12:37:30.813Z"
   },
   {
    "duration": 137,
    "start_time": "2022-11-15T12:37:30.885Z"
   },
   {
    "duration": 22,
    "start_time": "2022-11-15T12:37:31.024Z"
   },
   {
    "duration": 1497,
    "start_time": "2022-11-15T14:56:07.020Z"
   },
   {
    "duration": 176,
    "start_time": "2022-11-15T14:56:09.270Z"
   },
   {
    "duration": 15,
    "start_time": "2022-11-15T14:56:10.440Z"
   },
   {
    "duration": 13,
    "start_time": "2022-11-15T14:56:11.857Z"
   },
   {
    "duration": 15,
    "start_time": "2022-11-15T14:56:13.554Z"
   },
   {
    "duration": 20,
    "start_time": "2022-11-15T14:56:14.224Z"
   },
   {
    "duration": 152,
    "start_time": "2022-11-15T14:56:14.926Z"
   },
   {
    "duration": 21,
    "start_time": "2022-11-15T14:56:17.215Z"
   },
   {
    "duration": 22,
    "start_time": "2022-11-15T14:56:18.728Z"
   },
   {
    "duration": 20,
    "start_time": "2022-11-15T14:56:21.429Z"
   },
   {
    "duration": 9,
    "start_time": "2022-11-15T14:56:22.169Z"
   },
   {
    "duration": 517,
    "start_time": "2022-11-15T14:56:25.749Z"
   },
   {
    "duration": 5860,
    "start_time": "2022-11-15T14:57:03.504Z"
   },
   {
    "duration": 7758,
    "start_time": "2022-11-15T14:57:33.522Z"
   },
   {
    "duration": 70,
    "start_time": "2022-11-15T14:58:05.771Z"
   },
   {
    "duration": 69,
    "start_time": "2022-11-15T14:58:48.666Z"
   },
   {
    "duration": 23,
    "start_time": "2022-11-15T14:59:05.370Z"
   },
   {
    "duration": 979,
    "start_time": "2022-11-15T14:59:17.275Z"
   },
   {
    "duration": 2772,
    "start_time": "2022-11-15T15:00:35.027Z"
   },
   {
    "duration": 2394,
    "start_time": "2022-11-15T15:00:47.749Z"
   },
   {
    "duration": 96,
    "start_time": "2022-11-15T15:05:05.245Z"
   },
   {
    "duration": 7,
    "start_time": "2022-11-15T15:05:13.037Z"
   },
   {
    "duration": 37,
    "start_time": "2022-11-15T15:05:14.196Z"
   },
   {
    "duration": 13,
    "start_time": "2022-11-15T15:05:15.124Z"
   },
   {
    "duration": 169,
    "start_time": "2022-11-15T15:05:16.244Z"
   },
   {
    "duration": 3,
    "start_time": "2022-11-15T15:19:22.222Z"
   },
   {
    "duration": 46,
    "start_time": "2022-11-15T15:19:24.158Z"
   },
   {
    "duration": 14,
    "start_time": "2022-11-15T15:19:25.152Z"
   },
   {
    "duration": 14,
    "start_time": "2022-11-15T15:19:28.941Z"
   },
   {
    "duration": 14,
    "start_time": "2022-11-15T15:19:32.006Z"
   },
   {
    "duration": 18,
    "start_time": "2022-11-15T15:19:33.489Z"
   },
   {
    "duration": 121,
    "start_time": "2022-11-15T15:19:34.701Z"
   },
   {
    "duration": 18,
    "start_time": "2022-11-15T15:19:36.597Z"
   },
   {
    "duration": 17,
    "start_time": "2022-11-15T15:19:38.191Z"
   },
   {
    "duration": 15,
    "start_time": "2022-11-15T15:19:47.454Z"
   },
   {
    "duration": 6,
    "start_time": "2022-11-15T15:19:48.093Z"
   },
   {
    "duration": 545,
    "start_time": "2022-11-15T15:19:50.357Z"
   },
   {
    "duration": 6008,
    "start_time": "2022-11-15T15:21:15.279Z"
   },
   {
    "duration": 485,
    "start_time": "2022-11-15T15:21:38.802Z"
   },
   {
    "duration": 5923,
    "start_time": "2022-11-15T15:22:22.950Z"
   },
   {
    "duration": 7771,
    "start_time": "2022-11-15T15:22:44.314Z"
   },
   {
    "duration": 73,
    "start_time": "2022-11-15T15:23:08.568Z"
   },
   {
    "duration": 51,
    "start_time": "2022-11-15T15:23:25.884Z"
   },
   {
    "duration": 19,
    "start_time": "2022-11-15T15:23:28.845Z"
   },
   {
    "duration": 53,
    "start_time": "2022-11-15T15:26:43.890Z"
   },
   {
    "duration": 19,
    "start_time": "2022-11-15T15:26:46.501Z"
   },
   {
    "duration": 986,
    "start_time": "2022-11-15T15:26:55.841Z"
   },
   {
    "duration": 980,
    "start_time": "2022-11-15T15:27:03.482Z"
   },
   {
    "duration": 2795,
    "start_time": "2022-11-15T15:27:23.959Z"
   },
   {
    "duration": 2244,
    "start_time": "2022-11-15T15:28:09.547Z"
   },
   {
    "duration": 18,
    "start_time": "2022-11-15T15:28:28.674Z"
   },
   {
    "duration": 8,
    "start_time": "2022-11-15T15:28:37.498Z"
   },
   {
    "duration": 41,
    "start_time": "2022-11-15T15:28:37.962Z"
   },
   {
    "duration": 13,
    "start_time": "2022-11-15T15:28:38.441Z"
   },
   {
    "duration": 236,
    "start_time": "2022-11-15T15:28:38.922Z"
   },
   {
    "duration": 121,
    "start_time": "2022-11-15T15:35:16.215Z"
   },
   {
    "duration": 190,
    "start_time": "2022-11-15T15:35:29.544Z"
   },
   {
    "duration": 107,
    "start_time": "2022-11-15T15:35:35.937Z"
   },
   {
    "duration": 48,
    "start_time": "2022-11-15T15:36:05.992Z"
   },
   {
    "duration": 18,
    "start_time": "2022-11-15T15:36:17.222Z"
   },
   {
    "duration": 1012,
    "start_time": "2022-11-15T15:36:20.294Z"
   },
   {
    "duration": 2980,
    "start_time": "2022-11-15T15:36:34.527Z"
   },
   {
    "duration": 2302,
    "start_time": "2022-11-15T15:36:37.509Z"
   },
   {
    "duration": 18,
    "start_time": "2022-11-15T15:36:40.158Z"
   },
   {
    "duration": 11,
    "start_time": "2022-11-15T15:36:44.039Z"
   },
   {
    "duration": 10,
    "start_time": "2022-11-15T15:37:02.117Z"
   },
   {
    "duration": 37,
    "start_time": "2022-11-15T15:37:03.377Z"
   },
   {
    "duration": 11,
    "start_time": "2022-11-15T15:37:04.303Z"
   },
   {
    "duration": 179,
    "start_time": "2022-11-15T15:37:05.744Z"
   },
   {
    "duration": 1636,
    "start_time": "2022-11-16T03:03:02.405Z"
   },
   {
    "duration": 190,
    "start_time": "2022-11-16T03:03:04.043Z"
   },
   {
    "duration": 17,
    "start_time": "2022-11-16T03:03:04.235Z"
   },
   {
    "duration": 20,
    "start_time": "2022-11-16T03:03:04.253Z"
   },
   {
    "duration": 16,
    "start_time": "2022-11-16T03:03:04.275Z"
   },
   {
    "duration": 31,
    "start_time": "2022-11-16T03:03:04.292Z"
   },
   {
    "duration": 156,
    "start_time": "2022-11-16T03:03:04.325Z"
   },
   {
    "duration": 31,
    "start_time": "2022-11-16T03:03:04.482Z"
   },
   {
    "duration": 17,
    "start_time": "2022-11-16T03:03:04.514Z"
   },
   {
    "duration": 15,
    "start_time": "2022-11-16T03:03:04.533Z"
   },
   {
    "duration": 9,
    "start_time": "2022-11-16T03:03:04.550Z"
   },
   {
    "duration": 1066,
    "start_time": "2022-11-16T03:03:04.561Z"
   },
   {
    "duration": 6382,
    "start_time": "2022-11-16T03:03:05.629Z"
   },
   {
    "duration": 7688,
    "start_time": "2022-11-16T03:03:12.014Z"
   },
   {
    "duration": 109,
    "start_time": "2022-11-16T03:03:19.704Z"
   },
   {
    "duration": 197,
    "start_time": "2022-11-16T03:03:19.816Z"
   },
   {
    "duration": 111,
    "start_time": "2022-11-16T03:03:20.016Z"
   },
   {
    "duration": 1135,
    "start_time": "2022-11-16T03:03:20.129Z"
   },
   {
    "duration": 2779,
    "start_time": "2022-11-16T03:03:21.265Z"
   },
   {
    "duration": 2361,
    "start_time": "2022-11-16T03:03:24.045Z"
   },
   {
    "duration": 13,
    "start_time": "2022-11-16T03:03:26.413Z"
   },
   {
    "duration": 185,
    "start_time": "2022-11-16T03:03:26.428Z"
   },
   {
    "duration": 37,
    "start_time": "2022-11-16T03:03:26.614Z"
   },
   {
    "duration": 61,
    "start_time": "2022-11-16T03:03:26.653Z"
   },
   {
    "duration": 272,
    "start_time": "2022-11-16T03:03:26.715Z"
   },
   {
    "duration": 49,
    "start_time": "2022-11-16T05:44:18.119Z"
   },
   {
    "duration": 7,
    "start_time": "2022-11-16T05:44:21.224Z"
   },
   {
    "duration": 1791,
    "start_time": "2022-11-16T05:45:01.573Z"
   },
   {
    "duration": 182,
    "start_time": "2022-11-16T05:45:03.366Z"
   },
   {
    "duration": 18,
    "start_time": "2022-11-16T05:45:04.254Z"
   },
   {
    "duration": 13,
    "start_time": "2022-11-16T05:45:05.845Z"
   },
   {
    "duration": 13,
    "start_time": "2022-11-16T05:45:07.533Z"
   },
   {
    "duration": 21,
    "start_time": "2022-11-16T05:45:08.190Z"
   },
   {
    "duration": 145,
    "start_time": "2022-11-16T05:45:09.438Z"
   },
   {
    "duration": 20,
    "start_time": "2022-11-16T05:45:10.919Z"
   },
   {
    "duration": 18,
    "start_time": "2022-11-16T05:45:13.014Z"
   },
   {
    "duration": 83,
    "start_time": "2022-11-16T05:45:17.438Z"
   },
   {
    "duration": 9,
    "start_time": "2022-11-16T05:45:18.553Z"
   },
   {
    "duration": 9,
    "start_time": "2022-11-16T05:45:56.856Z"
   },
   {
    "duration": 10,
    "start_time": "2022-11-16T05:46:08.349Z"
   },
   {
    "duration": 12,
    "start_time": "2022-11-16T05:46:11.270Z"
   },
   {
    "duration": 9,
    "start_time": "2022-11-16T05:46:38.958Z"
   },
   {
    "duration": 8,
    "start_time": "2022-11-16T05:49:50.386Z"
   },
   {
    "duration": 10,
    "start_time": "2022-11-16T05:49:51.087Z"
   },
   {
    "duration": 10,
    "start_time": "2022-11-16T05:54:06.858Z"
   },
   {
    "duration": 5,
    "start_time": "2022-11-16T05:54:49.899Z"
   },
   {
    "duration": 51,
    "start_time": "2022-11-16T05:54:51.259Z"
   },
   {
    "duration": 14,
    "start_time": "2022-11-16T05:54:51.847Z"
   },
   {
    "duration": 13,
    "start_time": "2022-11-16T05:54:53.465Z"
   },
   {
    "duration": 14,
    "start_time": "2022-11-16T05:54:55.218Z"
   },
   {
    "duration": 23,
    "start_time": "2022-11-16T05:54:55.905Z"
   },
   {
    "duration": 150,
    "start_time": "2022-11-16T05:54:57.098Z"
   },
   {
    "duration": 20,
    "start_time": "2022-11-16T05:54:58.594Z"
   },
   {
    "duration": 18,
    "start_time": "2022-11-16T05:55:00.331Z"
   },
   {
    "duration": 10,
    "start_time": "2022-11-16T05:55:04.705Z"
   },
   {
    "duration": 6,
    "start_time": "2022-11-16T05:55:08.842Z"
   },
   {
    "duration": 12,
    "start_time": "2022-11-16T05:55:47.195Z"
   },
   {
    "duration": 4,
    "start_time": "2022-11-16T05:55:56.921Z"
   },
   {
    "duration": 46,
    "start_time": "2022-11-16T05:55:57.615Z"
   },
   {
    "duration": 11,
    "start_time": "2022-11-16T05:55:57.819Z"
   },
   {
    "duration": 13,
    "start_time": "2022-11-16T05:55:59.067Z"
   },
   {
    "duration": 13,
    "start_time": "2022-11-16T05:56:00.619Z"
   },
   {
    "duration": 23,
    "start_time": "2022-11-16T05:56:01.298Z"
   },
   {
    "duration": 186,
    "start_time": "2022-11-16T05:56:02.555Z"
   },
   {
    "duration": 21,
    "start_time": "2022-11-16T05:56:04.058Z"
   },
   {
    "duration": 28,
    "start_time": "2022-11-16T05:56:05.955Z"
   },
   {
    "duration": 14,
    "start_time": "2022-11-16T05:56:10.685Z"
   },
   {
    "duration": 20,
    "start_time": "2022-11-16T05:57:41.428Z"
   },
   {
    "duration": 11,
    "start_time": "2022-11-16T05:57:43.844Z"
   },
   {
    "duration": 7,
    "start_time": "2022-11-16T05:58:09.179Z"
   },
   {
    "duration": 21,
    "start_time": "2022-11-16T05:58:28.454Z"
   },
   {
    "duration": 4,
    "start_time": "2022-11-16T05:58:40.779Z"
   },
   {
    "duration": 7,
    "start_time": "2022-11-16T05:58:43.763Z"
   },
   {
    "duration": 4,
    "start_time": "2022-11-16T05:59:55.260Z"
   },
   {
    "duration": 3,
    "start_time": "2022-11-16T06:00:07.790Z"
   },
   {
    "duration": 9,
    "start_time": "2022-11-16T06:00:20.699Z"
   },
   {
    "duration": 9,
    "start_time": "2022-11-16T06:01:13.232Z"
   },
   {
    "duration": 2,
    "start_time": "2022-11-16T06:01:15.422Z"
   },
   {
    "duration": 3,
    "start_time": "2022-11-16T06:01:31.018Z"
   },
   {
    "duration": 11,
    "start_time": "2022-11-16T06:01:40.790Z"
   },
   {
    "duration": 23,
    "start_time": "2022-11-16T07:09:10.423Z"
   },
   {
    "duration": 11677,
    "start_time": "2022-11-16T07:17:15.050Z"
   },
   {
    "duration": 71,
    "start_time": "2022-11-16T07:31:21.838Z"
   },
   {
    "duration": 228504,
    "start_time": "2022-11-16T07:31:46.746Z"
   },
   {
    "duration": 0,
    "start_time": "2022-11-16T07:53:43.859Z"
   },
   {
    "duration": 0,
    "start_time": "2022-11-16T07:53:43.860Z"
   },
   {
    "duration": 5,
    "start_time": "2022-11-16T07:54:10.593Z"
   },
   {
    "duration": 4,
    "start_time": "2022-11-16T07:54:43.832Z"
   },
   {
    "duration": 4,
    "start_time": "2022-11-16T07:55:20.059Z"
   },
   {
    "duration": 3,
    "start_time": "2022-11-16T07:55:31.138Z"
   },
   {
    "duration": 4,
    "start_time": "2022-11-16T07:55:37.746Z"
   },
   {
    "duration": 4,
    "start_time": "2022-11-16T07:56:05.185Z"
   },
   {
    "duration": 5,
    "start_time": "2022-11-16T08:43:45.125Z"
   },
   {
    "duration": 53,
    "start_time": "2022-11-16T08:43:46.602Z"
   },
   {
    "duration": 13,
    "start_time": "2022-11-16T08:43:47.108Z"
   },
   {
    "duration": 14,
    "start_time": "2022-11-16T08:43:48.612Z"
   },
   {
    "duration": 15,
    "start_time": "2022-11-16T08:43:50.155Z"
   },
   {
    "duration": 28,
    "start_time": "2022-11-16T08:43:50.621Z"
   },
   {
    "duration": 140,
    "start_time": "2022-11-16T08:43:51.763Z"
   },
   {
    "duration": 21,
    "start_time": "2022-11-16T08:43:52.850Z"
   },
   {
    "duration": 17,
    "start_time": "2022-11-16T08:43:54.379Z"
   },
   {
    "duration": 21,
    "start_time": "2022-11-16T08:43:58.075Z"
   },
   {
    "duration": 13,
    "start_time": "2022-11-16T08:43:58.602Z"
   },
   {
    "duration": 5,
    "start_time": "2022-11-16T08:43:59.179Z"
   },
   {
    "duration": 6,
    "start_time": "2022-11-16T08:43:59.756Z"
   },
   {
    "duration": 10,
    "start_time": "2022-11-16T08:44:00.996Z"
   },
   {
    "duration": 3,
    "start_time": "2022-11-16T08:44:01.562Z"
   },
   {
    "duration": 3,
    "start_time": "2022-11-16T08:44:02.132Z"
   },
   {
    "duration": 11,
    "start_time": "2022-11-16T08:44:02.731Z"
   },
   {
    "duration": 3,
    "start_time": "2022-11-16T08:44:03.316Z"
   },
   {
    "duration": 33,
    "start_time": "2022-11-16T08:44:03.851Z"
   },
   {
    "duration": 14,
    "start_time": "2022-11-16T08:44:06.641Z"
   },
   {
    "duration": 531,
    "start_time": "2022-11-16T08:44:15.900Z"
   },
   {
    "duration": 540,
    "start_time": "2022-11-16T08:44:35.725Z"
   },
   {
    "duration": 0,
    "start_time": "2022-11-16T08:46:29.091Z"
   },
   {
    "duration": 0,
    "start_time": "2022-11-16T08:46:29.092Z"
   },
   {
    "duration": 70,
    "start_time": "2022-11-16T08:46:32.698Z"
   },
   {
    "duration": 19,
    "start_time": "2022-11-16T08:46:33.350Z"
   },
   {
    "duration": 19,
    "start_time": "2022-11-16T08:46:35.014Z"
   },
   {
    "duration": 14,
    "start_time": "2022-11-16T08:46:36.261Z"
   },
   {
    "duration": 25,
    "start_time": "2022-11-16T08:46:36.545Z"
   },
   {
    "duration": 142,
    "start_time": "2022-11-16T08:46:37.048Z"
   },
   {
    "duration": 24,
    "start_time": "2022-11-16T08:46:37.526Z"
   },
   {
    "duration": 25,
    "start_time": "2022-11-16T08:46:38.427Z"
   },
   {
    "duration": 18,
    "start_time": "2022-11-16T08:46:41.308Z"
   },
   {
    "duration": 11,
    "start_time": "2022-11-16T08:46:42.248Z"
   },
   {
    "duration": 5,
    "start_time": "2022-11-16T08:46:42.670Z"
   },
   {
    "duration": 7,
    "start_time": "2022-11-16T08:46:43.118Z"
   },
   {
    "duration": 15,
    "start_time": "2022-11-16T08:46:44.019Z"
   },
   {
    "duration": 7,
    "start_time": "2022-11-16T08:46:44.640Z"
   },
   {
    "duration": 3,
    "start_time": "2022-11-16T08:46:45.148Z"
   },
   {
    "duration": 8,
    "start_time": "2022-11-16T08:46:45.649Z"
   },
   {
    "duration": 3,
    "start_time": "2022-11-16T08:46:46.213Z"
   },
   {
    "duration": 23,
    "start_time": "2022-11-16T08:46:46.902Z"
   },
   {
    "duration": 12,
    "start_time": "2022-11-16T08:46:47.613Z"
   },
   {
    "duration": 526,
    "start_time": "2022-11-16T08:46:56.152Z"
   },
   {
    "duration": 18,
    "start_time": "2022-11-16T08:47:13.772Z"
   },
   {
    "duration": 106028,
    "start_time": "2022-11-16T08:47:23.767Z"
   },
   {
    "duration": 12,
    "start_time": "2022-11-16T08:55:59.634Z"
   },
   {
    "duration": 11,
    "start_time": "2022-11-16T08:56:09.528Z"
   },
   {
    "duration": 15,
    "start_time": "2022-11-16T08:56:24.645Z"
   },
   {
    "duration": 14,
    "start_time": "2022-11-16T08:58:47.217Z"
   },
   {
    "duration": 7,
    "start_time": "2022-11-16T08:59:14.917Z"
   },
   {
    "duration": 4,
    "start_time": "2022-11-16T08:59:50.667Z"
   },
   {
    "duration": 59,
    "start_time": "2022-11-16T08:59:52.761Z"
   },
   {
    "duration": 14,
    "start_time": "2022-11-16T08:59:53.313Z"
   },
   {
    "duration": 23,
    "start_time": "2022-11-16T08:59:54.929Z"
   },
   {
    "duration": 14,
    "start_time": "2022-11-16T08:59:56.618Z"
   },
   {
    "duration": 21,
    "start_time": "2022-11-16T08:59:57.170Z"
   },
   {
    "duration": 154,
    "start_time": "2022-11-16T08:59:58.228Z"
   },
   {
    "duration": 20,
    "start_time": "2022-11-16T08:59:59.352Z"
   },
   {
    "duration": 18,
    "start_time": "2022-11-16T09:00:01.009Z"
   },
   {
    "duration": 13,
    "start_time": "2022-11-16T09:00:05.554Z"
   },
   {
    "duration": 21,
    "start_time": "2022-11-16T09:00:07.531Z"
   },
   {
    "duration": 21,
    "start_time": "2022-11-16T09:00:08.730Z"
   },
   {
    "duration": 7,
    "start_time": "2022-11-16T09:00:10.350Z"
   },
   {
    "duration": 14,
    "start_time": "2022-11-16T09:01:27.700Z"
   },
   {
    "duration": 27,
    "start_time": "2022-11-16T09:02:11.342Z"
   },
   {
    "duration": 23,
    "start_time": "2022-11-16T09:22:34.710Z"
   },
   {
    "duration": 9,
    "start_time": "2022-11-16T09:22:36.249Z"
   },
   {
    "duration": 13,
    "start_time": "2022-11-16T09:24:50.279Z"
   },
   {
    "duration": 16,
    "start_time": "2022-11-16T09:24:57.928Z"
   },
   {
    "duration": 12,
    "start_time": "2022-11-16T09:25:03.118Z"
   },
   {
    "duration": 103,
    "start_time": "2022-11-16T09:25:03.736Z"
   },
   {
    "duration": 6,
    "start_time": "2022-11-16T09:25:19.155Z"
   },
   {
    "duration": 23,
    "start_time": "2022-11-16T09:26:51.765Z"
   },
   {
    "duration": 24,
    "start_time": "2022-11-16T09:27:20.906Z"
   },
   {
    "duration": 66,
    "start_time": "2022-11-16T09:27:44.436Z"
   },
   {
    "duration": 6,
    "start_time": "2022-11-16T09:28:10.153Z"
   },
   {
    "duration": 49,
    "start_time": "2022-11-16T09:28:10.954Z"
   },
   {
    "duration": 12,
    "start_time": "2022-11-16T09:28:11.264Z"
   },
   {
    "duration": 13,
    "start_time": "2022-11-16T09:28:11.993Z"
   },
   {
    "duration": 12,
    "start_time": "2022-11-16T09:28:12.777Z"
   },
   {
    "duration": 22,
    "start_time": "2022-11-16T09:28:13.057Z"
   },
   {
    "duration": 134,
    "start_time": "2022-11-16T09:28:13.550Z"
   },
   {
    "duration": 20,
    "start_time": "2022-11-16T09:28:14.059Z"
   },
   {
    "duration": 29,
    "start_time": "2022-11-16T09:28:14.916Z"
   },
   {
    "duration": 11,
    "start_time": "2022-11-16T09:28:17.297Z"
   },
   {
    "duration": 21,
    "start_time": "2022-11-16T09:28:17.832Z"
   },
   {
    "duration": 26,
    "start_time": "2022-11-16T09:28:19.027Z"
   },
   {
    "duration": 4,
    "start_time": "2022-11-16T09:28:20.505Z"
   },
   {
    "duration": 60,
    "start_time": "2022-11-16T09:28:21.217Z"
   },
   {
    "duration": 8,
    "start_time": "2022-11-16T09:28:22.490Z"
   },
   {
    "duration": 33,
    "start_time": "2022-11-16T09:28:47.012Z"
   },
   {
    "duration": 23,
    "start_time": "2022-11-16T09:31:43.150Z"
   },
   {
    "duration": 23,
    "start_time": "2022-11-16T09:32:14.068Z"
   },
   {
    "duration": 9,
    "start_time": "2022-11-16T09:32:16.142Z"
   },
   {
    "duration": 33,
    "start_time": "2022-11-16T09:32:18.364Z"
   },
   {
    "duration": 5,
    "start_time": "2022-11-16T09:32:24.021Z"
   },
   {
    "duration": 48,
    "start_time": "2022-11-16T09:32:25.470Z"
   },
   {
    "duration": 19,
    "start_time": "2022-11-16T09:32:25.917Z"
   },
   {
    "duration": 16,
    "start_time": "2022-11-16T09:32:27.236Z"
   },
   {
    "duration": 13,
    "start_time": "2022-11-16T09:32:28.484Z"
   },
   {
    "duration": 29,
    "start_time": "2022-11-16T09:32:28.877Z"
   },
   {
    "duration": 151,
    "start_time": "2022-11-16T09:32:29.923Z"
   },
   {
    "duration": 21,
    "start_time": "2022-11-16T09:32:30.971Z"
   },
   {
    "duration": 23,
    "start_time": "2022-11-16T09:32:32.462Z"
   },
   {
    "duration": 13,
    "start_time": "2022-11-16T09:32:36.332Z"
   },
   {
    "duration": 21,
    "start_time": "2022-11-16T09:32:37.034Z"
   },
   {
    "duration": 22,
    "start_time": "2022-11-16T09:32:38.197Z"
   },
   {
    "duration": 7,
    "start_time": "2022-11-16T09:32:38.950Z"
   },
   {
    "duration": 7,
    "start_time": "2022-11-16T09:33:09.251Z"
   },
   {
    "duration": 520,
    "start_time": "2022-11-16T09:33:21.877Z"
   },
   {
    "duration": 1454,
    "start_time": "2022-11-16T09:39:15.760Z"
   },
   {
    "duration": 58,
    "start_time": "2022-11-16T09:39:17.216Z"
   },
   {
    "duration": 17,
    "start_time": "2022-11-16T09:39:17.276Z"
   },
   {
    "duration": 20,
    "start_time": "2022-11-16T09:39:17.294Z"
   },
   {
    "duration": 19,
    "start_time": "2022-11-16T09:39:17.317Z"
   },
   {
    "duration": 29,
    "start_time": "2022-11-16T09:39:17.342Z"
   },
   {
    "duration": 157,
    "start_time": "2022-11-16T09:39:17.373Z"
   },
   {
    "duration": 26,
    "start_time": "2022-11-16T09:39:17.532Z"
   },
   {
    "duration": 21,
    "start_time": "2022-11-16T09:39:17.560Z"
   },
   {
    "duration": 13,
    "start_time": "2022-11-16T09:39:17.583Z"
   },
   {
    "duration": 45,
    "start_time": "2022-11-16T09:39:17.598Z"
   },
   {
    "duration": 115,
    "start_time": "2022-11-16T09:39:17.648Z"
   },
   {
    "duration": 0,
    "start_time": "2022-11-16T09:39:17.765Z"
   },
   {
    "duration": 0,
    "start_time": "2022-11-16T09:39:17.767Z"
   },
   {
    "duration": 0,
    "start_time": "2022-11-16T09:39:17.768Z"
   },
   {
    "duration": 0,
    "start_time": "2022-11-16T09:39:17.769Z"
   },
   {
    "duration": 0,
    "start_time": "2022-11-16T09:39:17.770Z"
   },
   {
    "duration": 0,
    "start_time": "2022-11-16T09:39:17.771Z"
   },
   {
    "duration": 0,
    "start_time": "2022-11-16T09:39:17.772Z"
   },
   {
    "duration": 0,
    "start_time": "2022-11-16T09:39:17.774Z"
   },
   {
    "duration": 0,
    "start_time": "2022-11-16T09:39:17.775Z"
   },
   {
    "duration": 0,
    "start_time": "2022-11-16T09:39:17.776Z"
   },
   {
    "duration": 0,
    "start_time": "2022-11-16T09:39:17.777Z"
   },
   {
    "duration": 0,
    "start_time": "2022-11-16T09:39:17.777Z"
   },
   {
    "duration": 0,
    "start_time": "2022-11-16T09:39:17.778Z"
   },
   {
    "duration": 0,
    "start_time": "2022-11-16T09:39:17.780Z"
   },
   {
    "duration": 0,
    "start_time": "2022-11-16T09:39:17.781Z"
   },
   {
    "duration": 5,
    "start_time": "2022-11-16T09:39:49.057Z"
   },
   {
    "duration": 52,
    "start_time": "2022-11-16T09:39:49.650Z"
   },
   {
    "duration": 14,
    "start_time": "2022-11-16T09:39:49.895Z"
   },
   {
    "duration": 13,
    "start_time": "2022-11-16T09:39:50.551Z"
   },
   {
    "duration": 14,
    "start_time": "2022-11-16T09:39:51.775Z"
   },
   {
    "duration": 21,
    "start_time": "2022-11-16T09:39:52.080Z"
   },
   {
    "duration": 144,
    "start_time": "2022-11-16T09:39:52.799Z"
   },
   {
    "duration": 30,
    "start_time": "2022-11-16T09:39:53.680Z"
   },
   {
    "duration": 21,
    "start_time": "2022-11-16T09:39:55.341Z"
   },
   {
    "duration": 18,
    "start_time": "2022-11-16T09:39:59.106Z"
   },
   {
    "duration": 17,
    "start_time": "2022-11-16T09:39:59.599Z"
   },
   {
    "duration": 13,
    "start_time": "2022-11-16T09:40:00.167Z"
   },
   {
    "duration": 8,
    "start_time": "2022-11-16T09:40:02.288Z"
   },
   {
    "duration": 13,
    "start_time": "2022-11-16T09:40:41.592Z"
   },
   {
    "duration": 25,
    "start_time": "2022-11-16T09:40:59.391Z"
   },
   {
    "duration": 6,
    "start_time": "2022-11-16T09:41:03.680Z"
   },
   {
    "duration": 7,
    "start_time": "2022-11-16T09:41:05.110Z"
   },
   {
    "duration": 516,
    "start_time": "2022-11-16T09:41:07.206Z"
   },
   {
    "duration": 104657,
    "start_time": "2022-11-16T09:41:14.760Z"
   },
   {
    "duration": 105230,
    "start_time": "2022-11-16T09:43:44.106Z"
   },
   {
    "duration": 846,
    "start_time": "2022-11-16T09:47:09.195Z"
   },
   {
    "duration": 3,
    "start_time": "2022-11-16T09:54:08.319Z"
   },
   {
    "duration": 3,
    "start_time": "2022-11-16T09:54:11.824Z"
   },
   {
    "duration": 10,
    "start_time": "2022-11-16T09:54:43.512Z"
   },
   {
    "duration": 149,
    "start_time": "2022-11-16T09:58:58.979Z"
   },
   {
    "duration": 801,
    "start_time": "2022-11-16T10:02:38.772Z"
   },
   {
    "duration": 366,
    "start_time": "2022-11-16T10:03:21.005Z"
   },
   {
    "duration": 70,
    "start_time": "2022-11-16T10:04:10.397Z"
   },
   {
    "duration": 59,
    "start_time": "2022-11-18T04:04:38.018Z"
   },
   {
    "duration": 1736,
    "start_time": "2022-11-18T04:04:47.366Z"
   },
   {
    "duration": 108,
    "start_time": "2022-11-18T04:04:49.105Z"
   },
   {
    "duration": 21,
    "start_time": "2022-11-18T04:04:49.270Z"
   },
   {
    "duration": 15,
    "start_time": "2022-11-18T04:04:50.790Z"
   },
   {
    "duration": 20,
    "start_time": "2022-11-18T04:04:52.253Z"
   },
   {
    "duration": 27,
    "start_time": "2022-11-18T04:04:52.701Z"
   },
   {
    "duration": 172,
    "start_time": "2022-11-18T04:04:53.654Z"
   },
   {
    "duration": 29,
    "start_time": "2022-11-18T04:04:54.549Z"
   },
   {
    "duration": 26,
    "start_time": "2022-11-18T04:04:56.094Z"
   },
   {
    "duration": 16,
    "start_time": "2022-11-18T04:04:59.750Z"
   },
   {
    "duration": 18,
    "start_time": "2022-11-18T04:05:00.437Z"
   },
   {
    "duration": 11,
    "start_time": "2022-11-18T04:05:02.857Z"
   },
   {
    "duration": 14,
    "start_time": "2022-11-18T04:05:08.783Z"
   },
   {
    "duration": 29,
    "start_time": "2022-11-18T04:05:15.797Z"
   },
   {
    "duration": 9,
    "start_time": "2022-11-18T04:06:01.643Z"
   },
   {
    "duration": 9,
    "start_time": "2022-11-18T04:06:02.929Z"
   },
   {
    "duration": 520,
    "start_time": "2022-11-18T04:06:03.949Z"
   },
   {
    "duration": 108718,
    "start_time": "2022-11-18T04:06:13.825Z"
   },
   {
    "duration": 407,
    "start_time": "2022-11-18T04:08:02.545Z"
   },
   {
    "duration": 825,
    "start_time": "2022-11-18T04:08:02.955Z"
   },
   {
    "duration": 6,
    "start_time": "2022-11-18T04:10:46.050Z"
   },
   {
    "duration": 73,
    "start_time": "2022-11-18T04:11:08.249Z"
   },
   {
    "duration": 9,
    "start_time": "2022-11-18T04:12:02.785Z"
   },
   {
    "duration": 3,
    "start_time": "2022-11-18T04:12:14.941Z"
   },
   {
    "duration": 3,
    "start_time": "2022-11-18T04:13:36.939Z"
   },
   {
    "duration": 2,
    "start_time": "2022-11-18T04:13:59.875Z"
   },
   {
    "duration": 9,
    "start_time": "2022-11-18T04:14:04.730Z"
   },
   {
    "duration": 139,
    "start_time": "2022-11-18T04:14:28.122Z"
   },
   {
    "duration": 3,
    "start_time": "2022-11-18T04:14:31.979Z"
   },
   {
    "duration": 73,
    "start_time": "2022-11-18T04:18:28.558Z"
   },
   {
    "duration": 83,
    "start_time": "2022-11-18T04:18:39.661Z"
   },
   {
    "duration": 69,
    "start_time": "2022-11-18T04:18:48.361Z"
   },
   {
    "duration": 4,
    "start_time": "2022-11-18T04:19:06.794Z"
   },
   {
    "duration": 24,
    "start_time": "2022-11-18T04:20:36.233Z"
   },
   {
    "duration": 5,
    "start_time": "2022-11-18T04:20:55.819Z"
   },
   {
    "duration": 10,
    "start_time": "2022-11-18T04:20:56.474Z"
   },
   {
    "duration": 3,
    "start_time": "2022-11-18T04:20:56.993Z"
   },
   {
    "duration": 228,
    "start_time": "2022-11-18T04:20:57.527Z"
   },
   {
    "duration": 3,
    "start_time": "2022-11-18T04:22:39.399Z"
   },
   {
    "duration": 9,
    "start_time": "2022-11-18T04:23:34.369Z"
   },
   {
    "duration": 10,
    "start_time": "2022-11-18T04:23:51.921Z"
   },
   {
    "duration": 11,
    "start_time": "2022-11-18T04:25:02.281Z"
   },
   {
    "duration": 113,
    "start_time": "2022-11-18T04:27:42.839Z"
   },
   {
    "duration": 120,
    "start_time": "2022-11-18T04:40:57.736Z"
   },
   {
    "duration": 9,
    "start_time": "2022-11-18T04:41:18.417Z"
   },
   {
    "duration": 13,
    "start_time": "2022-11-18T04:42:52.817Z"
   },
   {
    "duration": 14,
    "start_time": "2022-11-18T05:36:00.616Z"
   },
   {
    "duration": 31,
    "start_time": "2022-11-18T05:36:29.486Z"
   },
   {
    "duration": 519,
    "start_time": "2022-11-18T05:37:14.246Z"
   },
   {
    "duration": 11,
    "start_time": "2022-11-18T05:38:05.994Z"
   },
   {
    "duration": 152579,
    "start_time": "2022-11-18T05:38:26.167Z"
   },
   {
    "duration": 167,
    "start_time": "2022-11-18T05:45:14.506Z"
   },
   {
    "duration": 166,
    "start_time": "2022-11-18T05:45:32.434Z"
   },
   {
    "duration": 2190,
    "start_time": "2022-11-18T05:45:48.978Z"
   },
   {
    "duration": 16,
    "start_time": "2022-11-18T05:59:20.168Z"
   },
   {
    "duration": 15,
    "start_time": "2022-11-18T05:59:22.571Z"
   },
   {
    "duration": 11,
    "start_time": "2022-11-18T06:01:59.338Z"
   },
   {
    "duration": 16,
    "start_time": "2022-11-18T06:02:00.218Z"
   },
   {
    "duration": 154456,
    "start_time": "2022-11-18T06:26:49.435Z"
   },
   {
    "duration": 0,
    "start_time": "2022-11-18T06:29:24.056Z"
   },
   {
    "duration": 240,
    "start_time": "2022-11-18T06:29:32.723Z"
   },
   {
    "duration": 7,
    "start_time": "2022-11-18T06:40:17.323Z"
   },
   {
    "duration": 6,
    "start_time": "2022-11-18T06:40:44.914Z"
   },
   {
    "duration": 9,
    "start_time": "2022-11-18T06:40:49.136Z"
   },
   {
    "duration": 5,
    "start_time": "2022-11-18T06:41:07.322Z"
   },
   {
    "duration": 11,
    "start_time": "2022-11-18T06:41:47.090Z"
   },
   {
    "duration": 11,
    "start_time": "2022-11-18T06:46:03.238Z"
   },
   {
    "duration": 28,
    "start_time": "2022-11-18T06:46:08.196Z"
   },
   {
    "duration": 32,
    "start_time": "2022-11-18T06:47:28.432Z"
   },
   {
    "duration": 555,
    "start_time": "2022-11-18T06:48:21.519Z"
   },
   {
    "duration": 50,
    "start_time": "2022-11-18T06:49:02.889Z"
   },
   {
    "duration": 62,
    "start_time": "2022-11-18T06:49:44.126Z"
   },
   {
    "duration": 33,
    "start_time": "2022-11-18T06:49:46.766Z"
   },
   {
    "duration": 552,
    "start_time": "2022-11-18T06:49:47.998Z"
   },
   {
    "duration": 5,
    "start_time": "2022-11-18T06:51:32.208Z"
   },
   {
    "duration": 6,
    "start_time": "2022-11-18T06:51:36.469Z"
   },
   {
    "duration": 32,
    "start_time": "2022-11-18T06:52:11.920Z"
   },
   {
    "duration": 6,
    "start_time": "2022-11-18T06:52:32.208Z"
   },
   {
    "duration": 22,
    "start_time": "2022-11-18T06:52:50.959Z"
   },
   {
    "duration": 17,
    "start_time": "2022-11-18T06:52:52.342Z"
   },
   {
    "duration": 17,
    "start_time": "2022-11-18T06:52:55.583Z"
   },
   {
    "duration": 172,
    "start_time": "2022-11-18T06:53:26.888Z"
   },
   {
    "duration": 34,
    "start_time": "2022-11-18T06:56:50.786Z"
   },
   {
    "duration": 23,
    "start_time": "2022-11-18T06:57:10.843Z"
   },
   {
    "duration": 31,
    "start_time": "2022-11-18T06:59:12.907Z"
   },
   {
    "duration": 52,
    "start_time": "2022-11-18T13:58:13.848Z"
   },
   {
    "duration": 6,
    "start_time": "2022-11-18T13:58:20.752Z"
   },
   {
    "duration": 1533,
    "start_time": "2022-11-18T13:58:24.399Z"
   },
   {
    "duration": 165,
    "start_time": "2022-11-18T13:58:26.232Z"
   },
   {
    "duration": 17,
    "start_time": "2022-11-18T13:58:27.232Z"
   },
   {
    "duration": 14,
    "start_time": "2022-11-18T13:58:28.633Z"
   },
   {
    "duration": 14,
    "start_time": "2022-11-18T13:58:29.367Z"
   },
   {
    "duration": 24,
    "start_time": "2022-11-18T13:58:29.678Z"
   },
   {
    "duration": 158,
    "start_time": "2022-11-18T13:58:30.398Z"
   },
   {
    "duration": 24,
    "start_time": "2022-11-18T13:58:31.238Z"
   },
   {
    "duration": 21,
    "start_time": "2022-11-18T13:58:32.662Z"
   },
   {
    "duration": 11,
    "start_time": "2022-11-18T13:58:35.854Z"
   },
   {
    "duration": 17,
    "start_time": "2022-11-18T13:58:36.370Z"
   },
   {
    "duration": 7,
    "start_time": "2022-11-18T13:58:36.910Z"
   },
   {
    "duration": 23,
    "start_time": "2022-11-18T13:58:43.151Z"
   },
   {
    "duration": 12,
    "start_time": "2022-11-18T13:59:08.647Z"
   },
   {
    "duration": 8,
    "start_time": "2022-11-18T13:59:27.087Z"
   },
   {
    "duration": 7,
    "start_time": "2022-11-18T13:59:29.078Z"
   },
   {
    "duration": 471,
    "start_time": "2022-11-18T13:59:30.607Z"
   },
   {
    "duration": 98781,
    "start_time": "2022-11-18T13:59:34.550Z"
   },
   {
    "duration": 246,
    "start_time": "2022-11-18T14:01:13.333Z"
   },
   {
    "duration": 821,
    "start_time": "2022-11-18T14:01:13.584Z"
   },
   {
    "duration": 22,
    "start_time": "2022-11-18T14:01:58.001Z"
   },
   {
    "duration": 11,
    "start_time": "2022-11-18T14:01:59.634Z"
   },
   {
    "duration": 7,
    "start_time": "2022-11-18T14:02:00.292Z"
   },
   {
    "duration": 6,
    "start_time": "2022-11-18T14:02:01.625Z"
   },
   {
    "duration": 439,
    "start_time": "2022-11-18T14:02:03.160Z"
   },
   {
    "duration": 90009,
    "start_time": "2022-11-18T14:02:51.555Z"
   },
   {
    "duration": 558,
    "start_time": "2022-11-18T14:14:12.624Z"
   },
   {
    "duration": 21,
    "start_time": "2022-11-18T14:16:00.801Z"
   },
   {
    "duration": 11,
    "start_time": "2022-11-18T14:16:01.520Z"
   },
   {
    "duration": 6,
    "start_time": "2022-11-18T14:16:02.055Z"
   },
   {
    "duration": 6,
    "start_time": "2022-11-18T14:16:03.256Z"
   },
   {
    "duration": 300,
    "start_time": "2022-11-18T14:16:04.503Z"
   },
   {
    "duration": 76253,
    "start_time": "2022-11-18T14:18:40.026Z"
   },
   {
    "duration": 799,
    "start_time": "2022-11-18T14:19:56.280Z"
   },
   {
    "duration": 724,
    "start_time": "2022-11-18T14:19:57.082Z"
   },
   {
    "duration": 796,
    "start_time": "2022-11-18T14:24:26.788Z"
   },
   {
    "duration": 4,
    "start_time": "2022-11-18T14:24:46.123Z"
   },
   {
    "duration": 49,
    "start_time": "2022-11-18T14:24:48.124Z"
   },
   {
    "duration": 14,
    "start_time": "2022-11-18T14:24:48.698Z"
   },
   {
    "duration": 13,
    "start_time": "2022-11-18T14:24:50.450Z"
   },
   {
    "duration": 15,
    "start_time": "2022-11-18T14:24:51.898Z"
   },
   {
    "duration": 22,
    "start_time": "2022-11-18T14:24:52.771Z"
   },
   {
    "duration": 137,
    "start_time": "2022-11-18T14:24:55.444Z"
   },
   {
    "duration": 22,
    "start_time": "2022-11-18T14:24:56.874Z"
   },
   {
    "duration": 19,
    "start_time": "2022-11-18T14:24:59.330Z"
   },
   {
    "duration": 11,
    "start_time": "2022-11-18T14:25:06.413Z"
   },
   {
    "duration": 17,
    "start_time": "2022-11-18T14:25:07.099Z"
   },
   {
    "duration": 9,
    "start_time": "2022-11-18T14:25:08.059Z"
   },
   {
    "duration": 24,
    "start_time": "2022-11-18T14:25:08.830Z"
   },
   {
    "duration": 22,
    "start_time": "2022-11-18T14:25:31.340Z"
   },
   {
    "duration": 78,
    "start_time": "2022-11-18T14:26:48.748Z"
   },
   {
    "duration": 4,
    "start_time": "2022-11-18T14:26:59.292Z"
   },
   {
    "duration": 47,
    "start_time": "2022-11-18T14:27:00.670Z"
   },
   {
    "duration": 14,
    "start_time": "2022-11-18T14:27:01.190Z"
   },
   {
    "duration": 14,
    "start_time": "2022-11-18T14:27:02.718Z"
   },
   {
    "duration": 14,
    "start_time": "2022-11-18T14:27:04.300Z"
   },
   {
    "duration": 21,
    "start_time": "2022-11-18T14:27:04.778Z"
   },
   {
    "duration": 142,
    "start_time": "2022-11-18T14:27:05.349Z"
   },
   {
    "duration": 22,
    "start_time": "2022-11-18T14:27:06.253Z"
   },
   {
    "duration": 19,
    "start_time": "2022-11-18T14:27:07.741Z"
   },
   {
    "duration": 11,
    "start_time": "2022-11-18T14:27:13.292Z"
   },
   {
    "duration": 16,
    "start_time": "2022-11-18T14:27:15.236Z"
   },
   {
    "duration": 9,
    "start_time": "2022-11-18T14:28:02.516Z"
   },
   {
    "duration": 10,
    "start_time": "2022-11-18T14:28:43.364Z"
   },
   {
    "duration": 10,
    "start_time": "2022-11-18T14:29:12.342Z"
   },
   {
    "duration": 11,
    "start_time": "2022-11-18T14:29:23.110Z"
   },
   {
    "duration": 13,
    "start_time": "2022-11-18T14:30:55.157Z"
   },
   {
    "duration": 16,
    "start_time": "2022-11-18T14:31:30.990Z"
   },
   {
    "duration": 9,
    "start_time": "2022-11-18T14:32:15.360Z"
   },
   {
    "duration": 10,
    "start_time": "2022-11-18T14:32:56.831Z"
   },
   {
    "duration": 11,
    "start_time": "2022-11-18T14:33:10.824Z"
   },
   {
    "duration": 15,
    "start_time": "2022-11-18T14:33:24.080Z"
   },
   {
    "duration": 3,
    "start_time": "2022-11-18T14:33:34.886Z"
   },
   {
    "duration": 48,
    "start_time": "2022-11-18T14:33:35.482Z"
   },
   {
    "duration": 13,
    "start_time": "2022-11-18T14:33:35.679Z"
   },
   {
    "duration": 13,
    "start_time": "2022-11-18T14:33:36.264Z"
   },
   {
    "duration": 13,
    "start_time": "2022-11-18T14:33:36.832Z"
   },
   {
    "duration": 20,
    "start_time": "2022-11-18T14:33:37.016Z"
   },
   {
    "duration": 145,
    "start_time": "2022-11-18T14:33:37.399Z"
   },
   {
    "duration": 21,
    "start_time": "2022-11-18T14:33:37.791Z"
   },
   {
    "duration": 19,
    "start_time": "2022-11-18T14:33:38.374Z"
   },
   {
    "duration": 10,
    "start_time": "2022-11-18T14:33:39.783Z"
   },
   {
    "duration": 17,
    "start_time": "2022-11-18T14:33:40.000Z"
   },
   {
    "duration": 14,
    "start_time": "2022-11-18T14:33:40.190Z"
   },
   {
    "duration": 13,
    "start_time": "2022-11-18T14:33:40.399Z"
   },
   {
    "duration": 16,
    "start_time": "2022-11-18T14:33:40.584Z"
   },
   {
    "duration": 6,
    "start_time": "2022-11-18T14:33:40.782Z"
   },
   {
    "duration": 30,
    "start_time": "2022-11-18T14:35:49.242Z"
   },
   {
    "duration": 8,
    "start_time": "2022-11-18T14:36:04.335Z"
   },
   {
    "duration": 24,
    "start_time": "2022-11-18T14:36:37.840Z"
   },
   {
    "duration": 21,
    "start_time": "2022-11-18T14:40:01.547Z"
   },
   {
    "duration": 12,
    "start_time": "2022-11-18T14:40:03.834Z"
   },
   {
    "duration": 6,
    "start_time": "2022-11-18T14:40:04.705Z"
   },
   {
    "duration": 6,
    "start_time": "2022-11-18T14:40:07.572Z"
   },
   {
    "duration": 455,
    "start_time": "2022-11-18T14:40:11.123Z"
   },
   {
    "duration": 99999,
    "start_time": "2022-11-18T14:40:46.236Z"
   },
   {
    "duration": 242,
    "start_time": "2022-11-18T14:42:26.237Z"
   },
   {
    "duration": 816,
    "start_time": "2022-11-18T14:42:26.481Z"
   },
   {
    "duration": 4,
    "start_time": "2022-11-18T14:42:27.299Z"
   },
   {
    "duration": 16,
    "start_time": "2022-11-18T14:42:27.304Z"
   },
   {
    "duration": 1531,
    "start_time": "2022-11-21T02:36:12.449Z"
   },
   {
    "duration": 172,
    "start_time": "2022-11-21T02:36:14.396Z"
   },
   {
    "duration": 16,
    "start_time": "2022-11-21T02:36:15.339Z"
   },
   {
    "duration": 18,
    "start_time": "2022-11-21T02:36:17.033Z"
   },
   {
    "duration": 17,
    "start_time": "2022-11-21T02:36:18.289Z"
   },
   {
    "duration": 27,
    "start_time": "2022-11-21T02:36:18.634Z"
   },
   {
    "duration": 156,
    "start_time": "2022-11-21T02:36:19.403Z"
   },
   {
    "duration": 21,
    "start_time": "2022-11-21T02:36:20.392Z"
   },
   {
    "duration": 19,
    "start_time": "2022-11-21T02:36:21.852Z"
   },
   {
    "duration": 12,
    "start_time": "2022-11-21T02:36:25.145Z"
   },
   {
    "duration": 16,
    "start_time": "2022-11-21T02:36:25.658Z"
   },
   {
    "duration": 9,
    "start_time": "2022-11-21T02:36:26.298Z"
   },
   {
    "duration": 25,
    "start_time": "2022-11-21T02:36:27.253Z"
   },
   {
    "duration": 16,
    "start_time": "2022-11-21T02:38:45.917Z"
   },
   {
    "duration": 8,
    "start_time": "2022-11-21T02:38:48.124Z"
   },
   {
    "duration": 6,
    "start_time": "2022-11-21T02:38:51.260Z"
   },
   {
    "duration": 525,
    "start_time": "2022-11-21T02:38:53.997Z"
   },
   {
    "duration": 102542,
    "start_time": "2022-11-21T02:39:17.043Z"
   },
   {
    "duration": 398,
    "start_time": "2022-11-21T02:40:59.854Z"
   },
   {
    "duration": 929,
    "start_time": "2022-11-21T02:41:00.254Z"
   },
   {
    "duration": 4,
    "start_time": "2022-11-21T02:41:01.185Z"
   },
   {
    "duration": 29,
    "start_time": "2022-11-21T02:41:01.191Z"
   },
   {
    "duration": 33,
    "start_time": "2022-11-21T02:41:01.222Z"
   },
   {
    "duration": 211,
    "start_time": "2022-11-21T02:41:01.257Z"
   },
   {
    "duration": 466,
    "start_time": "2022-11-21T02:41:01.470Z"
   },
   {
    "duration": 15,
    "start_time": "2022-11-21T02:42:54.629Z"
   },
   {
    "duration": 8,
    "start_time": "2022-11-21T02:42:56.621Z"
   },
   {
    "duration": 24,
    "start_time": "2022-11-21T02:42:57.774Z"
   },
   {
    "duration": 11,
    "start_time": "2022-11-21T02:43:10.557Z"
   },
   {
    "duration": 25,
    "start_time": "2022-11-21T02:44:33.083Z"
   },
   {
    "duration": 13,
    "start_time": "2022-11-21T02:44:33.976Z"
   },
   {
    "duration": 7,
    "start_time": "2022-11-21T02:44:35.239Z"
   },
   {
    "duration": 5,
    "start_time": "2022-11-21T02:44:56.599Z"
   },
   {
    "duration": 445,
    "start_time": "2022-11-21T02:44:59.286Z"
   },
   {
    "duration": 92663,
    "start_time": "2022-11-21T02:45:05.424Z"
   },
   {
    "duration": 671,
    "start_time": "2022-11-21T02:46:38.090Z"
   },
   {
    "duration": 944,
    "start_time": "2022-11-21T02:46:38.763Z"
   },
   {
    "duration": 5,
    "start_time": "2022-11-21T02:46:39.710Z"
   },
   {
    "duration": 18,
    "start_time": "2022-11-21T02:46:39.717Z"
   },
   {
    "duration": 99,
    "start_time": "2022-11-21T02:46:39.753Z"
   },
   {
    "duration": 430,
    "start_time": "2022-11-21T02:46:39.974Z"
   },
   {
    "duration": 45,
    "start_time": "2022-11-21T02:46:40.405Z"
   },
   {
    "duration": 443,
    "start_time": "2022-11-21T02:46:46.720Z"
   },
   {
    "duration": 4,
    "start_time": "2022-11-21T02:46:55.024Z"
   },
   {
    "duration": 10,
    "start_time": "2022-11-21T02:46:56.303Z"
   },
   {
    "duration": 6,
    "start_time": "2022-11-21T02:46:58.113Z"
   },
   {
    "duration": 17,
    "start_time": "2022-11-21T02:47:00.625Z"
   },
   {
    "duration": 15,
    "start_time": "2022-11-21T02:47:06.536Z"
   },
   {
    "duration": 15,
    "start_time": "2022-11-21T02:47:32.697Z"
   },
   {
    "duration": 158,
    "start_time": "2022-11-21T02:47:36.728Z"
   },
   {
    "duration": 32,
    "start_time": "2022-11-21T02:48:43.529Z"
   },
   {
    "duration": 456,
    "start_time": "2022-11-21T02:48:44.369Z"
   },
   {
    "duration": 6,
    "start_time": "2022-11-21T02:48:54.961Z"
   },
   {
    "duration": 11,
    "start_time": "2022-11-21T02:48:55.585Z"
   },
   {
    "duration": 7,
    "start_time": "2022-11-21T02:48:56.192Z"
   },
   {
    "duration": 23,
    "start_time": "2022-11-21T02:48:56.600Z"
   },
   {
    "duration": 15,
    "start_time": "2022-11-21T02:48:57.144Z"
   },
   {
    "duration": 163,
    "start_time": "2022-11-21T02:48:57.988Z"
   },
   {
    "duration": 15,
    "start_time": "2022-11-21T02:49:41.691Z"
   },
   {
    "duration": 149,
    "start_time": "2022-11-21T02:49:42.642Z"
   },
   {
    "duration": 126,
    "start_time": "2022-11-21T02:55:37.093Z"
   },
   {
    "duration": 273,
    "start_time": "2022-11-21T02:56:24.469Z"
   },
   {
    "duration": 325,
    "start_time": "2022-11-21T02:56:56.439Z"
   },
   {
    "duration": 319,
    "start_time": "2022-11-21T02:58:49.039Z"
   },
   {
    "duration": 119,
    "start_time": "2022-11-21T02:58:56.021Z"
   },
   {
    "duration": 116,
    "start_time": "2022-11-21T03:07:59.411Z"
   },
   {
    "duration": 10,
    "start_time": "2022-11-21T03:08:08.105Z"
   },
   {
    "duration": 111522,
    "start_time": "2022-11-21T03:11:43.813Z"
   },
   {
    "duration": 1616,
    "start_time": "2022-11-21T03:15:08.670Z"
   },
   {
    "duration": 736,
    "start_time": "2022-11-21T03:24:32.891Z"
   },
   {
    "duration": 815,
    "start_time": "2022-11-21T03:24:51.113Z"
   },
   {
    "duration": 9,
    "start_time": "2022-11-21T03:25:25.818Z"
   },
   {
    "duration": 5,
    "start_time": "2022-11-21T03:26:08.706Z"
   },
   {
    "duration": 52,
    "start_time": "2022-11-21T03:26:09.270Z"
   },
   {
    "duration": 15,
    "start_time": "2022-11-21T03:26:09.474Z"
   },
   {
    "duration": 18,
    "start_time": "2022-11-21T03:26:10.019Z"
   },
   {
    "duration": 15,
    "start_time": "2022-11-21T03:26:10.834Z"
   },
   {
    "duration": 24,
    "start_time": "2022-11-21T03:26:11.027Z"
   },
   {
    "duration": 160,
    "start_time": "2022-11-21T03:26:11.401Z"
   },
   {
    "duration": 24,
    "start_time": "2022-11-21T03:26:11.810Z"
   },
   {
    "duration": 18,
    "start_time": "2022-11-21T03:26:12.401Z"
   },
   {
    "duration": 16,
    "start_time": "2022-11-21T03:26:13.764Z"
   },
   {
    "duration": 8,
    "start_time": "2022-11-21T03:26:13.962Z"
   },
   {
    "duration": 28,
    "start_time": "2022-11-21T03:26:14.170Z"
   },
   {
    "duration": 14,
    "start_time": "2022-11-21T03:26:14.340Z"
   },
   {
    "duration": 7,
    "start_time": "2022-11-21T03:26:14.562Z"
   },
   {
    "duration": 6,
    "start_time": "2022-11-21T03:26:14.906Z"
   },
   {
    "duration": 522,
    "start_time": "2022-11-21T03:26:15.329Z"
   },
   {
    "duration": 111421,
    "start_time": "2022-11-21T03:26:16.147Z"
   },
   {
    "duration": 185,
    "start_time": "2022-11-21T03:28:07.571Z"
   },
   {
    "duration": 913,
    "start_time": "2022-11-21T03:28:07.758Z"
   },
   {
    "duration": 4,
    "start_time": "2022-11-21T03:28:08.673Z"
   },
   {
    "duration": 14,
    "start_time": "2022-11-21T03:28:08.679Z"
   },
   {
    "duration": 58,
    "start_time": "2022-11-21T03:28:08.695Z"
   },
   {
    "duration": 117,
    "start_time": "2022-11-21T03:28:08.756Z"
   },
   {
    "duration": 492,
    "start_time": "2022-11-21T03:28:08.875Z"
   },
   {
    "duration": 4,
    "start_time": "2022-11-21T03:28:09.369Z"
   },
   {
    "duration": 13,
    "start_time": "2022-11-21T03:28:09.376Z"
   },
   {
    "duration": 7,
    "start_time": "2022-11-21T03:28:09.390Z"
   },
   {
    "duration": 402,
    "start_time": "2022-11-21T03:28:09.399Z"
   },
   {
    "duration": 183,
    "start_time": "2022-11-21T03:28:09.802Z"
   },
   {
    "duration": 296,
    "start_time": "2022-11-21T03:28:09.987Z"
   },
   {
    "duration": 0,
    "start_time": "2022-11-21T03:28:11.195Z"
   },
   {
    "duration": 0,
    "start_time": "2022-11-21T03:28:11.196Z"
   },
   {
    "duration": 0,
    "start_time": "2022-11-21T03:28:11.198Z"
   },
   {
    "duration": 0,
    "start_time": "2022-11-21T03:28:11.200Z"
   },
   {
    "duration": 0,
    "start_time": "2022-11-21T03:28:11.201Z"
   },
   {
    "duration": 0,
    "start_time": "2022-11-21T03:28:11.203Z"
   },
   {
    "duration": 881,
    "start_time": "2022-11-21T03:28:32.070Z"
   },
   {
    "duration": 7,
    "start_time": "2022-11-21T03:28:33.157Z"
   },
   {
    "duration": 44,
    "start_time": "2022-11-21T03:30:45.887Z"
   },
   {
    "duration": 20599,
    "start_time": "2022-11-21T03:31:17.169Z"
   },
   {
    "duration": 282,
    "start_time": "2022-11-21T03:31:37.770Z"
   },
   {
    "duration": 20715,
    "start_time": "2022-11-21T03:31:38.055Z"
   },
   {
    "duration": 23667,
    "start_time": "2022-11-21T03:35:29.010Z"
   },
   {
    "duration": 4,
    "start_time": "2022-11-21T03:35:52.729Z"
   },
   {
    "duration": 49,
    "start_time": "2022-11-21T03:35:52.735Z"
   },
   {
    "duration": 13,
    "start_time": "2022-11-21T03:35:52.786Z"
   },
   {
    "duration": 14,
    "start_time": "2022-11-21T03:35:54.003Z"
   },
   {
    "duration": 15,
    "start_time": "2022-11-21T03:35:55.835Z"
   },
   {
    "duration": 23,
    "start_time": "2022-11-21T03:35:56.480Z"
   },
   {
    "duration": 144,
    "start_time": "2022-11-21T03:35:57.712Z"
   },
   {
    "duration": 27,
    "start_time": "2022-11-21T03:35:58.867Z"
   },
   {
    "duration": 26,
    "start_time": "2022-11-21T03:36:00.567Z"
   },
   {
    "duration": 20,
    "start_time": "2022-11-21T03:36:04.850Z"
   },
   {
    "duration": 10,
    "start_time": "2022-11-21T03:36:05.559Z"
   },
   {
    "duration": 35,
    "start_time": "2022-11-21T03:36:06.159Z"
   },
   {
    "duration": 12,
    "start_time": "2022-11-21T03:36:07.368Z"
   },
   {
    "duration": 7,
    "start_time": "2022-11-21T03:36:07.936Z"
   },
   {
    "duration": 6,
    "start_time": "2022-11-21T03:36:09.146Z"
   },
   {
    "duration": 511,
    "start_time": "2022-11-21T03:36:10.344Z"
   },
   {
    "duration": 104650,
    "start_time": "2022-11-21T03:36:12.840Z"
   },
   {
    "duration": 724,
    "start_time": "2022-11-21T03:39:19.658Z"
   },
   {
    "duration": 5,
    "start_time": "2022-11-21T03:39:49.241Z"
   },
   {
    "duration": 12,
    "start_time": "2022-11-21T03:39:50.056Z"
   },
   {
    "duration": 117,
    "start_time": "2022-11-21T03:39:51.233Z"
   },
   {
    "duration": 32,
    "start_time": "2022-11-21T03:39:53.305Z"
   },
   {
    "duration": 469,
    "start_time": "2022-11-21T03:39:54.170Z"
   },
   {
    "duration": 321,
    "start_time": "2022-11-21T03:40:03.270Z"
   },
   {
    "duration": 4,
    "start_time": "2022-11-21T03:40:07.225Z"
   },
   {
    "duration": 13,
    "start_time": "2022-11-21T03:40:09.242Z"
   },
   {
    "duration": 7,
    "start_time": "2022-11-21T03:40:09.868Z"
   },
   {
    "duration": 331,
    "start_time": "2022-11-21T03:40:11.042Z"
   },
   {
    "duration": 227,
    "start_time": "2022-11-21T03:40:12.345Z"
   },
   {
    "duration": 282,
    "start_time": "2022-11-21T03:40:13.457Z"
   },
   {
    "duration": 20672,
    "start_time": "2022-11-21T03:40:17.618Z"
   },
   {
    "duration": 7,
    "start_time": "2022-11-21T03:54:24.779Z"
   },
   {
    "duration": 7,
    "start_time": "2022-11-21T03:54:39.671Z"
   },
   {
    "duration": 11,
    "start_time": "2022-11-21T03:55:01.874Z"
   },
   {
    "duration": 1766,
    "start_time": "2022-11-21T03:55:26.030Z"
   },
   {
    "duration": 1802,
    "start_time": "2022-11-21T03:55:28.515Z"
   },
   {
    "duration": 11,
    "start_time": "2022-11-21T03:56:11.778Z"
   },
   {
    "duration": 116,
    "start_time": "2022-11-21T03:56:16.876Z"
   },
   {
    "duration": 10,
    "start_time": "2022-11-21T03:57:36.311Z"
   },
   {
    "duration": 105,
    "start_time": "2022-11-21T03:57:44.019Z"
   },
   {
    "duration": 2418,
    "start_time": "2022-11-21T03:57:48.844Z"
   },
   {
    "duration": 7,
    "start_time": "2022-11-21T03:58:05.636Z"
   },
   {
    "duration": 496,
    "start_time": "2022-11-21T04:00:39.414Z"
   },
   {
    "duration": 26,
    "start_time": "2022-11-21T04:00:44.868Z"
   },
   {
    "duration": 2466,
    "start_time": "2022-11-21T17:09:27.812Z"
   },
   {
    "duration": 98,
    "start_time": "2022-11-21T17:09:30.280Z"
   },
   {
    "duration": 18,
    "start_time": "2022-11-21T17:09:30.380Z"
   },
   {
    "duration": 92,
    "start_time": "2022-11-21T17:09:30.401Z"
   },
   {
    "duration": 82,
    "start_time": "2022-11-21T17:09:30.495Z"
   },
   {
    "duration": 23,
    "start_time": "2022-11-21T17:09:30.579Z"
   },
   {
    "duration": 392,
    "start_time": "2022-11-21T17:09:30.604Z"
   },
   {
    "duration": 25,
    "start_time": "2022-11-21T17:09:30.998Z"
   },
   {
    "duration": 22,
    "start_time": "2022-11-21T17:09:31.079Z"
   },
   {
    "duration": 76,
    "start_time": "2022-11-21T17:09:31.105Z"
   },
   {
    "duration": 9,
    "start_time": "2022-11-21T17:09:31.184Z"
   },
   {
    "duration": 88,
    "start_time": "2022-11-21T17:09:31.195Z"
   },
   {
    "duration": 13,
    "start_time": "2022-11-21T17:09:31.285Z"
   },
   {
    "duration": 22,
    "start_time": "2022-11-21T17:09:31.299Z"
   },
   {
    "duration": 9,
    "start_time": "2022-11-21T17:09:31.377Z"
   },
   {
    "duration": 1036,
    "start_time": "2022-11-21T17:09:31.388Z"
   },
   {
    "duration": 219543,
    "start_time": "2022-11-21T17:09:32.478Z"
   },
   {
    "duration": 201,
    "start_time": "2022-11-21T17:13:12.077Z"
   },
   {
    "duration": 1228,
    "start_time": "2022-11-21T17:13:12.281Z"
   },
   {
    "duration": 5,
    "start_time": "2022-11-21T17:13:13.511Z"
   },
   {
    "duration": 68,
    "start_time": "2022-11-21T17:13:13.517Z"
   },
   {
    "duration": 96,
    "start_time": "2022-11-21T17:13:13.587Z"
   },
   {
    "duration": 194,
    "start_time": "2022-11-21T17:13:13.685Z"
   },
   {
    "duration": 697,
    "start_time": "2022-11-21T17:13:13.881Z"
   },
   {
    "duration": 5,
    "start_time": "2022-11-21T17:13:14.580Z"
   },
   {
    "duration": 14,
    "start_time": "2022-11-21T17:13:14.587Z"
   },
   {
    "duration": 6,
    "start_time": "2022-11-21T17:13:14.603Z"
   },
   {
    "duration": 487,
    "start_time": "2022-11-21T17:13:14.612Z"
   },
   {
    "duration": 290,
    "start_time": "2022-11-21T17:13:15.101Z"
   },
   {
    "duration": 607,
    "start_time": "2022-11-21T17:13:15.393Z"
   },
   {
    "duration": 7,
    "start_time": "2022-11-21T17:13:16.002Z"
   },
   {
    "duration": 72,
    "start_time": "2022-11-21T17:13:16.010Z"
   },
   {
    "duration": 811,
    "start_time": "2022-11-21T17:13:16.084Z"
   },
   {
    "duration": 24,
    "start_time": "2022-11-21T17:13:16.897Z"
   },
   {
    "duration": 7,
    "start_time": "2022-11-21T17:13:16.977Z"
   },
   {
    "duration": 1610,
    "start_time": "2022-11-22T03:03:49.815Z"
   },
   {
    "duration": 178,
    "start_time": "2022-11-22T03:03:51.427Z"
   },
   {
    "duration": 16,
    "start_time": "2022-11-22T03:03:51.606Z"
   },
   {
    "duration": 13,
    "start_time": "2022-11-22T03:03:51.625Z"
   },
   {
    "duration": 18,
    "start_time": "2022-11-22T03:03:51.640Z"
   },
   {
    "duration": 19,
    "start_time": "2022-11-22T03:03:51.660Z"
   },
   {
    "duration": 167,
    "start_time": "2022-11-22T03:03:51.681Z"
   },
   {
    "duration": 20,
    "start_time": "2022-11-22T03:03:51.849Z"
   },
   {
    "duration": 16,
    "start_time": "2022-11-22T03:03:51.870Z"
   },
   {
    "duration": 35,
    "start_time": "2022-11-22T03:03:51.888Z"
   },
   {
    "duration": 10,
    "start_time": "2022-11-22T03:03:51.925Z"
   },
   {
    "duration": 21,
    "start_time": "2022-11-22T03:03:51.937Z"
   },
   {
    "duration": 10,
    "start_time": "2022-11-22T03:03:51.960Z"
   },
   {
    "duration": 8,
    "start_time": "2022-11-22T03:03:51.971Z"
   },
   {
    "duration": 5,
    "start_time": "2022-11-22T03:03:51.981Z"
   },
   {
    "duration": 470,
    "start_time": "2022-11-22T03:03:51.988Z"
   },
   {
    "duration": 89337,
    "start_time": "2022-11-22T03:03:52.459Z"
   },
   {
    "duration": 227,
    "start_time": "2022-11-22T03:05:21.798Z"
   },
   {
    "duration": 796,
    "start_time": "2022-11-22T03:05:22.028Z"
   },
   {
    "duration": 3,
    "start_time": "2022-11-22T03:05:22.826Z"
   },
   {
    "duration": 19,
    "start_time": "2022-11-22T03:05:22.831Z"
   },
   {
    "duration": 20,
    "start_time": "2022-11-22T03:05:22.851Z"
   },
   {
    "duration": 156,
    "start_time": "2022-11-22T03:05:22.872Z"
   },
   {
    "duration": 280,
    "start_time": "2022-11-22T03:05:23.030Z"
   },
   {
    "duration": 4,
    "start_time": "2022-11-22T03:05:23.312Z"
   },
   {
    "duration": 17,
    "start_time": "2022-11-22T03:05:23.317Z"
   },
   {
    "duration": 5,
    "start_time": "2022-11-22T03:05:23.335Z"
   },
   {
    "duration": 259,
    "start_time": "2022-11-22T03:05:23.343Z"
   },
   {
    "duration": 126,
    "start_time": "2022-11-22T03:05:23.603Z"
   },
   {
    "duration": 251,
    "start_time": "2022-11-22T03:05:23.730Z"
   },
   {
    "duration": 5,
    "start_time": "2022-11-22T03:05:23.983Z"
   },
   {
    "duration": 13,
    "start_time": "2022-11-22T03:05:23.989Z"
   },
   {
    "duration": 387,
    "start_time": "2022-11-22T03:05:24.003Z"
   },
   {
    "duration": 31,
    "start_time": "2022-11-22T03:05:24.391Z"
   },
   {
    "duration": 5,
    "start_time": "2022-11-22T03:05:24.423Z"
   },
   {
    "duration": 57,
    "start_time": "2022-11-22T05:43:47.084Z"
   },
   {
    "duration": 1681,
    "start_time": "2022-11-22T05:43:58.853Z"
   },
   {
    "duration": 185,
    "start_time": "2022-11-22T05:44:01.001Z"
   },
   {
    "duration": 18,
    "start_time": "2022-11-22T05:44:01.986Z"
   },
   {
    "duration": 14,
    "start_time": "2022-11-22T05:44:04.393Z"
   },
   {
    "duration": 14,
    "start_time": "2022-11-22T05:44:06.928Z"
   },
   {
    "duration": 22,
    "start_time": "2022-11-22T05:44:07.648Z"
   },
   {
    "duration": 169,
    "start_time": "2022-11-22T05:44:09.105Z"
   },
   {
    "duration": 22,
    "start_time": "2022-11-22T05:44:10.885Z"
   },
   {
    "duration": 21,
    "start_time": "2022-11-22T05:44:11.929Z"
   },
   {
    "duration": 18,
    "start_time": "2022-11-22T05:44:16.188Z"
   },
   {
    "duration": 10,
    "start_time": "2022-11-22T05:44:17.592Z"
   },
   {
    "duration": 29,
    "start_time": "2022-11-22T05:44:18.145Z"
   },
   {
    "duration": 18,
    "start_time": "2022-11-22T05:44:18.895Z"
   },
   {
    "duration": 10,
    "start_time": "2022-11-22T05:44:20.201Z"
   },
   {
    "duration": 7,
    "start_time": "2022-11-22T05:44:22.088Z"
   },
   {
    "duration": 554,
    "start_time": "2022-11-22T05:44:23.745Z"
   },
   {
    "duration": 101324,
    "start_time": "2022-11-22T05:44:29.851Z"
   },
   {
    "duration": 278,
    "start_time": "2022-11-22T05:46:11.177Z"
   },
   {
    "duration": 743,
    "start_time": "2022-11-22T05:46:11.458Z"
   },
   {
    "duration": 104170,
    "start_time": "2022-11-22T05:46:15.507Z"
   },
   {
    "duration": 1227,
    "start_time": "2022-11-22T05:54:18.697Z"
   },
   {
    "duration": 637,
    "start_time": "2022-11-22T06:26:52.447Z"
   },
   {
    "duration": 81,
    "start_time": "2022-11-22T06:28:30.798Z"
   },
   {
    "duration": 5,
    "start_time": "2022-11-22T06:28:36.191Z"
   },
   {
    "duration": 12,
    "start_time": "2022-11-22T06:28:36.824Z"
   },
   {
    "duration": 25,
    "start_time": "2022-11-22T06:28:37.735Z"
   },
   {
    "duration": 28,
    "start_time": "2022-11-22T06:28:38.823Z"
   },
   {
    "duration": 1024,
    "start_time": "2022-11-22T06:40:00.684Z"
   },
   {
    "duration": 47,
    "start_time": "2022-11-22T06:40:05.397Z"
   },
   {
    "duration": 21,
    "start_time": "2022-11-22T06:40:10.054Z"
   },
   {
    "duration": 978,
    "start_time": "2022-11-22T06:40:26.462Z"
   },
   {
    "duration": 53,
    "start_time": "2022-11-23T14:22:04.139Z"
   },
   {
    "duration": 9,
    "start_time": "2022-11-23T14:22:05.402Z"
   },
   {
    "duration": 4,
    "start_time": "2022-11-23T14:22:09.032Z"
   },
   {
    "duration": 7,
    "start_time": "2022-11-23T14:22:09.760Z"
   },
   {
    "duration": 6,
    "start_time": "2022-11-23T14:22:10.581Z"
   },
   {
    "duration": 10,
    "start_time": "2022-11-23T14:22:15.745Z"
   },
   {
    "duration": 1579,
    "start_time": "2022-11-23T14:22:25.797Z"
   },
   {
    "duration": 92,
    "start_time": "2022-11-23T14:22:27.378Z"
   },
   {
    "duration": 17,
    "start_time": "2022-11-23T14:22:27.472Z"
   },
   {
    "duration": 14,
    "start_time": "2022-11-23T14:22:28.136Z"
   },
   {
    "duration": 14,
    "start_time": "2022-11-23T14:22:28.999Z"
   },
   {
    "duration": 21,
    "start_time": "2022-11-23T14:22:29.305Z"
   },
   {
    "duration": 161,
    "start_time": "2022-11-23T14:22:30.042Z"
   },
   {
    "duration": 21,
    "start_time": "2022-11-23T14:22:30.808Z"
   },
   {
    "duration": 19,
    "start_time": "2022-11-23T14:22:32.088Z"
   },
   {
    "duration": 18,
    "start_time": "2022-11-23T14:22:35.408Z"
   },
   {
    "duration": 12,
    "start_time": "2022-11-23T14:22:36.488Z"
   },
   {
    "duration": 26,
    "start_time": "2022-11-23T14:22:37.072Z"
   },
   {
    "duration": 12,
    "start_time": "2022-11-23T14:22:37.577Z"
   },
   {
    "duration": 8,
    "start_time": "2022-11-23T14:22:38.609Z"
   },
   {
    "duration": 6,
    "start_time": "2022-11-23T14:22:39.583Z"
   },
   {
    "duration": 488,
    "start_time": "2022-11-23T14:22:40.591Z"
   },
   {
    "duration": 103105,
    "start_time": "2022-11-23T14:22:51.217Z"
   },
   {
    "duration": 152,
    "start_time": "2022-11-23T14:25:17.963Z"
   },
   {
    "duration": 694,
    "start_time": "2022-11-23T14:25:26.448Z"
   },
   {
    "duration": 587,
    "start_time": "2022-11-23T14:26:01.764Z"
   },
   {
    "duration": 572,
    "start_time": "2022-11-23T14:26:55.076Z"
   },
   {
    "duration": 4,
    "start_time": "2022-11-23T14:27:06.098Z"
   },
   {
    "duration": 11,
    "start_time": "2022-11-23T14:27:07.309Z"
   },
   {
    "duration": 22,
    "start_time": "2022-11-23T14:27:08.522Z"
   },
   {
    "duration": 27,
    "start_time": "2022-11-23T14:27:23.796Z"
   },
   {
    "duration": 961,
    "start_time": "2022-11-23T14:28:27.780Z"
   },
   {
    "duration": 45,
    "start_time": "2022-11-23T14:28:32.500Z"
   },
   {
    "duration": 19,
    "start_time": "2022-11-23T14:28:35.550Z"
   },
   {
    "duration": 150,
    "start_time": "2022-11-23T14:31:56.187Z"
   },
   {
    "duration": 1104,
    "start_time": "2022-11-23T14:32:40.661Z"
   },
   {
    "duration": 165,
    "start_time": "2022-11-23T14:32:58.855Z"
   },
   {
    "duration": 27,
    "start_time": "2022-11-23T14:34:31.196Z"
   },
   {
    "duration": 59,
    "start_time": "2022-11-23T14:38:36.657Z"
   },
   {
    "duration": 1063,
    "start_time": "2022-11-23T14:38:57.897Z"
   },
   {
    "duration": 77,
    "start_time": "2022-11-23T14:39:50.000Z"
   },
   {
    "duration": 8,
    "start_time": "2022-11-23T14:39:56.074Z"
   },
   {
    "duration": 11,
    "start_time": "2022-11-23T14:39:57.145Z"
   },
   {
    "duration": 10,
    "start_time": "2022-11-23T14:40:21.266Z"
   },
   {
    "duration": 10,
    "start_time": "2022-11-23T14:40:24.326Z"
   },
   {
    "duration": 11,
    "start_time": "2022-11-23T14:40:55.809Z"
   },
   {
    "duration": 5,
    "start_time": "2022-11-23T14:41:14.529Z"
   },
   {
    "duration": 14,
    "start_time": "2022-11-23T14:41:16.459Z"
   },
   {
    "duration": 7,
    "start_time": "2022-11-23T14:41:17.487Z"
   },
   {
    "duration": 23,
    "start_time": "2022-11-23T14:41:18.394Z"
   },
   {
    "duration": 22,
    "start_time": "2022-11-23T14:41:20.214Z"
   },
   {
    "duration": 176,
    "start_time": "2022-11-23T14:41:21.594Z"
   },
   {
    "duration": 3,
    "start_time": "2022-11-23T14:49:29.164Z"
   },
   {
    "duration": 47,
    "start_time": "2022-11-23T14:49:31.087Z"
   },
   {
    "duration": 13,
    "start_time": "2022-11-23T14:49:31.717Z"
   },
   {
    "duration": 14,
    "start_time": "2022-11-23T14:49:33.470Z"
   },
   {
    "duration": 14,
    "start_time": "2022-11-23T14:49:35.182Z"
   },
   {
    "duration": 21,
    "start_time": "2022-11-23T14:49:35.719Z"
   },
   {
    "duration": 148,
    "start_time": "2022-11-23T14:49:36.887Z"
   },
   {
    "duration": 22,
    "start_time": "2022-11-23T14:49:38.064Z"
   },
   {
    "duration": 18,
    "start_time": "2022-11-23T14:49:39.769Z"
   },
   {
    "duration": 15,
    "start_time": "2022-11-23T14:49:43.687Z"
   },
   {
    "duration": 9,
    "start_time": "2022-11-23T14:49:44.751Z"
   },
   {
    "duration": 25,
    "start_time": "2022-11-23T14:49:45.278Z"
   },
   {
    "duration": 12,
    "start_time": "2022-11-23T14:49:45.835Z"
   },
   {
    "duration": 6,
    "start_time": "2022-11-23T14:49:46.961Z"
   },
   {
    "duration": 6,
    "start_time": "2022-11-23T14:49:48.079Z"
   },
   {
    "duration": 519,
    "start_time": "2022-11-23T14:49:49.201Z"
   },
   {
    "duration": 1492,
    "start_time": "2022-11-24T05:40:42.979Z"
   },
   {
    "duration": 173,
    "start_time": "2022-11-24T05:40:48.155Z"
   },
   {
    "duration": 18,
    "start_time": "2022-11-24T05:40:49.093Z"
   },
   {
    "duration": 13,
    "start_time": "2022-11-24T05:40:51.034Z"
   },
   {
    "duration": 14,
    "start_time": "2022-11-24T05:40:52.716Z"
   },
   {
    "duration": 20,
    "start_time": "2022-11-24T05:40:53.323Z"
   },
   {
    "duration": 155,
    "start_time": "2022-11-24T05:40:54.429Z"
   },
   {
    "duration": 20,
    "start_time": "2022-11-24T05:40:55.908Z"
   },
   {
    "duration": 18,
    "start_time": "2022-11-24T05:40:57.731Z"
   },
   {
    "duration": 15,
    "start_time": "2022-11-24T05:41:01.596Z"
   },
   {
    "duration": 8,
    "start_time": "2022-11-24T05:41:02.731Z"
   },
   {
    "duration": 23,
    "start_time": "2022-11-24T05:41:03.316Z"
   },
   {
    "duration": 13,
    "start_time": "2022-11-24T05:41:03.908Z"
   },
   {
    "duration": 8,
    "start_time": "2022-11-24T05:41:09.491Z"
   },
   {
    "duration": 6,
    "start_time": "2022-11-24T05:41:10.787Z"
   },
   {
    "duration": 451,
    "start_time": "2022-11-24T05:41:12.008Z"
   },
   {
    "duration": 112,
    "start_time": "2022-11-24T06:10:51.030Z"
   },
   {
    "duration": 22,
    "start_time": "2022-11-24T06:11:32.909Z"
   },
   {
    "duration": 95295,
    "start_time": "2022-11-24T06:11:51.686Z"
   },
   {
    "duration": 18,
    "start_time": "2022-11-24T06:14:21.111Z"
   },
   {
    "duration": 469,
    "start_time": "2022-11-24T06:15:04.703Z"
   },
   {
    "duration": 409,
    "start_time": "2022-11-24T06:15:43.119Z"
   },
   {
    "duration": 410,
    "start_time": "2022-11-24T06:16:08.963Z"
   },
   {
    "duration": 95229,
    "start_time": "2022-11-24T06:17:05.729Z"
   },
   {
    "duration": 423,
    "start_time": "2022-11-24T06:18:41.383Z"
   },
   {
    "duration": 458,
    "start_time": "2022-11-24T06:18:55.697Z"
   },
   {
    "duration": 76,
    "start_time": "2022-11-24T06:26:09.017Z"
   },
   {
    "duration": 522,
    "start_time": "2022-11-24T06:26:19.931Z"
   },
   {
    "duration": 22,
    "start_time": "2022-11-24T06:30:55.303Z"
   },
   {
    "duration": 23555,
    "start_time": "2022-11-24T06:31:28.862Z"
   },
   {
    "duration": 97074,
    "start_time": "2022-11-24T06:33:18.038Z"
   },
   {
    "duration": 4,
    "start_time": "2022-11-24T06:59:08.821Z"
   },
   {
    "duration": 48,
    "start_time": "2022-11-24T06:59:11.157Z"
   },
   {
    "duration": 12,
    "start_time": "2022-11-24T06:59:12.133Z"
   },
   {
    "duration": 17,
    "start_time": "2022-11-24T06:59:14.227Z"
   },
   {
    "duration": 13,
    "start_time": "2022-11-24T06:59:16.452Z"
   },
   {
    "duration": 21,
    "start_time": "2022-11-24T06:59:17.140Z"
   },
   {
    "duration": 144,
    "start_time": "2022-11-24T06:59:18.605Z"
   },
   {
    "duration": 18,
    "start_time": "2022-11-24T06:59:20.244Z"
   },
   {
    "duration": 18,
    "start_time": "2022-11-24T06:59:22.357Z"
   },
   {
    "duration": 15,
    "start_time": "2022-11-24T06:59:27.709Z"
   },
   {
    "duration": 7,
    "start_time": "2022-11-24T06:59:29.215Z"
   },
   {
    "duration": 26,
    "start_time": "2022-11-24T06:59:30.028Z"
   },
   {
    "duration": 12,
    "start_time": "2022-11-24T06:59:30.926Z"
   },
   {
    "duration": 7,
    "start_time": "2022-11-24T06:59:32.412Z"
   },
   {
    "duration": 6,
    "start_time": "2022-11-24T06:59:33.947Z"
   },
   {
    "duration": 469,
    "start_time": "2022-11-24T06:59:36.272Z"
   },
   {
    "duration": 1378,
    "start_time": "2022-11-24T07:00:59.032Z"
   },
   {
    "duration": 49,
    "start_time": "2022-11-24T07:01:00.412Z"
   },
   {
    "duration": 17,
    "start_time": "2022-11-24T07:01:00.463Z"
   },
   {
    "duration": 14,
    "start_time": "2022-11-24T07:01:00.482Z"
   },
   {
    "duration": 29,
    "start_time": "2022-11-24T07:01:00.498Z"
   },
   {
    "duration": 33,
    "start_time": "2022-11-24T07:01:00.528Z"
   },
   {
    "duration": 153,
    "start_time": "2022-11-24T07:01:00.562Z"
   },
   {
    "duration": 20,
    "start_time": "2022-11-24T07:01:00.721Z"
   },
   {
    "duration": 18,
    "start_time": "2022-11-24T07:01:00.743Z"
   },
   {
    "duration": 16,
    "start_time": "2022-11-24T07:01:00.762Z"
   },
   {
    "duration": 33,
    "start_time": "2022-11-24T07:01:00.779Z"
   },
   {
    "duration": 29,
    "start_time": "2022-11-24T07:01:00.821Z"
   },
   {
    "duration": 16,
    "start_time": "2022-11-24T07:01:00.852Z"
   },
   {
    "duration": 14,
    "start_time": "2022-11-24T07:01:00.871Z"
   },
   {
    "duration": 12,
    "start_time": "2022-11-24T07:01:00.887Z"
   },
   {
    "duration": 527,
    "start_time": "2022-11-24T07:01:00.900Z"
   },
   {
    "duration": 95662,
    "start_time": "2022-11-24T07:01:01.429Z"
   },
   {
    "duration": 130,
    "start_time": "2022-11-24T07:02:37.093Z"
   },
   {
    "duration": 616,
    "start_time": "2022-11-24T07:02:37.225Z"
   },
   {
    "duration": 5,
    "start_time": "2022-11-24T07:02:37.843Z"
   },
   {
    "duration": 15,
    "start_time": "2022-11-24T07:02:37.849Z"
   },
   {
    "duration": 63,
    "start_time": "2022-11-24T07:02:37.865Z"
   },
   {
    "duration": 214,
    "start_time": "2022-11-24T07:02:37.929Z"
   },
   {
    "duration": 944,
    "start_time": "2022-11-24T07:02:38.145Z"
   },
   {
    "duration": 5,
    "start_time": "2022-11-24T07:02:39.091Z"
   },
   {
    "duration": 39,
    "start_time": "2022-11-24T07:02:39.098Z"
   },
   {
    "duration": 20,
    "start_time": "2022-11-24T07:02:39.139Z"
   },
   {
    "duration": 63,
    "start_time": "2022-11-24T07:02:39.160Z"
   },
   {
    "duration": 116,
    "start_time": "2022-11-24T07:02:39.225Z"
   },
   {
    "duration": 220,
    "start_time": "2022-11-24T07:02:39.342Z"
   },
   {
    "duration": 4,
    "start_time": "2022-11-24T07:02:39.564Z"
   },
   {
    "duration": 15,
    "start_time": "2022-11-24T07:02:39.570Z"
   },
   {
    "duration": 376,
    "start_time": "2022-11-24T07:02:39.586Z"
   },
   {
    "duration": 24,
    "start_time": "2022-11-24T07:02:39.964Z"
   },
   {
    "duration": 6,
    "start_time": "2022-11-24T07:02:39.989Z"
   },
   {
    "duration": 167,
    "start_time": "2022-11-24T07:03:31.655Z"
   },
   {
    "duration": 694,
    "start_time": "2022-11-24T07:06:50.652Z"
   },
   {
    "duration": 4,
    "start_time": "2022-11-24T07:07:34.570Z"
   },
   {
    "duration": 12,
    "start_time": "2022-11-24T07:07:35.570Z"
   },
   {
    "duration": 83,
    "start_time": "2022-11-24T07:07:40.741Z"
   },
   {
    "duration": 622,
    "start_time": "2022-11-24T07:12:05.701Z"
   },
   {
    "duration": 113,
    "start_time": "2022-11-24T07:13:27.473Z"
   },
   {
    "duration": 125935,
    "start_time": "2022-11-24T07:13:37.990Z"
   },
   {
    "duration": 256922,
    "start_time": "2022-11-24T07:15:53.000Z"
   },
   {
    "duration": 5,
    "start_time": "2022-11-24T07:20:55.080Z"
   },
   {
    "duration": 12,
    "start_time": "2022-11-24T07:20:55.706Z"
   },
   {
    "duration": 8,
    "start_time": "2022-11-24T07:20:56.569Z"
   },
   {
    "duration": 20,
    "start_time": "2022-11-24T07:21:41.522Z"
   },
   {
    "duration": 96,
    "start_time": "2022-11-24T07:22:13.426Z"
   },
   {
    "duration": 274,
    "start_time": "2022-11-24T07:23:27.858Z"
   },
   {
    "duration": 91967,
    "start_time": "2022-11-24T07:24:56.690Z"
   },
   {
    "duration": 93974,
    "start_time": "2022-11-24T07:30:24.471Z"
   },
   {
    "duration": 256237,
    "start_time": "2022-11-24T07:32:59.289Z"
   },
   {
    "duration": 21,
    "start_time": "2022-11-24T07:38:38.009Z"
   },
   {
    "duration": 90,
    "start_time": "2022-11-24T07:38:56.633Z"
   },
   {
    "duration": 771,
    "start_time": "2022-11-24T07:39:56.171Z"
   },
   {
    "duration": 197,
    "start_time": "2022-11-24T07:40:08.137Z"
   },
   {
    "duration": 1383,
    "start_time": "2022-11-24T07:41:03.457Z"
   },
   {
    "duration": 49,
    "start_time": "2022-11-24T07:41:04.842Z"
   },
   {
    "duration": 15,
    "start_time": "2022-11-24T07:41:04.893Z"
   },
   {
    "duration": 13,
    "start_time": "2022-11-24T07:41:04.910Z"
   },
   {
    "duration": 18,
    "start_time": "2022-11-24T07:41:04.925Z"
   },
   {
    "duration": 25,
    "start_time": "2022-11-24T07:41:04.945Z"
   },
   {
    "duration": 171,
    "start_time": "2022-11-24T07:41:04.971Z"
   },
   {
    "duration": 21,
    "start_time": "2022-11-24T07:41:05.144Z"
   },
   {
    "duration": 19,
    "start_time": "2022-11-24T07:41:05.167Z"
   },
   {
    "duration": 44,
    "start_time": "2022-11-24T07:41:05.188Z"
   },
   {
    "duration": 9,
    "start_time": "2022-11-24T07:41:05.234Z"
   },
   {
    "duration": 24,
    "start_time": "2022-11-24T07:41:05.245Z"
   },
   {
    "duration": 11,
    "start_time": "2022-11-24T07:41:05.272Z"
   },
   {
    "duration": 39,
    "start_time": "2022-11-24T07:41:05.286Z"
   },
   {
    "duration": 6,
    "start_time": "2022-11-24T07:41:05.327Z"
   },
   {
    "duration": 537,
    "start_time": "2022-11-24T07:41:05.335Z"
   },
   {
    "duration": 1275,
    "start_time": "2022-11-24T07:41:52.355Z"
   },
   {
    "duration": 48,
    "start_time": "2022-11-24T07:41:53.632Z"
   },
   {
    "duration": 16,
    "start_time": "2022-11-24T07:41:53.682Z"
   },
   {
    "duration": 13,
    "start_time": "2022-11-24T07:41:53.700Z"
   },
   {
    "duration": 15,
    "start_time": "2022-11-24T07:41:53.715Z"
   },
   {
    "duration": 22,
    "start_time": "2022-11-24T07:41:53.732Z"
   },
   {
    "duration": 171,
    "start_time": "2022-11-24T07:41:53.755Z"
   },
   {
    "duration": 21,
    "start_time": "2022-11-24T07:41:53.927Z"
   },
   {
    "duration": 19,
    "start_time": "2022-11-24T07:41:53.949Z"
   },
   {
    "duration": 15,
    "start_time": "2022-11-24T07:41:53.970Z"
   },
   {
    "duration": 38,
    "start_time": "2022-11-24T07:41:53.986Z"
   },
   {
    "duration": 35,
    "start_time": "2022-11-24T07:41:54.026Z"
   },
   {
    "duration": 15,
    "start_time": "2022-11-24T07:41:54.063Z"
   },
   {
    "duration": 9,
    "start_time": "2022-11-24T07:41:54.080Z"
   },
   {
    "duration": 40,
    "start_time": "2022-11-24T07:41:54.091Z"
   },
   {
    "duration": 551,
    "start_time": "2022-11-24T07:41:54.134Z"
   },
   {
    "duration": 4,
    "start_time": "2022-11-24T07:43:33.539Z"
   },
   {
    "duration": 25,
    "start_time": "2022-11-24T07:43:33.545Z"
   },
   {
    "duration": 172,
    "start_time": "2022-11-24T07:43:33.572Z"
   },
   {
    "duration": 747,
    "start_time": "2022-11-24T07:43:33.746Z"
   },
   {
    "duration": 3,
    "start_time": "2022-11-24T07:49:24.919Z"
   },
   {
    "duration": 47,
    "start_time": "2022-11-24T07:49:26.925Z"
   },
   {
    "duration": 13,
    "start_time": "2022-11-24T07:49:27.518Z"
   },
   {
    "duration": 13,
    "start_time": "2022-11-24T07:49:29.390Z"
   },
   {
    "duration": 14,
    "start_time": "2022-11-24T07:49:31.340Z"
   },
   {
    "duration": 24,
    "start_time": "2022-11-24T07:49:31.990Z"
   },
   {
    "duration": 137,
    "start_time": "2022-11-24T07:49:33.342Z"
   },
   {
    "duration": 21,
    "start_time": "2022-11-24T07:49:35.012Z"
   },
   {
    "duration": 18,
    "start_time": "2022-11-24T07:49:36.788Z"
   },
   {
    "duration": 16,
    "start_time": "2022-11-24T07:49:40.828Z"
   },
   {
    "duration": 8,
    "start_time": "2022-11-24T07:49:42.165Z"
   },
   {
    "duration": 24,
    "start_time": "2022-11-24T07:49:42.846Z"
   },
   {
    "duration": 17,
    "start_time": "2022-11-24T07:49:44.177Z"
   },
   {
    "duration": 6,
    "start_time": "2022-11-24T07:49:45.627Z"
   },
   {
    "duration": 6,
    "start_time": "2022-11-24T07:49:47.005Z"
   },
   {
    "duration": 484,
    "start_time": "2022-11-24T07:49:48.502Z"
   },
   {
    "duration": 96541,
    "start_time": "2022-11-24T07:49:51.524Z"
   },
   {
    "duration": 125,
    "start_time": "2022-11-24T07:51:34.500Z"
   },
   {
    "duration": 755,
    "start_time": "2022-11-24T07:52:53.619Z"
   },
   {
    "duration": 4,
    "start_time": "2022-11-24T07:53:20.310Z"
   },
   {
    "duration": 12,
    "start_time": "2022-11-24T07:53:21.214Z"
   },
   {
    "duration": 198,
    "start_time": "2022-11-24T07:53:26.531Z"
   },
   {
    "duration": 599,
    "start_time": "2022-11-24T07:53:35.080Z"
   },
   {
    "duration": 256459,
    "start_time": "2022-11-24T07:53:43.769Z"
   },
   {
    "duration": 5,
    "start_time": "2022-11-24T07:58:17.869Z"
   },
   {
    "duration": 10,
    "start_time": "2022-11-24T07:58:18.560Z"
   },
   {
    "duration": 6,
    "start_time": "2022-11-24T07:58:19.257Z"
   },
   {
    "duration": 219,
    "start_time": "2022-11-24T07:58:28.410Z"
   },
   {
    "duration": 11,
    "start_time": "2022-11-24T08:00:05.336Z"
   },
   {
    "duration": 214,
    "start_time": "2022-11-24T08:00:53.613Z"
   },
   {
    "duration": 4,
    "start_time": "2022-11-24T08:02:08.998Z"
   },
   {
    "duration": 18,
    "start_time": "2022-11-24T08:02:10.388Z"
   },
   {
    "duration": 4,
    "start_time": "2022-11-24T08:02:38.260Z"
   },
   {
    "duration": 9,
    "start_time": "2022-11-24T08:02:39.549Z"
   },
   {
    "duration": 5,
    "start_time": "2022-11-24T08:02:40.636Z"
   },
   {
    "duration": 190,
    "start_time": "2022-11-24T08:02:42.436Z"
   },
   {
    "duration": 239,
    "start_time": "2022-11-24T08:02:47.575Z"
   },
   {
    "duration": 149,
    "start_time": "2022-11-24T08:02:52.476Z"
   },
   {
    "duration": 90436,
    "start_time": "2022-11-24T08:03:33.243Z"
   },
   {
    "duration": 9,
    "start_time": "2022-11-24T08:05:36.222Z"
   },
   {
    "duration": 5,
    "start_time": "2022-11-24T08:05:36.774Z"
   },
   {
    "duration": 220,
    "start_time": "2022-11-24T08:05:37.805Z"
   },
   {
    "duration": 298,
    "start_time": "2022-11-24T08:05:42.281Z"
   },
   {
    "duration": 109288,
    "start_time": "2022-11-24T08:05:43.535Z"
   },
   {
    "duration": 6,
    "start_time": "2022-11-24T08:14:12.614Z"
   },
   {
    "duration": 11,
    "start_time": "2022-11-24T08:14:13.118Z"
   },
   {
    "duration": 1144,
    "start_time": "2022-11-24T08:14:13.626Z"
   },
   {
    "duration": 60,
    "start_time": "2022-11-24T08:14:14.772Z"
   },
   {
    "duration": 6,
    "start_time": "2022-11-24T08:14:14.833Z"
   },
   {
    "duration": 6,
    "start_time": "2022-11-24T08:14:34.804Z"
   },
   {
    "duration": 3,
    "start_time": "2022-11-24T08:30:41.125Z"
   },
   {
    "duration": 50,
    "start_time": "2022-11-24T08:30:43.804Z"
   },
   {
    "duration": 13,
    "start_time": "2022-11-24T08:30:45.075Z"
   },
   {
    "duration": 13,
    "start_time": "2022-11-24T08:30:46.970Z"
   },
   {
    "duration": 15,
    "start_time": "2022-11-24T08:30:49.085Z"
   },
   {
    "duration": 22,
    "start_time": "2022-11-24T08:30:49.847Z"
   },
   {
    "duration": 137,
    "start_time": "2022-11-24T08:30:51.347Z"
   },
   {
    "duration": 22,
    "start_time": "2022-11-24T08:30:53.091Z"
   },
   {
    "duration": 19,
    "start_time": "2022-11-24T08:30:55.671Z"
   },
   {
    "duration": 16,
    "start_time": "2022-11-24T08:31:01.988Z"
   },
   {
    "duration": 8,
    "start_time": "2022-11-24T08:31:03.607Z"
   },
   {
    "duration": 25,
    "start_time": "2022-11-24T08:31:04.445Z"
   },
   {
    "duration": 12,
    "start_time": "2022-11-24T08:31:05.277Z"
   },
   {
    "duration": 6,
    "start_time": "2022-11-24T08:31:07.071Z"
   },
   {
    "duration": 6,
    "start_time": "2022-11-24T08:31:08.937Z"
   },
   {
    "duration": 503,
    "start_time": "2022-11-24T08:31:12.185Z"
   },
   {
    "duration": 99804,
    "start_time": "2022-11-24T08:31:17.579Z"
   },
   {
    "duration": 54,
    "start_time": "2022-11-24T08:34:00.077Z"
   },
   {
    "duration": 709,
    "start_time": "2022-11-24T08:34:03.135Z"
   },
   {
    "duration": 4,
    "start_time": "2022-11-24T08:34:06.735Z"
   },
   {
    "duration": 12,
    "start_time": "2022-11-24T08:34:07.581Z"
   },
   {
    "duration": 229,
    "start_time": "2022-11-24T08:34:08.318Z"
   },
   {
    "duration": 651,
    "start_time": "2022-11-24T08:34:09.873Z"
   },
   {
    "duration": 262705,
    "start_time": "2022-11-24T08:34:12.618Z"
   },
   {
    "duration": 4,
    "start_time": "2022-11-24T08:38:56.576Z"
   },
   {
    "duration": 10,
    "start_time": "2022-11-24T08:38:57.647Z"
   },
   {
    "duration": 4,
    "start_time": "2022-11-24T08:38:59.609Z"
   },
   {
    "duration": 242,
    "start_time": "2022-11-24T08:39:00.496Z"
   },
   {
    "duration": 341,
    "start_time": "2022-11-24T08:39:01.672Z"
   },
   {
    "duration": 113610,
    "start_time": "2022-11-24T08:39:04.081Z"
   },
   {
    "duration": 6,
    "start_time": "2022-11-24T08:41:14.840Z"
   },
   {
    "duration": 11,
    "start_time": "2022-11-24T08:41:15.480Z"
   },
   {
    "duration": 1132,
    "start_time": "2022-11-24T08:41:16.297Z"
   },
   {
    "duration": 56,
    "start_time": "2022-11-24T08:41:17.431Z"
   },
   {
    "duration": 7,
    "start_time": "2022-11-24T08:41:18.979Z"
   },
   {
    "duration": 1694,
    "start_time": "2022-11-25T03:16:23.475Z"
   },
   {
    "duration": 271,
    "start_time": "2022-11-25T03:16:25.171Z"
   },
   {
    "duration": 18,
    "start_time": "2022-11-25T03:16:25.444Z"
   },
   {
    "duration": 15,
    "start_time": "2022-11-25T03:16:25.465Z"
   },
   {
    "duration": 19,
    "start_time": "2022-11-25T03:16:25.482Z"
   },
   {
    "duration": 46,
    "start_time": "2022-11-25T03:16:25.503Z"
   },
   {
    "duration": 193,
    "start_time": "2022-11-25T03:16:25.551Z"
   },
   {
    "duration": 38,
    "start_time": "2022-11-25T03:16:25.746Z"
   },
   {
    "duration": 24,
    "start_time": "2022-11-25T03:16:25.786Z"
   },
   {
    "duration": 35,
    "start_time": "2022-11-25T03:16:25.813Z"
   },
   {
    "duration": 20,
    "start_time": "2022-11-25T03:16:25.850Z"
   },
   {
    "duration": 23,
    "start_time": "2022-11-25T03:16:25.872Z"
   },
   {
    "duration": 11,
    "start_time": "2022-11-25T03:16:25.897Z"
   },
   {
    "duration": 27,
    "start_time": "2022-11-25T03:16:25.910Z"
   },
   {
    "duration": 8,
    "start_time": "2022-11-25T03:16:25.939Z"
   },
   {
    "duration": 523,
    "start_time": "2022-11-25T03:16:25.948Z"
   },
   {
    "duration": 104117,
    "start_time": "2022-11-25T03:16:26.473Z"
   },
   {
    "duration": 155,
    "start_time": "2022-11-25T03:18:10.592Z"
   },
   {
    "duration": 921,
    "start_time": "2022-11-25T03:18:10.749Z"
   },
   {
    "duration": 4,
    "start_time": "2022-11-25T03:18:11.671Z"
   },
   {
    "duration": 13,
    "start_time": "2022-11-25T03:18:11.677Z"
   },
   {
    "duration": 255,
    "start_time": "2022-11-25T03:18:11.692Z"
   },
   {
    "duration": 0,
    "start_time": "2022-11-25T03:18:11.950Z"
   },
   {
    "duration": 0,
    "start_time": "2022-11-25T03:18:11.952Z"
   },
   {
    "duration": 0,
    "start_time": "2022-11-25T03:18:11.953Z"
   },
   {
    "duration": 0,
    "start_time": "2022-11-25T03:18:11.954Z"
   },
   {
    "duration": 0,
    "start_time": "2022-11-25T03:18:11.955Z"
   },
   {
    "duration": 0,
    "start_time": "2022-11-25T03:18:11.956Z"
   },
   {
    "duration": 0,
    "start_time": "2022-11-25T03:18:11.957Z"
   },
   {
    "duration": 0,
    "start_time": "2022-11-25T03:18:11.958Z"
   },
   {
    "duration": 0,
    "start_time": "2022-11-25T03:18:11.959Z"
   },
   {
    "duration": 0,
    "start_time": "2022-11-25T03:18:11.960Z"
   },
   {
    "duration": 0,
    "start_time": "2022-11-25T03:18:11.961Z"
   },
   {
    "duration": 0,
    "start_time": "2022-11-25T03:18:11.962Z"
   },
   {
    "duration": 0,
    "start_time": "2022-11-25T03:18:11.963Z"
   },
   {
    "duration": 617,
    "start_time": "2022-11-25T03:19:26.230Z"
   },
   {
    "duration": 264299,
    "start_time": "2022-11-25T03:19:28.622Z"
   },
   {
    "duration": 4,
    "start_time": "2022-11-25T03:23:55.412Z"
   },
   {
    "duration": 10,
    "start_time": "2022-11-25T03:23:55.603Z"
   },
   {
    "duration": 5,
    "start_time": "2022-11-25T03:23:55.758Z"
   },
   {
    "duration": 136,
    "start_time": "2022-11-25T03:23:55.910Z"
   },
   {
    "duration": 346,
    "start_time": "2022-11-25T03:23:56.068Z"
   },
   {
    "duration": 0,
    "start_time": "2022-11-25T03:23:56.415Z"
   },
   {
    "duration": 111731,
    "start_time": "2022-11-25T03:24:15.191Z"
   },
   {
    "duration": 7,
    "start_time": "2022-11-25T03:27:08.224Z"
   },
   {
    "duration": 17,
    "start_time": "2022-11-25T03:27:08.380Z"
   },
   {
    "duration": 1182,
    "start_time": "2022-11-25T03:27:08.480Z"
   },
   {
    "duration": 55,
    "start_time": "2022-11-25T03:27:09.663Z"
   },
   {
    "duration": 21,
    "start_time": "2022-11-25T03:27:09.720Z"
   },
   {
    "duration": 50,
    "start_time": "2022-11-25T06:37:01.009Z"
   },
   {
    "duration": 8,
    "start_time": "2022-11-25T06:38:00.178Z"
   },
   {
    "duration": 9,
    "start_time": "2022-11-25T06:39:40.251Z"
   },
   {
    "duration": 11,
    "start_time": "2022-11-25T06:40:15.612Z"
   },
   {
    "duration": 1500,
    "start_time": "2022-11-25T06:40:24.810Z"
   },
   {
    "duration": 90,
    "start_time": "2022-11-25T06:40:26.395Z"
   },
   {
    "duration": 19,
    "start_time": "2022-11-25T06:40:27.260Z"
   },
   {
    "duration": 17,
    "start_time": "2022-11-25T06:40:28.944Z"
   },
   {
    "duration": 15,
    "start_time": "2022-11-25T06:40:30.636Z"
   },
   {
    "duration": 24,
    "start_time": "2022-11-25T06:40:31.219Z"
   },
   {
    "duration": 155,
    "start_time": "2022-11-25T06:40:32.395Z"
   },
   {
    "duration": 21,
    "start_time": "2022-11-25T06:40:33.757Z"
   },
   {
    "duration": 19,
    "start_time": "2022-11-25T06:40:35.854Z"
   },
   {
    "duration": 16,
    "start_time": "2022-11-25T06:40:39.668Z"
   },
   {
    "duration": 10,
    "start_time": "2022-11-25T06:40:40.811Z"
   },
   {
    "duration": 32,
    "start_time": "2022-11-25T06:40:44.118Z"
   },
   {
    "duration": 12,
    "start_time": "2022-11-25T06:40:44.717Z"
   },
   {
    "duration": 8,
    "start_time": "2022-11-25T06:40:46.323Z"
   },
   {
    "duration": 7,
    "start_time": "2022-11-25T06:40:48.379Z"
   },
   {
    "duration": 542,
    "start_time": "2022-11-25T06:40:49.803Z"
   },
   {
    "duration": 113460,
    "start_time": "2022-11-25T06:40:55.643Z"
   },
   {
    "duration": 154,
    "start_time": "2022-11-25T06:42:49.106Z"
   },
   {
    "duration": 929,
    "start_time": "2022-11-25T06:42:49.263Z"
   },
   {
    "duration": 4,
    "start_time": "2022-11-25T06:42:50.195Z"
   },
   {
    "duration": 33,
    "start_time": "2022-11-25T06:42:50.201Z"
   },
   {
    "duration": 286,
    "start_time": "2022-11-25T06:42:50.236Z"
   },
   {
    "duration": 0,
    "start_time": "2022-11-25T06:42:50.524Z"
   },
   {
    "duration": 0,
    "start_time": "2022-11-25T06:42:50.526Z"
   },
   {
    "duration": 104531,
    "start_time": "2022-11-25T06:44:58.832Z"
   },
   {
    "duration": 508,
    "start_time": "2022-11-25T06:46:49.651Z"
   },
   {
    "duration": 802,
    "start_time": "2022-11-25T06:46:54.561Z"
   },
   {
    "duration": 4,
    "start_time": "2022-11-25T06:47:08.471Z"
   },
   {
    "duration": 12,
    "start_time": "2022-11-25T06:47:09.615Z"
   },
   {
    "duration": 207,
    "start_time": "2022-11-25T06:47:11.349Z"
   },
   {
    "duration": 173,
    "start_time": "2022-11-25T06:48:02.886Z"
   },
   {
    "duration": 671,
    "start_time": "2022-11-25T06:48:12.575Z"
   },
   {
    "duration": 747,
    "start_time": "2022-11-25T06:48:40.921Z"
   },
   {
    "duration": 288685,
    "start_time": "2022-11-25T06:49:13.609Z"
   },
   {
    "duration": 5,
    "start_time": "2022-11-25T06:54:20.876Z"
   },
   {
    "duration": 14,
    "start_time": "2022-11-25T06:54:21.613Z"
   },
   {
    "duration": 5,
    "start_time": "2022-11-25T06:54:22.250Z"
   },
   {
    "duration": 27,
    "start_time": "2022-11-25T06:54:39.469Z"
   },
   {
    "duration": 340,
    "start_time": "2022-11-25T06:54:56.356Z"
   },
   {
    "duration": 121797,
    "start_time": "2022-11-25T06:55:15.490Z"
   },
   {
    "duration": 7,
    "start_time": "2022-11-25T07:00:45.495Z"
   },
   {
    "duration": 13,
    "start_time": "2022-11-25T07:00:45.975Z"
   },
   {
    "duration": 1327,
    "start_time": "2022-11-25T07:00:46.591Z"
   },
   {
    "duration": 73,
    "start_time": "2022-11-25T07:00:47.921Z"
   },
   {
    "duration": 9,
    "start_time": "2022-11-25T07:00:48.060Z"
   },
   {
    "duration": 4,
    "start_time": "2022-11-25T07:19:58.095Z"
   },
   {
    "duration": 51,
    "start_time": "2022-11-25T07:20:01.288Z"
   },
   {
    "duration": 14,
    "start_time": "2022-11-25T07:20:04.376Z"
   },
   {
    "duration": 14,
    "start_time": "2022-11-25T07:20:07.280Z"
   },
   {
    "duration": 15,
    "start_time": "2022-11-25T07:20:11.671Z"
   },
   {
    "duration": 30,
    "start_time": "2022-11-25T07:20:12.288Z"
   },
   {
    "duration": 173,
    "start_time": "2022-11-25T07:20:13.564Z"
   },
   {
    "duration": 25,
    "start_time": "2022-11-25T07:20:15.880Z"
   },
   {
    "duration": 20,
    "start_time": "2022-11-25T07:20:18.471Z"
   },
   {
    "duration": 24,
    "start_time": "2022-11-25T07:20:28.081Z"
   },
   {
    "duration": 11,
    "start_time": "2022-11-25T07:20:29.640Z"
   },
   {
    "duration": 29,
    "start_time": "2022-11-25T07:20:30.433Z"
   },
   {
    "duration": 14,
    "start_time": "2022-11-25T07:20:31.149Z"
   },
   {
    "duration": 7,
    "start_time": "2022-11-25T07:20:33.640Z"
   },
   {
    "duration": 9,
    "start_time": "2022-11-25T07:20:35.113Z"
   },
   {
    "duration": 602,
    "start_time": "2022-11-25T07:20:36.656Z"
   },
   {
    "duration": 112343,
    "start_time": "2022-11-25T07:20:42.965Z"
   },
   {
    "duration": 121,
    "start_time": "2022-11-25T07:27:01.843Z"
   },
   {
    "duration": 784,
    "start_time": "2022-11-25T07:27:06.200Z"
   },
   {
    "duration": 6,
    "start_time": "2022-11-25T07:27:11.467Z"
   },
   {
    "duration": 17,
    "start_time": "2022-11-25T07:27:14.750Z"
   },
   {
    "duration": 117,
    "start_time": "2022-11-25T07:27:15.552Z"
   },
   {
    "duration": 776,
    "start_time": "2022-11-25T07:27:19.867Z"
   },
   {
    "duration": 291797,
    "start_time": "2022-11-25T07:27:24.620Z"
   },
   {
    "duration": 5,
    "start_time": "2022-11-25T07:39:22.569Z"
   },
   {
    "duration": 10,
    "start_time": "2022-11-25T07:39:23.544Z"
   },
   {
    "duration": 5,
    "start_time": "2022-11-25T07:39:24.024Z"
   },
   {
    "duration": 41,
    "start_time": "2022-11-25T07:39:25.028Z"
   },
   {
    "duration": 314,
    "start_time": "2022-11-25T07:39:26.994Z"
   },
   {
    "duration": 125866,
    "start_time": "2022-11-25T07:39:36.642Z"
   },
   {
    "duration": 7,
    "start_time": "2022-11-25T07:43:00.116Z"
   },
   {
    "duration": 16,
    "start_time": "2022-11-25T07:43:00.507Z"
   },
   {
    "duration": 1257,
    "start_time": "2022-11-25T07:43:00.923Z"
   },
   {
    "duration": 58,
    "start_time": "2022-11-25T07:43:02.183Z"
   },
   {
    "duration": 6,
    "start_time": "2022-11-25T07:43:02.254Z"
   },
   {
    "duration": 1776,
    "start_time": "2022-11-25T15:35:33.014Z"
   },
   {
    "duration": 164,
    "start_time": "2022-11-25T15:35:34.793Z"
   },
   {
    "duration": 18,
    "start_time": "2022-11-25T15:35:34.959Z"
   },
   {
    "duration": 15,
    "start_time": "2022-11-25T15:35:34.979Z"
   },
   {
    "duration": 16,
    "start_time": "2022-11-25T15:35:34.996Z"
   },
   {
    "duration": 51,
    "start_time": "2022-11-25T15:35:35.014Z"
   },
   {
    "duration": 187,
    "start_time": "2022-11-25T15:35:35.066Z"
   },
   {
    "duration": 23,
    "start_time": "2022-11-25T15:35:35.254Z"
   },
   {
    "duration": 19,
    "start_time": "2022-11-25T15:35:35.279Z"
   },
   {
    "duration": 17,
    "start_time": "2022-11-25T15:35:35.300Z"
   },
   {
    "duration": 41,
    "start_time": "2022-11-25T15:35:35.319Z"
   },
   {
    "duration": 29,
    "start_time": "2022-11-25T15:35:35.362Z"
   },
   {
    "duration": 13,
    "start_time": "2022-11-25T15:35:35.393Z"
   },
   {
    "duration": 8,
    "start_time": "2022-11-25T15:35:35.411Z"
   },
   {
    "duration": 7,
    "start_time": "2022-11-25T15:35:35.451Z"
   },
   {
    "duration": 553,
    "start_time": "2022-11-25T15:35:35.460Z"
   },
   {
    "duration": 110773,
    "start_time": "2022-11-25T15:35:36.015Z"
   },
   {
    "duration": 262,
    "start_time": "2022-11-25T15:37:26.790Z"
   },
   {
    "duration": 826,
    "start_time": "2022-11-25T15:37:27.055Z"
   },
   {
    "duration": 4,
    "start_time": "2022-11-25T15:37:27.883Z"
   },
   {
    "duration": 15,
    "start_time": "2022-11-25T15:37:27.889Z"
   },
   {
    "duration": 53,
    "start_time": "2022-11-25T15:37:27.906Z"
   },
   {
    "duration": 871,
    "start_time": "2022-11-25T15:37:27.961Z"
   },
   {
    "duration": 291004,
    "start_time": "2022-11-25T15:37:28.834Z"
   },
   {
    "duration": 12,
    "start_time": "2022-11-25T15:42:19.840Z"
   },
   {
    "duration": 23,
    "start_time": "2022-11-25T15:42:19.855Z"
   },
   {
    "duration": 5,
    "start_time": "2022-11-25T15:42:19.881Z"
   },
   {
    "duration": 70,
    "start_time": "2022-11-25T15:42:19.888Z"
   },
   {
    "duration": 531,
    "start_time": "2022-11-25T15:42:19.961Z"
   },
   {
    "duration": 121678,
    "start_time": "2022-11-25T15:42:20.494Z"
   },
   {
    "duration": 6,
    "start_time": "2022-11-25T15:44:22.175Z"
   },
   {
    "duration": 16,
    "start_time": "2022-11-25T15:44:22.183Z"
   },
   {
    "duration": 1250,
    "start_time": "2022-11-25T15:44:22.201Z"
   },
   {
    "duration": 58,
    "start_time": "2022-11-25T15:44:23.453Z"
   },
   {
    "duration": 6,
    "start_time": "2022-11-25T15:44:23.513Z"
   },
   {
    "duration": 34,
    "start_time": "2022-11-25T15:44:23.522Z"
   },
   {
    "duration": 60,
    "start_time": "2022-11-25T15:44:59.012Z"
   },
   {
    "duration": 64,
    "start_time": "2022-11-25T15:46:55.138Z"
   },
   {
    "duration": 9,
    "start_time": "2022-11-25T15:47:10.134Z"
   },
   {
    "duration": 8,
    "start_time": "2022-11-25T15:47:27.351Z"
   },
   {
    "duration": 10,
    "start_time": "2022-11-25T15:48:02.810Z"
   },
   {
    "duration": 57,
    "start_time": "2022-11-25T15:48:13.030Z"
   },
   {
    "duration": 80,
    "start_time": "2023-01-08T12:58:08.390Z"
   },
   {
    "duration": 106,
    "start_time": "2023-01-08T13:00:38.236Z"
   },
   {
    "duration": 2680,
    "start_time": "2023-01-08T13:00:45.691Z"
   },
   {
    "duration": 175,
    "start_time": "2023-01-08T13:00:48.374Z"
   },
   {
    "duration": 21,
    "start_time": "2023-01-08T13:00:48.551Z"
   },
   {
    "duration": 73,
    "start_time": "2023-01-08T13:00:48.574Z"
   },
   {
    "duration": 30,
    "start_time": "2023-01-08T13:00:48.651Z"
   },
   {
    "duration": 79,
    "start_time": "2023-01-08T13:00:48.684Z"
   },
   {
    "duration": 507,
    "start_time": "2023-01-08T13:00:48.765Z"
   },
   {
    "duration": 85,
    "start_time": "2023-01-08T13:00:49.274Z"
   },
   {
    "duration": 84,
    "start_time": "2023-01-08T13:00:49.361Z"
   },
   {
    "duration": 17,
    "start_time": "2023-01-08T13:00:49.447Z"
   },
   {
    "duration": 77,
    "start_time": "2023-01-08T13:00:49.467Z"
   },
   {
    "duration": 92,
    "start_time": "2023-01-08T13:00:49.546Z"
   },
   {
    "duration": 17,
    "start_time": "2023-01-08T13:00:49.641Z"
   },
   {
    "duration": 12,
    "start_time": "2023-01-08T13:00:49.662Z"
   },
   {
    "duration": 68,
    "start_time": "2023-01-08T13:00:49.676Z"
   },
   {
    "duration": 1232,
    "start_time": "2023-01-08T13:00:49.746Z"
   },
   {
    "duration": 263466,
    "start_time": "2023-01-08T13:00:50.981Z"
   },
   {
    "duration": 694,
    "start_time": "2023-01-08T13:05:14.449Z"
   },
   {
    "duration": 1695,
    "start_time": "2023-01-08T13:05:15.148Z"
   },
   {
    "duration": 6,
    "start_time": "2023-01-08T13:05:16.845Z"
   },
   {
    "duration": 27,
    "start_time": "2023-01-08T13:05:16.853Z"
   },
   {
    "duration": 259,
    "start_time": "2023-01-08T13:05:16.883Z"
   },
   {
    "duration": 1807,
    "start_time": "2023-01-08T13:05:17.146Z"
   },
   {
    "duration": 11,
    "start_time": "2023-01-08T13:05:18.955Z"
   },
   {
    "duration": 299157,
    "start_time": "2023-01-08T13:05:18.969Z"
   },
   {
    "duration": 63,
    "start_time": "2023-01-08T13:10:18.128Z"
   },
   {
    "duration": 4,
    "start_time": "2023-01-08T13:10:18.193Z"
   },
   {
    "duration": 39,
    "start_time": "2023-01-08T13:10:18.199Z"
   },
   {
    "duration": 31,
    "start_time": "2023-01-08T13:10:18.241Z"
   },
   {
    "duration": 65,
    "start_time": "2023-01-08T13:10:18.274Z"
   },
   {
    "duration": 448,
    "start_time": "2023-01-08T13:10:18.340Z"
   },
   {
    "duration": 9,
    "start_time": "2023-01-08T13:10:18.790Z"
   },
   {
    "duration": 138165,
    "start_time": "2023-01-08T13:10:18.801Z"
   },
   {
    "duration": 49,
    "start_time": "2023-01-08T13:12:36.967Z"
   },
   {
    "duration": 22,
    "start_time": "2023-01-08T13:12:37.018Z"
   },
   {
    "duration": 14,
    "start_time": "2023-01-08T13:12:37.042Z"
   },
   {
    "duration": 1250,
    "start_time": "2023-01-08T13:12:37.058Z"
   },
   {
    "duration": 72,
    "start_time": "2023-01-08T13:12:38.310Z"
   },
   {
    "duration": 6,
    "start_time": "2023-01-08T13:12:38.384Z"
   },
   {
    "duration": 77,
    "start_time": "2023-02-28T06:58:49.527Z"
   },
   {
    "duration": 1491,
    "start_time": "2023-02-28T06:59:05.431Z"
   },
   {
    "duration": 68,
    "start_time": "2023-02-28T06:59:06.924Z"
   },
   {
    "duration": 22,
    "start_time": "2023-02-28T06:59:06.994Z"
   },
   {
    "duration": 34,
    "start_time": "2023-02-28T06:59:07.019Z"
   },
   {
    "duration": 30,
    "start_time": "2023-02-28T06:59:07.055Z"
   },
   {
    "duration": 23,
    "start_time": "2023-02-28T06:59:07.087Z"
   },
   {
    "duration": 180,
    "start_time": "2023-02-28T06:59:07.112Z"
   },
   {
    "duration": 23,
    "start_time": "2023-02-28T06:59:07.293Z"
   },
   {
    "duration": 42,
    "start_time": "2023-02-28T06:59:07.317Z"
   },
   {
    "duration": 16,
    "start_time": "2023-02-28T06:59:07.362Z"
   },
   {
    "duration": 10,
    "start_time": "2023-02-28T06:59:07.380Z"
   },
   {
    "duration": 55,
    "start_time": "2023-02-28T06:59:07.392Z"
   },
   {
    "duration": 13,
    "start_time": "2023-02-28T06:59:07.449Z"
   },
   {
    "duration": 14,
    "start_time": "2023-02-28T06:59:07.463Z"
   },
   {
    "duration": 11,
    "start_time": "2023-02-28T06:59:07.478Z"
   },
   {
    "duration": 592,
    "start_time": "2023-02-28T06:59:07.490Z"
   },
   {
    "duration": 193969,
    "start_time": "2023-02-28T06:59:08.084Z"
   },
   {
    "duration": 284,
    "start_time": "2023-02-28T07:02:22.056Z"
   },
   {
    "duration": 935,
    "start_time": "2023-02-28T07:02:22.344Z"
   },
   {
    "duration": 4,
    "start_time": "2023-02-28T07:02:23.281Z"
   },
   {
    "duration": 48,
    "start_time": "2023-02-28T07:02:23.287Z"
   },
   {
    "duration": 108,
    "start_time": "2023-02-28T07:02:23.337Z"
   },
   {
    "duration": 842,
    "start_time": "2023-02-28T07:02:23.447Z"
   },
   {
    "duration": 10,
    "start_time": "2023-02-28T07:02:24.291Z"
   },
   {
    "duration": 296899,
    "start_time": "2023-02-28T07:02:24.304Z"
   },
   {
    "duration": 70,
    "start_time": "2023-02-28T07:07:21.205Z"
   },
   {
    "duration": 4,
    "start_time": "2023-02-28T07:07:21.277Z"
   },
   {
    "duration": 36,
    "start_time": "2023-02-28T07:07:21.285Z"
   },
   {
    "duration": 28,
    "start_time": "2023-02-28T07:07:21.323Z"
   },
   {
    "duration": 188,
    "start_time": "2023-02-28T07:07:21.353Z"
   },
   {
    "duration": 426,
    "start_time": "2023-02-28T07:07:21.544Z"
   },
   {
    "duration": 11,
    "start_time": "2023-02-28T07:07:21.972Z"
   },
   {
    "duration": 1482,
    "start_time": "2023-02-28T07:07:56.513Z"
   },
   {
    "duration": 66,
    "start_time": "2023-02-28T07:07:57.997Z"
   },
   {
    "duration": 28,
    "start_time": "2023-02-28T07:07:58.065Z"
   },
   {
    "duration": 25,
    "start_time": "2023-02-28T07:07:58.097Z"
   },
   {
    "duration": 50,
    "start_time": "2023-02-28T07:07:58.124Z"
   },
   {
    "duration": 30,
    "start_time": "2023-02-28T07:07:58.176Z"
   },
   {
    "duration": 175,
    "start_time": "2023-02-28T07:07:58.208Z"
   },
   {
    "duration": 27,
    "start_time": "2023-02-28T07:07:58.384Z"
   },
   {
    "duration": 39,
    "start_time": "2023-02-28T07:07:58.413Z"
   },
   {
    "duration": 18,
    "start_time": "2023-02-28T07:07:58.456Z"
   },
   {
    "duration": 9,
    "start_time": "2023-02-28T07:07:58.476Z"
   },
   {
    "duration": 51,
    "start_time": "2023-02-28T07:07:58.487Z"
   },
   {
    "duration": 13,
    "start_time": "2023-02-28T07:07:58.540Z"
   },
   {
    "duration": 17,
    "start_time": "2023-02-28T07:07:58.555Z"
   },
   {
    "duration": 9,
    "start_time": "2023-02-28T07:07:58.574Z"
   },
   {
    "duration": 562,
    "start_time": "2023-02-28T07:07:58.585Z"
   },
   {
    "duration": 1441,
    "start_time": "2023-02-28T07:08:14.372Z"
   },
   {
    "duration": 69,
    "start_time": "2023-02-28T07:08:15.815Z"
   },
   {
    "duration": 19,
    "start_time": "2023-02-28T07:08:15.886Z"
   },
   {
    "duration": 14,
    "start_time": "2023-02-28T07:08:15.907Z"
   },
   {
    "duration": 16,
    "start_time": "2023-02-28T07:08:15.937Z"
   },
   {
    "duration": 25,
    "start_time": "2023-02-28T07:08:15.955Z"
   },
   {
    "duration": 198,
    "start_time": "2023-02-28T07:08:15.982Z"
   },
   {
    "duration": 22,
    "start_time": "2023-02-28T07:08:16.182Z"
   },
   {
    "duration": 37,
    "start_time": "2023-02-28T07:08:16.206Z"
   },
   {
    "duration": 18,
    "start_time": "2023-02-28T07:08:16.247Z"
   },
   {
    "duration": 12,
    "start_time": "2023-02-28T07:08:16.267Z"
   },
   {
    "duration": 33,
    "start_time": "2023-02-28T07:08:16.280Z"
   },
   {
    "duration": 15,
    "start_time": "2023-02-28T07:08:16.338Z"
   },
   {
    "duration": 44,
    "start_time": "2023-02-28T07:08:16.355Z"
   },
   {
    "duration": 29,
    "start_time": "2023-02-28T07:08:16.401Z"
   },
   {
    "duration": 573,
    "start_time": "2023-02-28T07:08:16.432Z"
   },
   {
    "duration": 108995,
    "start_time": "2023-02-28T07:08:17.010Z"
   },
   {
    "duration": 236,
    "start_time": "2023-02-28T07:10:06.007Z"
   },
   {
    "duration": 818,
    "start_time": "2023-02-28T07:10:06.245Z"
   },
   {
    "duration": 4,
    "start_time": "2023-02-28T07:10:07.065Z"
   },
   {
    "duration": 25,
    "start_time": "2023-02-28T07:10:07.071Z"
   },
   {
    "duration": 49,
    "start_time": "2023-02-28T07:10:07.098Z"
   },
   {
    "duration": 853,
    "start_time": "2023-02-28T07:10:07.149Z"
   },
   {
    "duration": 9,
    "start_time": "2023-02-28T07:10:08.004Z"
   },
   {
    "duration": 295246,
    "start_time": "2023-02-28T07:10:08.015Z"
   },
   {
    "duration": 57,
    "start_time": "2023-02-28T07:15:03.263Z"
   },
   {
    "duration": 21,
    "start_time": "2023-02-28T07:15:03.322Z"
   },
   {
    "duration": 64,
    "start_time": "2023-02-28T07:15:03.347Z"
   },
   {
    "duration": 43,
    "start_time": "2023-02-28T07:15:03.412Z"
   },
   {
    "duration": 189,
    "start_time": "2023-02-28T07:15:03.456Z"
   },
   {
    "duration": 390,
    "start_time": "2023-02-28T07:15:03.654Z"
   },
   {
    "duration": 12,
    "start_time": "2023-02-28T07:15:04.046Z"
   },
   {
    "duration": 127941,
    "start_time": "2023-02-28T07:15:04.060Z"
   },
   {
    "duration": 68,
    "start_time": "2023-02-28T07:17:12.003Z"
   },
   {
    "duration": 8,
    "start_time": "2023-02-28T07:17:12.074Z"
   },
   {
    "duration": 31,
    "start_time": "2023-02-28T07:17:12.084Z"
   },
   {
    "duration": 1407,
    "start_time": "2023-02-28T07:17:12.117Z"
   },
   {
    "duration": 62,
    "start_time": "2023-02-28T07:17:13.525Z"
   },
   {
    "duration": 6,
    "start_time": "2023-02-28T07:17:13.589Z"
   }
  ],
  "kernelspec": {
   "display_name": "Python 3 (ipykernel)",
   "language": "python",
   "name": "python3"
  },
  "language_info": {
   "codemirror_mode": {
    "name": "ipython",
    "version": 3
   },
   "file_extension": ".py",
   "mimetype": "text/x-python",
   "name": "python",
   "nbconvert_exporter": "python",
   "pygments_lexer": "ipython3",
   "version": "3.9.16"
  },
  "toc": {
   "base_numbering": 1,
   "nav_menu": {},
   "number_sections": true,
   "sideBar": true,
   "skip_h1_title": true,
   "title_cell": "Содержание",
   "title_sidebar": "Contents",
   "toc_cell": true,
   "toc_position": {
    "height": "calc(100% - 180px)",
    "left": "10px",
    "top": "150px",
    "width": "257.788px"
   },
   "toc_section_display": true,
   "toc_window_display": true
  }
 },
 "nbformat": 4,
 "nbformat_minor": 2
}
