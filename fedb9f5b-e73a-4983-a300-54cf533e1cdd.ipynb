{
 "cells": [
  {
   "cell_type": "markdown",
   "metadata": {
    "toc": true
   },
   "source": [
    "<h1>Содержание<span class=\"tocSkip\"></span></h1>\n",
    "<div class=\"toc\"><ul class=\"toc-item\"><li><span><a href=\"#Подготовка-данных\" data-toc-modified-id=\"Подготовка-данных-1\"><span class=\"toc-item-num\">1&nbsp;&nbsp;</span>Подготовка данных</a></span></li><li><span><a href=\"#Исследование-задачи\" data-toc-modified-id=\"Исследование-задачи-2\"><span class=\"toc-item-num\">2&nbsp;&nbsp;</span>Исследование задачи</a></span></li><li><span><a href=\"#Борьба-с-дисбалансом\" data-toc-modified-id=\"Борьба-с-дисбалансом-3\"><span class=\"toc-item-num\">3&nbsp;&nbsp;</span>Борьба с дисбалансом</a></span></li><li><span><a href=\"#Тестирование-модели\" data-toc-modified-id=\"Тестирование-модели-4\"><span class=\"toc-item-num\">4&nbsp;&nbsp;</span>Тестирование модели</a></span></li><li><span><a href=\"#Вывод\" data-toc-modified-id=\"Вывод-5\"><span class=\"toc-item-num\">5&nbsp;&nbsp;</span>Вывод</a></span></li><li><span><a href=\"#Чек-лист-готовности-проекта\" data-toc-modified-id=\"Чек-лист-готовности-проекта-6\"><span class=\"toc-item-num\">6&nbsp;&nbsp;</span>Чек-лист готовности проекта</a></span></li></ul></div>"
   ]
  },
  {
   "cell_type": "markdown",
   "metadata": {},
   "source": [
    "# Отток клиентов"
   ]
  },
  {
   "cell_type": "markdown",
   "metadata": {},
   "source": [
    "Из «Бета-Банка» стали уходить клиенты. Каждый месяц. Немного, но заметно. Банковские маркетологи посчитали: сохранять текущих клиентов дешевле, чем привлекать новых.\n",
    "\n",
    "Нужно спрогнозировать, уйдёт клиент из банка в ближайшее время или нет. Вам предоставлены исторические данные о поведении клиентов и расторжении договоров с банком. \n",
    "\n",
    "Постройте модель с предельно большим значением *F1*-меры. Чтобы сдать проект успешно, нужно довести метрику до 0.59. Проверьте *F1*-меру на тестовой выборке самостоятельно.\n",
    "\n",
    "Дополнительно измеряйте *AUC-ROC*, сравнивайте её значение с *F1*-мерой.\n",
    "\n",
    "Источник данных: [https://www.kaggle.com/barelydedicated/bank-customer-churn-modeling](https://www.kaggle.com/barelydedicated/bank-customer-churn-modeling)"
   ]
  },
  {
   "cell_type": "code",
   "execution_count": 1,
   "metadata": {},
   "outputs": [],
   "source": [
    "import pandas as pd\n",
    "import matplotlib.pyplot as plt\n",
    "import numpy as np\n",
    "import warnings\n",
    "from sklearn.tree import DecisionTreeClassifier\n",
    "from sklearn.ensemble import RandomForestClassifier\n",
    "from sklearn.linear_model import LogisticRegression\n",
    "from sklearn.model_selection import train_test_split\n",
    "from sklearn.preprocessing import OrdinalEncoder\n",
    "from sklearn.preprocessing import StandardScaler\n",
    "from sklearn.utils import shuffle\n",
    "from sklearn.metrics import roc_curve, roc_auc_score, accuracy_score, f1_score"
   ]
  },
  {
   "cell_type": "markdown",
   "metadata": {},
   "source": [
    "## Подготовка данных"
   ]
  },
  {
   "cell_type": "code",
   "execution_count": 2,
   "metadata": {},
   "outputs": [
    {
     "name": "stdout",
     "output_type": "stream",
     "text": [
      "<class 'pandas.core.frame.DataFrame'>\n",
      "RangeIndex: 10000 entries, 0 to 9999\n",
      "Data columns (total 14 columns):\n",
      " #   Column           Non-Null Count  Dtype  \n",
      "---  ------           --------------  -----  \n",
      " 0   RowNumber        10000 non-null  int64  \n",
      " 1   CustomerId       10000 non-null  int64  \n",
      " 2   Surname          10000 non-null  object \n",
      " 3   CreditScore      10000 non-null  int64  \n",
      " 4   Geography        10000 non-null  object \n",
      " 5   Gender           10000 non-null  object \n",
      " 6   Age              10000 non-null  int64  \n",
      " 7   Tenure           9091 non-null   float64\n",
      " 8   Balance          10000 non-null  float64\n",
      " 9   NumOfProducts    10000 non-null  int64  \n",
      " 10  HasCrCard        10000 non-null  int64  \n",
      " 11  IsActiveMember   10000 non-null  int64  \n",
      " 12  EstimatedSalary  10000 non-null  float64\n",
      " 13  Exited           10000 non-null  int64  \n",
      "dtypes: float64(3), int64(8), object(3)\n",
      "memory usage: 1.1+ MB\n"
     ]
    }
   ],
   "source": [
    "data = pd.read_csv('Churn.csv')\n",
    "data.info()"
   ]
  },
  {
   "cell_type": "code",
   "execution_count": 3,
   "metadata": {},
   "outputs": [
    {
     "data": {
      "text/html": [
       "<div>\n",
       "<style scoped>\n",
       "    .dataframe tbody tr th:only-of-type {\n",
       "        vertical-align: middle;\n",
       "    }\n",
       "\n",
       "    .dataframe tbody tr th {\n",
       "        vertical-align: top;\n",
       "    }\n",
       "\n",
       "    .dataframe thead th {\n",
       "        text-align: right;\n",
       "    }\n",
       "</style>\n",
       "<table border=\"1\" class=\"dataframe\">\n",
       "  <thead>\n",
       "    <tr style=\"text-align: right;\">\n",
       "      <th></th>\n",
       "      <th>RowNumber</th>\n",
       "      <th>CustomerId</th>\n",
       "      <th>Surname</th>\n",
       "      <th>CreditScore</th>\n",
       "      <th>Geography</th>\n",
       "      <th>Gender</th>\n",
       "      <th>Age</th>\n",
       "      <th>Tenure</th>\n",
       "      <th>Balance</th>\n",
       "      <th>NumOfProducts</th>\n",
       "      <th>HasCrCard</th>\n",
       "      <th>IsActiveMember</th>\n",
       "      <th>EstimatedSalary</th>\n",
       "      <th>Exited</th>\n",
       "    </tr>\n",
       "  </thead>\n",
       "  <tbody>\n",
       "    <tr>\n",
       "      <th>0</th>\n",
       "      <td>1</td>\n",
       "      <td>15634602</td>\n",
       "      <td>Hargrave</td>\n",
       "      <td>619</td>\n",
       "      <td>France</td>\n",
       "      <td>Female</td>\n",
       "      <td>42</td>\n",
       "      <td>2.0</td>\n",
       "      <td>0.00</td>\n",
       "      <td>1</td>\n",
       "      <td>1</td>\n",
       "      <td>1</td>\n",
       "      <td>101348.88</td>\n",
       "      <td>1</td>\n",
       "    </tr>\n",
       "    <tr>\n",
       "      <th>1</th>\n",
       "      <td>2</td>\n",
       "      <td>15647311</td>\n",
       "      <td>Hill</td>\n",
       "      <td>608</td>\n",
       "      <td>Spain</td>\n",
       "      <td>Female</td>\n",
       "      <td>41</td>\n",
       "      <td>1.0</td>\n",
       "      <td>83807.86</td>\n",
       "      <td>1</td>\n",
       "      <td>0</td>\n",
       "      <td>1</td>\n",
       "      <td>112542.58</td>\n",
       "      <td>0</td>\n",
       "    </tr>\n",
       "    <tr>\n",
       "      <th>2</th>\n",
       "      <td>3</td>\n",
       "      <td>15619304</td>\n",
       "      <td>Onio</td>\n",
       "      <td>502</td>\n",
       "      <td>France</td>\n",
       "      <td>Female</td>\n",
       "      <td>42</td>\n",
       "      <td>8.0</td>\n",
       "      <td>159660.80</td>\n",
       "      <td>3</td>\n",
       "      <td>1</td>\n",
       "      <td>0</td>\n",
       "      <td>113931.57</td>\n",
       "      <td>1</td>\n",
       "    </tr>\n",
       "    <tr>\n",
       "      <th>3</th>\n",
       "      <td>4</td>\n",
       "      <td>15701354</td>\n",
       "      <td>Boni</td>\n",
       "      <td>699</td>\n",
       "      <td>France</td>\n",
       "      <td>Female</td>\n",
       "      <td>39</td>\n",
       "      <td>1.0</td>\n",
       "      <td>0.00</td>\n",
       "      <td>2</td>\n",
       "      <td>0</td>\n",
       "      <td>0</td>\n",
       "      <td>93826.63</td>\n",
       "      <td>0</td>\n",
       "    </tr>\n",
       "    <tr>\n",
       "      <th>4</th>\n",
       "      <td>5</td>\n",
       "      <td>15737888</td>\n",
       "      <td>Mitchell</td>\n",
       "      <td>850</td>\n",
       "      <td>Spain</td>\n",
       "      <td>Female</td>\n",
       "      <td>43</td>\n",
       "      <td>2.0</td>\n",
       "      <td>125510.82</td>\n",
       "      <td>1</td>\n",
       "      <td>1</td>\n",
       "      <td>1</td>\n",
       "      <td>79084.10</td>\n",
       "      <td>0</td>\n",
       "    </tr>\n",
       "  </tbody>\n",
       "</table>\n",
       "</div>"
      ],
      "text/plain": [
       "   RowNumber  CustomerId   Surname  CreditScore Geography  Gender  Age  \\\n",
       "0          1    15634602  Hargrave          619    France  Female   42   \n",
       "1          2    15647311      Hill          608     Spain  Female   41   \n",
       "2          3    15619304      Onio          502    France  Female   42   \n",
       "3          4    15701354      Boni          699    France  Female   39   \n",
       "4          5    15737888  Mitchell          850     Spain  Female   43   \n",
       "\n",
       "   Tenure    Balance  NumOfProducts  HasCrCard  IsActiveMember  \\\n",
       "0     2.0       0.00              1          1               1   \n",
       "1     1.0   83807.86              1          0               1   \n",
       "2     8.0  159660.80              3          1               0   \n",
       "3     1.0       0.00              2          0               0   \n",
       "4     2.0  125510.82              1          1               1   \n",
       "\n",
       "   EstimatedSalary  Exited  \n",
       "0        101348.88       1  \n",
       "1        112542.58       0  \n",
       "2        113931.57       1  \n",
       "3         93826.63       0  \n",
       "4         79084.10       0  "
      ]
     },
     "execution_count": 3,
     "metadata": {},
     "output_type": "execute_result"
    }
   ],
   "source": [
    "data.head()"
   ]
  },
  {
   "cell_type": "markdown",
   "metadata": {},
   "source": [
    "Удалим колонки, которые не понадобятся для исследования:"
   ]
  },
  {
   "cell_type": "code",
   "execution_count": 4,
   "metadata": {},
   "outputs": [
    {
     "data": {
      "text/html": [
       "<div>\n",
       "<style scoped>\n",
       "    .dataframe tbody tr th:only-of-type {\n",
       "        vertical-align: middle;\n",
       "    }\n",
       "\n",
       "    .dataframe tbody tr th {\n",
       "        vertical-align: top;\n",
       "    }\n",
       "\n",
       "    .dataframe thead th {\n",
       "        text-align: right;\n",
       "    }\n",
       "</style>\n",
       "<table border=\"1\" class=\"dataframe\">\n",
       "  <thead>\n",
       "    <tr style=\"text-align: right;\">\n",
       "      <th></th>\n",
       "      <th>CreditScore</th>\n",
       "      <th>Geography</th>\n",
       "      <th>Gender</th>\n",
       "      <th>Age</th>\n",
       "      <th>Tenure</th>\n",
       "      <th>Balance</th>\n",
       "      <th>NumOfProducts</th>\n",
       "      <th>HasCrCard</th>\n",
       "      <th>IsActiveMember</th>\n",
       "      <th>EstimatedSalary</th>\n",
       "      <th>Exited</th>\n",
       "    </tr>\n",
       "  </thead>\n",
       "  <tbody>\n",
       "    <tr>\n",
       "      <th>0</th>\n",
       "      <td>619</td>\n",
       "      <td>France</td>\n",
       "      <td>Female</td>\n",
       "      <td>42</td>\n",
       "      <td>2.0</td>\n",
       "      <td>0.00</td>\n",
       "      <td>1</td>\n",
       "      <td>1</td>\n",
       "      <td>1</td>\n",
       "      <td>101348.88</td>\n",
       "      <td>1</td>\n",
       "    </tr>\n",
       "    <tr>\n",
       "      <th>1</th>\n",
       "      <td>608</td>\n",
       "      <td>Spain</td>\n",
       "      <td>Female</td>\n",
       "      <td>41</td>\n",
       "      <td>1.0</td>\n",
       "      <td>83807.86</td>\n",
       "      <td>1</td>\n",
       "      <td>0</td>\n",
       "      <td>1</td>\n",
       "      <td>112542.58</td>\n",
       "      <td>0</td>\n",
       "    </tr>\n",
       "    <tr>\n",
       "      <th>2</th>\n",
       "      <td>502</td>\n",
       "      <td>France</td>\n",
       "      <td>Female</td>\n",
       "      <td>42</td>\n",
       "      <td>8.0</td>\n",
       "      <td>159660.80</td>\n",
       "      <td>3</td>\n",
       "      <td>1</td>\n",
       "      <td>0</td>\n",
       "      <td>113931.57</td>\n",
       "      <td>1</td>\n",
       "    </tr>\n",
       "    <tr>\n",
       "      <th>3</th>\n",
       "      <td>699</td>\n",
       "      <td>France</td>\n",
       "      <td>Female</td>\n",
       "      <td>39</td>\n",
       "      <td>1.0</td>\n",
       "      <td>0.00</td>\n",
       "      <td>2</td>\n",
       "      <td>0</td>\n",
       "      <td>0</td>\n",
       "      <td>93826.63</td>\n",
       "      <td>0</td>\n",
       "    </tr>\n",
       "    <tr>\n",
       "      <th>4</th>\n",
       "      <td>850</td>\n",
       "      <td>Spain</td>\n",
       "      <td>Female</td>\n",
       "      <td>43</td>\n",
       "      <td>2.0</td>\n",
       "      <td>125510.82</td>\n",
       "      <td>1</td>\n",
       "      <td>1</td>\n",
       "      <td>1</td>\n",
       "      <td>79084.10</td>\n",
       "      <td>0</td>\n",
       "    </tr>\n",
       "  </tbody>\n",
       "</table>\n",
       "</div>"
      ],
      "text/plain": [
       "   CreditScore Geography  Gender  Age  Tenure    Balance  NumOfProducts  \\\n",
       "0          619    France  Female   42     2.0       0.00              1   \n",
       "1          608     Spain  Female   41     1.0   83807.86              1   \n",
       "2          502    France  Female   42     8.0  159660.80              3   \n",
       "3          699    France  Female   39     1.0       0.00              2   \n",
       "4          850     Spain  Female   43     2.0  125510.82              1   \n",
       "\n",
       "   HasCrCard  IsActiveMember  EstimatedSalary  Exited  \n",
       "0          1               1        101348.88       1  \n",
       "1          0               1        112542.58       0  \n",
       "2          1               0        113931.57       1  \n",
       "3          0               0         93826.63       0  \n",
       "4          1               1         79084.10       0  "
      ]
     },
     "execution_count": 4,
     "metadata": {},
     "output_type": "execute_result"
    }
   ],
   "source": [
    "data = data.drop(columns = ['CustomerId', 'RowNumber', 'Surname'], axis=1)\n",
    "data.head()"
   ]
  },
  {
   "cell_type": "markdown",
   "metadata": {},
   "source": [
    "Исправим названия колонок и приведём к нижнему регистру:"
   ]
  },
  {
   "cell_type": "code",
   "execution_count": 5,
   "metadata": {},
   "outputs": [
    {
     "data": {
      "text/html": [
       "<div>\n",
       "<style scoped>\n",
       "    .dataframe tbody tr th:only-of-type {\n",
       "        vertical-align: middle;\n",
       "    }\n",
       "\n",
       "    .dataframe tbody tr th {\n",
       "        vertical-align: top;\n",
       "    }\n",
       "\n",
       "    .dataframe thead th {\n",
       "        text-align: right;\n",
       "    }\n",
       "</style>\n",
       "<table border=\"1\" class=\"dataframe\">\n",
       "  <thead>\n",
       "    <tr style=\"text-align: right;\">\n",
       "      <th></th>\n",
       "      <th>credit_score</th>\n",
       "      <th>geography</th>\n",
       "      <th>gender</th>\n",
       "      <th>age</th>\n",
       "      <th>tenure</th>\n",
       "      <th>balance</th>\n",
       "      <th>num_of_products</th>\n",
       "      <th>has_cr_card</th>\n",
       "      <th>is_active_member</th>\n",
       "      <th>estimated_salary</th>\n",
       "      <th>exited</th>\n",
       "    </tr>\n",
       "  </thead>\n",
       "  <tbody>\n",
       "    <tr>\n",
       "      <th>0</th>\n",
       "      <td>619</td>\n",
       "      <td>France</td>\n",
       "      <td>Female</td>\n",
       "      <td>42</td>\n",
       "      <td>2.0</td>\n",
       "      <td>0.00</td>\n",
       "      <td>1</td>\n",
       "      <td>1</td>\n",
       "      <td>1</td>\n",
       "      <td>101348.88</td>\n",
       "      <td>1</td>\n",
       "    </tr>\n",
       "    <tr>\n",
       "      <th>1</th>\n",
       "      <td>608</td>\n",
       "      <td>Spain</td>\n",
       "      <td>Female</td>\n",
       "      <td>41</td>\n",
       "      <td>1.0</td>\n",
       "      <td>83807.86</td>\n",
       "      <td>1</td>\n",
       "      <td>0</td>\n",
       "      <td>1</td>\n",
       "      <td>112542.58</td>\n",
       "      <td>0</td>\n",
       "    </tr>\n",
       "    <tr>\n",
       "      <th>2</th>\n",
       "      <td>502</td>\n",
       "      <td>France</td>\n",
       "      <td>Female</td>\n",
       "      <td>42</td>\n",
       "      <td>8.0</td>\n",
       "      <td>159660.80</td>\n",
       "      <td>3</td>\n",
       "      <td>1</td>\n",
       "      <td>0</td>\n",
       "      <td>113931.57</td>\n",
       "      <td>1</td>\n",
       "    </tr>\n",
       "    <tr>\n",
       "      <th>3</th>\n",
       "      <td>699</td>\n",
       "      <td>France</td>\n",
       "      <td>Female</td>\n",
       "      <td>39</td>\n",
       "      <td>1.0</td>\n",
       "      <td>0.00</td>\n",
       "      <td>2</td>\n",
       "      <td>0</td>\n",
       "      <td>0</td>\n",
       "      <td>93826.63</td>\n",
       "      <td>0</td>\n",
       "    </tr>\n",
       "    <tr>\n",
       "      <th>4</th>\n",
       "      <td>850</td>\n",
       "      <td>Spain</td>\n",
       "      <td>Female</td>\n",
       "      <td>43</td>\n",
       "      <td>2.0</td>\n",
       "      <td>125510.82</td>\n",
       "      <td>1</td>\n",
       "      <td>1</td>\n",
       "      <td>1</td>\n",
       "      <td>79084.10</td>\n",
       "      <td>0</td>\n",
       "    </tr>\n",
       "  </tbody>\n",
       "</table>\n",
       "</div>"
      ],
      "text/plain": [
       "   credit_score geography  gender  age  tenure    balance  num_of_products  \\\n",
       "0           619    France  Female   42     2.0       0.00                1   \n",
       "1           608     Spain  Female   41     1.0   83807.86                1   \n",
       "2           502    France  Female   42     8.0  159660.80                3   \n",
       "3           699    France  Female   39     1.0       0.00                2   \n",
       "4           850     Spain  Female   43     2.0  125510.82                1   \n",
       "\n",
       "   has_cr_card  is_active_member  estimated_salary  exited  \n",
       "0            1                 1         101348.88       1  \n",
       "1            0                 1         112542.58       0  \n",
       "2            1                 0         113931.57       1  \n",
       "3            0                 0          93826.63       0  \n",
       "4            1                 1          79084.10       0  "
      ]
     },
     "execution_count": 5,
     "metadata": {},
     "output_type": "execute_result"
    }
   ],
   "source": [
    "data.columns = map(str.lower, data.columns)\n",
    "data = data.rename(columns = \n",
    "                   {'creditscore':'credit_score', 'numofproducts':'num_of_products', 'hascrcard':'has_cr_card', 'isactivemember':'is_active_member', 'estimatedsalary':'estimated_salary'})\n",
    "data.head()"
   ]
  },
  {
   "cell_type": "code",
   "execution_count": 6,
   "metadata": {
    "scrolled": false
   },
   "outputs": [
    {
     "name": "stdout",
     "output_type": "stream",
     "text": [
      "credit_score\n",
      "850    233\n",
      "678     63\n",
      "655     54\n",
      "705     53\n",
      "667     53\n",
      "      ... \n",
      "404      1\n",
      "351      1\n",
      "365      1\n",
      "417      1\n",
      "419      1\n",
      "Name: credit_score, Length: 460, dtype: int64\n",
      "\n",
      "geography\n",
      "France     5014\n",
      "Germany    2509\n",
      "Spain      2477\n",
      "Name: geography, dtype: int64\n",
      "\n",
      "gender\n",
      "Male      5457\n",
      "Female    4543\n",
      "Name: gender, dtype: int64\n",
      "\n",
      "age\n",
      "37    478\n",
      "38    477\n",
      "35    474\n",
      "36    456\n",
      "34    447\n",
      "     ... \n",
      "92      2\n",
      "82      1\n",
      "88      1\n",
      "85      1\n",
      "83      1\n",
      "Name: age, Length: 70, dtype: int64\n",
      "\n",
      "tenure\n",
      "1.0     952\n",
      "2.0     950\n",
      "8.0     933\n",
      "3.0     928\n",
      "5.0     927\n",
      "7.0     925\n",
      "4.0     885\n",
      "9.0     882\n",
      "6.0     881\n",
      "10.0    446\n",
      "0.0     382\n",
      "Name: tenure, dtype: int64\n",
      "\n",
      "balance\n",
      "0.00         3617\n",
      "130170.82       2\n",
      "105473.74       2\n",
      "85304.27        1\n",
      "159397.75       1\n",
      "             ... \n",
      "81556.89        1\n",
      "112687.69       1\n",
      "108698.96       1\n",
      "238387.56       1\n",
      "130142.79       1\n",
      "Name: balance, Length: 6382, dtype: int64\n",
      "\n",
      "num_of_products\n",
      "1    5084\n",
      "2    4590\n",
      "3     266\n",
      "4      60\n",
      "Name: num_of_products, dtype: int64\n",
      "\n",
      "has_cr_card\n",
      "1    7055\n",
      "0    2945\n",
      "Name: has_cr_card, dtype: int64\n",
      "\n",
      "is_active_member\n",
      "1    5151\n",
      "0    4849\n",
      "Name: is_active_member, dtype: int64\n",
      "\n",
      "estimated_salary\n",
      "24924.92     2\n",
      "101348.88    1\n",
      "55313.44     1\n",
      "72500.68     1\n",
      "182692.80    1\n",
      "            ..\n",
      "120893.07    1\n",
      "188377.21    1\n",
      "55902.93     1\n",
      "4523.74      1\n",
      "38190.78     1\n",
      "Name: estimated_salary, Length: 9999, dtype: int64\n",
      "\n",
      "exited\n",
      "0    7963\n",
      "1    2037\n",
      "Name: exited, dtype: int64\n",
      "\n"
     ]
    }
   ],
   "source": [
    "for column in data.columns:\n",
    "    print(column)\n",
    "    print(data[column].value_counts()) \n",
    "    print()"
   ]
  },
  {
   "cell_type": "code",
   "execution_count": 7,
   "metadata": {},
   "outputs": [
    {
     "data": {
      "text/plain": [
       "Text(0, 0.5, 'Количество человек')"
      ]
     },
     "execution_count": 7,
     "metadata": {},
     "output_type": "execute_result"
    },
    {
     "data": {
      "image/png": "[encoded data removed]",
      "text/plain": [
       "<Figure size 640x480 with 1 Axes>"
      ]
     },
     "metadata": {},
     "output_type": "display_data"
    }
   ],
   "source": [
    "data['tenure'].hist(bins=11)\n",
    "plt.title('Сколько лет человек является клиентом банка')\n",
    "plt.xlabel('Количество лет')\n",
    "plt.ylabel('Количество человек')"
   ]
  },
  {
   "cell_type": "markdown",
   "metadata": {},
   "source": [
    "Заменим пропуски в столбце \"tenure\" с информацией о количестве лет, на протяжение которых человек является клиентом банка средним значением по категориям: кредитный рейтинг, количество продуктов банка, пол и страна. Оставшиеся пропуски заменим средним. И заменим тип данных на цельночисленный."
   ]
  },
  {
   "cell_type": "code",
   "execution_count": 8,
   "metadata": {},
   "outputs": [
    {
     "name": "stdout",
     "output_type": "stream",
     "text": [
      "<class 'pandas.core.frame.DataFrame'>\n",
      "RangeIndex: 10000 entries, 0 to 9999\n",
      "Data columns (total 11 columns):\n",
      " #   Column            Non-Null Count  Dtype  \n",
      "---  ------            --------------  -----  \n",
      " 0   credit_score      10000 non-null  int64  \n",
      " 1   geography         10000 non-null  object \n",
      " 2   gender            10000 non-null  object \n",
      " 3   age               10000 non-null  int64  \n",
      " 4   tenure            10000 non-null  int32  \n",
      " 5   balance           10000 non-null  float64\n",
      " 6   num_of_products   10000 non-null  int64  \n",
      " 7   has_cr_card       10000 non-null  int64  \n",
      " 8   is_active_member  10000 non-null  int64  \n",
      " 9   estimated_salary  10000 non-null  float64\n",
      " 10  exited            10000 non-null  int64  \n",
      "dtypes: float64(2), int32(1), int64(6), object(2)\n",
      "memory usage: 820.4+ KB\n"
     ]
    }
   ],
   "source": [
    "data['tenure'] = data['tenure'].fillna(data.groupby(['credit_score', 'num_of_products', 'geography', 'gender'])['tenure'].transform('mean'))\n",
    "data['tenure'] = data['tenure'].fillna(data['tenure'].mean())\n",
    "data = data.astype({'tenure':'int'})\n",
    "data.info()"
   ]
  },
  {
   "cell_type": "markdown",
   "metadata": {},
   "source": [
    "Преобразуем категориальные признаки geography, gender  в численные техникой прямого кодирования, или отображения (OHE)."
   ]
  },
  {
   "cell_type": "code",
   "execution_count": 9,
   "metadata": {},
   "outputs": [
    {
     "data": {
      "text/html": [
       "<div>\n",
       "<style scoped>\n",
       "    .dataframe tbody tr th:only-of-type {\n",
       "        vertical-align: middle;\n",
       "    }\n",
       "\n",
       "    .dataframe tbody tr th {\n",
       "        vertical-align: top;\n",
       "    }\n",
       "\n",
       "    .dataframe thead th {\n",
       "        text-align: right;\n",
       "    }\n",
       "</style>\n",
       "<table border=\"1\" class=\"dataframe\">\n",
       "  <thead>\n",
       "    <tr style=\"text-align: right;\">\n",
       "      <th></th>\n",
       "      <th>credit_score</th>\n",
       "      <th>age</th>\n",
       "      <th>tenure</th>\n",
       "      <th>balance</th>\n",
       "      <th>num_of_products</th>\n",
       "      <th>has_cr_card</th>\n",
       "      <th>is_active_member</th>\n",
       "      <th>estimated_salary</th>\n",
       "      <th>exited</th>\n",
       "      <th>geography_Germany</th>\n",
       "      <th>geography_Spain</th>\n",
       "      <th>gender_Male</th>\n",
       "    </tr>\n",
       "  </thead>\n",
       "  <tbody>\n",
       "    <tr>\n",
       "      <th>0</th>\n",
       "      <td>619</td>\n",
       "      <td>42</td>\n",
       "      <td>2</td>\n",
       "      <td>0.00</td>\n",
       "      <td>1</td>\n",
       "      <td>1</td>\n",
       "      <td>1</td>\n",
       "      <td>101348.88</td>\n",
       "      <td>1</td>\n",
       "      <td>0</td>\n",
       "      <td>0</td>\n",
       "      <td>0</td>\n",
       "    </tr>\n",
       "    <tr>\n",
       "      <th>1</th>\n",
       "      <td>608</td>\n",
       "      <td>41</td>\n",
       "      <td>1</td>\n",
       "      <td>83807.86</td>\n",
       "      <td>1</td>\n",
       "      <td>0</td>\n",
       "      <td>1</td>\n",
       "      <td>112542.58</td>\n",
       "      <td>0</td>\n",
       "      <td>0</td>\n",
       "      <td>1</td>\n",
       "      <td>0</td>\n",
       "    </tr>\n",
       "    <tr>\n",
       "      <th>2</th>\n",
       "      <td>502</td>\n",
       "      <td>42</td>\n",
       "      <td>8</td>\n",
       "      <td>159660.80</td>\n",
       "      <td>3</td>\n",
       "      <td>1</td>\n",
       "      <td>0</td>\n",
       "      <td>113931.57</td>\n",
       "      <td>1</td>\n",
       "      <td>0</td>\n",
       "      <td>0</td>\n",
       "      <td>0</td>\n",
       "    </tr>\n",
       "    <tr>\n",
       "      <th>3</th>\n",
       "      <td>699</td>\n",
       "      <td>39</td>\n",
       "      <td>1</td>\n",
       "      <td>0.00</td>\n",
       "      <td>2</td>\n",
       "      <td>0</td>\n",
       "      <td>0</td>\n",
       "      <td>93826.63</td>\n",
       "      <td>0</td>\n",
       "      <td>0</td>\n",
       "      <td>0</td>\n",
       "      <td>0</td>\n",
       "    </tr>\n",
       "    <tr>\n",
       "      <th>4</th>\n",
       "      <td>850</td>\n",
       "      <td>43</td>\n",
       "      <td>2</td>\n",
       "      <td>125510.82</td>\n",
       "      <td>1</td>\n",
       "      <td>1</td>\n",
       "      <td>1</td>\n",
       "      <td>79084.10</td>\n",
       "      <td>0</td>\n",
       "      <td>0</td>\n",
       "      <td>1</td>\n",
       "      <td>0</td>\n",
       "    </tr>\n",
       "  </tbody>\n",
       "</table>\n",
       "</div>"
      ],
      "text/plain": [
       "   credit_score  age  tenure    balance  num_of_products  has_cr_card  \\\n",
       "0           619   42       2       0.00                1            1   \n",
       "1           608   41       1   83807.86                1            0   \n",
       "2           502   42       8  159660.80                3            1   \n",
       "3           699   39       1       0.00                2            0   \n",
       "4           850   43       2  125510.82                1            1   \n",
       "\n",
       "   is_active_member  estimated_salary  exited  geography_Germany  \\\n",
       "0                 1         101348.88       1                  0   \n",
       "1                 1         112542.58       0                  0   \n",
       "2                 0         113931.57       1                  0   \n",
       "3                 0          93826.63       0                  0   \n",
       "4                 1          79084.10       0                  0   \n",
       "\n",
       "   geography_Spain  gender_Male  \n",
       "0                0            0  \n",
       "1                1            0  \n",
       "2                0            0  \n",
       "3                0            0  \n",
       "4                1            0  "
      ]
     },
     "execution_count": 9,
     "metadata": {},
     "output_type": "execute_result"
    }
   ],
   "source": [
    "data_ohe = pd.get_dummies(data, drop_first=True)\n",
    "data_ohe.head()"
   ]
  },
  {
   "cell_type": "markdown",
   "metadata": {},
   "source": [
    "Вывод:\n",
    "Нами изучен датасет, состоящий из 10 000 строк и 14 колонок с информацией о клиентах банка. Мы изменили названия колонок в дтафрейме и привели к нижнему регистру, заполнили пропуски в периоде, в течение которогоо клиент является клиентом банка, избавились от ненужной информации(столбцы с фамилией клиентов и индексом строки). Заменили тип данных и преобразовали категориальные признаки в численные. Так же отметили, что большая часть клиентов - мужчины, >50% клиентов банка из Франции, 3617 клиентов имеют на болансе 0."
   ]
  },
  {
   "cell_type": "markdown",
   "metadata": {},
   "source": [
    "## Исследование задачи"
   ]
  },
  {
   "cell_type": "code",
   "execution_count": 10,
   "metadata": {},
   "outputs": [
    {
     "name": "stdout",
     "output_type": "stream",
     "text": [
      "(6000, 11) (2000, 11) (2000, 11)\n",
      "(6000,) (2000,) (2000,)\n"
     ]
    }
   ],
   "source": [
    "target = data_ohe['exited']\n",
    "features = data_ohe.drop('exited', axis=1)\n",
    "\n",
    "features_train, features_valid, target_train, target_valid = train_test_split(features, target, test_size=0.4, \n",
    "                                                                              random_state=2202, stratify=target)\n",
    "features_valid, features_test, target_valid, target_test = train_test_split(features_valid, target_valid, test_size=0.5, \n",
    "                                                                              random_state=2202, stratify=target_valid)\n",
    "print(features_train.shape, features_valid.shape, features_test.shape)\n",
    "print(target_train.shape, target_valid.shape, target_test.shape)"
   ]
  },
  {
   "cell_type": "code",
   "execution_count": 11,
   "metadata": {},
   "outputs": [
    {
     "data": {
      "text/plain": [
       "StandardScaler()"
      ]
     },
     "execution_count": 11,
     "metadata": {},
     "output_type": "execute_result"
    }
   ],
   "source": [
    "numeric = ['credit_score', 'age','tenure', 'balance', 'num_of_products', 'estimated_salary']\n",
    "scaler = StandardScaler()\n",
    "scaler.fit(features_train[numeric])"
   ]
  },
  {
   "cell_type": "code",
   "execution_count": 12,
   "metadata": {
    "scrolled": true
   },
   "outputs": [],
   "source": [
    "features_train[numeric] = scaler.transform(features_train[numeric])\n",
    "features_valid[numeric] = scaler.transform(features_valid[numeric])\n",
    "features_test[numeric] = scaler.transform(features_test[numeric])"
   ]
  },
  {
   "cell_type": "code",
   "execution_count": 13,
   "metadata": {},
   "outputs": [
    {
     "data": {
      "text/html": [
       "<div>\n",
       "<style scoped>\n",
       "    .dataframe tbody tr th:only-of-type {\n",
       "        vertical-align: middle;\n",
       "    }\n",
       "\n",
       "    .dataframe tbody tr th {\n",
       "        vertical-align: top;\n",
       "    }\n",
       "\n",
       "    .dataframe thead th {\n",
       "        text-align: right;\n",
       "    }\n",
       "</style>\n",
       "<table border=\"1\" class=\"dataframe\">\n",
       "  <thead>\n",
       "    <tr style=\"text-align: right;\">\n",
       "      <th></th>\n",
       "      <th>credit_score</th>\n",
       "      <th>age</th>\n",
       "      <th>tenure</th>\n",
       "      <th>balance</th>\n",
       "      <th>num_of_products</th>\n",
       "      <th>has_cr_card</th>\n",
       "      <th>is_active_member</th>\n",
       "      <th>estimated_salary</th>\n",
       "      <th>geography_Germany</th>\n",
       "      <th>geography_Spain</th>\n",
       "      <th>gender_Male</th>\n",
       "    </tr>\n",
       "  </thead>\n",
       "  <tbody>\n",
       "    <tr>\n",
       "      <th>528</th>\n",
       "      <td>-0.808823</td>\n",
       "      <td>0.876720</td>\n",
       "      <td>-0.693463</td>\n",
       "      <td>1.237282</td>\n",
       "      <td>-0.916357</td>\n",
       "      <td>1</td>\n",
       "      <td>0</td>\n",
       "      <td>-1.076265</td>\n",
       "      <td>1</td>\n",
       "      <td>0</td>\n",
       "      <td>0</td>\n",
       "    </tr>\n",
       "    <tr>\n",
       "      <th>9024</th>\n",
       "      <td>-0.104759</td>\n",
       "      <td>0.780294</td>\n",
       "      <td>0.370584</td>\n",
       "      <td>0.231110</td>\n",
       "      <td>0.791140</td>\n",
       "      <td>0</td>\n",
       "      <td>1</td>\n",
       "      <td>-1.504936</td>\n",
       "      <td>0</td>\n",
       "      <td>0</td>\n",
       "      <td>0</td>\n",
       "    </tr>\n",
       "    <tr>\n",
       "      <th>7043</th>\n",
       "      <td>-0.570683</td>\n",
       "      <td>-0.473242</td>\n",
       "      <td>-1.048145</td>\n",
       "      <td>0.201864</td>\n",
       "      <td>0.791140</td>\n",
       "      <td>0</td>\n",
       "      <td>1</td>\n",
       "      <td>0.975844</td>\n",
       "      <td>1</td>\n",
       "      <td>0</td>\n",
       "      <td>1</td>\n",
       "    </tr>\n",
       "    <tr>\n",
       "      <th>9177</th>\n",
       "      <td>-2.040934</td>\n",
       "      <td>-1.051797</td>\n",
       "      <td>-0.693463</td>\n",
       "      <td>1.032286</td>\n",
       "      <td>-0.916357</td>\n",
       "      <td>1</td>\n",
       "      <td>0</td>\n",
       "      <td>0.637078</td>\n",
       "      <td>1</td>\n",
       "      <td>0</td>\n",
       "      <td>0</td>\n",
       "    </tr>\n",
       "    <tr>\n",
       "      <th>6653</th>\n",
       "      <td>-0.436083</td>\n",
       "      <td>-1.533926</td>\n",
       "      <td>1.079948</td>\n",
       "      <td>1.953861</td>\n",
       "      <td>0.791140</td>\n",
       "      <td>1</td>\n",
       "      <td>1</td>\n",
       "      <td>0.276386</td>\n",
       "      <td>1</td>\n",
       "      <td>0</td>\n",
       "      <td>1</td>\n",
       "    </tr>\n",
       "  </tbody>\n",
       "</table>\n",
       "</div>"
      ],
      "text/plain": [
       "      credit_score       age    tenure   balance  num_of_products  \\\n",
       "528      -0.808823  0.876720 -0.693463  1.237282        -0.916357   \n",
       "9024     -0.104759  0.780294  0.370584  0.231110         0.791140   \n",
       "7043     -0.570683 -0.473242 -1.048145  0.201864         0.791140   \n",
       "9177     -2.040934 -1.051797 -0.693463  1.032286        -0.916357   \n",
       "6653     -0.436083 -1.533926  1.079948  1.953861         0.791140   \n",
       "\n",
       "      has_cr_card  is_active_member  estimated_salary  geography_Germany  \\\n",
       "528             1                 0         -1.076265                  1   \n",
       "9024            0                 1         -1.504936                  0   \n",
       "7043            0                 1          0.975844                  1   \n",
       "9177            1                 0          0.637078                  1   \n",
       "6653            1                 1          0.276386                  1   \n",
       "\n",
       "      geography_Spain  gender_Male  \n",
       "528                 0            0  \n",
       "9024                0            0  \n",
       "7043                0            1  \n",
       "9177                0            0  \n",
       "6653                0            1  "
      ]
     },
     "execution_count": 13,
     "metadata": {},
     "output_type": "execute_result"
    }
   ],
   "source": [
    "features_train.head()"
   ]
  },
  {
   "cell_type": "code",
   "execution_count": 14,
   "metadata": {},
   "outputs": [
    {
     "data": {
      "text/plain": [
       "0    0.7963\n",
       "1    0.2037\n",
       "Name: exited, dtype: float64"
      ]
     },
     "execution_count": 14,
     "metadata": {},
     "output_type": "execute_result"
    }
   ],
   "source": [
    "data_ohe['exited'].value_counts(normalize=True)"
   ]
  },
  {
   "cell_type": "code",
   "execution_count": 15,
   "metadata": {},
   "outputs": [
    {
     "data": {
      "text/plain": [
       "0    0.7963\n",
       "1    0.2037\n",
       "Name: exited, dtype: float64"
      ]
     },
     "execution_count": 15,
     "metadata": {},
     "output_type": "execute_result"
    }
   ],
   "source": [
    "data_ohe['exited'].value_counts(normalize=True)"
   ]
  },
  {
   "cell_type": "markdown",
   "metadata": {},
   "source": [
    "Дерево решений:"
   ]
  },
  {
   "cell_type": "code",
   "execution_count": 16,
   "metadata": {},
   "outputs": [
    {
     "name": "stdout",
     "output_type": "stream",
     "text": [
      "max_depth: 1 F1: 0.0\n",
      "max_depth: 2 F1: 0.5444444444444445\n",
      "max_depth: 3 F1: 0.4067796610169492\n",
      "max_depth: 4 F1: 0.4456721915285451\n",
      "max_depth: 5 F1: 0.5932203389830508\n",
      "max_depth: 6 F1: 0.5591397849462365\n",
      "max_depth: 7 F1: 0.5714285714285714\n",
      "max_depth: 8 F1: 0.5822784810126582\n",
      "max_depth: 9 F1: 0.5780346820809248\n",
      "max_depth: 10 F1: 0.565880721220527\n",
      "max_depth: 11 F1: 0.5741496598639456\n",
      "max_depth: 12 F1: 0.5672436750998668\n",
      "max_depth: 13 F1: 0.5331599479843953\n",
      "max_depth: 14 F1: 0.5229591836734694\n",
      "max_depth: 15 F1: 0.528160200250313\n",
      "max_depth: 16 F1: 0.5264452644526446\n",
      "max_depth: 17 F1: 0.5152625152625152\n",
      "max_depth: 18 F1: 0.500616522811344\n",
      "max_depth: 19 F1: 0.5054413542926239\n",
      "max_depth: 20 F1: 0.5018181818181818\n",
      "Лучшая F-мера 0.5932203389830508 cо значением глубины = 20\n"
     ]
    }
   ],
   "source": [
    "best_model_tree = None\n",
    "best_depth = 0\n",
    "best_result = 0\n",
    "for depth in range(1,21):\n",
    "    model_tree = DecisionTreeClassifier(max_depth=depth, random_state=12345)\n",
    "    model_tree.fit(features_train, target_train)\n",
    "    predictions = model_tree.predict(features_valid)\n",
    "    print('max_depth:', depth,'F1:', f1_score(target_valid, predictions))\n",
    "    result = f1_score(predictions, target_valid)\n",
    "    if best_result < result:\n",
    "        best_depth = depth\n",
    "        best_result = result\n",
    "        best_model_tree = model_tree\n",
    "print(\"Лучшая F-мера\", best_result, 'cо значением глубины =', depth)\n",
    "    "
   ]
  },
  {
   "cell_type": "markdown",
   "metadata": {},
   "source": [
    "Случайный лес:"
   ]
  },
  {
   "cell_type": "code",
   "execution_count": null,
   "metadata": {
    "scrolled": true
   },
   "outputs": [
    {
     "name": "stdout",
     "output_type": "stream",
     "text": [
      "max_depth: 1 F1: 0.22317596566523604 estim 1 F1: 0.22317596566523604\n",
      "max_depth: 1 F1: 0.0 estim 6 F1: 0.0\n",
      "max_depth: 1 F1: 0.0 estim 11 F1: 0.0\n",
      "max_depth: 1 F1: 0.0 estim 16 F1: 0.0\n",
      "max_depth: 1 F1: 0.0 estim 21 F1: 0.0\n",
      "max_depth: 1 F1: 0.0 estim 26 F1: 0.0\n",
      "max_depth: 1 F1: 0.0 estim 31 F1: 0.0\n",
      "max_depth: 1 F1: 0.0 estim 36 F1: 0.0\n",
      "max_depth: 1 F1: 0.0 estim 41 F1: 0.0\n",
      "max_depth: 1 F1: 0.0 estim 46 F1: 0.0\n",
      "max_depth: 1 F1: 0.0 estim 51 F1: 0.0\n",
      "max_depth: 1 F1: 0.0 estim 56 F1: 0.0\n",
      "max_depth: 1 F1: 0.0 estim 61 F1: 0.0\n",
      "max_depth: 1 F1: 0.0 estim 66 F1: 0.0\n",
      "max_depth: 1 F1: 0.0 estim 71 F1: 0.0\n",
      "max_depth: 1 F1: 0.0 estim 76 F1: 0.0\n",
      "max_depth: 1 F1: 0.0 estim 81 F1: 0.0\n",
      "max_depth: 1 F1: 0.0 estim 86 F1: 0.0\n",
      "max_depth: 1 F1: 0.0 estim 91 F1: 0.0\n",
      "max_depth: 1 F1: 0.0 estim 96 F1: 0.0\n",
      "max_depth: 2 F1: 0.22317596566523604 estim 1 F1: 0.22317596566523604\n",
      "max_depth: 2 F1: 0.16629213483146066 estim 6 F1: 0.16629213483146066\n",
      "max_depth: 2 F1: 0.15730337078651685 estim 11 F1: 0.15730337078651685\n",
      "max_depth: 2 F1: 0.14898419864559823 estim 16 F1: 0.14898419864559823\n",
      "max_depth: 2 F1: 0.12009237875288684 estim 21 F1: 0.12009237875288684\n",
      "max_depth: 2 F1: 0.09367681498829039 estim 26 F1: 0.09367681498829039\n",
      "max_depth: 2 F1: 0.07565011820330968 estim 31 F1: 0.07565011820330968\n",
      "max_depth: 2 F1: 0.1493212669683258 estim 36 F1: 0.1493212669683258\n",
      "max_depth: 2 F1: 0.14578587699316628 estim 41 F1: 0.14578587699316628\n",
      "max_depth: 2 F1: 0.16252821670428894 estim 46 F1: 0.16252821670428894\n",
      "max_depth: 2 F1: 0.15837104072398192 estim 51 F1: 0.15837104072398192\n",
      "max_depth: 2 F1: 0.12873563218390804 estim 56 F1: 0.12873563218390804\n",
      "max_depth: 2 F1: 0.14155251141552513 estim 61 F1: 0.14155251141552513\n",
      "max_depth: 2 F1: 0.13302752293577982 estim 66 F1: 0.13302752293577982\n",
      "max_depth: 2 F1: 0.12873563218390804 estim 71 F1: 0.12873563218390804\n",
      "max_depth: 2 F1: 0.13302752293577982 estim 76 F1: 0.13302752293577982\n",
      "max_depth: 2 F1: 0.13729977116704806 estim 81 F1: 0.13729977116704806\n",
      "max_depth: 2 F1: 0.14155251141552513 estim 86 F1: 0.14155251141552513\n",
      "max_depth: 2 F1: 0.13302752293577982 estim 91 F1: 0.13302752293577982\n",
      "max_depth: 2 F1: 0.12873563218390804 estim 96 F1: 0.12873563218390804\n",
      "max_depth: 3 F1: 0.21935483870967745 estim 1 F1: 0.21935483870967745\n",
      "max_depth: 3 F1: 0.18625277161862525 estim 6 F1: 0.18625277161862525\n",
      "max_depth: 3 F1: 0.21739130434782608 estim 11 F1: 0.21739130434782608\n",
      "max_depth: 3 F1: 0.2021978021978022 estim 16 F1: 0.2021978021978022\n",
      "max_depth: 3 F1: 0.21739130434782608 estim 21 F1: 0.21739130434782608\n",
      "max_depth: 3 F1: 0.21350762527233116 estim 26 F1: 0.21350762527233116\n",
      "max_depth: 3 F1: 0.21739130434782608 estim 31 F1: 0.21739130434782608\n",
      "max_depth: 3 F1: 0.22844827586206895 estim 36 F1: 0.22844827586206895\n",
      "max_depth: 3 F1: 0.22510822510822512 estim 41 F1: 0.22510822510822512\n",
      "max_depth: 3 F1: 0.22125813449023862 estim 46 F1: 0.22125813449023862\n",
      "max_depth: 3 F1: 0.22125813449023862 estim 51 F1: 0.22125813449023862\n",
      "max_depth: 3 F1: 0.21350762527233116 estim 56 F1: 0.21350762527233116\n",
      "max_depth: 3 F1: 0.22125813449023862 estim 61 F1: 0.22125813449023862\n",
      "max_depth: 3 F1: 0.21350762527233116 estim 66 F1: 0.21350762527233116\n",
      "max_depth: 3 F1: 0.21350762527233116 estim 71 F1: 0.21350762527233116\n",
      "max_depth: 3 F1: 0.21350762527233116 estim 76 F1: 0.21350762527233116\n",
      "max_depth: 3 F1: 0.21350762527233116 estim 81 F1: 0.21350762527233116\n",
      "max_depth: 3 F1: 0.21350762527233116 estim 86 F1: 0.21350762527233116\n",
      "max_depth: 3 F1: 0.21350762527233116 estim 91 F1: 0.21350762527233116\n",
      "max_depth: 3 F1: 0.21350762527233116 estim 96 F1: 0.21350762527233116\n",
      "max_depth: 4 F1: 0.5675675675675675 estim 1 F1: 0.5675675675675675\n",
      "max_depth: 4 F1: 0.5196078431372549 estim 6 F1: 0.5196078431372549\n",
      "max_depth: 4 F1: 0.5094017094017095 estim 11 F1: 0.5094017094017095\n",
      "max_depth: 4 F1: 0.5068965517241378 estim 16 F1: 0.5068965517241378\n",
      "max_depth: 4 F1: 0.5008695652173913 estim 21 F1: 0.5008695652173913\n",
      "max_depth: 4 F1: 0.49563699825479923 estim 26 F1: 0.49563699825479923\n",
      "max_depth: 4 F1: 0.4724689165186501 estim 31 F1: 0.4724689165186501\n",
      "max_depth: 4 F1: 0.42857142857142855 estim 36 F1: 0.42857142857142855\n",
      "max_depth: 4 F1: 0.44526901669758817 estim 41 F1: 0.44526901669758817\n",
      "max_depth: 4 F1: 0.45504587155963305 estim 46 F1: 0.45504587155963305\n",
      "max_depth: 4 F1: 0.4456721915285451 estim 51 F1: 0.4456721915285451\n",
      "max_depth: 4 F1: 0.435754189944134 estim 56 F1: 0.435754189944134\n",
      "max_depth: 4 F1: 0.4315196998123827 estim 61 F1: 0.4315196998123827\n",
      "max_depth: 4 F1: 0.4386617100371747 estim 66 F1: 0.4386617100371747\n",
      "max_depth: 4 F1: 0.44609665427509293 estim 71 F1: 0.44609665427509293\n",
      "max_depth: 4 F1: 0.44609665427509293 estim 76 F1: 0.44609665427509293\n",
      "max_depth: 4 F1: 0.44029850746268656 estim 81 F1: 0.44029850746268656\n",
      "max_depth: 4 F1: 0.4315196998123827 estim 86 F1: 0.4315196998123827\n",
      "max_depth: 4 F1: 0.4106463878326995 estim 91 F1: 0.4106463878326995\n",
      "max_depth: 4 F1: 0.4083969465648855 estim 96 F1: 0.4083969465648855\n",
      "max_depth: 5 F1: 0.4006309148264985 estim 1 F1: 0.4006309148264985\n",
      "max_depth: 5 F1: 0.5507246376811594 estim 6 F1: 0.5507246376811594\n",
      "max_depth: 5 F1: 0.5526315789473683 estim 11 F1: 0.5526315789473683\n",
      "max_depth: 5 F1: 0.5597381342062193 estim 16 F1: 0.5597381342062193\n",
      "max_depth: 5 F1: 0.5493421052631579 estim 21 F1: 0.5493421052631579\n",
      "max_depth: 5 F1: 0.5478547854785478 estim 26 F1: 0.5478547854785478\n",
      "max_depth: 5 F1: 0.5457570715474209 estim 31 F1: 0.5457570715474209\n",
      "max_depth: 5 F1: 0.5297113752122241 estim 36 F1: 0.5297113752122241\n",
      "max_depth: 5 F1: 0.5346869712351946 estim 41 F1: 0.5346869712351946\n",
      "max_depth: 5 F1: 0.5295109612141653 estim 46 F1: 0.5295109612141653\n",
      "max_depth: 5 F1: 0.5328836424957841 estim 51 F1: 0.5328836424957841\n",
      "max_depth: 5 F1: 0.5195246179966044 estim 56 F1: 0.5195246179966044\n",
      "max_depth: 5 F1: 0.5261382799325465 estim 61 F1: 0.5261382799325465\n",
      "max_depth: 5 F1: 0.5286195286195287 estim 66 F1: 0.5286195286195287\n",
      "max_depth: 5 F1: 0.5295109612141653 estim 71 F1: 0.5295109612141653\n",
      "max_depth: 5 F1: 0.5245346869712351 estim 76 F1: 0.5245346869712351\n",
      "max_depth: 5 F1: 0.5245346869712351 estim 81 F1: 0.5245346869712351\n",
      "max_depth: 5 F1: 0.5170068027210885 estim 86 F1: 0.5170068027210885\n",
      "max_depth: 5 F1: 0.514480408858603 estim 91 F1: 0.514480408858603\n",
      "max_depth: 5 F1: 0.514480408858603 estim 96 F1: 0.514480408858603\n",
      "max_depth: 6 F1: 0.5751445086705202 estim 1 F1: 0.5751445086705202\n",
      "max_depth: 6 F1: 0.5723270440251572 estim 6 F1: 0.5723270440251572\n",
      "max_depth: 6 F1: 0.5475409836065573 estim 11 F1: 0.5475409836065573\n",
      "max_depth: 6 F1: 0.5502471169686985 estim 16 F1: 0.5502471169686985\n",
      "max_depth: 6 F1: 0.5639344262295082 estim 21 F1: 0.5639344262295082\n",
      "max_depth: 6 F1: 0.5573770491803278 estim 26 F1: 0.5573770491803278\n",
      "max_depth: 6 F1: 0.5511551155115512 estim 31 F1: 0.5511551155115512\n",
      "max_depth: 6 F1: 0.5511551155115512 estim 36 F1: 0.5511551155115512\n",
      "max_depth: 6 F1: 0.5403624382207579 estim 41 F1: 0.5403624382207579\n",
      "max_depth: 6 F1: 0.5445544554455446 estim 46 F1: 0.5445544554455446\n",
      "max_depth: 6 F1: 0.5526315789473683 estim 51 F1: 0.5526315789473683\n",
      "max_depth: 6 F1: 0.5540983606557377 estim 56 F1: 0.5540983606557377\n",
      "max_depth: 6 F1: 0.5511551155115512 estim 61 F1: 0.5511551155115512\n",
      "max_depth: 6 F1: 0.5514950166112956 estim 66 F1: 0.5514950166112956\n",
      "max_depth: 6 F1: 0.5514950166112956 estim 71 F1: 0.5514950166112956\n",
      "max_depth: 6 F1: 0.5490848585690516 estim 76 F1: 0.5490848585690516\n",
      "max_depth: 6 F1: 0.5490848585690516 estim 81 F1: 0.5490848585690516\n",
      "max_depth: 6 F1: 0.5457570715474209 estim 86 F1: 0.5457570715474209\n",
      "max_depth: 6 F1: 0.5424292845257903 estim 91 F1: 0.5424292845257903\n",
      "max_depth: 6 F1: 0.5439469320066336 estim 96 F1: 0.5439469320066336\n",
      "max_depth: 7 F1: 0.5517241379310345 estim 1 F1: 0.5517241379310345\n",
      "max_depth: 7 F1: 0.5862595419847327 estim 6 F1: 0.5862595419847327\n",
      "max_depth: 7 F1: 0.5763239875389408 estim 11 F1: 0.5763239875389408\n",
      "max_depth: 7 F1: 0.5799373040752351 estim 16 F1: 0.5799373040752351\n",
      "max_depth: 7 F1: 0.5660377358490566 estim 21 F1: 0.5660377358490566\n",
      "max_depth: 7 F1: 0.5758998435054773 estim 26 F1: 0.5758998435054773\n",
      "max_depth: 7 F1: 0.5687203791469194 estim 31 F1: 0.5687203791469194\n",
      "max_depth: 7 F1: 0.5745682888540031 estim 36 F1: 0.5745682888540031\n"
     ]
    },
    {
     "name": "stdout",
     "output_type": "stream",
     "text": [
      "max_depth: 7 F1: 0.5700787401574803 estim 41 F1: 0.5700787401574803\n",
      "max_depth: 7 F1: 0.5772870662460567 estim 46 F1: 0.5772870662460567\n",
      "max_depth: 7 F1: 0.5768621236133121 estim 51 F1: 0.5768621236133121\n",
      "max_depth: 7 F1: 0.5696 estim 56 F1: 0.5696\n",
      "max_depth: 7 F1: 0.5709728867623605 estim 61 F1: 0.5709728867623605\n",
      "max_depth: 7 F1: 0.5718849840255591 estim 66 F1: 0.5718849840255591\n",
      "max_depth: 7 F1: 0.5696 estim 71 F1: 0.5696\n",
      "max_depth: 7 F1: 0.5664 estim 76 F1: 0.5664\n",
      "max_depth: 7 F1: 0.5617977528089887 estim 81 F1: 0.5617977528089887\n",
      "max_depth: 7 F1: 0.5654952076677316 estim 86 F1: 0.5654952076677316\n",
      "max_depth: 7 F1: 0.5709728867623605 estim 91 F1: 0.5709728867623605\n",
      "max_depth: 7 F1: 0.5654952076677316 estim 96 F1: 0.5654952076677316\n",
      "max_depth: 8 F1: 0.5803814713896458 estim 1 F1: 0.5803814713896458\n",
      "max_depth: 8 F1: 0.5941807044410413 estim 6 F1: 0.5941807044410413\n",
      "max_depth: 8 F1: 0.5723172628304821 estim 11 F1: 0.5723172628304821\n",
      "max_depth: 8 F1: 0.5815384615384616 estim 16 F1: 0.5815384615384616\n",
      "max_depth: 8 F1: 0.5869565217391304 estim 21 F1: 0.5869565217391304\n",
      "max_depth: 8 F1: 0.5808477237048665 estim 26 F1: 0.5808477237048665\n",
      "max_depth: 8 F1: 0.5745682888540031 estim 31 F1: 0.5745682888540031\n",
      "max_depth: 8 F1: 0.5741029641185648 estim 36 F1: 0.5741029641185648\n",
      "max_depth: 8 F1: 0.5763239875389408 estim 41 F1: 0.5763239875389408\n",
      "max_depth: 8 F1: 0.5763239875389408 estim 46 F1: 0.5763239875389408\n",
      "max_depth: 8 F1: 0.5772230889235569 estim 51 F1: 0.5772230889235569\n"
     ]
    }
   ],
   "source": [
    "best_model_forest = None\n",
    "best_est_forest = 0\n",
    "best_depth_forest = 0\n",
    "best_result_forest = 0\n",
    "for max_depth in range(1,20):\n",
    "    for estim in range(1,100,5):\n",
    "        model_forest = RandomForestClassifier(max_depth=max_depth, n_estimators=estim, random_state=12345)\n",
    "        model_forest.fit(features_train, target_train)\n",
    "        predictions = model_forest.predict(features_valid)\n",
    "        print('max_depth:', max_depth,'F1:',f1_score(target_valid, predictions),'estim',estim,'F1:',f1_score(target_valid, predictions))\n",
    "        result = f1_score(target_valid, predictions) \n",
    "        if result > best_result:\n",
    "            best_model_forest = model_forest\n",
    "            best_result_forest = result\n",
    "            best_depth_forest = depth\n",
    "            best_est_forest = estim\n",
    "\n",
    "print(\"Лучшая F-мера\", best_result_forest, 'при глубине = {0} и количестве деревьев = {1}'.format(best_depth, best_est_forest))"
   ]
  },
  {
   "cell_type": "markdown",
   "metadata": {},
   "source": [
    "Логистическая регрессия:"
   ]
  },
  {
   "cell_type": "code",
   "execution_count": null,
   "metadata": {},
   "outputs": [],
   "source": [
    "model_logistic = LogisticRegression().fit(features_train, target_train)\n",
    "predictions = model_logistic.predict(features_valid)\n",
    "print('F1:', f1_score(target_valid, predictions))"
   ]
  },
  {
   "cell_type": "code",
   "execution_count": null,
   "metadata": {},
   "outputs": [],
   "source": [
    "plt.figure(figsize=[12,9])\n",
    "\n",
    "plt.plot([0, 1], [0, 1], linestyle='--', label='RandomModel')\n",
    "\n",
    "\n",
    "model_tree = DecisionTreeClassifier(random_state=12345, max_depth=20)\n",
    "model_tree.fit(features_train, target_train)\n",
    "probabilities_valid = model_tree.predict_proba(features_valid)\n",
    "probabilities_one_valid = probabilities_valid[:, 1]\n",
    "fpr, tpr, thresholds = roc_curve(target_valid, probabilities_one_valid)\n",
    "auc_roc = roc_auc_score(target_valid, probabilities_one_valid)\n",
    "print('AUC-ROC DecisionTreeClassifier',auc_roc)\n",
    "plt.plot(fpr, tpr, label='DecisionTreeClassifier')\n",
    "\n",
    "model_forest = RandomForestClassifier(random_state=12345,max_depth=5, n_estimators=91)\n",
    "model_forest.fit(features_train, target_train)\n",
    "probabilities_valid = model_forest.predict_proba(features_valid)\n",
    "probabilities_one_valid = probabilities_valid[:, 1]\n",
    "fpr, tpr, thresholds = roc_curve(target_valid, probabilities_one_valid)\n",
    "auc_roc = roc_auc_score(target_valid, probabilities_one_valid)\n",
    "print('AUC-ROC RandomForestClassifier',auc_roc)\n",
    "plt.plot(fpr, tpr, label='RandomForestClassifier')\n",
    "\n",
    "model_logistic = LogisticRegression(random_state=12345, solver='liblinear')\n",
    "model_logistic.fit(features_train, target_train)\n",
    "probabilities_valid = model_logistic.predict_proba(features_valid)\n",
    "probabilities_one_valid = probabilities_valid[:, 1]\n",
    "fpr, tpr, thresholds = roc_curve(target_valid, probabilities_one_valid)\n",
    "auc_roc = roc_auc_score(target_valid, probabilities_one_valid)\n",
    "print('AUC-ROC LogisticRegression',auc_roc)\n",
    "plt.plot(fpr, tpr, label='LogisticRegression')\n"
   ]
  },
  {
   "cell_type": "markdown",
   "metadata": {},
   "source": [
    "## Борьба с дисбалансом"
   ]
  },
  {
   "cell_type": "code",
   "execution_count": null,
   "metadata": {},
   "outputs": [],
   "source": [
    "def upsample(features, target, repeat):\n",
    "    features_zeros = features[target == 0]\n",
    "    features_ones = features[target == 1]\n",
    "    target_zeros = target[target == 0]\n",
    "    target_ones = target[target == 1]\n",
    "    \n",
    "    features_upsampled = pd.concat([features_zeros] + [features_ones] * repeat)\n",
    "    target_upsampled = pd.concat([target_zeros] + [target_ones] * repeat)\n",
    "    \n",
    "    features_upsampled, target_upsampled = shuffle(\n",
    "        features_upsampled, target_upsampled, random_state=12345)\n",
    "    return features_upsampled, target_upsampled"
   ]
  },
  {
   "cell_type": "code",
   "execution_count": null,
   "metadata": {},
   "outputs": [],
   "source": [
    "features_upsampled, target_upsampled = upsample(features_train, target_train, 4)\n",
    "print(target_upsampled.value_counts())"
   ]
  },
  {
   "cell_type": "code",
   "execution_count": null,
   "metadata": {},
   "outputs": [],
   "source": [
    "model_logistic = LogisticRegression(random_state = 12345, solver='liblinear')\n",
    "model_logistic.fit(features_train, target_train)\n",
    "predicted_valid = model_logistic.predict(features_valid)\n",
    "print('Логистическая регрессия')\n",
    "print('F1', f1_score(target_valid, predicted_valid))\n",
    "probabilities_valid = model_logistic.predict_proba(features_valid)\n",
    "probabilities_one_valid = probabilities_valid[:, 1]\n",
    "fpr, tpr, thresholds = roc_curve(target_valid, probabilities_one_valid)\n",
    "auc_roc = roc_auc_score(target_valid, probabilities_one_valid)\n",
    "print('AUC-ROC LogisticRegression',auc_roc)"
   ]
  },
  {
   "cell_type": "code",
   "execution_count": null,
   "metadata": {},
   "outputs": [],
   "source": [
    "best_model_tree_upsmple = None\n",
    "best_result_upsmple = 0\n",
    "for depth in range(1, 21):\n",
    "    model_tree_upsmple = DecisionTreeClassifier(random_state=12345, max_depth=depth)\n",
    "    model_tree_upsmple.fit(features_upsampled, target_upsampled)\n",
    "    predicted_valid = model_tree_upsmple.predict(features_valid)\n",
    "    print('Max depth:', depth,'F1-score:', f1_score(target_valid, predicted_valid))\n",
    "    result = f1_score(target_valid, predicted_valid)\n",
    "    \n",
    "    if best_result_upsmple < result:\n",
    "        best_result_upsmple = result\n",
    "        max_depth_upsmple = depth\n",
    "        best_model_tree_upsmple = model_tree_upsmple\n",
    "\n",
    "print(\"Лучшая F-мера\", best_result_upsmple, 'cо значением глубины =', max_depth_upsmple)\n",
    "probabilities_valid = model_tree_upsmple.predict_proba(features_valid)\n",
    "probabilities_one_valid = probabilities_valid[:, 1]\n",
    "fpr, tpr, thresholds = roc_curve(target_valid, probabilities_one_valid)\n",
    "auc_roc = roc_auc_score(target_valid, probabilities_one_valid)\n",
    "print('AUC-ROC DecisionTreeClassifier',auc_roc)"
   ]
  },
  {
   "cell_type": "code",
   "execution_count": null,
   "metadata": {},
   "outputs": [],
   "source": [
    "# Код ревьюера\n",
    "probabilities_valid = best_model_tree_upsmple.predict_proba(features_valid)\n",
    "probabilities_one_valid = probabilities_valid[:, 1]\n",
    "fpr, tpr, thresholds = roc_curve(target_valid, probabilities_one_valid)\n",
    "auc_roc = roc_auc_score(target_valid, probabilities_one_valid)\n",
    "print('AUC-ROC DecisionTreeClassifier',auc_roc)"
   ]
  },
  {
   "cell_type": "code",
   "execution_count": null,
   "metadata": {},
   "outputs": [],
   "source": [
    "best_model_forest_upsample = None\n",
    "best_result_upsample = 0\n",
    "best_depth_upsample = 0\n",
    "best_est_upsample = 0\n",
    "\n",
    "for estimator in range(1, 100, 5):\n",
    "    for depth in range(1, 20):\n",
    "        model_forest_upsample =  RandomForestClassifier(random_state=12345, n_estimators=estim, \n",
    "                                                   max_depth = depth)\n",
    "        model_forest_upsample.fit(features_upsampled, target_upsampled)\n",
    "        predicted_valid = model_forest_upsample.predict(features_valid)\n",
    "        print('N estimators:', estimator, 'Глубина:', depth, 'F1:', f1_score(target_valid, predicted_valid))\n",
    "        result = f1_score(target_valid, predicted_valid) \n",
    "        \n",
    "        if result > best_result_upsample:\n",
    "            best_model_forest_upsample = model_forest_upsample\n",
    "            best_result_upsample = result\n",
    "            best_depth_upsample = depth\n",
    "            best_est_upsample = estim\n",
    "\n",
    "print(\"Лучшая F-мера\", best_result_upsample, 'при глубине = {0} и количестве деревьев = {1}'.format(best_depth_upsample,\n",
    "                                                                                           best_est_upsample))\n",
    "probabilities_valid = model_forest_upsample.predict_proba(features_valid)\n",
    "probabilities_one_valid = probabilities_valid[:, 1]\n",
    "fpr, tpr, thresholds = roc_curve(target_valid, probabilities_one_valid)\n",
    "auc_roc = roc_auc_score(target_valid, probabilities_one_valid)\n",
    "print('AUC-ROC RandomForestClassifier',auc_roc)"
   ]
  },
  {
   "cell_type": "code",
   "execution_count": null,
   "metadata": {},
   "outputs": [],
   "source": [
    "# Код ревьюера\n",
    "probabilities_valid = best_model_forest_upsample.predict_proba(features_valid)\n",
    "probabilities_one_valid = probabilities_valid[:, 1]\n",
    "fpr, tpr, thresholds = roc_curve(target_valid, probabilities_one_valid)\n",
    "auc_roc = roc_auc_score(target_valid, probabilities_one_valid)\n",
    "print('AUC-ROC DecisionTreeClassifier',auc_roc)"
   ]
  },
  {
   "cell_type": "code",
   "execution_count": null,
   "metadata": {},
   "outputs": [],
   "source": [
    "def downsample(features, target, fraction):\n",
    "    features_zeros = features[target == 0]\n",
    "    features_ones = features[target == 1]\n",
    "    target_zeros = target[target == 0]\n",
    "    target_ones = target[target == 1]\n",
    "\n",
    "    features_downsampled = pd.concat(\n",
    "        [features_zeros.sample(frac=fraction, random_state=12345)] + [features_ones])\n",
    "    target_downsampled = pd.concat(\n",
    "        [target_zeros.sample(frac=fraction, random_state=12345)] + [target_ones])\n",
    "    \n",
    "    features_downsampled, target_downsampled = shuffle(\n",
    "        features_downsampled, target_downsampled, random_state=12345)\n",
    "    \n",
    "    return features_downsampled, target_downsampled"
   ]
  },
  {
   "cell_type": "code",
   "execution_count": null,
   "metadata": {},
   "outputs": [],
   "source": [
    "features_downsampled, target_downsampled = downsample(features_train, target_train, 0.25)"
   ]
  },
  {
   "cell_type": "code",
   "execution_count": null,
   "metadata": {},
   "outputs": [],
   "source": [
    "print(target_downsampled.value_counts())"
   ]
  },
  {
   "cell_type": "code",
   "execution_count": null,
   "metadata": {},
   "outputs": [],
   "source": [
    "model_logistic = LogisticRegression(random_state=12345, solver='liblinear')\n",
    "model_logistic.fit(features_downsampled, target_downsampled)\n",
    "predicted_valid = model_logistic.predict(features_valid)\n",
    "print('Логистическая регрессия')\n",
    "print('F1', f1_score(target_valid, predicted_valid))\n",
    "probabilities_valid = model_logistic.predict_proba(features_valid)\n",
    "probabilities_one_valid = probabilities_valid[:, 1]\n",
    "fpr, tpr, thresholds = roc_curve(target_valid, probabilities_one_valid)\n",
    "auc_roc = roc_auc_score(target_valid, probabilities_one_valid)\n",
    "print('AUC-ROC LogisticRegression',auc_roc)"
   ]
  },
  {
   "cell_type": "code",
   "execution_count": null,
   "metadata": {},
   "outputs": [],
   "source": [
    "best_model_tree_downsample = None\n",
    "best_result_downsample = 0\n",
    "\n",
    "for depth in range(1, 21):\n",
    "    model_tree_downsample = DecisionTreeClassifier(random_state=12345, max_depth=depth)\n",
    "    model_tree_downsample.fit(features_downsampled, target_downsampled)\n",
    "    predicted_valid = model_tree_downsample.predict(features_valid)\n",
    "    print('Max depth:', depth,'F1-score:', f1_score(target_valid, predicted_valid))\n",
    "    result = f1_score(target_valid, predicted_valid)\n",
    "    \n",
    "    if best_result_downsample < result:\n",
    "        best_result_downsample = result\n",
    "        max_depth_downsample = depth\n",
    "        best_model_tree_downsample = model_tree_downsample\n",
    "\n",
    "print(\"Лучшая F-мера\", best_result_downsample, 'cо значением глубины =', max_depth_downsample)\n",
    "probabilities_valid = model_tree_downsample.predict_proba(features_valid)\n",
    "probabilities_one_valid = probabilities_valid[:, 1]\n",
    "fpr, tpr, thresholds = roc_curve(target_valid, probabilities_one_valid)\n",
    "auc_roc = roc_auc_score(target_valid, probabilities_one_valid)\n",
    "print('AUC-ROC DecisionTreeClassifier',auc_roc)"
   ]
  },
  {
   "cell_type": "code",
   "execution_count": null,
   "metadata": {},
   "outputs": [],
   "source": [
    "# Код ревьюера\n",
    "probabilities_valid = best_model_tree_downsample.predict_proba(features_valid)\n",
    "probabilities_one_valid = probabilities_valid[:, 1]\n",
    "fpr, tpr, thresholds = roc_curve(target_valid, probabilities_one_valid)\n",
    "auc_roc = roc_auc_score(target_valid, probabilities_one_valid)\n",
    "print('AUC-ROC DecisionTreeClassifier',auc_roc)"
   ]
  },
  {
   "cell_type": "code",
   "execution_count": null,
   "metadata": {},
   "outputs": [],
   "source": [
    "best_model_forest_downsample = None\n",
    "best_result_downsample = 0\n",
    "best_depth_downsample = 0\n",
    "best_est_downsample = 0\n",
    "\n",
    "for estimator in range(1, 100, 5):\n",
    "    for depth in range(1, 20):\n",
    "        model_forest_downsample =  RandomForestClassifier(random_state=12345, n_estimators=estim, \n",
    "                                                   max_depth = depth)\n",
    "        model_forest_downsample.fit(features_downsampled, target_downsampled)\n",
    "        predicted_valid = model_forest_downsample.predict(features_valid)\n",
    "        print('N estimators:', estimator, 'Глубина:', depth, 'F1:', f1_score(target_valid, predicted_valid))\n",
    "        result = f1_score(target_valid, predicted_valid) \n",
    "        \n",
    "        if result > best_result_downsample:\n",
    "            best_model_forest_downsample = model_forest_downsample\n",
    "            best_result_downsample = result\n",
    "            best_depth_downsample = depth\n",
    "            best_est_downsample = estim\n",
    "\n",
    "print(\"Лучшая F-мера\", best_result_downsample, 'при глубине = {0} и количестве деревьев = {1}'.format(best_depth_downsample,\n",
    "                                                                                           best_est_downsample))\n",
    "probabilities_valid = model_forest_downsample.predict_proba(features_valid)\n",
    "probabilities_one_valid = probabilities_valid[:, 1]\n",
    "fpr, tpr, thresholds = roc_curve(target_valid, probabilities_one_valid)\n",
    "auc_roc = roc_auc_score(target_valid, probabilities_one_valid)\n",
    "print('AUC-ROC RandomForestClassifier',auc_roc)"
   ]
  },
  {
   "cell_type": "code",
   "execution_count": null,
   "metadata": {},
   "outputs": [],
   "source": [
    "# Код ревьюера\n",
    "probabilities_valid = best_model_forest_downsample.predict_proba(features_valid)\n",
    "probabilities_one_valid = probabilities_valid[:, 1]\n",
    "fpr, tpr, thresholds = roc_curve(target_valid, probabilities_one_valid)\n",
    "auc_roc = roc_auc_score(target_valid, probabilities_one_valid)\n",
    "print('AUC-ROC DecisionTreeClassifier',auc_roc)"
   ]
  },
  {
   "cell_type": "markdown",
   "metadata": {},
   "source": [
    "## Тестирование модели"
   ]
  },
  {
   "cell_type": "code",
   "execution_count": null,
   "metadata": {},
   "outputs": [],
   "source": [
    "features_full_train = pd.concat([features_train, features_valid])\n",
    "target_full_train = pd.concat([target_train, target_valid])"
   ]
  },
  {
   "cell_type": "code",
   "execution_count": null,
   "metadata": {},
   "outputs": [],
   "source": [
    "features_upsampled, target_upsampled = upsample(features_full_train, target_full_train, 4)"
   ]
  },
  {
   "cell_type": "code",
   "execution_count": null,
   "metadata": {},
   "outputs": [],
   "source": [
    "model = RandomForestClassifier(random_state=12345, n_estimators= 96, \n",
    "                                                   max_depth = 14)\n",
    "model.fit(features_upsampled, target_upsampled)\n",
    "predicted_test = model.predict(features_test)\n",
    "f1_score(target_test, predicted_test)"
   ]
  },
  {
   "cell_type": "code",
   "execution_count": null,
   "metadata": {},
   "outputs": [],
   "source": [
    "probabilities_test = model.predict_proba(features_test)\n",
    "probabilities_one_test = probabilities_test[:, 1]\n",
    "probabilities_one_test"
   ]
  },
  {
   "cell_type": "code",
   "execution_count": null,
   "metadata": {},
   "outputs": [],
   "source": [
    "auc_roc = roc_auc_score(target_test, probabilities_one_test)\n",
    "print('auc_roc', auc_roc)"
   ]
  },
  {
   "cell_type": "markdown",
   "metadata": {},
   "source": [
    "## Вывод"
   ]
  },
  {
   "cell_type": "markdown",
   "metadata": {},
   "source": [
    "## Чек-лист готовности проекта"
   ]
  },
  {
   "cell_type": "markdown",
   "metadata": {},
   "source": [
    "Поставьте 'x' в выполненных пунктах. Далее нажмите Shift+Enter."
   ]
  },
  {
   "cell_type": "markdown",
   "metadata": {},
   "source": [
    "- [x]  Jupyter Notebook открыт\n",
    "- [x]  Весь код выполняется без ошибок\n",
    "- [x]  Ячейки с кодом расположены в порядке исполнения\n",
    "- [x]  Выполнен шаг 1: данные подготовлены\n",
    "- [x]  Выполнен шаг 2: задача исследована\n",
    "    - [x]  Исследован баланс классов\n",
    "    - [x]  Изучены модели без учёта дисбаланса\n",
    "    - [x]  Написаны выводы по результатам исследования\n",
    "- [x]  Выполнен шаг 3: учтён дисбаланс\n",
    "    - [x]  Применено несколько способов борьбы с дисбалансом\n",
    "    - [x]  Написаны выводы по результатам исследования\n",
    "- [x]  Выполнен шаг 4: проведено тестирование\n",
    "- [x]  Удалось достичь *F1*-меры не менее 0.59\n",
    "- [x]  Исследована метрика *AUC-ROC*"
   ]
  },
  {
   "cell_type": "code",
   "execution_count": null,
   "metadata": {},
   "outputs": [],
   "source": []
  }
 ],
 "metadata": {
  "ExecuteTimeLog": [
   {
    "duration": 1374,
    "start_time": "2022-11-12T02:43:15.403Z"
   },
   {
    "duration": 185,
    "start_time": "2022-11-12T02:48:38.884Z"
   },
   {
    "duration": 49,
    "start_time": "2022-11-12T02:48:45.004Z"
   },
   {
    "duration": 4,
    "start_time": "2022-11-12T02:49:47.588Z"
   },
   {
    "duration": 15,
    "start_time": "2022-11-12T02:50:18.222Z"
   },
   {
    "duration": 4,
    "start_time": "2022-11-12T02:50:28.341Z"
   },
   {
    "duration": 3,
    "start_time": "2022-11-12T02:50:47.886Z"
   },
   {
    "duration": 52,
    "start_time": "2022-11-12T02:51:11.517Z"
   },
   {
    "duration": 11,
    "start_time": "2022-11-12T02:51:26.911Z"
   },
   {
    "duration": 10,
    "start_time": "2022-11-12T02:51:46.551Z"
   },
   {
    "duration": 6,
    "start_time": "2022-11-12T02:52:05.768Z"
   },
   {
    "duration": 8,
    "start_time": "2022-11-12T02:52:21.246Z"
   },
   {
    "duration": 5,
    "start_time": "2022-11-12T02:52:25.856Z"
   },
   {
    "duration": 5,
    "start_time": "2022-11-12T02:52:38.551Z"
   },
   {
    "duration": 51,
    "start_time": "2022-11-15T09:43:10.885Z"
   },
   {
    "duration": 1730,
    "start_time": "2022-11-15T09:43:18.581Z"
   },
   {
    "duration": 179,
    "start_time": "2022-11-15T09:43:20.313Z"
   },
   {
    "duration": 16,
    "start_time": "2022-11-15T09:43:20.494Z"
   },
   {
    "duration": 42,
    "start_time": "2022-11-15T09:43:20.512Z"
   },
   {
    "duration": 5,
    "start_time": "2022-11-15T09:43:21.060Z"
   },
   {
    "duration": 7,
    "start_time": "2022-11-15T09:43:22.026Z"
   },
   {
    "duration": 6,
    "start_time": "2022-11-15T09:43:34.156Z"
   },
   {
    "duration": 9,
    "start_time": "2022-11-15T09:43:57.968Z"
   },
   {
    "duration": 6,
    "start_time": "2022-11-15T09:47:25.177Z"
   },
   {
    "duration": 120,
    "start_time": "2022-11-15T09:47:42.828Z"
   },
   {
    "duration": 12,
    "start_time": "2022-11-15T09:48:10.198Z"
   },
   {
    "duration": 21,
    "start_time": "2022-11-15T09:48:24.268Z"
   },
   {
    "duration": 8,
    "start_time": "2022-11-15T09:48:45.367Z"
   },
   {
    "duration": 97,
    "start_time": "2022-11-15T09:48:48.819Z"
   },
   {
    "duration": 9,
    "start_time": "2022-11-15T09:48:57.787Z"
   },
   {
    "duration": 6,
    "start_time": "2022-11-15T09:48:59.880Z"
   },
   {
    "duration": 96,
    "start_time": "2022-11-15T09:49:00.805Z"
   },
   {
    "duration": 12,
    "start_time": "2022-11-15T09:49:04.294Z"
   },
   {
    "duration": 14,
    "start_time": "2022-11-15T09:49:04.976Z"
   },
   {
    "duration": 5,
    "start_time": "2022-11-15T09:49:19.182Z"
   },
   {
    "duration": 45,
    "start_time": "2022-11-15T09:49:20.181Z"
   },
   {
    "duration": 12,
    "start_time": "2022-11-15T09:49:20.847Z"
   },
   {
    "duration": 13,
    "start_time": "2022-11-15T09:49:21.590Z"
   },
   {
    "duration": 4,
    "start_time": "2022-11-15T09:49:22.140Z"
   },
   {
    "duration": 7,
    "start_time": "2022-11-15T09:49:22.681Z"
   },
   {
    "duration": 5,
    "start_time": "2022-11-15T09:49:24.526Z"
   },
   {
    "duration": 7,
    "start_time": "2022-11-15T09:49:25.183Z"
   },
   {
    "duration": 8,
    "start_time": "2022-11-15T09:49:25.703Z"
   },
   {
    "duration": 7,
    "start_time": "2022-11-15T09:49:26.898Z"
   },
   {
    "duration": 105,
    "start_time": "2022-11-15T09:49:27.269Z"
   },
   {
    "duration": 11,
    "start_time": "2022-11-15T09:49:27.640Z"
   },
   {
    "duration": 24,
    "start_time": "2022-11-15T09:49:28.317Z"
   },
   {
    "duration": 3,
    "start_time": "2022-11-15T09:49:50.622Z"
   },
   {
    "duration": 7,
    "start_time": "2022-11-15T09:51:44.919Z"
   },
   {
    "duration": 3,
    "start_time": "2022-11-15T09:51:48.278Z"
   },
   {
    "duration": 105,
    "start_time": "2022-11-15T09:52:03.767Z"
   },
   {
    "duration": 4,
    "start_time": "2022-11-15T10:03:49.051Z"
   },
   {
    "duration": 7,
    "start_time": "2022-11-15T10:03:49.803Z"
   },
   {
    "duration": 43,
    "start_time": "2022-11-15T10:03:51.029Z"
   },
   {
    "duration": 10,
    "start_time": "2022-11-15T10:04:21.718Z"
   },
   {
    "duration": 4,
    "start_time": "2022-11-15T10:04:32.982Z"
   },
   {
    "duration": 47,
    "start_time": "2022-11-15T10:04:33.944Z"
   },
   {
    "duration": 13,
    "start_time": "2022-11-15T10:04:34.455Z"
   },
   {
    "duration": 11,
    "start_time": "2022-11-15T10:04:34.950Z"
   },
   {
    "duration": 5,
    "start_time": "2022-11-15T10:04:35.456Z"
   },
   {
    "duration": 6,
    "start_time": "2022-11-15T10:04:35.951Z"
   },
   {
    "duration": 5,
    "start_time": "2022-11-15T10:04:36.399Z"
   },
   {
    "duration": 7,
    "start_time": "2022-11-15T10:04:36.901Z"
   },
   {
    "duration": 8,
    "start_time": "2022-11-15T10:04:37.423Z"
   },
   {
    "duration": 5,
    "start_time": "2022-11-15T10:04:38.912Z"
   },
   {
    "duration": 106,
    "start_time": "2022-11-15T10:04:39.455Z"
   },
   {
    "duration": 13,
    "start_time": "2022-11-15T10:04:39.894Z"
   },
   {
    "duration": 18,
    "start_time": "2022-11-15T10:04:40.422Z"
   },
   {
    "duration": 9,
    "start_time": "2022-11-15T10:04:40.909Z"
   },
   {
    "duration": 3,
    "start_time": "2022-11-15T10:04:41.421Z"
   },
   {
    "duration": 9,
    "start_time": "2022-11-15T10:04:41.957Z"
   },
   {
    "duration": 38,
    "start_time": "2022-11-15T10:04:42.653Z"
   },
   {
    "duration": 9,
    "start_time": "2022-11-15T10:04:43.762Z"
   },
   {
    "duration": 33,
    "start_time": "2022-11-15T10:05:39.870Z"
   },
   {
    "duration": 17,
    "start_time": "2022-11-15T10:05:46.406Z"
   },
   {
    "duration": 11,
    "start_time": "2022-11-15T10:06:08.539Z"
   },
   {
    "duration": 13,
    "start_time": "2022-11-15T10:06:14.078Z"
   },
   {
    "duration": 15,
    "start_time": "2022-11-15T10:06:17.495Z"
   },
   {
    "duration": 3126,
    "start_time": "2022-11-15T10:06:44.086Z"
   },
   {
    "duration": 8,
    "start_time": "2022-11-15T10:07:10.460Z"
   },
   {
    "duration": 13,
    "start_time": "2022-11-15T10:07:36.616Z"
   },
   {
    "duration": 4,
    "start_time": "2022-11-15T10:07:46.224Z"
   },
   {
    "duration": 51,
    "start_time": "2022-11-15T10:07:46.905Z"
   },
   {
    "duration": 13,
    "start_time": "2022-11-15T10:07:47.160Z"
   },
   {
    "duration": 11,
    "start_time": "2022-11-15T10:07:47.370Z"
   },
   {
    "duration": 5,
    "start_time": "2022-11-15T10:07:47.595Z"
   },
   {
    "duration": 6,
    "start_time": "2022-11-15T10:07:47.791Z"
   },
   {
    "duration": 5,
    "start_time": "2022-11-15T10:07:48.000Z"
   },
   {
    "duration": 6,
    "start_time": "2022-11-15T10:07:48.188Z"
   },
   {
    "duration": 8,
    "start_time": "2022-11-15T10:07:48.383Z"
   },
   {
    "duration": 5,
    "start_time": "2022-11-15T10:07:48.969Z"
   },
   {
    "duration": 109,
    "start_time": "2022-11-15T10:07:49.176Z"
   },
   {
    "duration": 11,
    "start_time": "2022-11-15T10:07:49.376Z"
   },
   {
    "duration": 18,
    "start_time": "2022-11-15T10:07:49.671Z"
   },
   {
    "duration": 9,
    "start_time": "2022-11-15T10:07:49.949Z"
   },
   {
    "duration": 4,
    "start_time": "2022-11-15T10:07:50.172Z"
   },
   {
    "duration": 8,
    "start_time": "2022-11-15T10:07:50.423Z"
   },
   {
    "duration": 55,
    "start_time": "2022-11-15T10:07:50.655Z"
   },
   {
    "duration": 9,
    "start_time": "2022-11-15T10:07:51.279Z"
   },
   {
    "duration": 17,
    "start_time": "2022-11-15T10:07:51.599Z"
   },
   {
    "duration": 14,
    "start_time": "2022-11-15T10:07:53.103Z"
   },
   {
    "duration": 2606,
    "start_time": "2022-11-15T10:07:53.729Z"
   },
   {
    "duration": 0,
    "start_time": "2022-11-15T10:07:56.337Z"
   },
   {
    "duration": 0,
    "start_time": "2022-11-15T10:07:56.338Z"
   },
   {
    "duration": 2805,
    "start_time": "2022-11-15T10:08:00.057Z"
   },
   {
    "duration": 11,
    "start_time": "2022-11-15T10:08:04.975Z"
   },
   {
    "duration": 10,
    "start_time": "2022-11-15T10:08:20.710Z"
   },
   {
    "duration": 8,
    "start_time": "2022-11-15T10:08:47.345Z"
   },
   {
    "duration": 10,
    "start_time": "2022-11-15T10:09:00.180Z"
   },
   {
    "duration": 4,
    "start_time": "2022-11-15T10:09:25.343Z"
   },
   {
    "duration": 47,
    "start_time": "2022-11-15T10:09:25.713Z"
   },
   {
    "duration": 12,
    "start_time": "2022-11-15T10:09:25.910Z"
   },
   {
    "duration": 11,
    "start_time": "2022-11-15T10:09:26.081Z"
   },
   {
    "duration": 4,
    "start_time": "2022-11-15T10:09:26.290Z"
   },
   {
    "duration": 6,
    "start_time": "2022-11-15T10:09:26.463Z"
   },
   {
    "duration": 6,
    "start_time": "2022-11-15T10:09:26.657Z"
   },
   {
    "duration": 6,
    "start_time": "2022-11-15T10:09:26.840Z"
   },
   {
    "duration": 9,
    "start_time": "2022-11-15T10:09:27.038Z"
   },
   {
    "duration": 5,
    "start_time": "2022-11-15T10:09:27.610Z"
   },
   {
    "duration": 102,
    "start_time": "2022-11-15T10:09:27.783Z"
   },
   {
    "duration": 14,
    "start_time": "2022-11-15T10:09:27.994Z"
   },
   {
    "duration": 19,
    "start_time": "2022-11-15T10:09:28.185Z"
   },
   {
    "duration": 9,
    "start_time": "2022-11-15T10:09:28.386Z"
   },
   {
    "duration": 4,
    "start_time": "2022-11-15T10:09:28.575Z"
   },
   {
    "duration": 7,
    "start_time": "2022-11-15T10:09:28.768Z"
   },
   {
    "duration": 35,
    "start_time": "2022-11-15T10:09:28.968Z"
   },
   {
    "duration": 9,
    "start_time": "2022-11-15T10:09:29.368Z"
   },
   {
    "duration": 17,
    "start_time": "2022-11-15T10:09:29.569Z"
   },
   {
    "duration": 13,
    "start_time": "2022-11-15T10:09:29.784Z"
   },
   {
    "duration": 2972,
    "start_time": "2022-11-15T10:09:29.985Z"
   },
   {
    "duration": 0,
    "start_time": "2022-11-15T10:09:32.959Z"
   },
   {
    "duration": 0,
    "start_time": "2022-11-15T10:09:32.960Z"
   },
   {
    "duration": 0,
    "start_time": "2022-11-15T10:09:32.961Z"
   },
   {
    "duration": 0,
    "start_time": "2022-11-15T10:09:32.963Z"
   },
   {
    "duration": 10,
    "start_time": "2022-11-15T10:09:33.138Z"
   },
   {
    "duration": 4,
    "start_time": "2022-11-15T10:10:21.681Z"
   },
   {
    "duration": 49,
    "start_time": "2022-11-15T10:10:23.323Z"
   },
   {
    "duration": 14,
    "start_time": "2022-11-15T10:10:31.815Z"
   },
   {
    "duration": 13,
    "start_time": "2022-11-15T10:10:32.500Z"
   },
   {
    "duration": 5,
    "start_time": "2022-11-15T10:10:33.155Z"
   },
   {
    "duration": 6,
    "start_time": "2022-11-15T10:10:33.745Z"
   },
   {
    "duration": 5,
    "start_time": "2022-11-15T10:10:34.299Z"
   },
   {
    "duration": 6,
    "start_time": "2022-11-15T10:10:34.857Z"
   },
   {
    "duration": 12,
    "start_time": "2022-11-15T10:10:35.459Z"
   },
   {
    "duration": 5,
    "start_time": "2022-11-15T10:10:37.204Z"
   },
   {
    "duration": 117,
    "start_time": "2022-11-15T10:10:37.880Z"
   },
   {
    "duration": 11,
    "start_time": "2022-11-15T10:10:38.466Z"
   },
   {
    "duration": 20,
    "start_time": "2022-11-15T10:10:39.122Z"
   },
   {
    "duration": 8,
    "start_time": "2022-11-15T10:10:39.673Z"
   },
   {
    "duration": 3,
    "start_time": "2022-11-15T10:10:40.225Z"
   },
   {
    "duration": 7,
    "start_time": "2022-11-15T10:10:40.875Z"
   },
   {
    "duration": 35,
    "start_time": "2022-11-15T10:10:41.522Z"
   },
   {
    "duration": 10,
    "start_time": "2022-11-15T10:10:42.680Z"
   },
   {
    "duration": 15,
    "start_time": "2022-11-15T10:10:43.689Z"
   },
   {
    "duration": 4,
    "start_time": "2022-11-15T10:20:54.687Z"
   },
   {
    "duration": 9,
    "start_time": "2022-11-15T10:23:35.281Z"
   },
   {
    "duration": 4,
    "start_time": "2022-11-15T10:23:59.985Z"
   },
   {
    "duration": 47,
    "start_time": "2022-11-15T10:24:01.320Z"
   },
   {
    "duration": 14,
    "start_time": "2022-11-15T10:24:02.144Z"
   },
   {
    "duration": 9,
    "start_time": "2022-11-15T10:24:03.618Z"
   },
   {
    "duration": 11,
    "start_time": "2022-11-15T10:25:07.961Z"
   },
   {
    "duration": 10,
    "start_time": "2022-11-15T10:25:14.800Z"
   },
   {
    "duration": 15,
    "start_time": "2022-11-15T10:25:22.643Z"
   },
   {
    "duration": 11,
    "start_time": "2022-11-15T10:26:00.969Z"
   },
   {
    "duration": 57,
    "start_time": "2022-11-15T10:26:45.043Z"
   },
   {
    "duration": 13,
    "start_time": "2022-11-15T10:26:52.666Z"
   },
   {
    "duration": 19,
    "start_time": "2022-11-15T10:26:56.402Z"
   },
   {
    "duration": 14,
    "start_time": "2022-11-15T10:27:18.341Z"
   },
   {
    "duration": 27,
    "start_time": "2022-11-15T10:27:22.251Z"
   },
   {
    "duration": 133,
    "start_time": "2022-11-15T10:27:55.394Z"
   },
   {
    "duration": 19,
    "start_time": "2022-11-15T10:28:33.715Z"
   },
   {
    "duration": 253,
    "start_time": "2022-11-15T10:29:28.188Z"
   },
   {
    "duration": 1078,
    "start_time": "2022-11-15T10:30:53.014Z"
   },
   {
    "duration": 61,
    "start_time": "2022-11-15T10:31:06.541Z"
   },
   {
    "duration": 90,
    "start_time": "2022-11-15T10:31:54.566Z"
   },
   {
    "duration": 9156,
    "start_time": "2022-11-15T10:32:15.597Z"
   },
   {
    "duration": 12420,
    "start_time": "2022-11-15T10:33:02.565Z"
   },
   {
    "duration": 12110,
    "start_time": "2022-11-15T10:33:45.542Z"
   },
   {
    "duration": 16446,
    "start_time": "2022-11-15T10:34:12.941Z"
   },
   {
    "duration": 16474,
    "start_time": "2022-11-15T10:35:38.716Z"
   },
   {
    "duration": 7253,
    "start_time": "2022-11-15T10:36:24.182Z"
   },
   {
    "duration": 45,
    "start_time": "2022-11-15T10:37:04.471Z"
   },
   {
    "duration": 28888,
    "start_time": "2022-11-15T10:38:25.449Z"
   },
   {
    "duration": 2902,
    "start_time": "2022-11-15T10:38:54.339Z"
   },
   {
    "duration": 0,
    "start_time": "2022-11-15T10:40:56.831Z"
   },
   {
    "duration": 0,
    "start_time": "2022-11-15T10:40:56.833Z"
   },
   {
    "duration": 8399,
    "start_time": "2022-11-15T10:41:07.993Z"
   },
   {
    "duration": 63247,
    "start_time": "2022-11-15T10:41:48.074Z"
   },
   {
    "duration": 7630,
    "start_time": "2022-11-15T10:43:33.949Z"
   },
   {
    "duration": 3324,
    "start_time": "2022-11-15T10:44:38.711Z"
   },
   {
    "duration": 120,
    "start_time": "2022-11-15T10:45:16.637Z"
   },
   {
    "duration": 27,
    "start_time": "2022-11-15T10:46:24.174Z"
   },
   {
    "duration": 20,
    "start_time": "2022-11-15T10:46:41.591Z"
   },
   {
    "duration": 44,
    "start_time": "2022-11-15T10:46:42.277Z"
   },
   {
    "duration": 21,
    "start_time": "2022-11-15T10:46:45.365Z"
   },
   {
    "duration": 30,
    "start_time": "2022-11-15T10:46:56.610Z"
   },
   {
    "duration": 43,
    "start_time": "2022-11-15T10:47:03.301Z"
   },
   {
    "duration": 215,
    "start_time": "2022-11-15T10:47:22.315Z"
   },
   {
    "duration": 51,
    "start_time": "2022-11-15T10:47:50.137Z"
   },
   {
    "duration": 3,
    "start_time": "2022-11-15T10:52:56.873Z"
   },
   {
    "duration": 45,
    "start_time": "2022-11-15T10:52:59.496Z"
   },
   {
    "duration": 30,
    "start_time": "2022-11-15T10:53:58.713Z"
   },
   {
    "duration": 15,
    "start_time": "2022-11-15T10:55:03.617Z"
   },
   {
    "duration": 26,
    "start_time": "2022-11-15T10:55:04.377Z"
   },
   {
    "duration": 140,
    "start_time": "2022-11-15T10:55:07.066Z"
   },
   {
    "duration": 19,
    "start_time": "2022-11-15T10:56:14.283Z"
   },
   {
    "duration": 191,
    "start_time": "2022-11-15T10:57:18.181Z"
   },
   {
    "duration": 13,
    "start_time": "2022-11-15T10:59:38.081Z"
   },
   {
    "duration": 4,
    "start_time": "2022-11-15T10:59:42.817Z"
   },
   {
    "duration": 44,
    "start_time": "2022-11-15T10:59:44.011Z"
   },
   {
    "duration": 13,
    "start_time": "2022-11-15T10:59:44.847Z"
   },
   {
    "duration": 14,
    "start_time": "2022-11-15T10:59:46.325Z"
   },
   {
    "duration": 15,
    "start_time": "2022-11-15T10:59:56.662Z"
   },
   {
    "duration": 19,
    "start_time": "2022-11-15T10:59:57.750Z"
   },
   {
    "duration": 136,
    "start_time": "2022-11-15T10:59:58.579Z"
   },
   {
    "duration": 18,
    "start_time": "2022-11-15T11:00:00.589Z"
   },
   {
    "duration": 17,
    "start_time": "2022-11-15T11:00:05.860Z"
   },
   {
    "duration": 14,
    "start_time": "2022-11-15T11:06:56.587Z"
   },
   {
    "duration": 40,
    "start_time": "2022-11-15T11:10:04.315Z"
   },
   {
    "duration": 32,
    "start_time": "2022-11-15T11:11:37.613Z"
   },
   {
    "duration": 16,
    "start_time": "2022-11-15T11:12:41.003Z"
   },
   {
    "duration": 7,
    "start_time": "2022-11-15T11:12:55.766Z"
   },
   {
    "duration": 573,
    "start_time": "2022-11-15T11:18:06.823Z"
   },
   {
    "duration": 5974,
    "start_time": "2022-11-15T11:18:14.367Z"
   },
   {
    "duration": 8011,
    "start_time": "2022-11-15T11:19:20.748Z"
   },
   {
    "duration": 62,
    "start_time": "2022-11-15T11:20:25.592Z"
   },
   {
    "duration": 162,
    "start_time": "2022-11-15T11:21:02.089Z"
   },
   {
    "duration": 51,
    "start_time": "2022-11-15T11:21:45.298Z"
   },
   {
    "duration": 22,
    "start_time": "2022-11-15T11:22:44.747Z"
   },
   {
    "duration": 1012,
    "start_time": "2022-11-15T11:28:35.559Z"
   },
   {
    "duration": 61,
    "start_time": "2022-11-15T11:28:49.596Z"
   },
   {
    "duration": 54,
    "start_time": "2022-11-15T11:29:01.373Z"
   },
   {
    "duration": 2789,
    "start_time": "2022-11-15T11:29:07.700Z"
   },
   {
    "duration": 2744,
    "start_time": "2022-11-15T11:29:18.840Z"
   },
   {
    "duration": 32,
    "start_time": "2022-11-15T11:32:29.918Z"
   },
   {
    "duration": 11,
    "start_time": "2022-11-15T11:57:26.773Z"
   },
   {
    "duration": 48,
    "start_time": "2022-11-15T11:57:37.153Z"
   },
   {
    "duration": 188,
    "start_time": "2022-11-15T11:57:40.451Z"
   },
   {
    "duration": 22,
    "start_time": "2022-11-15T12:37:08.929Z"
   },
   {
    "duration": 18,
    "start_time": "2022-11-15T12:37:08.953Z"
   },
   {
    "duration": 14,
    "start_time": "2022-11-15T12:37:08.973Z"
   },
   {
    "duration": 9,
    "start_time": "2022-11-15T12:37:08.989Z"
   },
   {
    "duration": 566,
    "start_time": "2022-11-15T12:37:09.000Z"
   },
   {
    "duration": 6031,
    "start_time": "2022-11-15T12:37:09.568Z"
   },
   {
    "duration": 7823,
    "start_time": "2022-11-15T12:37:15.600Z"
   },
   {
    "duration": 116,
    "start_time": "2022-11-15T12:37:23.425Z"
   },
   {
    "duration": 117,
    "start_time": "2022-11-15T12:37:23.634Z"
   },
   {
    "duration": 186,
    "start_time": "2022-11-15T12:37:23.756Z"
   },
   {
    "duration": 1137,
    "start_time": "2022-11-15T12:37:23.944Z"
   },
   {
    "duration": 2657,
    "start_time": "2022-11-15T12:37:25.083Z"
   },
   {
    "duration": 2300,
    "start_time": "2022-11-15T12:37:27.742Z"
   },
   {
    "duration": 12,
    "start_time": "2022-11-15T12:37:30.044Z"
   },
   {
    "duration": 184,
    "start_time": "2022-11-15T12:37:30.058Z"
   },
   {
    "duration": 39,
    "start_time": "2022-11-15T12:37:30.244Z"
   },
   {
    "duration": 53,
    "start_time": "2022-11-15T12:37:30.285Z"
   },
   {
    "duration": 272,
    "start_time": "2022-11-15T12:37:30.340Z"
   },
   {
    "duration": 3,
    "start_time": "2022-11-15T12:37:30.616Z"
   },
   {
    "duration": 63,
    "start_time": "2022-11-15T12:37:30.621Z"
   },
   {
    "duration": 12,
    "start_time": "2022-11-15T12:37:30.685Z"
   },
   {
    "duration": 53,
    "start_time": "2022-11-15T12:37:30.698Z"
   },
   {
    "duration": 58,
    "start_time": "2022-11-15T12:37:30.753Z"
   },
   {
    "duration": 70,
    "start_time": "2022-11-15T12:37:30.813Z"
   },
   {
    "duration": 137,
    "start_time": "2022-11-15T12:37:30.885Z"
   },
   {
    "duration": 22,
    "start_time": "2022-11-15T12:37:31.024Z"
   },
   {
    "duration": 1497,
    "start_time": "2022-11-15T14:56:07.020Z"
   },
   {
    "duration": 176,
    "start_time": "2022-11-15T14:56:09.270Z"
   },
   {
    "duration": 15,
    "start_time": "2022-11-15T14:56:10.440Z"
   },
   {
    "duration": 13,
    "start_time": "2022-11-15T14:56:11.857Z"
   },
   {
    "duration": 15,
    "start_time": "2022-11-15T14:56:13.554Z"
   },
   {
    "duration": 20,
    "start_time": "2022-11-15T14:56:14.224Z"
   },
   {
    "duration": 152,
    "start_time": "2022-11-15T14:56:14.926Z"
   },
   {
    "duration": 21,
    "start_time": "2022-11-15T14:56:17.215Z"
   },
   {
    "duration": 22,
    "start_time": "2022-11-15T14:56:18.728Z"
   },
   {
    "duration": 20,
    "start_time": "2022-11-15T14:56:21.429Z"
   },
   {
    "duration": 9,
    "start_time": "2022-11-15T14:56:22.169Z"
   },
   {
    "duration": 517,
    "start_time": "2022-11-15T14:56:25.749Z"
   },
   {
    "duration": 5860,
    "start_time": "2022-11-15T14:57:03.504Z"
   },
   {
    "duration": 7758,
    "start_time": "2022-11-15T14:57:33.522Z"
   },
   {
    "duration": 70,
    "start_time": "2022-11-15T14:58:05.771Z"
   },
   {
    "duration": 69,
    "start_time": "2022-11-15T14:58:48.666Z"
   },
   {
    "duration": 23,
    "start_time": "2022-11-15T14:59:05.370Z"
   },
   {
    "duration": 979,
    "start_time": "2022-11-15T14:59:17.275Z"
   },
   {
    "duration": 2772,
    "start_time": "2022-11-15T15:00:35.027Z"
   },
   {
    "duration": 2394,
    "start_time": "2022-11-15T15:00:47.749Z"
   },
   {
    "duration": 96,
    "start_time": "2022-11-15T15:05:05.245Z"
   },
   {
    "duration": 7,
    "start_time": "2022-11-15T15:05:13.037Z"
   },
   {
    "duration": 37,
    "start_time": "2022-11-15T15:05:14.196Z"
   },
   {
    "duration": 13,
    "start_time": "2022-11-15T15:05:15.124Z"
   },
   {
    "duration": 169,
    "start_time": "2022-11-15T15:05:16.244Z"
   },
   {
    "duration": 3,
    "start_time": "2022-11-15T15:19:22.222Z"
   },
   {
    "duration": 46,
    "start_time": "2022-11-15T15:19:24.158Z"
   },
   {
    "duration": 14,
    "start_time": "2022-11-15T15:19:25.152Z"
   },
   {
    "duration": 14,
    "start_time": "2022-11-15T15:19:28.941Z"
   },
   {
    "duration": 14,
    "start_time": "2022-11-15T15:19:32.006Z"
   },
   {
    "duration": 18,
    "start_time": "2022-11-15T15:19:33.489Z"
   },
   {
    "duration": 121,
    "start_time": "2022-11-15T15:19:34.701Z"
   },
   {
    "duration": 18,
    "start_time": "2022-11-15T15:19:36.597Z"
   },
   {
    "duration": 17,
    "start_time": "2022-11-15T15:19:38.191Z"
   },
   {
    "duration": 15,
    "start_time": "2022-11-15T15:19:47.454Z"
   },
   {
    "duration": 6,
    "start_time": "2022-11-15T15:19:48.093Z"
   },
   {
    "duration": 545,
    "start_time": "2022-11-15T15:19:50.357Z"
   },
   {
    "duration": 6008,
    "start_time": "2022-11-15T15:21:15.279Z"
   },
   {
    "duration": 485,
    "start_time": "2022-11-15T15:21:38.802Z"
   },
   {
    "duration": 5923,
    "start_time": "2022-11-15T15:22:22.950Z"
   },
   {
    "duration": 7771,
    "start_time": "2022-11-15T15:22:44.314Z"
   },
   {
    "duration": 73,
    "start_time": "2022-11-15T15:23:08.568Z"
   },
   {
    "duration": 51,
    "start_time": "2022-11-15T15:23:25.884Z"
   },
   {
    "duration": 19,
    "start_time": "2022-11-15T15:23:28.845Z"
   },
   {
    "duration": 53,
    "start_time": "2022-11-15T15:26:43.890Z"
   },
   {
    "duration": 19,
    "start_time": "2022-11-15T15:26:46.501Z"
   },
   {
    "duration": 986,
    "start_time": "2022-11-15T15:26:55.841Z"
   },
   {
    "duration": 980,
    "start_time": "2022-11-15T15:27:03.482Z"
   },
   {
    "duration": 2795,
    "start_time": "2022-11-15T15:27:23.959Z"
   },
   {
    "duration": 2244,
    "start_time": "2022-11-15T15:28:09.547Z"
   },
   {
    "duration": 18,
    "start_time": "2022-11-15T15:28:28.674Z"
   },
   {
    "duration": 8,
    "start_time": "2022-11-15T15:28:37.498Z"
   },
   {
    "duration": 41,
    "start_time": "2022-11-15T15:28:37.962Z"
   },
   {
    "duration": 13,
    "start_time": "2022-11-15T15:28:38.441Z"
   },
   {
    "duration": 236,
    "start_time": "2022-11-15T15:28:38.922Z"
   },
   {
    "duration": 121,
    "start_time": "2022-11-15T15:35:16.215Z"
   },
   {
    "duration": 190,
    "start_time": "2022-11-15T15:35:29.544Z"
   },
   {
    "duration": 107,
    "start_time": "2022-11-15T15:35:35.937Z"
   },
   {
    "duration": 48,
    "start_time": "2022-11-15T15:36:05.992Z"
   },
   {
    "duration": 18,
    "start_time": "2022-11-15T15:36:17.222Z"
   },
   {
    "duration": 1012,
    "start_time": "2022-11-15T15:36:20.294Z"
   },
   {
    "duration": 2980,
    "start_time": "2022-11-15T15:36:34.527Z"
   },
   {
    "duration": 2302,
    "start_time": "2022-11-15T15:36:37.509Z"
   },
   {
    "duration": 18,
    "start_time": "2022-11-15T15:36:40.158Z"
   },
   {
    "duration": 11,
    "start_time": "2022-11-15T15:36:44.039Z"
   },
   {
    "duration": 10,
    "start_time": "2022-11-15T15:37:02.117Z"
   },
   {
    "duration": 37,
    "start_time": "2022-11-15T15:37:03.377Z"
   },
   {
    "duration": 11,
    "start_time": "2022-11-15T15:37:04.303Z"
   },
   {
    "duration": 179,
    "start_time": "2022-11-15T15:37:05.744Z"
   },
   {
    "duration": 1636,
    "start_time": "2022-11-16T03:03:02.405Z"
   },
   {
    "duration": 190,
    "start_time": "2022-11-16T03:03:04.043Z"
   },
   {
    "duration": 17,
    "start_time": "2022-11-16T03:03:04.235Z"
   },
   {
    "duration": 20,
    "start_time": "2022-11-16T03:03:04.253Z"
   },
   {
    "duration": 16,
    "start_time": "2022-11-16T03:03:04.275Z"
   },
   {
    "duration": 31,
    "start_time": "2022-11-16T03:03:04.292Z"
   },
   {
    "duration": 156,
    "start_time": "2022-11-16T03:03:04.325Z"
   },
   {
    "duration": 31,
    "start_time": "2022-11-16T03:03:04.482Z"
   },
   {
    "duration": 17,
    "start_time": "2022-11-16T03:03:04.514Z"
   },
   {
    "duration": 15,
    "start_time": "2022-11-16T03:03:04.533Z"
   },
   {
    "duration": 9,
    "start_time": "2022-11-16T03:03:04.550Z"
   },
   {
    "duration": 1066,
    "start_time": "2022-11-16T03:03:04.561Z"
   },
   {
    "duration": 6382,
    "start_time": "2022-11-16T03:03:05.629Z"
   },
   {
    "duration": 7688,
    "start_time": "2022-11-16T03:03:12.014Z"
   },
   {
    "duration": 109,
    "start_time": "2022-11-16T03:03:19.704Z"
   },
   {
    "duration": 197,
    "start_time": "2022-11-16T03:03:19.816Z"
   },
   {
    "duration": 111,
    "start_time": "2022-11-16T03:03:20.016Z"
   },
   {
    "duration": 1135,
    "start_time": "2022-11-16T03:03:20.129Z"
   },
   {
    "duration": 2779,
    "start_time": "2022-11-16T03:03:21.265Z"
   },
   {
    "duration": 2361,
    "start_time": "2022-11-16T03:03:24.045Z"
   },
   {
    "duration": 13,
    "start_time": "2022-11-16T03:03:26.413Z"
   },
   {
    "duration": 185,
    "start_time": "2022-11-16T03:03:26.428Z"
   },
   {
    "duration": 37,
    "start_time": "2022-11-16T03:03:26.614Z"
   },
   {
    "duration": 61,
    "start_time": "2022-11-16T03:03:26.653Z"
   },
   {
    "duration": 272,
    "start_time": "2022-11-16T03:03:26.715Z"
   },
   {
    "duration": 49,
    "start_time": "2022-11-16T05:44:18.119Z"
   },
   {
    "duration": 7,
    "start_time": "2022-11-16T05:44:21.224Z"
   },
   {
    "duration": 1791,
    "start_time": "2022-11-16T05:45:01.573Z"
   },
   {
    "duration": 182,
    "start_time": "2022-11-16T05:45:03.366Z"
   },
   {
    "duration": 18,
    "start_time": "2022-11-16T05:45:04.254Z"
   },
   {
    "duration": 13,
    "start_time": "2022-11-16T05:45:05.845Z"
   },
   {
    "duration": 13,
    "start_time": "2022-11-16T05:45:07.533Z"
   },
   {
    "duration": 21,
    "start_time": "2022-11-16T05:45:08.190Z"
   },
   {
    "duration": 145,
    "start_time": "2022-11-16T05:45:09.438Z"
   },
   {
    "duration": 20,
    "start_time": "2022-11-16T05:45:10.919Z"
   },
   {
    "duration": 18,
    "start_time": "2022-11-16T05:45:13.014Z"
   },
   {
    "duration": 83,
    "start_time": "2022-11-16T05:45:17.438Z"
   },
   {
    "duration": 9,
    "start_time": "2022-11-16T05:45:18.553Z"
   },
   {
    "duration": 9,
    "start_time": "2022-11-16T05:45:56.856Z"
   },
   {
    "duration": 10,
    "start_time": "2022-11-16T05:46:08.349Z"
   },
   {
    "duration": 12,
    "start_time": "2022-11-16T05:46:11.270Z"
   },
   {
    "duration": 9,
    "start_time": "2022-11-16T05:46:38.958Z"
   },
   {
    "duration": 8,
    "start_time": "2022-11-16T05:49:50.386Z"
   },
   {
    "duration": 10,
    "start_time": "2022-11-16T05:49:51.087Z"
   },
   {
    "duration": 10,
    "start_time": "2022-11-16T05:54:06.858Z"
   },
   {
    "duration": 5,
    "start_time": "2022-11-16T05:54:49.899Z"
   },
   {
    "duration": 51,
    "start_time": "2022-11-16T05:54:51.259Z"
   },
   {
    "duration": 14,
    "start_time": "2022-11-16T05:54:51.847Z"
   },
   {
    "duration": 13,
    "start_time": "2022-11-16T05:54:53.465Z"
   },
   {
    "duration": 14,
    "start_time": "2022-11-16T05:54:55.218Z"
   },
   {
    "duration": 23,
    "start_time": "2022-11-16T05:54:55.905Z"
   },
   {
    "duration": 150,
    "start_time": "2022-11-16T05:54:57.098Z"
   },
   {
    "duration": 20,
    "start_time": "2022-11-16T05:54:58.594Z"
   },
   {
    "duration": 18,
    "start_time": "2022-11-16T05:55:00.331Z"
   },
   {
    "duration": 10,
    "start_time": "2022-11-16T05:55:04.705Z"
   },
   {
    "duration": 6,
    "start_time": "2022-11-16T05:55:08.842Z"
   },
   {
    "duration": 12,
    "start_time": "2022-11-16T05:55:47.195Z"
   },
   {
    "duration": 4,
    "start_time": "2022-11-16T05:55:56.921Z"
   },
   {
    "duration": 46,
    "start_time": "2022-11-16T05:55:57.615Z"
   },
   {
    "duration": 11,
    "start_time": "2022-11-16T05:55:57.819Z"
   },
   {
    "duration": 13,
    "start_time": "2022-11-16T05:55:59.067Z"
   },
   {
    "duration": 13,
    "start_time": "2022-11-16T05:56:00.619Z"
   },
   {
    "duration": 23,
    "start_time": "2022-11-16T05:56:01.298Z"
   },
   {
    "duration": 186,
    "start_time": "2022-11-16T05:56:02.555Z"
   },
   {
    "duration": 21,
    "start_time": "2022-11-16T05:56:04.058Z"
   },
   {
    "duration": 28,
    "start_time": "2022-11-16T05:56:05.955Z"
   },
   {
    "duration": 14,
    "start_time": "2022-11-16T05:56:10.685Z"
   },
   {
    "duration": 20,
    "start_time": "2022-11-16T05:57:41.428Z"
   },
   {
    "duration": 11,
    "start_time": "2022-11-16T05:57:43.844Z"
   },
   {
    "duration": 7,
    "start_time": "2022-11-16T05:58:09.179Z"
   },
   {
    "duration": 21,
    "start_time": "2022-11-16T05:58:28.454Z"
   },
   {
    "duration": 4,
    "start_time": "2022-11-16T05:58:40.779Z"
   },
   {
    "duration": 7,
    "start_time": "2022-11-16T05:58:43.763Z"
   },
   {
    "duration": 4,
    "start_time": "2022-11-16T05:59:55.260Z"
   },
   {
    "duration": 3,
    "start_time": "2022-11-16T06:00:07.790Z"
   },
   {
    "duration": 9,
    "start_time": "2022-11-16T06:00:20.699Z"
   },
   {
    "duration": 9,
    "start_time": "2022-11-16T06:01:13.232Z"
   },
   {
    "duration": 2,
    "start_time": "2022-11-16T06:01:15.422Z"
   },
   {
    "duration": 3,
    "start_time": "2022-11-16T06:01:31.018Z"
   },
   {
    "duration": 11,
    "start_time": "2022-11-16T06:01:40.790Z"
   },
   {
    "duration": 23,
    "start_time": "2022-11-16T07:09:10.423Z"
   },
   {
    "duration": 11677,
    "start_time": "2022-11-16T07:17:15.050Z"
   },
   {
    "duration": 71,
    "start_time": "2022-11-16T07:31:21.838Z"
   },
   {
    "duration": 228504,
    "start_time": "2022-11-16T07:31:46.746Z"
   },
   {
    "duration": 0,
    "start_time": "2022-11-16T07:53:43.859Z"
   },
   {
    "duration": 0,
    "start_time": "2022-11-16T07:53:43.860Z"
   },
   {
    "duration": 5,
    "start_time": "2022-11-16T07:54:10.593Z"
   },
   {
    "duration": 4,
    "start_time": "2022-11-16T07:54:43.832Z"
   },
   {
    "duration": 4,
    "start_time": "2022-11-16T07:55:20.059Z"
   },
   {
    "duration": 3,
    "start_time": "2022-11-16T07:55:31.138Z"
   },
   {
    "duration": 4,
    "start_time": "2022-11-16T07:55:37.746Z"
   },
   {
    "duration": 4,
    "start_time": "2022-11-16T07:56:05.185Z"
   },
   {
    "duration": 5,
    "start_time": "2022-11-16T08:43:45.125Z"
   },
   {
    "duration": 53,
    "start_time": "2022-11-16T08:43:46.602Z"
   },
   {
    "duration": 13,
    "start_time": "2022-11-16T08:43:47.108Z"
   },
   {
    "duration": 14,
    "start_time": "2022-11-16T08:43:48.612Z"
   },
   {
    "duration": 15,
    "start_time": "2022-11-16T08:43:50.155Z"
   },
   {
    "duration": 28,
    "start_time": "2022-11-16T08:43:50.621Z"
   },
   {
    "duration": 140,
    "start_time": "2022-11-16T08:43:51.763Z"
   },
   {
    "duration": 21,
    "start_time": "2022-11-16T08:43:52.850Z"
   },
   {
    "duration": 17,
    "start_time": "2022-11-16T08:43:54.379Z"
   },
   {
    "duration": 21,
    "start_time": "2022-11-16T08:43:58.075Z"
   },
   {
    "duration": 13,
    "start_time": "2022-11-16T08:43:58.602Z"
   },
   {
    "duration": 5,
    "start_time": "2022-11-16T08:43:59.179Z"
   },
   {
    "duration": 6,
    "start_time": "2022-11-16T08:43:59.756Z"
   },
   {
    "duration": 10,
    "start_time": "2022-11-16T08:44:00.996Z"
   },
   {
    "duration": 3,
    "start_time": "2022-11-16T08:44:01.562Z"
   },
   {
    "duration": 3,
    "start_time": "2022-11-16T08:44:02.132Z"
   },
   {
    "duration": 11,
    "start_time": "2022-11-16T08:44:02.731Z"
   },
   {
    "duration": 3,
    "start_time": "2022-11-16T08:44:03.316Z"
   },
   {
    "duration": 33,
    "start_time": "2022-11-16T08:44:03.851Z"
   },
   {
    "duration": 14,
    "start_time": "2022-11-16T08:44:06.641Z"
   },
   {
    "duration": 531,
    "start_time": "2022-11-16T08:44:15.900Z"
   },
   {
    "duration": 540,
    "start_time": "2022-11-16T08:44:35.725Z"
   },
   {
    "duration": 0,
    "start_time": "2022-11-16T08:46:29.091Z"
   },
   {
    "duration": 0,
    "start_time": "2022-11-16T08:46:29.092Z"
   },
   {
    "duration": 70,
    "start_time": "2022-11-16T08:46:32.698Z"
   },
   {
    "duration": 19,
    "start_time": "2022-11-16T08:46:33.350Z"
   },
   {
    "duration": 19,
    "start_time": "2022-11-16T08:46:35.014Z"
   },
   {
    "duration": 14,
    "start_time": "2022-11-16T08:46:36.261Z"
   },
   {
    "duration": 25,
    "start_time": "2022-11-16T08:46:36.545Z"
   },
   {
    "duration": 142,
    "start_time": "2022-11-16T08:46:37.048Z"
   },
   {
    "duration": 24,
    "start_time": "2022-11-16T08:46:37.526Z"
   },
   {
    "duration": 25,
    "start_time": "2022-11-16T08:46:38.427Z"
   },
   {
    "duration": 18,
    "start_time": "2022-11-16T08:46:41.308Z"
   },
   {
    "duration": 11,
    "start_time": "2022-11-16T08:46:42.248Z"
   },
   {
    "duration": 5,
    "start_time": "2022-11-16T08:46:42.670Z"
   },
   {
    "duration": 7,
    "start_time": "2022-11-16T08:46:43.118Z"
   },
   {
    "duration": 15,
    "start_time": "2022-11-16T08:46:44.019Z"
   },
   {
    "duration": 7,
    "start_time": "2022-11-16T08:46:44.640Z"
   },
   {
    "duration": 3,
    "start_time": "2022-11-16T08:46:45.148Z"
   },
   {
    "duration": 8,
    "start_time": "2022-11-16T08:46:45.649Z"
   },
   {
    "duration": 3,
    "start_time": "2022-11-16T08:46:46.213Z"
   },
   {
    "duration": 23,
    "start_time": "2022-11-16T08:46:46.902Z"
   },
   {
    "duration": 12,
    "start_time": "2022-11-16T08:46:47.613Z"
   },
   {
    "duration": 526,
    "start_time": "2022-11-16T08:46:56.152Z"
   },
   {
    "duration": 18,
    "start_time": "2022-11-16T08:47:13.772Z"
   },
   {
    "duration": 106028,
    "start_time": "2022-11-16T08:47:23.767Z"
   },
   {
    "duration": 12,
    "start_time": "2022-11-16T08:55:59.634Z"
   },
   {
    "duration": 11,
    "start_time": "2022-11-16T08:56:09.528Z"
   },
   {
    "duration": 15,
    "start_time": "2022-11-16T08:56:24.645Z"
   },
   {
    "duration": 14,
    "start_time": "2022-11-16T08:58:47.217Z"
   },
   {
    "duration": 7,
    "start_time": "2022-11-16T08:59:14.917Z"
   },
   {
    "duration": 4,
    "start_time": "2022-11-16T08:59:50.667Z"
   },
   {
    "duration": 59,
    "start_time": "2022-11-16T08:59:52.761Z"
   },
   {
    "duration": 14,
    "start_time": "2022-11-16T08:59:53.313Z"
   },
   {
    "duration": 23,
    "start_time": "2022-11-16T08:59:54.929Z"
   },
   {
    "duration": 14,
    "start_time": "2022-11-16T08:59:56.618Z"
   },
   {
    "duration": 21,
    "start_time": "2022-11-16T08:59:57.170Z"
   },
   {
    "duration": 154,
    "start_time": "2022-11-16T08:59:58.228Z"
   },
   {
    "duration": 20,
    "start_time": "2022-11-16T08:59:59.352Z"
   },
   {
    "duration": 18,
    "start_time": "2022-11-16T09:00:01.009Z"
   },
   {
    "duration": 13,
    "start_time": "2022-11-16T09:00:05.554Z"
   },
   {
    "duration": 21,
    "start_time": "2022-11-16T09:00:07.531Z"
   },
   {
    "duration": 21,
    "start_time": "2022-11-16T09:00:08.730Z"
   },
   {
    "duration": 7,
    "start_time": "2022-11-16T09:00:10.350Z"
   },
   {
    "duration": 14,
    "start_time": "2022-11-16T09:01:27.700Z"
   },
   {
    "duration": 27,
    "start_time": "2022-11-16T09:02:11.342Z"
   },
   {
    "duration": 23,
    "start_time": "2022-11-16T09:22:34.710Z"
   },
   {
    "duration": 9,
    "start_time": "2022-11-16T09:22:36.249Z"
   },
   {
    "duration": 13,
    "start_time": "2022-11-16T09:24:50.279Z"
   },
   {
    "duration": 16,
    "start_time": "2022-11-16T09:24:57.928Z"
   },
   {
    "duration": 12,
    "start_time": "2022-11-16T09:25:03.118Z"
   },
   {
    "duration": 103,
    "start_time": "2022-11-16T09:25:03.736Z"
   },
   {
    "duration": 6,
    "start_time": "2022-11-16T09:25:19.155Z"
   },
   {
    "duration": 23,
    "start_time": "2022-11-16T09:26:51.765Z"
   },
   {
    "duration": 24,
    "start_time": "2022-11-16T09:27:20.906Z"
   },
   {
    "duration": 66,
    "start_time": "2022-11-16T09:27:44.436Z"
   },
   {
    "duration": 6,
    "start_time": "2022-11-16T09:28:10.153Z"
   },
   {
    "duration": 49,
    "start_time": "2022-11-16T09:28:10.954Z"
   },
   {
    "duration": 12,
    "start_time": "2022-11-16T09:28:11.264Z"
   },
   {
    "duration": 13,
    "start_time": "2022-11-16T09:28:11.993Z"
   },
   {
    "duration": 12,
    "start_time": "2022-11-16T09:28:12.777Z"
   },
   {
    "duration": 22,
    "start_time": "2022-11-16T09:28:13.057Z"
   },
   {
    "duration": 134,
    "start_time": "2022-11-16T09:28:13.550Z"
   },
   {
    "duration": 20,
    "start_time": "2022-11-16T09:28:14.059Z"
   },
   {
    "duration": 29,
    "start_time": "2022-11-16T09:28:14.916Z"
   },
   {
    "duration": 11,
    "start_time": "2022-11-16T09:28:17.297Z"
   },
   {
    "duration": 21,
    "start_time": "2022-11-16T09:28:17.832Z"
   },
   {
    "duration": 26,
    "start_time": "2022-11-16T09:28:19.027Z"
   },
   {
    "duration": 4,
    "start_time": "2022-11-16T09:28:20.505Z"
   },
   {
    "duration": 60,
    "start_time": "2022-11-16T09:28:21.217Z"
   },
   {
    "duration": 8,
    "start_time": "2022-11-16T09:28:22.490Z"
   },
   {
    "duration": 33,
    "start_time": "2022-11-16T09:28:47.012Z"
   },
   {
    "duration": 23,
    "start_time": "2022-11-16T09:31:43.150Z"
   },
   {
    "duration": 23,
    "start_time": "2022-11-16T09:32:14.068Z"
   },
   {
    "duration": 9,
    "start_time": "2022-11-16T09:32:16.142Z"
   },
   {
    "duration": 33,
    "start_time": "2022-11-16T09:32:18.364Z"
   },
   {
    "duration": 5,
    "start_time": "2022-11-16T09:32:24.021Z"
   },
   {
    "duration": 48,
    "start_time": "2022-11-16T09:32:25.470Z"
   },
   {
    "duration": 19,
    "start_time": "2022-11-16T09:32:25.917Z"
   },
   {
    "duration": 16,
    "start_time": "2022-11-16T09:32:27.236Z"
   },
   {
    "duration": 13,
    "start_time": "2022-11-16T09:32:28.484Z"
   },
   {
    "duration": 29,
    "start_time": "2022-11-16T09:32:28.877Z"
   },
   {
    "duration": 151,
    "start_time": "2022-11-16T09:32:29.923Z"
   },
   {
    "duration": 21,
    "start_time": "2022-11-16T09:32:30.971Z"
   },
   {
    "duration": 23,
    "start_time": "2022-11-16T09:32:32.462Z"
   },
   {
    "duration": 13,
    "start_time": "2022-11-16T09:32:36.332Z"
   },
   {
    "duration": 21,
    "start_time": "2022-11-16T09:32:37.034Z"
   },
   {
    "duration": 22,
    "start_time": "2022-11-16T09:32:38.197Z"
   },
   {
    "duration": 7,
    "start_time": "2022-11-16T09:32:38.950Z"
   },
   {
    "duration": 7,
    "start_time": "2022-11-16T09:33:09.251Z"
   },
   {
    "duration": 520,
    "start_time": "2022-11-16T09:33:21.877Z"
   },
   {
    "duration": 1454,
    "start_time": "2022-11-16T09:39:15.760Z"
   },
   {
    "duration": 58,
    "start_time": "2022-11-16T09:39:17.216Z"
   },
   {
    "duration": 17,
    "start_time": "2022-11-16T09:39:17.276Z"
   },
   {
    "duration": 20,
    "start_time": "2022-11-16T09:39:17.294Z"
   },
   {
    "duration": 19,
    "start_time": "2022-11-16T09:39:17.317Z"
   },
   {
    "duration": 29,
    "start_time": "2022-11-16T09:39:17.342Z"
   },
   {
    "duration": 157,
    "start_time": "2022-11-16T09:39:17.373Z"
   },
   {
    "duration": 26,
    "start_time": "2022-11-16T09:39:17.532Z"
   },
   {
    "duration": 21,
    "start_time": "2022-11-16T09:39:17.560Z"
   },
   {
    "duration": 13,
    "start_time": "2022-11-16T09:39:17.583Z"
   },
   {
    "duration": 45,
    "start_time": "2022-11-16T09:39:17.598Z"
   },
   {
    "duration": 115,
    "start_time": "2022-11-16T09:39:17.648Z"
   },
   {
    "duration": 0,
    "start_time": "2022-11-16T09:39:17.765Z"
   },
   {
    "duration": 0,
    "start_time": "2022-11-16T09:39:17.767Z"
   },
   {
    "duration": 0,
    "start_time": "2022-11-16T09:39:17.768Z"
   },
   {
    "duration": 0,
    "start_time": "2022-11-16T09:39:17.769Z"
   },
   {
    "duration": 0,
    "start_time": "2022-11-16T09:39:17.770Z"
   },
   {
    "duration": 0,
    "start_time": "2022-11-16T09:39:17.771Z"
   },
   {
    "duration": 0,
    "start_time": "2022-11-16T09:39:17.772Z"
   },
   {
    "duration": 0,
    "start_time": "2022-11-16T09:39:17.774Z"
   },
   {
    "duration": 0,
    "start_time": "2022-11-16T09:39:17.775Z"
   },
   {
    "duration": 0,
    "start_time": "2022-11-16T09:39:17.776Z"
   },
   {
    "duration": 0,
    "start_time": "2022-11-16T09:39:17.777Z"
   },
   {
    "duration": 0,
    "start_time": "2022-11-16T09:39:17.777Z"
   },
   {
    "duration": 0,
    "start_time": "2022-11-16T09:39:17.778Z"
   },
   {
    "duration": 0,
    "start_time": "2022-11-16T09:39:17.780Z"
   },
   {
    "duration": 0,
    "start_time": "2022-11-16T09:39:17.781Z"
   },
   {
    "duration": 5,
    "start_time": "2022-11-16T09:39:49.057Z"
   },
   {
    "duration": 52,
    "start_time": "2022-11-16T09:39:49.650Z"
   },
   {
    "duration": 14,
    "start_time": "2022-11-16T09:39:49.895Z"
   },
   {
    "duration": 13,
    "start_time": "2022-11-16T09:39:50.551Z"
   },
   {
    "duration": 14,
    "start_time": "2022-11-16T09:39:51.775Z"
   },
   {
    "duration": 21,
    "start_time": "2022-11-16T09:39:52.080Z"
   },
   {
    "duration": 144,
    "start_time": "2022-11-16T09:39:52.799Z"
   },
   {
    "duration": 30,
    "start_time": "2022-11-16T09:39:53.680Z"
   },
   {
    "duration": 21,
    "start_time": "2022-11-16T09:39:55.341Z"
   },
   {
    "duration": 18,
    "start_time": "2022-11-16T09:39:59.106Z"
   },
   {
    "duration": 17,
    "start_time": "2022-11-16T09:39:59.599Z"
   },
   {
    "duration": 13,
    "start_time": "2022-11-16T09:40:00.167Z"
   },
   {
    "duration": 8,
    "start_time": "2022-11-16T09:40:02.288Z"
   },
   {
    "duration": 13,
    "start_time": "2022-11-16T09:40:41.592Z"
   },
   {
    "duration": 25,
    "start_time": "2022-11-16T09:40:59.391Z"
   },
   {
    "duration": 6,
    "start_time": "2022-11-16T09:41:03.680Z"
   },
   {
    "duration": 7,
    "start_time": "2022-11-16T09:41:05.110Z"
   },
   {
    "duration": 516,
    "start_time": "2022-11-16T09:41:07.206Z"
   },
   {
    "duration": 104657,
    "start_time": "2022-11-16T09:41:14.760Z"
   },
   {
    "duration": 105230,
    "start_time": "2022-11-16T09:43:44.106Z"
   },
   {
    "duration": 846,
    "start_time": "2022-11-16T09:47:09.195Z"
   },
   {
    "duration": 3,
    "start_time": "2022-11-16T09:54:08.319Z"
   },
   {
    "duration": 3,
    "start_time": "2022-11-16T09:54:11.824Z"
   },
   {
    "duration": 10,
    "start_time": "2022-11-16T09:54:43.512Z"
   },
   {
    "duration": 149,
    "start_time": "2022-11-16T09:58:58.979Z"
   },
   {
    "duration": 801,
    "start_time": "2022-11-16T10:02:38.772Z"
   },
   {
    "duration": 366,
    "start_time": "2022-11-16T10:03:21.005Z"
   },
   {
    "duration": 70,
    "start_time": "2022-11-16T10:04:10.397Z"
   },
   {
    "duration": 59,
    "start_time": "2022-11-18T04:04:38.018Z"
   },
   {
    "duration": 1736,
    "start_time": "2022-11-18T04:04:47.366Z"
   },
   {
    "duration": 108,
    "start_time": "2022-11-18T04:04:49.105Z"
   },
   {
    "duration": 21,
    "start_time": "2022-11-18T04:04:49.270Z"
   },
   {
    "duration": 15,
    "start_time": "2022-11-18T04:04:50.790Z"
   },
   {
    "duration": 20,
    "start_time": "2022-11-18T04:04:52.253Z"
   },
   {
    "duration": 27,
    "start_time": "2022-11-18T04:04:52.701Z"
   },
   {
    "duration": 172,
    "start_time": "2022-11-18T04:04:53.654Z"
   },
   {
    "duration": 29,
    "start_time": "2022-11-18T04:04:54.549Z"
   },
   {
    "duration": 26,
    "start_time": "2022-11-18T04:04:56.094Z"
   },
   {
    "duration": 16,
    "start_time": "2022-11-18T04:04:59.750Z"
   },
   {
    "duration": 18,
    "start_time": "2022-11-18T04:05:00.437Z"
   },
   {
    "duration": 11,
    "start_time": "2022-11-18T04:05:02.857Z"
   },
   {
    "duration": 14,
    "start_time": "2022-11-18T04:05:08.783Z"
   },
   {
    "duration": 29,
    "start_time": "2022-11-18T04:05:15.797Z"
   },
   {
    "duration": 9,
    "start_time": "2022-11-18T04:06:01.643Z"
   },
   {
    "duration": 9,
    "start_time": "2022-11-18T04:06:02.929Z"
   },
   {
    "duration": 520,
    "start_time": "2022-11-18T04:06:03.949Z"
   },
   {
    "duration": 108718,
    "start_time": "2022-11-18T04:06:13.825Z"
   },
   {
    "duration": 407,
    "start_time": "2022-11-18T04:08:02.545Z"
   },
   {
    "duration": 825,
    "start_time": "2022-11-18T04:08:02.955Z"
   },
   {
    "duration": 6,
    "start_time": "2022-11-18T04:10:46.050Z"
   },
   {
    "duration": 73,
    "start_time": "2022-11-18T04:11:08.249Z"
   },
   {
    "duration": 9,
    "start_time": "2022-11-18T04:12:02.785Z"
   },
   {
    "duration": 3,
    "start_time": "2022-11-18T04:12:14.941Z"
   },
   {
    "duration": 3,
    "start_time": "2022-11-18T04:13:36.939Z"
   },
   {
    "duration": 2,
    "start_time": "2022-11-18T04:13:59.875Z"
   },
   {
    "duration": 9,
    "start_time": "2022-11-18T04:14:04.730Z"
   },
   {
    "duration": 139,
    "start_time": "2022-11-18T04:14:28.122Z"
   },
   {
    "duration": 3,
    "start_time": "2022-11-18T04:14:31.979Z"
   },
   {
    "duration": 73,
    "start_time": "2022-11-18T04:18:28.558Z"
   },
   {
    "duration": 83,
    "start_time": "2022-11-18T04:18:39.661Z"
   },
   {
    "duration": 69,
    "start_time": "2022-11-18T04:18:48.361Z"
   },
   {
    "duration": 4,
    "start_time": "2022-11-18T04:19:06.794Z"
   },
   {
    "duration": 24,
    "start_time": "2022-11-18T04:20:36.233Z"
   },
   {
    "duration": 5,
    "start_time": "2022-11-18T04:20:55.819Z"
   },
   {
    "duration": 10,
    "start_time": "2022-11-18T04:20:56.474Z"
   },
   {
    "duration": 3,
    "start_time": "2022-11-18T04:20:56.993Z"
   },
   {
    "duration": 228,
    "start_time": "2022-11-18T04:20:57.527Z"
   },
   {
    "duration": 3,
    "start_time": "2022-11-18T04:22:39.399Z"
   },
   {
    "duration": 9,
    "start_time": "2022-11-18T04:23:34.369Z"
   },
   {
    "duration": 10,
    "start_time": "2022-11-18T04:23:51.921Z"
   },
   {
    "duration": 11,
    "start_time": "2022-11-18T04:25:02.281Z"
   },
   {
    "duration": 113,
    "start_time": "2022-11-18T04:27:42.839Z"
   },
   {
    "duration": 120,
    "start_time": "2022-11-18T04:40:57.736Z"
   },
   {
    "duration": 9,
    "start_time": "2022-11-18T04:41:18.417Z"
   },
   {
    "duration": 13,
    "start_time": "2022-11-18T04:42:52.817Z"
   },
   {
    "duration": 14,
    "start_time": "2022-11-18T05:36:00.616Z"
   },
   {
    "duration": 31,
    "start_time": "2022-11-18T05:36:29.486Z"
   },
   {
    "duration": 519,
    "start_time": "2022-11-18T05:37:14.246Z"
   },
   {
    "duration": 11,
    "start_time": "2022-11-18T05:38:05.994Z"
   },
   {
    "duration": 152579,
    "start_time": "2022-11-18T05:38:26.167Z"
   },
   {
    "duration": 167,
    "start_time": "2022-11-18T05:45:14.506Z"
   },
   {
    "duration": 166,
    "start_time": "2022-11-18T05:45:32.434Z"
   },
   {
    "duration": 2190,
    "start_time": "2022-11-18T05:45:48.978Z"
   },
   {
    "duration": 16,
    "start_time": "2022-11-18T05:59:20.168Z"
   },
   {
    "duration": 15,
    "start_time": "2022-11-18T05:59:22.571Z"
   },
   {
    "duration": 11,
    "start_time": "2022-11-18T06:01:59.338Z"
   },
   {
    "duration": 16,
    "start_time": "2022-11-18T06:02:00.218Z"
   },
   {
    "duration": 154456,
    "start_time": "2022-11-18T06:26:49.435Z"
   },
   {
    "duration": 0,
    "start_time": "2022-11-18T06:29:24.056Z"
   },
   {
    "duration": 240,
    "start_time": "2022-11-18T06:29:32.723Z"
   },
   {
    "duration": 7,
    "start_time": "2022-11-18T06:40:17.323Z"
   },
   {
    "duration": 6,
    "start_time": "2022-11-18T06:40:44.914Z"
   },
   {
    "duration": 9,
    "start_time": "2022-11-18T06:40:49.136Z"
   },
   {
    "duration": 5,
    "start_time": "2022-11-18T06:41:07.322Z"
   },
   {
    "duration": 11,
    "start_time": "2022-11-18T06:41:47.090Z"
   },
   {
    "duration": 11,
    "start_time": "2022-11-18T06:46:03.238Z"
   },
   {
    "duration": 28,
    "start_time": "2022-11-18T06:46:08.196Z"
   },
   {
    "duration": 32,
    "start_time": "2022-11-18T06:47:28.432Z"
   },
   {
    "duration": 555,
    "start_time": "2022-11-18T06:48:21.519Z"
   },
   {
    "duration": 50,
    "start_time": "2022-11-18T06:49:02.889Z"
   },
   {
    "duration": 62,
    "start_time": "2022-11-18T06:49:44.126Z"
   },
   {
    "duration": 33,
    "start_time": "2022-11-18T06:49:46.766Z"
   },
   {
    "duration": 552,
    "start_time": "2022-11-18T06:49:47.998Z"
   },
   {
    "duration": 5,
    "start_time": "2022-11-18T06:51:32.208Z"
   },
   {
    "duration": 6,
    "start_time": "2022-11-18T06:51:36.469Z"
   },
   {
    "duration": 32,
    "start_time": "2022-11-18T06:52:11.920Z"
   },
   {
    "duration": 6,
    "start_time": "2022-11-18T06:52:32.208Z"
   },
   {
    "duration": 22,
    "start_time": "2022-11-18T06:52:50.959Z"
   },
   {
    "duration": 17,
    "start_time": "2022-11-18T06:52:52.342Z"
   },
   {
    "duration": 17,
    "start_time": "2022-11-18T06:52:55.583Z"
   },
   {
    "duration": 172,
    "start_time": "2022-11-18T06:53:26.888Z"
   },
   {
    "duration": 34,
    "start_time": "2022-11-18T06:56:50.786Z"
   },
   {
    "duration": 23,
    "start_time": "2022-11-18T06:57:10.843Z"
   },
   {
    "duration": 31,
    "start_time": "2022-11-18T06:59:12.907Z"
   },
   {
    "duration": 52,
    "start_time": "2022-11-18T13:58:13.848Z"
   },
   {
    "duration": 6,
    "start_time": "2022-11-18T13:58:20.752Z"
   },
   {
    "duration": 1533,
    "start_time": "2022-11-18T13:58:24.399Z"
   },
   {
    "duration": 165,
    "start_time": "2022-11-18T13:58:26.232Z"
   },
   {
    "duration": 17,
    "start_time": "2022-11-18T13:58:27.232Z"
   },
   {
    "duration": 14,
    "start_time": "2022-11-18T13:58:28.633Z"
   },
   {
    "duration": 14,
    "start_time": "2022-11-18T13:58:29.367Z"
   },
   {
    "duration": 24,
    "start_time": "2022-11-18T13:58:29.678Z"
   },
   {
    "duration": 158,
    "start_time": "2022-11-18T13:58:30.398Z"
   },
   {
    "duration": 24,
    "start_time": "2022-11-18T13:58:31.238Z"
   },
   {
    "duration": 21,
    "start_time": "2022-11-18T13:58:32.662Z"
   },
   {
    "duration": 11,
    "start_time": "2022-11-18T13:58:35.854Z"
   },
   {
    "duration": 17,
    "start_time": "2022-11-18T13:58:36.370Z"
   },
   {
    "duration": 7,
    "start_time": "2022-11-18T13:58:36.910Z"
   },
   {
    "duration": 23,
    "start_time": "2022-11-18T13:58:43.151Z"
   },
   {
    "duration": 12,
    "start_time": "2022-11-18T13:59:08.647Z"
   },
   {
    "duration": 8,
    "start_time": "2022-11-18T13:59:27.087Z"
   },
   {
    "duration": 7,
    "start_time": "2022-11-18T13:59:29.078Z"
   },
   {
    "duration": 471,
    "start_time": "2022-11-18T13:59:30.607Z"
   },
   {
    "duration": 98781,
    "start_time": "2022-11-18T13:59:34.550Z"
   },
   {
    "duration": 246,
    "start_time": "2022-11-18T14:01:13.333Z"
   },
   {
    "duration": 821,
    "start_time": "2022-11-18T14:01:13.584Z"
   },
   {
    "duration": 22,
    "start_time": "2022-11-18T14:01:58.001Z"
   },
   {
    "duration": 11,
    "start_time": "2022-11-18T14:01:59.634Z"
   },
   {
    "duration": 7,
    "start_time": "2022-11-18T14:02:00.292Z"
   },
   {
    "duration": 6,
    "start_time": "2022-11-18T14:02:01.625Z"
   },
   {
    "duration": 439,
    "start_time": "2022-11-18T14:02:03.160Z"
   },
   {
    "duration": 90009,
    "start_time": "2022-11-18T14:02:51.555Z"
   },
   {
    "duration": 558,
    "start_time": "2022-11-18T14:14:12.624Z"
   },
   {
    "duration": 21,
    "start_time": "2022-11-18T14:16:00.801Z"
   },
   {
    "duration": 11,
    "start_time": "2022-11-18T14:16:01.520Z"
   },
   {
    "duration": 6,
    "start_time": "2022-11-18T14:16:02.055Z"
   },
   {
    "duration": 6,
    "start_time": "2022-11-18T14:16:03.256Z"
   },
   {
    "duration": 300,
    "start_time": "2022-11-18T14:16:04.503Z"
   },
   {
    "duration": 76253,
    "start_time": "2022-11-18T14:18:40.026Z"
   },
   {
    "duration": 799,
    "start_time": "2022-11-18T14:19:56.280Z"
   },
   {
    "duration": 724,
    "start_time": "2022-11-18T14:19:57.082Z"
   },
   {
    "duration": 796,
    "start_time": "2022-11-18T14:24:26.788Z"
   },
   {
    "duration": 4,
    "start_time": "2022-11-18T14:24:46.123Z"
   },
   {
    "duration": 49,
    "start_time": "2022-11-18T14:24:48.124Z"
   },
   {
    "duration": 14,
    "start_time": "2022-11-18T14:24:48.698Z"
   },
   {
    "duration": 13,
    "start_time": "2022-11-18T14:24:50.450Z"
   },
   {
    "duration": 15,
    "start_time": "2022-11-18T14:24:51.898Z"
   },
   {
    "duration": 22,
    "start_time": "2022-11-18T14:24:52.771Z"
   },
   {
    "duration": 137,
    "start_time": "2022-11-18T14:24:55.444Z"
   },
   {
    "duration": 22,
    "start_time": "2022-11-18T14:24:56.874Z"
   },
   {
    "duration": 19,
    "start_time": "2022-11-18T14:24:59.330Z"
   },
   {
    "duration": 11,
    "start_time": "2022-11-18T14:25:06.413Z"
   },
   {
    "duration": 17,
    "start_time": "2022-11-18T14:25:07.099Z"
   },
   {
    "duration": 9,
    "start_time": "2022-11-18T14:25:08.059Z"
   },
   {
    "duration": 24,
    "start_time": "2022-11-18T14:25:08.830Z"
   },
   {
    "duration": 22,
    "start_time": "2022-11-18T14:25:31.340Z"
   },
   {
    "duration": 78,
    "start_time": "2022-11-18T14:26:48.748Z"
   },
   {
    "duration": 4,
    "start_time": "2022-11-18T14:26:59.292Z"
   },
   {
    "duration": 47,
    "start_time": "2022-11-18T14:27:00.670Z"
   },
   {
    "duration": 14,
    "start_time": "2022-11-18T14:27:01.190Z"
   },
   {
    "duration": 14,
    "start_time": "2022-11-18T14:27:02.718Z"
   },
   {
    "duration": 14,
    "start_time": "2022-11-18T14:27:04.300Z"
   },
   {
    "duration": 21,
    "start_time": "2022-11-18T14:27:04.778Z"
   },
   {
    "duration": 142,
    "start_time": "2022-11-18T14:27:05.349Z"
   },
   {
    "duration": 22,
    "start_time": "2022-11-18T14:27:06.253Z"
   },
   {
    "duration": 19,
    "start_time": "2022-11-18T14:27:07.741Z"
   },
   {
    "duration": 11,
    "start_time": "2022-11-18T14:27:13.292Z"
   },
   {
    "duration": 16,
    "start_time": "2022-11-18T14:27:15.236Z"
   },
   {
    "duration": 9,
    "start_time": "2022-11-18T14:28:02.516Z"
   },
   {
    "duration": 10,
    "start_time": "2022-11-18T14:28:43.364Z"
   },
   {
    "duration": 10,
    "start_time": "2022-11-18T14:29:12.342Z"
   },
   {
    "duration": 11,
    "start_time": "2022-11-18T14:29:23.110Z"
   },
   {
    "duration": 13,
    "start_time": "2022-11-18T14:30:55.157Z"
   },
   {
    "duration": 16,
    "start_time": "2022-11-18T14:31:30.990Z"
   },
   {
    "duration": 9,
    "start_time": "2022-11-18T14:32:15.360Z"
   },
   {
    "duration": 10,
    "start_time": "2022-11-18T14:32:56.831Z"
   },
   {
    "duration": 11,
    "start_time": "2022-11-18T14:33:10.824Z"
   },
   {
    "duration": 15,
    "start_time": "2022-11-18T14:33:24.080Z"
   },
   {
    "duration": 3,
    "start_time": "2022-11-18T14:33:34.886Z"
   },
   {
    "duration": 48,
    "start_time": "2022-11-18T14:33:35.482Z"
   },
   {
    "duration": 13,
    "start_time": "2022-11-18T14:33:35.679Z"
   },
   {
    "duration": 13,
    "start_time": "2022-11-18T14:33:36.264Z"
   },
   {
    "duration": 13,
    "start_time": "2022-11-18T14:33:36.832Z"
   },
   {
    "duration": 20,
    "start_time": "2022-11-18T14:33:37.016Z"
   },
   {
    "duration": 145,
    "start_time": "2022-11-18T14:33:37.399Z"
   },
   {
    "duration": 21,
    "start_time": "2022-11-18T14:33:37.791Z"
   },
   {
    "duration": 19,
    "start_time": "2022-11-18T14:33:38.374Z"
   },
   {
    "duration": 10,
    "start_time": "2022-11-18T14:33:39.783Z"
   },
   {
    "duration": 17,
    "start_time": "2022-11-18T14:33:40.000Z"
   },
   {
    "duration": 14,
    "start_time": "2022-11-18T14:33:40.190Z"
   },
   {
    "duration": 13,
    "start_time": "2022-11-18T14:33:40.399Z"
   },
   {
    "duration": 16,
    "start_time": "2022-11-18T14:33:40.584Z"
   },
   {
    "duration": 6,
    "start_time": "2022-11-18T14:33:40.782Z"
   },
   {
    "duration": 30,
    "start_time": "2022-11-18T14:35:49.242Z"
   },
   {
    "duration": 8,
    "start_time": "2022-11-18T14:36:04.335Z"
   },
   {
    "duration": 24,
    "start_time": "2022-11-18T14:36:37.840Z"
   },
   {
    "duration": 21,
    "start_time": "2022-11-18T14:40:01.547Z"
   },
   {
    "duration": 12,
    "start_time": "2022-11-18T14:40:03.834Z"
   },
   {
    "duration": 6,
    "start_time": "2022-11-18T14:40:04.705Z"
   },
   {
    "duration": 6,
    "start_time": "2022-11-18T14:40:07.572Z"
   },
   {
    "duration": 455,
    "start_time": "2022-11-18T14:40:11.123Z"
   },
   {
    "duration": 99999,
    "start_time": "2022-11-18T14:40:46.236Z"
   },
   {
    "duration": 242,
    "start_time": "2022-11-18T14:42:26.237Z"
   },
   {
    "duration": 816,
    "start_time": "2022-11-18T14:42:26.481Z"
   },
   {
    "duration": 4,
    "start_time": "2022-11-18T14:42:27.299Z"
   },
   {
    "duration": 16,
    "start_time": "2022-11-18T14:42:27.304Z"
   },
   {
    "duration": 1531,
    "start_time": "2022-11-21T02:36:12.449Z"
   },
   {
    "duration": 172,
    "start_time": "2022-11-21T02:36:14.396Z"
   },
   {
    "duration": 16,
    "start_time": "2022-11-21T02:36:15.339Z"
   },
   {
    "duration": 18,
    "start_time": "2022-11-21T02:36:17.033Z"
   },
   {
    "duration": 17,
    "start_time": "2022-11-21T02:36:18.289Z"
   },
   {
    "duration": 27,
    "start_time": "2022-11-21T02:36:18.634Z"
   },
   {
    "duration": 156,
    "start_time": "2022-11-21T02:36:19.403Z"
   },
   {
    "duration": 21,
    "start_time": "2022-11-21T02:36:20.392Z"
   },
   {
    "duration": 19,
    "start_time": "2022-11-21T02:36:21.852Z"
   },
   {
    "duration": 12,
    "start_time": "2022-11-21T02:36:25.145Z"
   },
   {
    "duration": 16,
    "start_time": "2022-11-21T02:36:25.658Z"
   },
   {
    "duration": 9,
    "start_time": "2022-11-21T02:36:26.298Z"
   },
   {
    "duration": 25,
    "start_time": "2022-11-21T02:36:27.253Z"
   },
   {
    "duration": 16,
    "start_time": "2022-11-21T02:38:45.917Z"
   },
   {
    "duration": 8,
    "start_time": "2022-11-21T02:38:48.124Z"
   },
   {
    "duration": 6,
    "start_time": "2022-11-21T02:38:51.260Z"
   },
   {
    "duration": 525,
    "start_time": "2022-11-21T02:38:53.997Z"
   },
   {
    "duration": 102542,
    "start_time": "2022-11-21T02:39:17.043Z"
   },
   {
    "duration": 398,
    "start_time": "2022-11-21T02:40:59.854Z"
   },
   {
    "duration": 929,
    "start_time": "2022-11-21T02:41:00.254Z"
   },
   {
    "duration": 4,
    "start_time": "2022-11-21T02:41:01.185Z"
   },
   {
    "duration": 29,
    "start_time": "2022-11-21T02:41:01.191Z"
   },
   {
    "duration": 33,
    "start_time": "2022-11-21T02:41:01.222Z"
   },
   {
    "duration": 211,
    "start_time": "2022-11-21T02:41:01.257Z"
   },
   {
    "duration": 466,
    "start_time": "2022-11-21T02:41:01.470Z"
   },
   {
    "duration": 15,
    "start_time": "2022-11-21T02:42:54.629Z"
   },
   {
    "duration": 8,
    "start_time": "2022-11-21T02:42:56.621Z"
   },
   {
    "duration": 24,
    "start_time": "2022-11-21T02:42:57.774Z"
   },
   {
    "duration": 11,
    "start_time": "2022-11-21T02:43:10.557Z"
   },
   {
    "duration": 25,
    "start_time": "2022-11-21T02:44:33.083Z"
   },
   {
    "duration": 13,
    "start_time": "2022-11-21T02:44:33.976Z"
   },
   {
    "duration": 7,
    "start_time": "2022-11-21T02:44:35.239Z"
   },
   {
    "duration": 5,
    "start_time": "2022-11-21T02:44:56.599Z"
   },
   {
    "duration": 445,
    "start_time": "2022-11-21T02:44:59.286Z"
   },
   {
    "duration": 92663,
    "start_time": "2022-11-21T02:45:05.424Z"
   },
   {
    "duration": 671,
    "start_time": "2022-11-21T02:46:38.090Z"
   },
   {
    "duration": 944,
    "start_time": "2022-11-21T02:46:38.763Z"
   },
   {
    "duration": 5,
    "start_time": "2022-11-21T02:46:39.710Z"
   },
   {
    "duration": 18,
    "start_time": "2022-11-21T02:46:39.717Z"
   },
   {
    "duration": 99,
    "start_time": "2022-11-21T02:46:39.753Z"
   },
   {
    "duration": 430,
    "start_time": "2022-11-21T02:46:39.974Z"
   },
   {
    "duration": 45,
    "start_time": "2022-11-21T02:46:40.405Z"
   },
   {
    "duration": 443,
    "start_time": "2022-11-21T02:46:46.720Z"
   },
   {
    "duration": 4,
    "start_time": "2022-11-21T02:46:55.024Z"
   },
   {
    "duration": 10,
    "start_time": "2022-11-21T02:46:56.303Z"
   },
   {
    "duration": 6,
    "start_time": "2022-11-21T02:46:58.113Z"
   },
   {
    "duration": 17,
    "start_time": "2022-11-21T02:47:00.625Z"
   },
   {
    "duration": 15,
    "start_time": "2022-11-21T02:47:06.536Z"
   },
   {
    "duration": 15,
    "start_time": "2022-11-21T02:47:32.697Z"
   },
   {
    "duration": 158,
    "start_time": "2022-11-21T02:47:36.728Z"
   },
   {
    "duration": 32,
    "start_time": "2022-11-21T02:48:43.529Z"
   },
   {
    "duration": 456,
    "start_time": "2022-11-21T02:48:44.369Z"
   },
   {
    "duration": 6,
    "start_time": "2022-11-21T02:48:54.961Z"
   },
   {
    "duration": 11,
    "start_time": "2022-11-21T02:48:55.585Z"
   },
   {
    "duration": 7,
    "start_time": "2022-11-21T02:48:56.192Z"
   },
   {
    "duration": 23,
    "start_time": "2022-11-21T02:48:56.600Z"
   },
   {
    "duration": 15,
    "start_time": "2022-11-21T02:48:57.144Z"
   },
   {
    "duration": 163,
    "start_time": "2022-11-21T02:48:57.988Z"
   },
   {
    "duration": 15,
    "start_time": "2022-11-21T02:49:41.691Z"
   },
   {
    "duration": 149,
    "start_time": "2022-11-21T02:49:42.642Z"
   },
   {
    "duration": 126,
    "start_time": "2022-11-21T02:55:37.093Z"
   },
   {
    "duration": 273,
    "start_time": "2022-11-21T02:56:24.469Z"
   },
   {
    "duration": 325,
    "start_time": "2022-11-21T02:56:56.439Z"
   },
   {
    "duration": 319,
    "start_time": "2022-11-21T02:58:49.039Z"
   },
   {
    "duration": 119,
    "start_time": "2022-11-21T02:58:56.021Z"
   },
   {
    "duration": 116,
    "start_time": "2022-11-21T03:07:59.411Z"
   },
   {
    "duration": 10,
    "start_time": "2022-11-21T03:08:08.105Z"
   },
   {
    "duration": 111522,
    "start_time": "2022-11-21T03:11:43.813Z"
   },
   {
    "duration": 1616,
    "start_time": "2022-11-21T03:15:08.670Z"
   },
   {
    "duration": 736,
    "start_time": "2022-11-21T03:24:32.891Z"
   },
   {
    "duration": 815,
    "start_time": "2022-11-21T03:24:51.113Z"
   },
   {
    "duration": 9,
    "start_time": "2022-11-21T03:25:25.818Z"
   },
   {
    "duration": 5,
    "start_time": "2022-11-21T03:26:08.706Z"
   },
   {
    "duration": 52,
    "start_time": "2022-11-21T03:26:09.270Z"
   },
   {
    "duration": 15,
    "start_time": "2022-11-21T03:26:09.474Z"
   },
   {
    "duration": 18,
    "start_time": "2022-11-21T03:26:10.019Z"
   },
   {
    "duration": 15,
    "start_time": "2022-11-21T03:26:10.834Z"
   },
   {
    "duration": 24,
    "start_time": "2022-11-21T03:26:11.027Z"
   },
   {
    "duration": 160,
    "start_time": "2022-11-21T03:26:11.401Z"
   },
   {
    "duration": 24,
    "start_time": "2022-11-21T03:26:11.810Z"
   },
   {
    "duration": 18,
    "start_time": "2022-11-21T03:26:12.401Z"
   },
   {
    "duration": 16,
    "start_time": "2022-11-21T03:26:13.764Z"
   },
   {
    "duration": 8,
    "start_time": "2022-11-21T03:26:13.962Z"
   },
   {
    "duration": 28,
    "start_time": "2022-11-21T03:26:14.170Z"
   },
   {
    "duration": 14,
    "start_time": "2022-11-21T03:26:14.340Z"
   },
   {
    "duration": 7,
    "start_time": "2022-11-21T03:26:14.562Z"
   },
   {
    "duration": 6,
    "start_time": "2022-11-21T03:26:14.906Z"
   },
   {
    "duration": 522,
    "start_time": "2022-11-21T03:26:15.329Z"
   },
   {
    "duration": 111421,
    "start_time": "2022-11-21T03:26:16.147Z"
   },
   {
    "duration": 185,
    "start_time": "2022-11-21T03:28:07.571Z"
   },
   {
    "duration": 913,
    "start_time": "2022-11-21T03:28:07.758Z"
   },
   {
    "duration": 4,
    "start_time": "2022-11-21T03:28:08.673Z"
   },
   {
    "duration": 14,
    "start_time": "2022-11-21T03:28:08.679Z"
   },
   {
    "duration": 58,
    "start_time": "2022-11-21T03:28:08.695Z"
   },
   {
    "duration": 117,
    "start_time": "2022-11-21T03:28:08.756Z"
   },
   {
    "duration": 492,
    "start_time": "2022-11-21T03:28:08.875Z"
   },
   {
    "duration": 4,
    "start_time": "2022-11-21T03:28:09.369Z"
   },
   {
    "duration": 13,
    "start_time": "2022-11-21T03:28:09.376Z"
   },
   {
    "duration": 7,
    "start_time": "2022-11-21T03:28:09.390Z"
   },
   {
    "duration": 402,
    "start_time": "2022-11-21T03:28:09.399Z"
   },
   {
    "duration": 183,
    "start_time": "2022-11-21T03:28:09.802Z"
   },
   {
    "duration": 296,
    "start_time": "2022-11-21T03:28:09.987Z"
   },
   {
    "duration": 0,
    "start_time": "2022-11-21T03:28:11.195Z"
   },
   {
    "duration": 0,
    "start_time": "2022-11-21T03:28:11.196Z"
   },
   {
    "duration": 0,
    "start_time": "2022-11-21T03:28:11.198Z"
   },
   {
    "duration": 0,
    "start_time": "2022-11-21T03:28:11.200Z"
   },
   {
    "duration": 0,
    "start_time": "2022-11-21T03:28:11.201Z"
   },
   {
    "duration": 0,
    "start_time": "2022-11-21T03:28:11.203Z"
   },
   {
    "duration": 881,
    "start_time": "2022-11-21T03:28:32.070Z"
   },
   {
    "duration": 7,
    "start_time": "2022-11-21T03:28:33.157Z"
   },
   {
    "duration": 44,
    "start_time": "2022-11-21T03:30:45.887Z"
   },
   {
    "duration": 20599,
    "start_time": "2022-11-21T03:31:17.169Z"
   },
   {
    "duration": 282,
    "start_time": "2022-11-21T03:31:37.770Z"
   },
   {
    "duration": 20715,
    "start_time": "2022-11-21T03:31:38.055Z"
   },
   {
    "duration": 23667,
    "start_time": "2022-11-21T03:35:29.010Z"
   },
   {
    "duration": 4,
    "start_time": "2022-11-21T03:35:52.729Z"
   },
   {
    "duration": 49,
    "start_time": "2022-11-21T03:35:52.735Z"
   },
   {
    "duration": 13,
    "start_time": "2022-11-21T03:35:52.786Z"
   },
   {
    "duration": 14,
    "start_time": "2022-11-21T03:35:54.003Z"
   },
   {
    "duration": 15,
    "start_time": "2022-11-21T03:35:55.835Z"
   },
   {
    "duration": 23,
    "start_time": "2022-11-21T03:35:56.480Z"
   },
   {
    "duration": 144,
    "start_time": "2022-11-21T03:35:57.712Z"
   },
   {
    "duration": 27,
    "start_time": "2022-11-21T03:35:58.867Z"
   },
   {
    "duration": 26,
    "start_time": "2022-11-21T03:36:00.567Z"
   },
   {
    "duration": 20,
    "start_time": "2022-11-21T03:36:04.850Z"
   },
   {
    "duration": 10,
    "start_time": "2022-11-21T03:36:05.559Z"
   },
   {
    "duration": 35,
    "start_time": "2022-11-21T03:36:06.159Z"
   },
   {
    "duration": 12,
    "start_time": "2022-11-21T03:36:07.368Z"
   },
   {
    "duration": 7,
    "start_time": "2022-11-21T03:36:07.936Z"
   },
   {
    "duration": 6,
    "start_time": "2022-11-21T03:36:09.146Z"
   },
   {
    "duration": 511,
    "start_time": "2022-11-21T03:36:10.344Z"
   },
   {
    "duration": 104650,
    "start_time": "2022-11-21T03:36:12.840Z"
   },
   {
    "duration": 724,
    "start_time": "2022-11-21T03:39:19.658Z"
   },
   {
    "duration": 5,
    "start_time": "2022-11-21T03:39:49.241Z"
   },
   {
    "duration": 12,
    "start_time": "2022-11-21T03:39:50.056Z"
   },
   {
    "duration": 117,
    "start_time": "2022-11-21T03:39:51.233Z"
   },
   {
    "duration": 32,
    "start_time": "2022-11-21T03:39:53.305Z"
   },
   {
    "duration": 469,
    "start_time": "2022-11-21T03:39:54.170Z"
   },
   {
    "duration": 321,
    "start_time": "2022-11-21T03:40:03.270Z"
   },
   {
    "duration": 4,
    "start_time": "2022-11-21T03:40:07.225Z"
   },
   {
    "duration": 13,
    "start_time": "2022-11-21T03:40:09.242Z"
   },
   {
    "duration": 7,
    "start_time": "2022-11-21T03:40:09.868Z"
   },
   {
    "duration": 331,
    "start_time": "2022-11-21T03:40:11.042Z"
   },
   {
    "duration": 227,
    "start_time": "2022-11-21T03:40:12.345Z"
   },
   {
    "duration": 282,
    "start_time": "2022-11-21T03:40:13.457Z"
   },
   {
    "duration": 20672,
    "start_time": "2022-11-21T03:40:17.618Z"
   },
   {
    "duration": 7,
    "start_time": "2022-11-21T03:54:24.779Z"
   },
   {
    "duration": 7,
    "start_time": "2022-11-21T03:54:39.671Z"
   },
   {
    "duration": 11,
    "start_time": "2022-11-21T03:55:01.874Z"
   },
   {
    "duration": 1766,
    "start_time": "2022-11-21T03:55:26.030Z"
   },
   {
    "duration": 1802,
    "start_time": "2022-11-21T03:55:28.515Z"
   },
   {
    "duration": 11,
    "start_time": "2022-11-21T03:56:11.778Z"
   },
   {
    "duration": 116,
    "start_time": "2022-11-21T03:56:16.876Z"
   },
   {
    "duration": 10,
    "start_time": "2022-11-21T03:57:36.311Z"
   },
   {
    "duration": 105,
    "start_time": "2022-11-21T03:57:44.019Z"
   },
   {
    "duration": 2418,
    "start_time": "2022-11-21T03:57:48.844Z"
   },
   {
    "duration": 7,
    "start_time": "2022-11-21T03:58:05.636Z"
   },
   {
    "duration": 496,
    "start_time": "2022-11-21T04:00:39.414Z"
   },
   {
    "duration": 26,
    "start_time": "2022-11-21T04:00:44.868Z"
   },
   {
    "duration": 2466,
    "start_time": "2022-11-21T17:09:27.812Z"
   },
   {
    "duration": 98,
    "start_time": "2022-11-21T17:09:30.280Z"
   },
   {
    "duration": 18,
    "start_time": "2022-11-21T17:09:30.380Z"
   },
   {
    "duration": 92,
    "start_time": "2022-11-21T17:09:30.401Z"
   },
   {
    "duration": 82,
    "start_time": "2022-11-21T17:09:30.495Z"
   },
   {
    "duration": 23,
    "start_time": "2022-11-21T17:09:30.579Z"
   },
   {
    "duration": 392,
    "start_time": "2022-11-21T17:09:30.604Z"
   },
   {
    "duration": 25,
    "start_time": "2022-11-21T17:09:30.998Z"
   },
   {
    "duration": 22,
    "start_time": "2022-11-21T17:09:31.079Z"
   },
   {
    "duration": 76,
    "start_time": "2022-11-21T17:09:31.105Z"
   },
   {
    "duration": 9,
    "start_time": "2022-11-21T17:09:31.184Z"
   },
   {
    "duration": 88,
    "start_time": "2022-11-21T17:09:31.195Z"
   },
   {
    "duration": 13,
    "start_time": "2022-11-21T17:09:31.285Z"
   },
   {
    "duration": 22,
    "start_time": "2022-11-21T17:09:31.299Z"
   },
   {
    "duration": 9,
    "start_time": "2022-11-21T17:09:31.377Z"
   },
   {
    "duration": 1036,
    "start_time": "2022-11-21T17:09:31.388Z"
   },
   {
    "duration": 219543,
    "start_time": "2022-11-21T17:09:32.478Z"
   },
   {
    "duration": 201,
    "start_time": "2022-11-21T17:13:12.077Z"
   },
   {
    "duration": 1228,
    "start_time": "2022-11-21T17:13:12.281Z"
   },
   {
    "duration": 5,
    "start_time": "2022-11-21T17:13:13.511Z"
   },
   {
    "duration": 68,
    "start_time": "2022-11-21T17:13:13.517Z"
   },
   {
    "duration": 96,
    "start_time": "2022-11-21T17:13:13.587Z"
   },
   {
    "duration": 194,
    "start_time": "2022-11-21T17:13:13.685Z"
   },
   {
    "duration": 697,
    "start_time": "2022-11-21T17:13:13.881Z"
   },
   {
    "duration": 5,
    "start_time": "2022-11-21T17:13:14.580Z"
   },
   {
    "duration": 14,
    "start_time": "2022-11-21T17:13:14.587Z"
   },
   {
    "duration": 6,
    "start_time": "2022-11-21T17:13:14.603Z"
   },
   {
    "duration": 487,
    "start_time": "2022-11-21T17:13:14.612Z"
   },
   {
    "duration": 290,
    "start_time": "2022-11-21T17:13:15.101Z"
   },
   {
    "duration": 607,
    "start_time": "2022-11-21T17:13:15.393Z"
   },
   {
    "duration": 7,
    "start_time": "2022-11-21T17:13:16.002Z"
   },
   {
    "duration": 72,
    "start_time": "2022-11-21T17:13:16.010Z"
   },
   {
    "duration": 811,
    "start_time": "2022-11-21T17:13:16.084Z"
   },
   {
    "duration": 24,
    "start_time": "2022-11-21T17:13:16.897Z"
   },
   {
    "duration": 7,
    "start_time": "2022-11-21T17:13:16.977Z"
   },
   {
    "duration": 1610,
    "start_time": "2022-11-22T03:03:49.815Z"
   },
   {
    "duration": 178,
    "start_time": "2022-11-22T03:03:51.427Z"
   },
   {
    "duration": 16,
    "start_time": "2022-11-22T03:03:51.606Z"
   },
   {
    "duration": 13,
    "start_time": "2022-11-22T03:03:51.625Z"
   },
   {
    "duration": 18,
    "start_time": "2022-11-22T03:03:51.640Z"
   },
   {
    "duration": 19,
    "start_time": "2022-11-22T03:03:51.660Z"
   },
   {
    "duration": 167,
    "start_time": "2022-11-22T03:03:51.681Z"
   },
   {
    "duration": 20,
    "start_time": "2022-11-22T03:03:51.849Z"
   },
   {
    "duration": 16,
    "start_time": "2022-11-22T03:03:51.870Z"
   },
   {
    "duration": 35,
    "start_time": "2022-11-22T03:03:51.888Z"
   },
   {
    "duration": 10,
    "start_time": "2022-11-22T03:03:51.925Z"
   },
   {
    "duration": 21,
    "start_time": "2022-11-22T03:03:51.937Z"
   },
   {
    "duration": 10,
    "start_time": "2022-11-22T03:03:51.960Z"
   },
   {
    "duration": 8,
    "start_time": "2022-11-22T03:03:51.971Z"
   },
   {
    "duration": 5,
    "start_time": "2022-11-22T03:03:51.981Z"
   },
   {
    "duration": 470,
    "start_time": "2022-11-22T03:03:51.988Z"
   },
   {
    "duration": 89337,
    "start_time": "2022-11-22T03:03:52.459Z"
   },
   {
    "duration": 227,
    "start_time": "2022-11-22T03:05:21.798Z"
   },
   {
    "duration": 796,
    "start_time": "2022-11-22T03:05:22.028Z"
   },
   {
    "duration": 3,
    "start_time": "2022-11-22T03:05:22.826Z"
   },
   {
    "duration": 19,
    "start_time": "2022-11-22T03:05:22.831Z"
   },
   {
    "duration": 20,
    "start_time": "2022-11-22T03:05:22.851Z"
   },
   {
    "duration": 156,
    "start_time": "2022-11-22T03:05:22.872Z"
   },
   {
    "duration": 280,
    "start_time": "2022-11-22T03:05:23.030Z"
   },
   {
    "duration": 4,
    "start_time": "2022-11-22T03:05:23.312Z"
   },
   {
    "duration": 17,
    "start_time": "2022-11-22T03:05:23.317Z"
   },
   {
    "duration": 5,
    "start_time": "2022-11-22T03:05:23.335Z"
   },
   {
    "duration": 259,
    "start_time": "2022-11-22T03:05:23.343Z"
   },
   {
    "duration": 126,
    "start_time": "2022-11-22T03:05:23.603Z"
   },
   {
    "duration": 251,
    "start_time": "2022-11-22T03:05:23.730Z"
   },
   {
    "duration": 5,
    "start_time": "2022-11-22T03:05:23.983Z"
   },
   {
    "duration": 13,
    "start_time": "2022-11-22T03:05:23.989Z"
   },
   {
    "duration": 387,
    "start_time": "2022-11-22T03:05:24.003Z"
   },
   {
    "duration": 31,
    "start_time": "2022-11-22T03:05:24.391Z"
   },
   {
    "duration": 5,
    "start_time": "2022-11-22T03:05:24.423Z"
   },
   {
    "duration": 57,
    "start_time": "2022-11-22T05:43:47.084Z"
   },
   {
    "duration": 1681,
    "start_time": "2022-11-22T05:43:58.853Z"
   },
   {
    "duration": 185,
    "start_time": "2022-11-22T05:44:01.001Z"
   },
   {
    "duration": 18,
    "start_time": "2022-11-22T05:44:01.986Z"
   },
   {
    "duration": 14,
    "start_time": "2022-11-22T05:44:04.393Z"
   },
   {
    "duration": 14,
    "start_time": "2022-11-22T05:44:06.928Z"
   },
   {
    "duration": 22,
    "start_time": "2022-11-22T05:44:07.648Z"
   },
   {
    "duration": 169,
    "start_time": "2022-11-22T05:44:09.105Z"
   },
   {
    "duration": 22,
    "start_time": "2022-11-22T05:44:10.885Z"
   },
   {
    "duration": 21,
    "start_time": "2022-11-22T05:44:11.929Z"
   },
   {
    "duration": 18,
    "start_time": "2022-11-22T05:44:16.188Z"
   },
   {
    "duration": 10,
    "start_time": "2022-11-22T05:44:17.592Z"
   },
   {
    "duration": 29,
    "start_time": "2022-11-22T05:44:18.145Z"
   },
   {
    "duration": 18,
    "start_time": "2022-11-22T05:44:18.895Z"
   },
   {
    "duration": 10,
    "start_time": "2022-11-22T05:44:20.201Z"
   },
   {
    "duration": 7,
    "start_time": "2022-11-22T05:44:22.088Z"
   },
   {
    "duration": 554,
    "start_time": "2022-11-22T05:44:23.745Z"
   },
   {
    "duration": 101324,
    "start_time": "2022-11-22T05:44:29.851Z"
   },
   {
    "duration": 278,
    "start_time": "2022-11-22T05:46:11.177Z"
   },
   {
    "duration": 743,
    "start_time": "2022-11-22T05:46:11.458Z"
   },
   {
    "duration": 104170,
    "start_time": "2022-11-22T05:46:15.507Z"
   },
   {
    "duration": 1227,
    "start_time": "2022-11-22T05:54:18.697Z"
   },
   {
    "duration": 637,
    "start_time": "2022-11-22T06:26:52.447Z"
   },
   {
    "duration": 81,
    "start_time": "2022-11-22T06:28:30.798Z"
   },
   {
    "duration": 5,
    "start_time": "2022-11-22T06:28:36.191Z"
   },
   {
    "duration": 12,
    "start_time": "2022-11-22T06:28:36.824Z"
   },
   {
    "duration": 25,
    "start_time": "2022-11-22T06:28:37.735Z"
   },
   {
    "duration": 28,
    "start_time": "2022-11-22T06:28:38.823Z"
   },
   {
    "duration": 1024,
    "start_time": "2022-11-22T06:40:00.684Z"
   },
   {
    "duration": 47,
    "start_time": "2022-11-22T06:40:05.397Z"
   },
   {
    "duration": 21,
    "start_time": "2022-11-22T06:40:10.054Z"
   },
   {
    "duration": 978,
    "start_time": "2022-11-22T06:40:26.462Z"
   },
   {
    "duration": 53,
    "start_time": "2022-11-23T14:22:04.139Z"
   },
   {
    "duration": 9,
    "start_time": "2022-11-23T14:22:05.402Z"
   },
   {
    "duration": 4,
    "start_time": "2022-11-23T14:22:09.032Z"
   },
   {
    "duration": 7,
    "start_time": "2022-11-23T14:22:09.760Z"
   },
   {
    "duration": 6,
    "start_time": "2022-11-23T14:22:10.581Z"
   },
   {
    "duration": 10,
    "start_time": "2022-11-23T14:22:15.745Z"
   },
   {
    "duration": 1579,
    "start_time": "2022-11-23T14:22:25.797Z"
   },
   {
    "duration": 92,
    "start_time": "2022-11-23T14:22:27.378Z"
   },
   {
    "duration": 17,
    "start_time": "2022-11-23T14:22:27.472Z"
   },
   {
    "duration": 14,
    "start_time": "2022-11-23T14:22:28.136Z"
   },
   {
    "duration": 14,
    "start_time": "2022-11-23T14:22:28.999Z"
   },
   {
    "duration": 21,
    "start_time": "2022-11-23T14:22:29.305Z"
   },
   {
    "duration": 161,
    "start_time": "2022-11-23T14:22:30.042Z"
   },
   {
    "duration": 21,
    "start_time": "2022-11-23T14:22:30.808Z"
   },
   {
    "duration": 19,
    "start_time": "2022-11-23T14:22:32.088Z"
   },
   {
    "duration": 18,
    "start_time": "2022-11-23T14:22:35.408Z"
   },
   {
    "duration": 12,
    "start_time": "2022-11-23T14:22:36.488Z"
   },
   {
    "duration": 26,
    "start_time": "2022-11-23T14:22:37.072Z"
   },
   {
    "duration": 12,
    "start_time": "2022-11-23T14:22:37.577Z"
   },
   {
    "duration": 8,
    "start_time": "2022-11-23T14:22:38.609Z"
   },
   {
    "duration": 6,
    "start_time": "2022-11-23T14:22:39.583Z"
   },
   {
    "duration": 488,
    "start_time": "2022-11-23T14:22:40.591Z"
   },
   {
    "duration": 103105,
    "start_time": "2022-11-23T14:22:51.217Z"
   },
   {
    "duration": 152,
    "start_time": "2022-11-23T14:25:17.963Z"
   },
   {
    "duration": 694,
    "start_time": "2022-11-23T14:25:26.448Z"
   },
   {
    "duration": 587,
    "start_time": "2022-11-23T14:26:01.764Z"
   },
   {
    "duration": 572,
    "start_time": "2022-11-23T14:26:55.076Z"
   },
   {
    "duration": 4,
    "start_time": "2022-11-23T14:27:06.098Z"
   },
   {
    "duration": 11,
    "start_time": "2022-11-23T14:27:07.309Z"
   },
   {
    "duration": 22,
    "start_time": "2022-11-23T14:27:08.522Z"
   },
   {
    "duration": 27,
    "start_time": "2022-11-23T14:27:23.796Z"
   },
   {
    "duration": 961,
    "start_time": "2022-11-23T14:28:27.780Z"
   },
   {
    "duration": 45,
    "start_time": "2022-11-23T14:28:32.500Z"
   },
   {
    "duration": 19,
    "start_time": "2022-11-23T14:28:35.550Z"
   },
   {
    "duration": 150,
    "start_time": "2022-11-23T14:31:56.187Z"
   },
   {
    "duration": 1104,
    "start_time": "2022-11-23T14:32:40.661Z"
   },
   {
    "duration": 165,
    "start_time": "2022-11-23T14:32:58.855Z"
   },
   {
    "duration": 27,
    "start_time": "2022-11-23T14:34:31.196Z"
   },
   {
    "duration": 59,
    "start_time": "2022-11-23T14:38:36.657Z"
   },
   {
    "duration": 1063,
    "start_time": "2022-11-23T14:38:57.897Z"
   },
   {
    "duration": 77,
    "start_time": "2022-11-23T14:39:50.000Z"
   },
   {
    "duration": 8,
    "start_time": "2022-11-23T14:39:56.074Z"
   },
   {
    "duration": 11,
    "start_time": "2022-11-23T14:39:57.145Z"
   },
   {
    "duration": 10,
    "start_time": "2022-11-23T14:40:21.266Z"
   },
   {
    "duration": 10,
    "start_time": "2022-11-23T14:40:24.326Z"
   },
   {
    "duration": 11,
    "start_time": "2022-11-23T14:40:55.809Z"
   },
   {
    "duration": 5,
    "start_time": "2022-11-23T14:41:14.529Z"
   },
   {
    "duration": 14,
    "start_time": "2022-11-23T14:41:16.459Z"
   },
   {
    "duration": 7,
    "start_time": "2022-11-23T14:41:17.487Z"
   },
   {
    "duration": 23,
    "start_time": "2022-11-23T14:41:18.394Z"
   },
   {
    "duration": 22,
    "start_time": "2022-11-23T14:41:20.214Z"
   },
   {
    "duration": 176,
    "start_time": "2022-11-23T14:41:21.594Z"
   },
   {
    "duration": 3,
    "start_time": "2022-11-23T14:49:29.164Z"
   },
   {
    "duration": 47,
    "start_time": "2022-11-23T14:49:31.087Z"
   },
   {
    "duration": 13,
    "start_time": "2022-11-23T14:49:31.717Z"
   },
   {
    "duration": 14,
    "start_time": "2022-11-23T14:49:33.470Z"
   },
   {
    "duration": 14,
    "start_time": "2022-11-23T14:49:35.182Z"
   },
   {
    "duration": 21,
    "start_time": "2022-11-23T14:49:35.719Z"
   },
   {
    "duration": 148,
    "start_time": "2022-11-23T14:49:36.887Z"
   },
   {
    "duration": 22,
    "start_time": "2022-11-23T14:49:38.064Z"
   },
   {
    "duration": 18,
    "start_time": "2022-11-23T14:49:39.769Z"
   },
   {
    "duration": 15,
    "start_time": "2022-11-23T14:49:43.687Z"
   },
   {
    "duration": 9,
    "start_time": "2022-11-23T14:49:44.751Z"
   },
   {
    "duration": 25,
    "start_time": "2022-11-23T14:49:45.278Z"
   },
   {
    "duration": 12,
    "start_time": "2022-11-23T14:49:45.835Z"
   },
   {
    "duration": 6,
    "start_time": "2022-11-23T14:49:46.961Z"
   },
   {
    "duration": 6,
    "start_time": "2022-11-23T14:49:48.079Z"
   },
   {
    "duration": 519,
    "start_time": "2022-11-23T14:49:49.201Z"
   },
   {
    "duration": 1492,
    "start_time": "2022-11-24T05:40:42.979Z"
   },
   {
    "duration": 173,
    "start_time": "2022-11-24T05:40:48.155Z"
   },
   {
    "duration": 18,
    "start_time": "2022-11-24T05:40:49.093Z"
   },
   {
    "duration": 13,
    "start_time": "2022-11-24T05:40:51.034Z"
   },
   {
    "duration": 14,
    "start_time": "2022-11-24T05:40:52.716Z"
   },
   {
    "duration": 20,
    "start_time": "2022-11-24T05:40:53.323Z"
   },
   {
    "duration": 155,
    "start_time": "2022-11-24T05:40:54.429Z"
   },
   {
    "duration": 20,
    "start_time": "2022-11-24T05:40:55.908Z"
   },
   {
    "duration": 18,
    "start_time": "2022-11-24T05:40:57.731Z"
   },
   {
    "duration": 15,
    "start_time": "2022-11-24T05:41:01.596Z"
   },
   {
    "duration": 8,
    "start_time": "2022-11-24T05:41:02.731Z"
   },
   {
    "duration": 23,
    "start_time": "2022-11-24T05:41:03.316Z"
   },
   {
    "duration": 13,
    "start_time": "2022-11-24T05:41:03.908Z"
   },
   {
    "duration": 8,
    "start_time": "2022-11-24T05:41:09.491Z"
   },
   {
    "duration": 6,
    "start_time": "2022-11-24T05:41:10.787Z"
   },
   {
    "duration": 451,
    "start_time": "2022-11-24T05:41:12.008Z"
   },
   {
    "duration": 112,
    "start_time": "2022-11-24T06:10:51.030Z"
   },
   {
    "duration": 22,
    "start_time": "2022-11-24T06:11:32.909Z"
   },
   {
    "duration": 95295,
    "start_time": "2022-11-24T06:11:51.686Z"
   },
   {
    "duration": 18,
    "start_time": "2022-11-24T06:14:21.111Z"
   },
   {
    "duration": 469,
    "start_time": "2022-11-24T06:15:04.703Z"
   },
   {
    "duration": 409,
    "start_time": "2022-11-24T06:15:43.119Z"
   },
   {
    "duration": 410,
    "start_time": "2022-11-24T06:16:08.963Z"
   },
   {
    "duration": 95229,
    "start_time": "2022-11-24T06:17:05.729Z"
   },
   {
    "duration": 423,
    "start_time": "2022-11-24T06:18:41.383Z"
   },
   {
    "duration": 458,
    "start_time": "2022-11-24T06:18:55.697Z"
   },
   {
    "duration": 76,
    "start_time": "2022-11-24T06:26:09.017Z"
   },
   {
    "duration": 522,
    "start_time": "2022-11-24T06:26:19.931Z"
   },
   {
    "duration": 22,
    "start_time": "2022-11-24T06:30:55.303Z"
   },
   {
    "duration": 23555,
    "start_time": "2022-11-24T06:31:28.862Z"
   },
   {
    "duration": 97074,
    "start_time": "2022-11-24T06:33:18.038Z"
   },
   {
    "duration": 4,
    "start_time": "2022-11-24T06:59:08.821Z"
   },
   {
    "duration": 48,
    "start_time": "2022-11-24T06:59:11.157Z"
   },
   {
    "duration": 12,
    "start_time": "2022-11-24T06:59:12.133Z"
   },
   {
    "duration": 17,
    "start_time": "2022-11-24T06:59:14.227Z"
   },
   {
    "duration": 13,
    "start_time": "2022-11-24T06:59:16.452Z"
   },
   {
    "duration": 21,
    "start_time": "2022-11-24T06:59:17.140Z"
   },
   {
    "duration": 144,
    "start_time": "2022-11-24T06:59:18.605Z"
   },
   {
    "duration": 18,
    "start_time": "2022-11-24T06:59:20.244Z"
   },
   {
    "duration": 18,
    "start_time": "2022-11-24T06:59:22.357Z"
   },
   {
    "duration": 15,
    "start_time": "2022-11-24T06:59:27.709Z"
   },
   {
    "duration": 7,
    "start_time": "2022-11-24T06:59:29.215Z"
   },
   {
    "duration": 26,
    "start_time": "2022-11-24T06:59:30.028Z"
   },
   {
    "duration": 12,
    "start_time": "2022-11-24T06:59:30.926Z"
   },
   {
    "duration": 7,
    "start_time": "2022-11-24T06:59:32.412Z"
   },
   {
    "duration": 6,
    "start_time": "2022-11-24T06:59:33.947Z"
   },
   {
    "duration": 469,
    "start_time": "2022-11-24T06:59:36.272Z"
   },
   {
    "duration": 1378,
    "start_time": "2022-11-24T07:00:59.032Z"
   },
   {
    "duration": 49,
    "start_time": "2022-11-24T07:01:00.412Z"
   },
   {
    "duration": 17,
    "start_time": "2022-11-24T07:01:00.463Z"
   },
   {
    "duration": 14,
    "start_time": "2022-11-24T07:01:00.482Z"
   },
   {
    "duration": 29,
    "start_time": "2022-11-24T07:01:00.498Z"
   },
   {
    "duration": 33,
    "start_time": "2022-11-24T07:01:00.528Z"
   },
   {
    "duration": 153,
    "start_time": "2022-11-24T07:01:00.562Z"
   },
   {
    "duration": 20,
    "start_time": "2022-11-24T07:01:00.721Z"
   },
   {
    "duration": 18,
    "start_time": "2022-11-24T07:01:00.743Z"
   },
   {
    "duration": 16,
    "start_time": "2022-11-24T07:01:00.762Z"
   },
   {
    "duration": 33,
    "start_time": "2022-11-24T07:01:00.779Z"
   },
   {
    "duration": 29,
    "start_time": "2022-11-24T07:01:00.821Z"
   },
   {
    "duration": 16,
    "start_time": "2022-11-24T07:01:00.852Z"
   },
   {
    "duration": 14,
    "start_time": "2022-11-24T07:01:00.871Z"
   },
   {
    "duration": 12,
    "start_time": "2022-11-24T07:01:00.887Z"
   },
   {
    "duration": 527,
    "start_time": "2022-11-24T07:01:00.900Z"
   },
   {
    "duration": 95662,
    "start_time": "2022-11-24T07:01:01.429Z"
   },
   {
    "duration": 130,
    "start_time": "2022-11-24T07:02:37.093Z"
   },
   {
    "duration": 616,
    "start_time": "2022-11-24T07:02:37.225Z"
   },
   {
    "duration": 5,
    "start_time": "2022-11-24T07:02:37.843Z"
   },
   {
    "duration": 15,
    "start_time": "2022-11-24T07:02:37.849Z"
   },
   {
    "duration": 63,
    "start_time": "2022-11-24T07:02:37.865Z"
   },
   {
    "duration": 214,
    "start_time": "2022-11-24T07:02:37.929Z"
   },
   {
    "duration": 944,
    "start_time": "2022-11-24T07:02:38.145Z"
   },
   {
    "duration": 5,
    "start_time": "2022-11-24T07:02:39.091Z"
   },
   {
    "duration": 39,
    "start_time": "2022-11-24T07:02:39.098Z"
   },
   {
    "duration": 20,
    "start_time": "2022-11-24T07:02:39.139Z"
   },
   {
    "duration": 63,
    "start_time": "2022-11-24T07:02:39.160Z"
   },
   {
    "duration": 116,
    "start_time": "2022-11-24T07:02:39.225Z"
   },
   {
    "duration": 220,
    "start_time": "2022-11-24T07:02:39.342Z"
   },
   {
    "duration": 4,
    "start_time": "2022-11-24T07:02:39.564Z"
   },
   {
    "duration": 15,
    "start_time": "2022-11-24T07:02:39.570Z"
   },
   {
    "duration": 376,
    "start_time": "2022-11-24T07:02:39.586Z"
   },
   {
    "duration": 24,
    "start_time": "2022-11-24T07:02:39.964Z"
   },
   {
    "duration": 6,
    "start_time": "2022-11-24T07:02:39.989Z"
   },
   {
    "duration": 167,
    "start_time": "2022-11-24T07:03:31.655Z"
   },
   {
    "duration": 694,
    "start_time": "2022-11-24T07:06:50.652Z"
   },
   {
    "duration": 4,
    "start_time": "2022-11-24T07:07:34.570Z"
   },
   {
    "duration": 12,
    "start_time": "2022-11-24T07:07:35.570Z"
   },
   {
    "duration": 83,
    "start_time": "2022-11-24T07:07:40.741Z"
   },
   {
    "duration": 622,
    "start_time": "2022-11-24T07:12:05.701Z"
   },
   {
    "duration": 113,
    "start_time": "2022-11-24T07:13:27.473Z"
   },
   {
    "duration": 125935,
    "start_time": "2022-11-24T07:13:37.990Z"
   },
   {
    "duration": 256922,
    "start_time": "2022-11-24T07:15:53.000Z"
   },
   {
    "duration": 5,
    "start_time": "2022-11-24T07:20:55.080Z"
   },
   {
    "duration": 12,
    "start_time": "2022-11-24T07:20:55.706Z"
   },
   {
    "duration": 8,
    "start_time": "2022-11-24T07:20:56.569Z"
   },
   {
    "duration": 20,
    "start_time": "2022-11-24T07:21:41.522Z"
   },
   {
    "duration": 96,
    "start_time": "2022-11-24T07:22:13.426Z"
   },
   {
    "duration": 274,
    "start_time": "2022-11-24T07:23:27.858Z"
   },
   {
    "duration": 91967,
    "start_time": "2022-11-24T07:24:56.690Z"
   },
   {
    "duration": 93974,
    "start_time": "2022-11-24T07:30:24.471Z"
   },
   {
    "duration": 256237,
    "start_time": "2022-11-24T07:32:59.289Z"
   },
   {
    "duration": 21,
    "start_time": "2022-11-24T07:38:38.009Z"
   },
   {
    "duration": 90,
    "start_time": "2022-11-24T07:38:56.633Z"
   },
   {
    "duration": 771,
    "start_time": "2022-11-24T07:39:56.171Z"
   },
   {
    "duration": 197,
    "start_time": "2022-11-24T07:40:08.137Z"
   },
   {
    "duration": 1383,
    "start_time": "2022-11-24T07:41:03.457Z"
   },
   {
    "duration": 49,
    "start_time": "2022-11-24T07:41:04.842Z"
   },
   {
    "duration": 15,
    "start_time": "2022-11-24T07:41:04.893Z"
   },
   {
    "duration": 13,
    "start_time": "2022-11-24T07:41:04.910Z"
   },
   {
    "duration": 18,
    "start_time": "2022-11-24T07:41:04.925Z"
   },
   {
    "duration": 25,
    "start_time": "2022-11-24T07:41:04.945Z"
   },
   {
    "duration": 171,
    "start_time": "2022-11-24T07:41:04.971Z"
   },
   {
    "duration": 21,
    "start_time": "2022-11-24T07:41:05.144Z"
   },
   {
    "duration": 19,
    "start_time": "2022-11-24T07:41:05.167Z"
   },
   {
    "duration": 44,
    "start_time": "2022-11-24T07:41:05.188Z"
   },
   {
    "duration": 9,
    "start_time": "2022-11-24T07:41:05.234Z"
   },
   {
    "duration": 24,
    "start_time": "2022-11-24T07:41:05.245Z"
   },
   {
    "duration": 11,
    "start_time": "2022-11-24T07:41:05.272Z"
   },
   {
    "duration": 39,
    "start_time": "2022-11-24T07:41:05.286Z"
   },
   {
    "duration": 6,
    "start_time": "2022-11-24T07:41:05.327Z"
   },
   {
    "duration": 537,
    "start_time": "2022-11-24T07:41:05.335Z"
   },
   {
    "duration": 1275,
    "start_time": "2022-11-24T07:41:52.355Z"
   },
   {
    "duration": 48,
    "start_time": "2022-11-24T07:41:53.632Z"
   },
   {
    "duration": 16,
    "start_time": "2022-11-24T07:41:53.682Z"
   },
   {
    "duration": 13,
    "start_time": "2022-11-24T07:41:53.700Z"
   },
   {
    "duration": 15,
    "start_time": "2022-11-24T07:41:53.715Z"
   },
   {
    "duration": 22,
    "start_time": "2022-11-24T07:41:53.732Z"
   },
   {
    "duration": 171,
    "start_time": "2022-11-24T07:41:53.755Z"
   },
   {
    "duration": 21,
    "start_time": "2022-11-24T07:41:53.927Z"
   },
   {
    "duration": 19,
    "start_time": "2022-11-24T07:41:53.949Z"
   },
   {
    "duration": 15,
    "start_time": "2022-11-24T07:41:53.970Z"
   },
   {
    "duration": 38,
    "start_time": "2022-11-24T07:41:53.986Z"
   },
   {
    "duration": 35,
    "start_time": "2022-11-24T07:41:54.026Z"
   },
   {
    "duration": 15,
    "start_time": "2022-11-24T07:41:54.063Z"
   },
   {
    "duration": 9,
    "start_time": "2022-11-24T07:41:54.080Z"
   },
   {
    "duration": 40,
    "start_time": "2022-11-24T07:41:54.091Z"
   },
   {
    "duration": 551,
    "start_time": "2022-11-24T07:41:54.134Z"
   },
   {
    "duration": 4,
    "start_time": "2022-11-24T07:43:33.539Z"
   },
   {
    "duration": 25,
    "start_time": "2022-11-24T07:43:33.545Z"
   },
   {
    "duration": 172,
    "start_time": "2022-11-24T07:43:33.572Z"
   },
   {
    "duration": 747,
    "start_time": "2022-11-24T07:43:33.746Z"
   },
   {
    "duration": 3,
    "start_time": "2022-11-24T07:49:24.919Z"
   },
   {
    "duration": 47,
    "start_time": "2022-11-24T07:49:26.925Z"
   },
   {
    "duration": 13,
    "start_time": "2022-11-24T07:49:27.518Z"
   },
   {
    "duration": 13,
    "start_time": "2022-11-24T07:49:29.390Z"
   },
   {
    "duration": 14,
    "start_time": "2022-11-24T07:49:31.340Z"
   },
   {
    "duration": 24,
    "start_time": "2022-11-24T07:49:31.990Z"
   },
   {
    "duration": 137,
    "start_time": "2022-11-24T07:49:33.342Z"
   },
   {
    "duration": 21,
    "start_time": "2022-11-24T07:49:35.012Z"
   },
   {
    "duration": 18,
    "start_time": "2022-11-24T07:49:36.788Z"
   },
   {
    "duration": 16,
    "start_time": "2022-11-24T07:49:40.828Z"
   },
   {
    "duration": 8,
    "start_time": "2022-11-24T07:49:42.165Z"
   },
   {
    "duration": 24,
    "start_time": "2022-11-24T07:49:42.846Z"
   },
   {
    "duration": 17,
    "start_time": "2022-11-24T07:49:44.177Z"
   },
   {
    "duration": 6,
    "start_time": "2022-11-24T07:49:45.627Z"
   },
   {
    "duration": 6,
    "start_time": "2022-11-24T07:49:47.005Z"
   },
   {
    "duration": 484,
    "start_time": "2022-11-24T07:49:48.502Z"
   },
   {
    "duration": 96541,
    "start_time": "2022-11-24T07:49:51.524Z"
   },
   {
    "duration": 125,
    "start_time": "2022-11-24T07:51:34.500Z"
   },
   {
    "duration": 755,
    "start_time": "2022-11-24T07:52:53.619Z"
   },
   {
    "duration": 4,
    "start_time": "2022-11-24T07:53:20.310Z"
   },
   {
    "duration": 12,
    "start_time": "2022-11-24T07:53:21.214Z"
   },
   {
    "duration": 198,
    "start_time": "2022-11-24T07:53:26.531Z"
   },
   {
    "duration": 599,
    "start_time": "2022-11-24T07:53:35.080Z"
   },
   {
    "duration": 256459,
    "start_time": "2022-11-24T07:53:43.769Z"
   },
   {
    "duration": 5,
    "start_time": "2022-11-24T07:58:17.869Z"
   },
   {
    "duration": 10,
    "start_time": "2022-11-24T07:58:18.560Z"
   },
   {
    "duration": 6,
    "start_time": "2022-11-24T07:58:19.257Z"
   },
   {
    "duration": 219,
    "start_time": "2022-11-24T07:58:28.410Z"
   },
   {
    "duration": 11,
    "start_time": "2022-11-24T08:00:05.336Z"
   },
   {
    "duration": 214,
    "start_time": "2022-11-24T08:00:53.613Z"
   },
   {
    "duration": 4,
    "start_time": "2022-11-24T08:02:08.998Z"
   },
   {
    "duration": 18,
    "start_time": "2022-11-24T08:02:10.388Z"
   },
   {
    "duration": 4,
    "start_time": "2022-11-24T08:02:38.260Z"
   },
   {
    "duration": 9,
    "start_time": "2022-11-24T08:02:39.549Z"
   },
   {
    "duration": 5,
    "start_time": "2022-11-24T08:02:40.636Z"
   },
   {
    "duration": 190,
    "start_time": "2022-11-24T08:02:42.436Z"
   },
   {
    "duration": 239,
    "start_time": "2022-11-24T08:02:47.575Z"
   },
   {
    "duration": 149,
    "start_time": "2022-11-24T08:02:52.476Z"
   },
   {
    "duration": 90436,
    "start_time": "2022-11-24T08:03:33.243Z"
   },
   {
    "duration": 9,
    "start_time": "2022-11-24T08:05:36.222Z"
   },
   {
    "duration": 5,
    "start_time": "2022-11-24T08:05:36.774Z"
   },
   {
    "duration": 220,
    "start_time": "2022-11-24T08:05:37.805Z"
   },
   {
    "duration": 298,
    "start_time": "2022-11-24T08:05:42.281Z"
   },
   {
    "duration": 109288,
    "start_time": "2022-11-24T08:05:43.535Z"
   },
   {
    "duration": 6,
    "start_time": "2022-11-24T08:14:12.614Z"
   },
   {
    "duration": 11,
    "start_time": "2022-11-24T08:14:13.118Z"
   },
   {
    "duration": 1144,
    "start_time": "2022-11-24T08:14:13.626Z"
   },
   {
    "duration": 60,
    "start_time": "2022-11-24T08:14:14.772Z"
   },
   {
    "duration": 6,
    "start_time": "2022-11-24T08:14:14.833Z"
   },
   {
    "duration": 6,
    "start_time": "2022-11-24T08:14:34.804Z"
   },
   {
    "duration": 3,
    "start_time": "2022-11-24T08:30:41.125Z"
   },
   {
    "duration": 50,
    "start_time": "2022-11-24T08:30:43.804Z"
   },
   {
    "duration": 13,
    "start_time": "2022-11-24T08:30:45.075Z"
   },
   {
    "duration": 13,
    "start_time": "2022-11-24T08:30:46.970Z"
   },
   {
    "duration": 15,
    "start_time": "2022-11-24T08:30:49.085Z"
   },
   {
    "duration": 22,
    "start_time": "2022-11-24T08:30:49.847Z"
   },
   {
    "duration": 137,
    "start_time": "2022-11-24T08:30:51.347Z"
   },
   {
    "duration": 22,
    "start_time": "2022-11-24T08:30:53.091Z"
   },
   {
    "duration": 19,
    "start_time": "2022-11-24T08:30:55.671Z"
   },
   {
    "duration": 16,
    "start_time": "2022-11-24T08:31:01.988Z"
   },
   {
    "duration": 8,
    "start_time": "2022-11-24T08:31:03.607Z"
   },
   {
    "duration": 25,
    "start_time": "2022-11-24T08:31:04.445Z"
   },
   {
    "duration": 12,
    "start_time": "2022-11-24T08:31:05.277Z"
   },
   {
    "duration": 6,
    "start_time": "2022-11-24T08:31:07.071Z"
   },
   {
    "duration": 6,
    "start_time": "2022-11-24T08:31:08.937Z"
   },
   {
    "duration": 503,
    "start_time": "2022-11-24T08:31:12.185Z"
   },
   {
    "duration": 99804,
    "start_time": "2022-11-24T08:31:17.579Z"
   },
   {
    "duration": 54,
    "start_time": "2022-11-24T08:34:00.077Z"
   },
   {
    "duration": 709,
    "start_time": "2022-11-24T08:34:03.135Z"
   },
   {
    "duration": 4,
    "start_time": "2022-11-24T08:34:06.735Z"
   },
   {
    "duration": 12,
    "start_time": "2022-11-24T08:34:07.581Z"
   },
   {
    "duration": 229,
    "start_time": "2022-11-24T08:34:08.318Z"
   },
   {
    "duration": 651,
    "start_time": "2022-11-24T08:34:09.873Z"
   },
   {
    "duration": 262705,
    "start_time": "2022-11-24T08:34:12.618Z"
   },
   {
    "duration": 4,
    "start_time": "2022-11-24T08:38:56.576Z"
   },
   {
    "duration": 10,
    "start_time": "2022-11-24T08:38:57.647Z"
   },
   {
    "duration": 4,
    "start_time": "2022-11-24T08:38:59.609Z"
   },
   {
    "duration": 242,
    "start_time": "2022-11-24T08:39:00.496Z"
   },
   {
    "duration": 341,
    "start_time": "2022-11-24T08:39:01.672Z"
   },
   {
    "duration": 113610,
    "start_time": "2022-11-24T08:39:04.081Z"
   },
   {
    "duration": 6,
    "start_time": "2022-11-24T08:41:14.840Z"
   },
   {
    "duration": 11,
    "start_time": "2022-11-24T08:41:15.480Z"
   },
   {
    "duration": 1132,
    "start_time": "2022-11-24T08:41:16.297Z"
   },
   {
    "duration": 56,
    "start_time": "2022-11-24T08:41:17.431Z"
   },
   {
    "duration": 7,
    "start_time": "2022-11-24T08:41:18.979Z"
   },
   {
    "duration": 1694,
    "start_time": "2022-11-25T03:16:23.475Z"
   },
   {
    "duration": 271,
    "start_time": "2022-11-25T03:16:25.171Z"
   },
   {
    "duration": 18,
    "start_time": "2022-11-25T03:16:25.444Z"
   },
   {
    "duration": 15,
    "start_time": "2022-11-25T03:16:25.465Z"
   },
   {
    "duration": 19,
    "start_time": "2022-11-25T03:16:25.482Z"
   },
   {
    "duration": 46,
    "start_time": "2022-11-25T03:16:25.503Z"
   },
   {
    "duration": 193,
    "start_time": "2022-11-25T03:16:25.551Z"
   },
   {
    "duration": 38,
    "start_time": "2022-11-25T03:16:25.746Z"
   },
   {
    "duration": 24,
    "start_time": "2022-11-25T03:16:25.786Z"
   },
   {
    "duration": 35,
    "start_time": "2022-11-25T03:16:25.813Z"
   },
   {
    "duration": 20,
    "start_time": "2022-11-25T03:16:25.850Z"
   },
   {
    "duration": 23,
    "start_time": "2022-11-25T03:16:25.872Z"
   },
   {
    "duration": 11,
    "start_time": "2022-11-25T03:16:25.897Z"
   },
   {
    "duration": 27,
    "start_time": "2022-11-25T03:16:25.910Z"
   },
   {
    "duration": 8,
    "start_time": "2022-11-25T03:16:25.939Z"
   },
   {
    "duration": 523,
    "start_time": "2022-11-25T03:16:25.948Z"
   },
   {
    "duration": 104117,
    "start_time": "2022-11-25T03:16:26.473Z"
   },
   {
    "duration": 155,
    "start_time": "2022-11-25T03:18:10.592Z"
   },
   {
    "duration": 921,
    "start_time": "2022-11-25T03:18:10.749Z"
   },
   {
    "duration": 4,
    "start_time": "2022-11-25T03:18:11.671Z"
   },
   {
    "duration": 13,
    "start_time": "2022-11-25T03:18:11.677Z"
   },
   {
    "duration": 255,
    "start_time": "2022-11-25T03:18:11.692Z"
   },
   {
    "duration": 0,
    "start_time": "2022-11-25T03:18:11.950Z"
   },
   {
    "duration": 0,
    "start_time": "2022-11-25T03:18:11.952Z"
   },
   {
    "duration": 0,
    "start_time": "2022-11-25T03:18:11.953Z"
   },
   {
    "duration": 0,
    "start_time": "2022-11-25T03:18:11.954Z"
   },
   {
    "duration": 0,
    "start_time": "2022-11-25T03:18:11.955Z"
   },
   {
    "duration": 0,
    "start_time": "2022-11-25T03:18:11.956Z"
   },
   {
    "duration": 0,
    "start_time": "2022-11-25T03:18:11.957Z"
   },
   {
    "duration": 0,
    "start_time": "2022-11-25T03:18:11.958Z"
   },
   {
    "duration": 0,
    "start_time": "2022-11-25T03:18:11.959Z"
   },
   {
    "duration": 0,
    "start_time": "2022-11-25T03:18:11.960Z"
   },
   {
    "duration": 0,
    "start_time": "2022-11-25T03:18:11.961Z"
   },
   {
    "duration": 0,
    "start_time": "2022-11-25T03:18:11.962Z"
   },
   {
    "duration": 0,
    "start_time": "2022-11-25T03:18:11.963Z"
   },
   {
    "duration": 617,
    "start_time": "2022-11-25T03:19:26.230Z"
   },
   {
    "duration": 264299,
    "start_time": "2022-11-25T03:19:28.622Z"
   },
   {
    "duration": 4,
    "start_time": "2022-11-25T03:23:55.412Z"
   },
   {
    "duration": 10,
    "start_time": "2022-11-25T03:23:55.603Z"
   },
   {
    "duration": 5,
    "start_time": "2022-11-25T03:23:55.758Z"
   },
   {
    "duration": 136,
    "start_time": "2022-11-25T03:23:55.910Z"
   },
   {
    "duration": 346,
    "start_time": "2022-11-25T03:23:56.068Z"
   },
   {
    "duration": 0,
    "start_time": "2022-11-25T03:23:56.415Z"
   },
   {
    "duration": 111731,
    "start_time": "2022-11-25T03:24:15.191Z"
   },
   {
    "duration": 7,
    "start_time": "2022-11-25T03:27:08.224Z"
   },
   {
    "duration": 17,
    "start_time": "2022-11-25T03:27:08.380Z"
   },
   {
    "duration": 1182,
    "start_time": "2022-11-25T03:27:08.480Z"
   },
   {
    "duration": 55,
    "start_time": "2022-11-25T03:27:09.663Z"
   },
   {
    "duration": 21,
    "start_time": "2022-11-25T03:27:09.720Z"
   },
   {
    "duration": 50,
    "start_time": "2022-11-25T06:37:01.009Z"
   },
   {
    "duration": 8,
    "start_time": "2022-11-25T06:38:00.178Z"
   },
   {
    "duration": 9,
    "start_time": "2022-11-25T06:39:40.251Z"
   },
   {
    "duration": 11,
    "start_time": "2022-11-25T06:40:15.612Z"
   },
   {
    "duration": 1500,
    "start_time": "2022-11-25T06:40:24.810Z"
   },
   {
    "duration": 90,
    "start_time": "2022-11-25T06:40:26.395Z"
   },
   {
    "duration": 19,
    "start_time": "2022-11-25T06:40:27.260Z"
   },
   {
    "duration": 17,
    "start_time": "2022-11-25T06:40:28.944Z"
   },
   {
    "duration": 15,
    "start_time": "2022-11-25T06:40:30.636Z"
   },
   {
    "duration": 24,
    "start_time": "2022-11-25T06:40:31.219Z"
   },
   {
    "duration": 155,
    "start_time": "2022-11-25T06:40:32.395Z"
   },
   {
    "duration": 21,
    "start_time": "2022-11-25T06:40:33.757Z"
   },
   {
    "duration": 19,
    "start_time": "2022-11-25T06:40:35.854Z"
   },
   {
    "duration": 16,
    "start_time": "2022-11-25T06:40:39.668Z"
   },
   {
    "duration": 10,
    "start_time": "2022-11-25T06:40:40.811Z"
   },
   {
    "duration": 32,
    "start_time": "2022-11-25T06:40:44.118Z"
   },
   {
    "duration": 12,
    "start_time": "2022-11-25T06:40:44.717Z"
   },
   {
    "duration": 8,
    "start_time": "2022-11-25T06:40:46.323Z"
   },
   {
    "duration": 7,
    "start_time": "2022-11-25T06:40:48.379Z"
   },
   {
    "duration": 542,
    "start_time": "2022-11-25T06:40:49.803Z"
   },
   {
    "duration": 113460,
    "start_time": "2022-11-25T06:40:55.643Z"
   },
   {
    "duration": 154,
    "start_time": "2022-11-25T06:42:49.106Z"
   },
   {
    "duration": 929,
    "start_time": "2022-11-25T06:42:49.263Z"
   },
   {
    "duration": 4,
    "start_time": "2022-11-25T06:42:50.195Z"
   },
   {
    "duration": 33,
    "start_time": "2022-11-25T06:42:50.201Z"
   },
   {
    "duration": 286,
    "start_time": "2022-11-25T06:42:50.236Z"
   },
   {
    "duration": 0,
    "start_time": "2022-11-25T06:42:50.524Z"
   },
   {
    "duration": 0,
    "start_time": "2022-11-25T06:42:50.526Z"
   },
   {
    "duration": 104531,
    "start_time": "2022-11-25T06:44:58.832Z"
   },
   {
    "duration": 508,
    "start_time": "2022-11-25T06:46:49.651Z"
   },
   {
    "duration": 802,
    "start_time": "2022-11-25T06:46:54.561Z"
   },
   {
    "duration": 4,
    "start_time": "2022-11-25T06:47:08.471Z"
   },
   {
    "duration": 12,
    "start_time": "2022-11-25T06:47:09.615Z"
   },
   {
    "duration": 207,
    "start_time": "2022-11-25T06:47:11.349Z"
   },
   {
    "duration": 173,
    "start_time": "2022-11-25T06:48:02.886Z"
   },
   {
    "duration": 671,
    "start_time": "2022-11-25T06:48:12.575Z"
   },
   {
    "duration": 747,
    "start_time": "2022-11-25T06:48:40.921Z"
   },
   {
    "duration": 288685,
    "start_time": "2022-11-25T06:49:13.609Z"
   },
   {
    "duration": 5,
    "start_time": "2022-11-25T06:54:20.876Z"
   },
   {
    "duration": 14,
    "start_time": "2022-11-25T06:54:21.613Z"
   },
   {
    "duration": 5,
    "start_time": "2022-11-25T06:54:22.250Z"
   },
   {
    "duration": 27,
    "start_time": "2022-11-25T06:54:39.469Z"
   },
   {
    "duration": 340,
    "start_time": "2022-11-25T06:54:56.356Z"
   },
   {
    "duration": 121797,
    "start_time": "2022-11-25T06:55:15.490Z"
   },
   {
    "duration": 7,
    "start_time": "2022-11-25T07:00:45.495Z"
   },
   {
    "duration": 13,
    "start_time": "2022-11-25T07:00:45.975Z"
   },
   {
    "duration": 1327,
    "start_time": "2022-11-25T07:00:46.591Z"
   },
   {
    "duration": 73,
    "start_time": "2022-11-25T07:00:47.921Z"
   },
   {
    "duration": 9,
    "start_time": "2022-11-25T07:00:48.060Z"
   },
   {
    "duration": 4,
    "start_time": "2022-11-25T07:19:58.095Z"
   },
   {
    "duration": 51,
    "start_time": "2022-11-25T07:20:01.288Z"
   },
   {
    "duration": 14,
    "start_time": "2022-11-25T07:20:04.376Z"
   },
   {
    "duration": 14,
    "start_time": "2022-11-25T07:20:07.280Z"
   },
   {
    "duration": 15,
    "start_time": "2022-11-25T07:20:11.671Z"
   },
   {
    "duration": 30,
    "start_time": "2022-11-25T07:20:12.288Z"
   },
   {
    "duration": 173,
    "start_time": "2022-11-25T07:20:13.564Z"
   },
   {
    "duration": 25,
    "start_time": "2022-11-25T07:20:15.880Z"
   },
   {
    "duration": 20,
    "start_time": "2022-11-25T07:20:18.471Z"
   },
   {
    "duration": 24,
    "start_time": "2022-11-25T07:20:28.081Z"
   },
   {
    "duration": 11,
    "start_time": "2022-11-25T07:20:29.640Z"
   },
   {
    "duration": 29,
    "start_time": "2022-11-25T07:20:30.433Z"
   },
   {
    "duration": 14,
    "start_time": "2022-11-25T07:20:31.149Z"
   },
   {
    "duration": 7,
    "start_time": "2022-11-25T07:20:33.640Z"
   },
   {
    "duration": 9,
    "start_time": "2022-11-25T07:20:35.113Z"
   },
   {
    "duration": 602,
    "start_time": "2022-11-25T07:20:36.656Z"
   },
   {
    "duration": 112343,
    "start_time": "2022-11-25T07:20:42.965Z"
   },
   {
    "duration": 121,
    "start_time": "2022-11-25T07:27:01.843Z"
   },
   {
    "duration": 784,
    "start_time": "2022-11-25T07:27:06.200Z"
   },
   {
    "duration": 6,
    "start_time": "2022-11-25T07:27:11.467Z"
   },
   {
    "duration": 17,
    "start_time": "2022-11-25T07:27:14.750Z"
   },
   {
    "duration": 117,
    "start_time": "2022-11-25T07:27:15.552Z"
   },
   {
    "duration": 776,
    "start_time": "2022-11-25T07:27:19.867Z"
   },
   {
    "duration": 291797,
    "start_time": "2022-11-25T07:27:24.620Z"
   },
   {
    "duration": 5,
    "start_time": "2022-11-25T07:39:22.569Z"
   },
   {
    "duration": 10,
    "start_time": "2022-11-25T07:39:23.544Z"
   },
   {
    "duration": 5,
    "start_time": "2022-11-25T07:39:24.024Z"
   },
   {
    "duration": 41,
    "start_time": "2022-11-25T07:39:25.028Z"
   },
   {
    "duration": 314,
    "start_time": "2022-11-25T07:39:26.994Z"
   },
   {
    "duration": 125866,
    "start_time": "2022-11-25T07:39:36.642Z"
   },
   {
    "duration": 7,
    "start_time": "2022-11-25T07:43:00.116Z"
   },
   {
    "duration": 16,
    "start_time": "2022-11-25T07:43:00.507Z"
   },
   {
    "duration": 1257,
    "start_time": "2022-11-25T07:43:00.923Z"
   },
   {
    "duration": 58,
    "start_time": "2022-11-25T07:43:02.183Z"
   },
   {
    "duration": 6,
    "start_time": "2022-11-25T07:43:02.254Z"
   },
   {
    "duration": 1776,
    "start_time": "2022-11-25T15:35:33.014Z"
   },
   {
    "duration": 164,
    "start_time": "2022-11-25T15:35:34.793Z"
   },
   {
    "duration": 18,
    "start_time": "2022-11-25T15:35:34.959Z"
   },
   {
    "duration": 15,
    "start_time": "2022-11-25T15:35:34.979Z"
   },
   {
    "duration": 16,
    "start_time": "2022-11-25T15:35:34.996Z"
   },
   {
    "duration": 51,
    "start_time": "2022-11-25T15:35:35.014Z"
   },
   {
    "duration": 187,
    "start_time": "2022-11-25T15:35:35.066Z"
   },
   {
    "duration": 23,
    "start_time": "2022-11-25T15:35:35.254Z"
   },
   {
    "duration": 19,
    "start_time": "2022-11-25T15:35:35.279Z"
   },
   {
    "duration": 17,
    "start_time": "2022-11-25T15:35:35.300Z"
   },
   {
    "duration": 41,
    "start_time": "2022-11-25T15:35:35.319Z"
   },
   {
    "duration": 29,
    "start_time": "2022-11-25T15:35:35.362Z"
   },
   {
    "duration": 13,
    "start_time": "2022-11-25T15:35:35.393Z"
   },
   {
    "duration": 8,
    "start_time": "2022-11-25T15:35:35.411Z"
   },
   {
    "duration": 7,
    "start_time": "2022-11-25T15:35:35.451Z"
   },
   {
    "duration": 553,
    "start_time": "2022-11-25T15:35:35.460Z"
   },
   {
    "duration": 110773,
    "start_time": "2022-11-25T15:35:36.015Z"
   },
   {
    "duration": 262,
    "start_time": "2022-11-25T15:37:26.790Z"
   },
   {
    "duration": 826,
    "start_time": "2022-11-25T15:37:27.055Z"
   },
   {
    "duration": 4,
    "start_time": "2022-11-25T15:37:27.883Z"
   },
   {
    "duration": 15,
    "start_time": "2022-11-25T15:37:27.889Z"
   },
   {
    "duration": 53,
    "start_time": "2022-11-25T15:37:27.906Z"
   },
   {
    "duration": 871,
    "start_time": "2022-11-25T15:37:27.961Z"
   },
   {
    "duration": 291004,
    "start_time": "2022-11-25T15:37:28.834Z"
   },
   {
    "duration": 12,
    "start_time": "2022-11-25T15:42:19.840Z"
   },
   {
    "duration": 23,
    "start_time": "2022-11-25T15:42:19.855Z"
   },
   {
    "duration": 5,
    "start_time": "2022-11-25T15:42:19.881Z"
   },
   {
    "duration": 70,
    "start_time": "2022-11-25T15:42:19.888Z"
   },
   {
    "duration": 531,
    "start_time": "2022-11-25T15:42:19.961Z"
   },
   {
    "duration": 121678,
    "start_time": "2022-11-25T15:42:20.494Z"
   },
   {
    "duration": 6,
    "start_time": "2022-11-25T15:44:22.175Z"
   },
   {
    "duration": 16,
    "start_time": "2022-11-25T15:44:22.183Z"
   },
   {
    "duration": 1250,
    "start_time": "2022-11-25T15:44:22.201Z"
   },
   {
    "duration": 58,
    "start_time": "2022-11-25T15:44:23.453Z"
   },
   {
    "duration": 6,
    "start_time": "2022-11-25T15:44:23.513Z"
   },
   {
    "duration": 34,
    "start_time": "2022-11-25T15:44:23.522Z"
   },
   {
    "duration": 60,
    "start_time": "2022-11-25T15:44:59.012Z"
   },
   {
    "duration": 64,
    "start_time": "2022-11-25T15:46:55.138Z"
   },
   {
    "duration": 9,
    "start_time": "2022-11-25T15:47:10.134Z"
   },
   {
    "duration": 8,
    "start_time": "2022-11-25T15:47:27.351Z"
   },
   {
    "duration": 10,
    "start_time": "2022-11-25T15:48:02.810Z"
   },
   {
    "duration": 57,
    "start_time": "2022-11-25T15:48:13.030Z"
   },
   {
    "duration": 80,
    "start_time": "2023-01-08T12:58:08.390Z"
   },
   {
    "duration": 106,
    "start_time": "2023-01-08T13:00:38.236Z"
   },
   {
    "duration": 2680,
    "start_time": "2023-01-08T13:00:45.691Z"
   },
   {
    "duration": 175,
    "start_time": "2023-01-08T13:00:48.374Z"
   },
   {
    "duration": 21,
    "start_time": "2023-01-08T13:00:48.551Z"
   },
   {
    "duration": 73,
    "start_time": "2023-01-08T13:00:48.574Z"
   },
   {
    "duration": 30,
    "start_time": "2023-01-08T13:00:48.651Z"
   },
   {
    "duration": 79,
    "start_time": "2023-01-08T13:00:48.684Z"
   },
   {
    "duration": 507,
    "start_time": "2023-01-08T13:00:48.765Z"
   },
   {
    "duration": 85,
    "start_time": "2023-01-08T13:00:49.274Z"
   },
   {
    "duration": 84,
    "start_time": "2023-01-08T13:00:49.361Z"
   },
   {
    "duration": 17,
    "start_time": "2023-01-08T13:00:49.447Z"
   },
   {
    "duration": 77,
    "start_time": "2023-01-08T13:00:49.467Z"
   },
   {
    "duration": 92,
    "start_time": "2023-01-08T13:00:49.546Z"
   },
   {
    "duration": 17,
    "start_time": "2023-01-08T13:00:49.641Z"
   },
   {
    "duration": 12,
    "start_time": "2023-01-08T13:00:49.662Z"
   },
   {
    "duration": 68,
    "start_time": "2023-01-08T13:00:49.676Z"
   },
   {
    "duration": 1232,
    "start_time": "2023-01-08T13:00:49.746Z"
   },
   {
    "duration": 263466,
    "start_time": "2023-01-08T13:00:50.981Z"
   },
   {
    "duration": 694,
    "start_time": "2023-01-08T13:05:14.449Z"
   },
   {
    "duration": 1695,
    "start_time": "2023-01-08T13:05:15.148Z"
   },
   {
    "duration": 6,
    "start_time": "2023-01-08T13:05:16.845Z"
   },
   {
    "duration": 27,
    "start_time": "2023-01-08T13:05:16.853Z"
   },
   {
    "duration": 259,
    "start_time": "2023-01-08T13:05:16.883Z"
   },
   {
    "duration": 1807,
    "start_time": "2023-01-08T13:05:17.146Z"
   },
   {
    "duration": 11,
    "start_time": "2023-01-08T13:05:18.955Z"
   },
   {
    "duration": 299157,
    "start_time": "2023-01-08T13:05:18.969Z"
   },
   {
    "duration": 63,
    "start_time": "2023-01-08T13:10:18.128Z"
   },
   {
    "duration": 4,
    "start_time": "2023-01-08T13:10:18.193Z"
   },
   {
    "duration": 39,
    "start_time": "2023-01-08T13:10:18.199Z"
   },
   {
    "duration": 31,
    "start_time": "2023-01-08T13:10:18.241Z"
   },
   {
    "duration": 65,
    "start_time": "2023-01-08T13:10:18.274Z"
   },
   {
    "duration": 448,
    "start_time": "2023-01-08T13:10:18.340Z"
   },
   {
    "duration": 9,
    "start_time": "2023-01-08T13:10:18.790Z"
   },
   {
    "duration": 138165,
    "start_time": "2023-01-08T13:10:18.801Z"
   },
   {
    "duration": 49,
    "start_time": "2023-01-08T13:12:36.967Z"
   },
   {
    "duration": 22,
    "start_time": "2023-01-08T13:12:37.018Z"
   },
   {
    "duration": 14,
    "start_time": "2023-01-08T13:12:37.042Z"
   },
   {
    "duration": 1250,
    "start_time": "2023-01-08T13:12:37.058Z"
   },
   {
    "duration": 72,
    "start_time": "2023-01-08T13:12:38.310Z"
   },
   {
    "duration": 6,
    "start_time": "2023-01-08T13:12:38.384Z"
   },
   {
    "duration": 77,
    "start_time": "2023-02-28T06:58:49.527Z"
   },
   {
    "duration": 1491,
    "start_time": "2023-02-28T06:59:05.431Z"
   },
   {
    "duration": 68,
    "start_time": "2023-02-28T06:59:06.924Z"
   },
   {
    "duration": 22,
    "start_time": "2023-02-28T06:59:06.994Z"
   },
   {
    "duration": 34,
    "start_time": "2023-02-28T06:59:07.019Z"
   },
   {
    "duration": 30,
    "start_time": "2023-02-28T06:59:07.055Z"
   },
   {
    "duration": 23,
    "start_time": "2023-02-28T06:59:07.087Z"
   },
   {
    "duration": 180,
    "start_time": "2023-02-28T06:59:07.112Z"
   },
   {
    "duration": 23,
    "start_time": "2023-02-28T06:59:07.293Z"
   },
   {
    "duration": 42,
    "start_time": "2023-02-28T06:59:07.317Z"
   },
   {
    "duration": 16,
    "start_time": "2023-02-28T06:59:07.362Z"
   },
   {
    "duration": 10,
    "start_time": "2023-02-28T06:59:07.380Z"
   },
   {
    "duration": 55,
    "start_time": "2023-02-28T06:59:07.392Z"
   },
   {
    "duration": 13,
    "start_time": "2023-02-28T06:59:07.449Z"
   },
   {
    "duration": 14,
    "start_time": "2023-02-28T06:59:07.463Z"
   },
   {
    "duration": 11,
    "start_time": "2023-02-28T06:59:07.478Z"
   },
   {
    "duration": 592,
    "start_time": "2023-02-28T06:59:07.490Z"
   },
   {
    "duration": 193969,
    "start_time": "2023-02-28T06:59:08.084Z"
   },
   {
    "duration": 284,
    "start_time": "2023-02-28T07:02:22.056Z"
   },
   {
    "duration": 935,
    "start_time": "2023-02-28T07:02:22.344Z"
   },
   {
    "duration": 4,
    "start_time": "2023-02-28T07:02:23.281Z"
   },
   {
    "duration": 48,
    "start_time": "2023-02-28T07:02:23.287Z"
   },
   {
    "duration": 108,
    "start_time": "2023-02-28T07:02:23.337Z"
   },
   {
    "duration": 842,
    "start_time": "2023-02-28T07:02:23.447Z"
   },
   {
    "duration": 10,
    "start_time": "2023-02-28T07:02:24.291Z"
   },
   {
    "duration": 296899,
    "start_time": "2023-02-28T07:02:24.304Z"
   },
   {
    "duration": 70,
    "start_time": "2023-02-28T07:07:21.205Z"
   },
   {
    "duration": 4,
    "start_time": "2023-02-28T07:07:21.277Z"
   },
   {
    "duration": 36,
    "start_time": "2023-02-28T07:07:21.285Z"
   },
   {
    "duration": 28,
    "start_time": "2023-02-28T07:07:21.323Z"
   },
   {
    "duration": 188,
    "start_time": "2023-02-28T07:07:21.353Z"
   },
   {
    "duration": 426,
    "start_time": "2023-02-28T07:07:21.544Z"
   },
   {
    "duration": 11,
    "start_time": "2023-02-28T07:07:21.972Z"
   },
   {
    "duration": 1482,
    "start_time": "2023-02-28T07:07:56.513Z"
   },
   {
    "duration": 66,
    "start_time": "2023-02-28T07:07:57.997Z"
   },
   {
    "duration": 28,
    "start_time": "2023-02-28T07:07:58.065Z"
   },
   {
    "duration": 25,
    "start_time": "2023-02-28T07:07:58.097Z"
   },
   {
    "duration": 50,
    "start_time": "2023-02-28T07:07:58.124Z"
   },
   {
    "duration": 30,
    "start_time": "2023-02-28T07:07:58.176Z"
   },
   {
    "duration": 175,
    "start_time": "2023-02-28T07:07:58.208Z"
   },
   {
    "duration": 27,
    "start_time": "2023-02-28T07:07:58.384Z"
   },
   {
    "duration": 39,
    "start_time": "2023-02-28T07:07:58.413Z"
   },
   {
    "duration": 18,
    "start_time": "2023-02-28T07:07:58.456Z"
   },
   {
    "duration": 9,
    "start_time": "2023-02-28T07:07:58.476Z"
   },
   {
    "duration": 51,
    "start_time": "2023-02-28T07:07:58.487Z"
   },
   {
    "duration": 13,
    "start_time": "2023-02-28T07:07:58.540Z"
   },
   {
    "duration": 17,
    "start_time": "2023-02-28T07:07:58.555Z"
   },
   {
    "duration": 9,
    "start_time": "2023-02-28T07:07:58.574Z"
   },
   {
    "duration": 562,
    "start_time": "2023-02-28T07:07:58.585Z"
   },
   {
    "duration": 1441,
    "start_time": "2023-02-28T07:08:14.372Z"
   },
   {
    "duration": 69,
    "start_time": "2023-02-28T07:08:15.815Z"
   },
   {
    "duration": 19,
    "start_time": "2023-02-28T07:08:15.886Z"
   },
   {
    "duration": 14,
    "start_time": "2023-02-28T07:08:15.907Z"
   },
   {
    "duration": 16,
    "start_time": "2023-02-28T07:08:15.937Z"
   },
   {
    "duration": 25,
    "start_time": "2023-02-28T07:08:15.955Z"
   },
   {
    "duration": 198,
    "start_time": "2023-02-28T07:08:15.982Z"
   },
   {
    "duration": 22,
    "start_time": "2023-02-28T07:08:16.182Z"
   },
   {
    "duration": 37,
    "start_time": "2023-02-28T07:08:16.206Z"
   },
   {
    "duration": 18,
    "start_time": "2023-02-28T07:08:16.247Z"
   },
   {
    "duration": 12,
    "start_time": "2023-02-28T07:08:16.267Z"
   },
   {
    "duration": 33,
    "start_time": "2023-02-28T07:08:16.280Z"
   },
   {
    "duration": 15,
    "start_time": "2023-02-28T07:08:16.338Z"
   },
   {
    "duration": 44,
    "start_time": "2023-02-28T07:08:16.355Z"
   },
   {
    "duration": 29,
    "start_time": "2023-02-28T07:08:16.401Z"
   },
   {
    "duration": 573,
    "start_time": "2023-02-28T07:08:16.432Z"
   },
   {
    "duration": 108995,
    "start_time": "2023-02-28T07:08:17.010Z"
   },
   {
    "duration": 236,
    "start_time": "2023-02-28T07:10:06.007Z"
   },
   {
    "duration": 818,
    "start_time": "2023-02-28T07:10:06.245Z"
   },
   {
    "duration": 4,
    "start_time": "2023-02-28T07:10:07.065Z"
   },
   {
    "duration": 25,
    "start_time": "2023-02-28T07:10:07.071Z"
   },
   {
    "duration": 49,
    "start_time": "2023-02-28T07:10:07.098Z"
   },
   {
    "duration": 853,
    "start_time": "2023-02-28T07:10:07.149Z"
   },
   {
    "duration": 9,
    "start_time": "2023-02-28T07:10:08.004Z"
   },
   {
    "duration": 295246,
    "start_time": "2023-02-28T07:10:08.015Z"
   },
   {
    "duration": 57,
    "start_time": "2023-02-28T07:15:03.263Z"
   },
   {
    "duration": 21,
    "start_time": "2023-02-28T07:15:03.322Z"
   },
   {
    "duration": 64,
    "start_time": "2023-02-28T07:15:03.347Z"
   },
   {
    "duration": 43,
    "start_time": "2023-02-28T07:15:03.412Z"
   },
   {
    "duration": 189,
    "start_time": "2023-02-28T07:15:03.456Z"
   },
   {
    "duration": 390,
    "start_time": "2023-02-28T07:15:03.654Z"
   },
   {
    "duration": 12,
    "start_time": "2023-02-28T07:15:04.046Z"
   },
   {
    "duration": 127941,
    "start_time": "2023-02-28T07:15:04.060Z"
   },
   {
    "duration": 68,
    "start_time": "2023-02-28T07:17:12.003Z"
   },
   {
    "duration": 8,
    "start_time": "2023-02-28T07:17:12.074Z"
   },
   {
    "duration": 31,
    "start_time": "2023-02-28T07:17:12.084Z"
   },
   {
    "duration": 1407,
    "start_time": "2023-02-28T07:17:12.117Z"
   },
   {
    "duration": 62,
    "start_time": "2023-02-28T07:17:13.525Z"
   },
   {
    "duration": 6,
    "start_time": "2023-02-28T07:17:13.589Z"
   }
  ],
  "kernelspec": {
   "display_name": "Python 3 (ipykernel)",
   "language": "python",
   "name": "python3"
  },
  "language_info": {
   "codemirror_mode": {
    "name": "ipython",
    "version": 3
   },
   "file_extension": ".py",
   "mimetype": "text/x-python",
   "name": "python",
   "nbconvert_exporter": "python",
   "pygments_lexer": "ipython3",
   "version": "3.9.13"
  },
  "toc": {
   "base_numbering": 1,
   "nav_menu": {},
   "number_sections": true,
   "sideBar": true,
   "skip_h1_title": true,
   "title_cell": "Содержание",
   "title_sidebar": "Contents",
   "toc_cell": true,
   "toc_position": {
    "height": "calc(100% - 180px)",
    "left": "10px",
    "top": "150px",
    "width": "257.788px"
   },
   "toc_section_display": true,
   "toc_window_display": true
  }
 },
 "nbformat": 4,
 "nbformat_minor": 2
}
